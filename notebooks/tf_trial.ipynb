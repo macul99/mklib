{
 "cells": [
  {
   "cell_type": "code",
   "execution_count": 1,
   "metadata": {},
   "outputs": [],
   "source": [
    "import tensorflow as tf\n",
    "import numpy as np"
   ]
  },
  {
   "cell_type": "code",
   "execution_count": 17,
   "metadata": {},
   "outputs": [],
   "source": [
    "with tf.device('/cpu:0'):\n",
    "    label = tf.Variable([1,2,3])"
   ]
  },
  {
   "cell_type": "code",
   "execution_count": 26,
   "metadata": {},
   "outputs": [
    {
     "name": "stdout",
     "output_type": "stream",
     "text": [
      "[1 2 3]\n",
      "3\n",
      "[0 1 2]\n",
      "[[0 1]\n",
      " [1 2]\n",
      " [2 3]]\n",
      "[[[0 0]\n",
      "  [0 2]\n",
      "  [0 3]\n",
      "  [0 4]\n",
      "  [0 5]\n",
      "  [0 6]\n",
      "  [0 7]\n",
      "  [0 8]\n",
      "  [0 9]]\n",
      "\n",
      " [[1 0]\n",
      "  [1 1]\n",
      "  [1 3]\n",
      "  [1 4]\n",
      "  [1 5]\n",
      "  [1 6]\n",
      "  [1 7]\n",
      "  [1 8]\n",
      "  [1 9]]\n",
      "\n",
      " [[2 0]\n",
      "  [2 1]\n",
      "  [2 2]\n",
      "  [2 4]\n",
      "  [2 5]\n",
      "  [2 6]\n",
      "  [2 7]\n",
      "  [2 8]\n",
      "  [2 9]]]\n"
     ]
    }
   ],
   "source": [
    "init_op = tf.global_variables_initializer()\n",
    "num_classes = 10\n",
    "# Launch the graph in a session.\n",
    "with tf.Session() as sess:\n",
    "    # Run the Op that initializes global variables.\n",
    "    indices = []\n",
    "    for i in range(num_classes):\n",
    "        indices.append(list(range(i)) + list(range(i + 1, num_classes)))\n",
    "    _js = tf.constant(indices, dtype=tf.int32)\n",
    "    \n",
    "    sess.run(init_op)\n",
    "    print(label.eval())\n",
    "    batch_size = tf.shape(label)[0]\n",
    "    print(batch_size.eval())\n",
    "    i = tf.range(batch_size, dtype=tf.int32)\n",
    "    print(i.eval())\n",
    "    correct_idx = tf.stack([i, tf.cast(label, tf.int32)], axis=1)\n",
    "    print(correct_idx.eval())\n",
    "    \n",
    "    wrong_idx = tf.stack([\n",
    "        tf.tile(tf.reshape(i, [batch_size, 1]), [1, num_classes - 1]),\n",
    "        tf.gather(_js, label),\n",
    "    ], axis=2)\n",
    "    print(wrong_idx.eval())"
   ]
  },
  {
   "cell_type": "code",
   "execution_count": 25,
   "metadata": {},
   "outputs": [
    {
     "ename": "TypeError",
     "evalue": "unsupported operand type(s) for +: 'range' and 'range'",
     "output_type": "error",
     "traceback": [
      "\u001b[0;31m---------------------------------------------------------------------------\u001b[0m",
      "\u001b[0;31mTypeError\u001b[0m                                 Traceback (most recent call last)",
      "\u001b[0;32m<ipython-input-25-1a7487ee510d>\u001b[0m in \u001b[0;36m<module>\u001b[0;34m\u001b[0m\n\u001b[0;32m----> 1\u001b[0;31m \u001b[0mrange\u001b[0m\u001b[0;34m(\u001b[0m\u001b[0;36m9\u001b[0m\u001b[0;34m)\u001b[0m\u001b[0;34m+\u001b[0m\u001b[0mrange\u001b[0m\u001b[0;34m(\u001b[0m\u001b[0;36m9\u001b[0m\u001b[0;34m)\u001b[0m\u001b[0;34m\u001b[0m\u001b[0m\n\u001b[0m",
      "\u001b[0;31mTypeError\u001b[0m: unsupported operand type(s) for +: 'range' and 'range'"
     ]
    }
   ],
   "source": [
    "range(9)+range(9)"
   ]
  },
  {
   "cell_type": "code",
   "execution_count": null,
   "metadata": {},
   "outputs": [],
   "source": []
  }
 ],
 "metadata": {
  "kernelspec": {
   "display_name": "Python 3",
   "language": "python",
   "name": "python3"
  },
  "language_info": {
   "codemirror_mode": {
    "name": "ipython",
    "version": 3
   },
   "file_extension": ".py",
   "mimetype": "text/x-python",
   "name": "python",
   "nbconvert_exporter": "python",
   "pygments_lexer": "ipython3",
   "version": "3.5.2"
  }
 },
 "nbformat": 4,
 "nbformat_minor": 2
}
