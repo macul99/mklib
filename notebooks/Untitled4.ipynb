{
 "cells": [
  {
   "cell_type": "code",
   "execution_count": 2,
   "metadata": {},
   "outputs": [],
   "source": [
    "import numpy as np\n",
    "import pickle as pkl"
   ]
  },
  {
   "cell_type": "code",
   "execution_count": 266,
   "metadata": {},
   "outputs": [
    {
     "name": "stdout",
     "output_type": "stream",
     "text": [
      "[0.91955405 0.06840576 0.01204035] 5063\n",
      "0.6999802488643097\n",
      "0.6225557969583251\n",
      "0.03199683981828955\n"
     ]
    }
   ],
   "source": [
    "th=0.9667\n",
    "tht=0.98\n",
    "thf=0.8\n",
    "rst_file = '/home/macul/NUAA_Client_23_7_mtcnn20.pkl'\n",
    "with open(rst_file,'rb') as f:\n",
    "    rst = pkl.load(f)\n",
    "    rst = np.array(rst)\n",
    "print(np.mean(rst,0), rst.shape[0])\n",
    "print(np.sum(rst[:,0]>th)/rst.shape[0])\n",
    "print(np.sum(rst[:,0]>tht)/rst.shape[0])\n",
    "print(np.sum(rst[:,0]<=1.0-thf)/rst.shape[0])"
   ]
  },
  {
   "cell_type": "code",
   "execution_count": 267,
   "metadata": {},
   "outputs": [
    {
     "name": "stdout",
     "output_type": "stream",
     "text": [
      "[0.37764722 0.47264728 0.14970551] 7148\n",
      "0.9251538891997761\n",
      "0.4809736989367655\n",
      "0.050923335198656966\n"
     ]
    }
   ],
   "source": [
    "rst_file = '/home/macul/NUAA_Imposter_23_7_mtcnn20.pkl'\n",
    "with open(rst_file,'rb') as f:\n",
    "    rst = pkl.load(f)\n",
    "    rst = np.array(rst)\n",
    "print(np.mean(rst,0), rst.shape[0])\n",
    "print(np.sum(rst[:,0]<=th)/rst.shape[0])\n",
    "print(np.sum(rst[:,0]<=1.0-thf)/rst.shape[0])\n",
    "print(np.sum(rst[:,0]>tht)/rst.shape[0])"
   ]
  },
  {
   "cell_type": "code",
   "execution_count": 281,
   "metadata": {},
   "outputs": [
    {
     "name": "stdout",
     "output_type": "stream",
     "text": [
      "[0.82767665 0.16328818 0.00903604] 5063\n",
      "0.7003752715781157\n",
      "0.5747580485877938\n",
      "0.04206991902034367\n"
     ]
    }
   ],
   "source": [
    "th=0.885\n",
    "tht=0.96\n",
    "thf=0.95\n",
    "rst_file = '/home/macul/dgx_NUAA_Client_2_7_mtcnn20.pkl'\n",
    "with open(rst_file,'rb') as f:\n",
    "    rst = pkl.load(f)\n",
    "    rst = np.array(rst)\n",
    "print(np.mean(rst,0), rst.shape[0])\n",
    "print(np.sum(rst[:,0]>th)/rst.shape[0])\n",
    "print(np.sum(rst[:,0]>tht)/rst.shape[0])\n",
    "print(np.sum(rst[:,0]<=1.0-thf)/rst.shape[0])"
   ]
  },
  {
   "cell_type": "code",
   "execution_count": 282,
   "metadata": {},
   "outputs": [
    {
     "name": "stdout",
     "output_type": "stream",
     "text": [
      "[0.239937   0.6537407  0.10632367] 7148\n",
      "0.9064073866815893\n",
      "0.5065752658086178\n",
      "0.048405148293228874\n"
     ]
    }
   ],
   "source": [
    "rst_file = '/home/macul/dgx_NUAA_Imposter_2_7_mtcnn20.pkl'\n",
    "with open(rst_file,'rb') as f:\n",
    "    rst = pkl.load(f)\n",
    "    rst = np.array(rst)\n",
    "print(np.mean(rst,0), rst.shape[0])\n",
    "print(np.sum(rst[:,0]<=th)/rst.shape[0])\n",
    "print(np.sum(rst[:,0]<=1.0-thf)/rst.shape[0])\n",
    "print(np.sum(rst[:,0]>tht)/rst.shape[0])"
   ]
  },
  {
   "cell_type": "code",
   "execution_count": 95,
   "metadata": {},
   "outputs": [
    {
     "name": "stdout",
     "output_type": "stream",
     "text": [
      "[0.8438311  0.11575648 0.04041336] 5063\n",
      "0.7009678056488248\n",
      "0.6369741260122457\n",
      "0.010665613272763184\n"
     ]
    }
   ],
   "source": [
    "th=0.857\n",
    "tht=0.9\n",
    "thf=0.96\n",
    "rst_file = '/home/macul/NUAA_Client_16_10_mtcnn20.pkl'\n",
    "with open(rst_file,'rb') as f:\n",
    "    rst = pkl.load(f)\n",
    "    rst = np.array(rst)\n",
    "print(np.mean(rst,0), rst.shape[0])\n",
    "print(np.sum(rst[:,0]>th)/rst.shape[0])\n",
    "print(np.sum(rst[:,0]>tht)/rst.shape[0])\n",
    "print(np.sum(rst[:,0]<=1.0-thf)/rst.shape[0])"
   ]
  },
  {
   "cell_type": "code",
   "execution_count": 96,
   "metadata": {},
   "outputs": [
    {
     "name": "stdout",
     "output_type": "stream",
     "text": [
      "[0.23597474 0.63629824 0.12772645] 7148\n",
      "0.8954952434247342\n",
      "0.4679630665920537\n",
      "0.08351986569669838\n"
     ]
    }
   ],
   "source": [
    "rst_file = '/home/macul/NUAA_Imposter_16_10_mtcnn20.pkl'\n",
    "with open(rst_file,'rb') as f:\n",
    "    rst = pkl.load(f)\n",
    "    rst = np.array(rst)\n",
    "print(np.mean(rst,0), rst.shape[0])\n",
    "print(np.sum(rst[:,0]<=th)/rst.shape[0])\n",
    "print(np.sum(rst[:,0]<=1.0-thf)/rst.shape[0])\n",
    "print(np.sum(rst[:,0]>tht)/rst.shape[0])"
   ]
  },
  {
   "cell_type": "code",
   "execution_count": 64,
   "metadata": {},
   "outputs": [
    {
     "name": "stdout",
     "output_type": "stream",
     "text": [
      "[0.7022722 0.2731743 0.0245539] 4977\n",
      "0.7166968053044003\n",
      "0.5312437211171388\n",
      "0.10026120152702431\n"
     ]
    }
   ],
   "source": [
    "th=0.5\n",
    "tht=0.9\n",
    "thf=0.95\n",
    "rst_file = '/home/macul/NUAA_Client_13_6.pkl'\n",
    "with open(rst_file,'rb') as f:\n",
    "    rst = pkl.load(f)\n",
    "    rst = np.array(rst)\n",
    "print(np.mean(rst,0), rst.shape[0])\n",
    "print(np.sum(rst[:,0]>th)/rst.shape[0])\n",
    "print(np.sum(rst[:,0]>tht)/rst.shape[0])\n",
    "print(np.sum(rst[:,0]<=1.0-thf)/rst.shape[0])"
   ]
  },
  {
   "cell_type": "code",
   "execution_count": 65,
   "metadata": {},
   "outputs": [
    {
     "name": "stdout",
     "output_type": "stream",
     "text": [
      "[0.28950644 0.6661567  0.04433804] 6990\n",
      "0.7310443490701002\n",
      "0.4150214592274678\n",
      "0.09985693848354793\n"
     ]
    }
   ],
   "source": [
    "rst_file = '/home/macul/NUAA_Imposter_13_6.pkl'\n",
    "with open(rst_file,'rb') as f:\n",
    "    rst = pkl.load(f)\n",
    "    rst = np.array(rst)\n",
    "print(np.mean(rst,0), rst.shape[0])\n",
    "print(np.sum(rst[:,0]<=th)/rst.shape[0])\n",
    "print(np.sum(rst[:,0]<=1.0-thf)/rst.shape[0])\n",
    "print(np.sum(rst[:,0]>tht)/rst.shape[0])"
   ]
  },
  {
   "cell_type": "code",
   "execution_count": 68,
   "metadata": {},
   "outputs": [
    {
     "name": "stdout",
     "output_type": "stream",
     "text": [
      "[0.8050817  0.10334557 0.09157287] 1035\n",
      "0.8009661835748793\n",
      "0.6289855072463768\n",
      "0.04541062801932367\n"
     ]
    }
   ],
   "source": [
    "th=0.65\n",
    "tht=0.9\n",
    "thf=0.95\n",
    "rst_file = '/home/macul/MSU_pos_17_19.pkl'\n",
    "with open(rst_file,'rb') as f:\n",
    "    rst = pkl.load(f)\n",
    "    rst = np.array(rst)\n",
    "print(np.mean(rst,0), rst.shape[0])\n",
    "print(np.sum(rst[:,0]>th)/rst.shape[0])\n",
    "print(np.sum(rst[:,0]>tht)/rst.shape[0])\n",
    "print(np.sum(rst[:,0]<=1.0-thf)/rst.shape[0])"
   ]
  },
  {
   "cell_type": "code",
   "execution_count": 69,
   "metadata": {},
   "outputs": [
    {
     "name": "stdout",
     "output_type": "stream",
     "text": [
      "[0.45074007 0.2856322  0.26362762] 2804\n",
      "0.6169757489300999\n",
      "0.21041369472182597\n",
      "0.21112696148359486\n"
     ]
    }
   ],
   "source": [
    "rst_file = '/home/macul/MSU_neg_17_19.pkl'\n",
    "with open(rst_file,'rb') as f:\n",
    "    rst = pkl.load(f)\n",
    "    rst = np.array(rst)\n",
    "print(np.mean(rst,0), rst.shape[0])\n",
    "print(np.sum(rst[:,0]<=th)/rst.shape[0])\n",
    "print(np.sum(rst[:,0]<=1.0-thf)/rst.shape[0])\n",
    "print(np.sum(rst[:,0]>tht)/rst.shape[0])"
   ]
  },
  {
   "cell_type": "code",
   "execution_count": 18,
   "metadata": {},
   "outputs": [
    {
     "name": "stdout",
     "output_type": "stream",
     "text": [
      "0.665862969660438\n"
     ]
    }
   ],
   "source": []
  },
  {
   "cell_type": "code",
   "execution_count": 13,
   "metadata": {},
   "outputs": [
    {
     "name": "stdout",
     "output_type": "stream",
     "text": [
      "(4977, 3)\n"
     ]
    }
   ],
   "source": [
    "print(rst.shape)"
   ]
  },
  {
   "cell_type": "code",
   "execution_count": null,
   "metadata": {},
   "outputs": [],
   "source": []
  }
 ],
 "metadata": {
  "kernelspec": {
   "display_name": "Python 3",
   "language": "python",
   "name": "python3"
  },
  "language_info": {
   "codemirror_mode": {
    "name": "ipython",
    "version": 3
   },
   "file_extension": ".py",
   "mimetype": "text/x-python",
   "name": "python",
   "nbconvert_exporter": "python",
   "pygments_lexer": "ipython3",
   "version": "3.5.2"
  }
 },
 "nbformat": 4,
 "nbformat_minor": 2
}
