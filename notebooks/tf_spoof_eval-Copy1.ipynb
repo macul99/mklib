{
 "cells": [
  {
   "cell_type": "code",
   "execution_count": 1,
   "metadata": {},
   "outputs": [],
   "source": [
    "import tensorflow as tf\n",
    "import numpy as np\n",
    "import os\n",
    "from os.path import isdir\n",
    "from os import mkdir\n",
    "from shutil import copyfile\n",
    "import time\n",
    "from PIL import Image\n",
    "import pickle\n",
    "from spoofing_lbp.SpoofDspTf import SpoofDspTf\n",
    "from tf_spoof.config import net_config as config\n",
    "config.BASE_PATH = '/media/macul/black/spoof_db/train_test_all/tfrecord'\n",
    "config.CFG_PATH = '/home/macul/libraries/mk_utils/tf_spoof/config'\n",
    "config.OUT_PATH = '/home/macul/libraries/mk_utils/tf_spoof/output'"
   ]
  },
  {
   "cell_type": "code",
   "execution_count": 2,
   "metadata": {},
   "outputs": [],
   "source": [
    "os.environ[\"CUDA_VISIBLE_DEVICES\"] = config.DEVICE_IDS\n",
    "#batchSize = config.BATCH_SIZE * config.NUM_DEVICES"
   ]
  },
  {
   "cell_type": "code",
   "execution_count": 3,
   "metadata": {},
   "outputs": [],
   "source": [
    "SpoofVal = SpoofDspTf(config)"
   ]
  },
  {
   "cell_type": "code",
   "execution_count": 4,
   "metadata": {},
   "outputs": [
    {
     "name": "stdout",
     "output_type": "stream",
     "text": [
      "INFO:tensorflow:Restoring parameters from /home/macul/libraries/mk_utils/tf_spoof/output/train_37/train_37_0.ckpt\n",
      "['label', 'ft_COLOR_MOMENT', 'label_val', 'ft_val_COLOR_MOMENT', 'label_val_1', 'SpoofDenseNet/spoof/subnet_1/block_1/dense/kernel/Initializer/truncated_normal/shape', 'SpoofDenseNet/spoof/subnet_1/block_1/dense/kernel/Initializer/truncated_normal/mean', 'SpoofDenseNet/spoof/subnet_1/block_1/dense/kernel/Initializer/truncated_normal/stddev', 'SpoofDenseNet/spoof/subnet_1/block_1/dense/kernel/Initializer/truncated_normal/TruncatedNormal', 'SpoofDenseNet/spoof/subnet_1/block_1/dense/kernel/Initializer/truncated_normal/mul', 'SpoofDenseNet/spoof/subnet_1/block_1/dense/kernel/Initializer/truncated_normal', 'SpoofDenseNet/spoof/subnet_1/block_1/dense/kernel', 'SpoofDenseNet/spoof/subnet_1/block_1/dense/kernel/Assign', 'SpoofDenseNet/spoof/subnet_1/block_1/dense/kernel/read', 'SpoofDenseNet/spoof/subnet_1/block_1/dense/kernel/Regularizer/Square', 'SpoofDenseNet/spoof/subnet_1/block_1/dense/kernel/Regularizer/mul/x', 'SpoofDenseNet/spoof/subnet_1/block_1/dense/kernel/Regularizer/mul', 'SpoofDenseNet/spoof/subnet_1/block_1/dense/kernel/Regularizer/Const', 'SpoofDenseNet/spoof/subnet_1/block_1/dense/kernel/Regularizer/Sum', 'SpoofDenseNet/spoof/subnet_1/block_1/dense/kernel/Regularizer/add/x', 'SpoofDenseNet/spoof/subnet_1/block_1/dense/kernel/Regularizer/add', 'SpoofDenseNet/spoof/subnet_1/block_1/dense/bias/Initializer/zeros', 'SpoofDenseNet/spoof/subnet_1/block_1/dense/bias', 'SpoofDenseNet/spoof/subnet_1/block_1/dense/bias/Assign', 'SpoofDenseNet/spoof/subnet_1/block_1/dense/bias/read', 'SpoofDenseNet/spoof/subnet_1/block_1/dense/MatMul', 'SpoofDenseNet/spoof/subnet_1/block_1/dense/BiasAdd', 'SpoofDenseNet/spoof/subnet_1/block_1/dense/Relu', 'SpoofDenseNet/spoof/subnet_1/block_1/batch_normalization/gamma/Initializer/ones', 'SpoofDenseNet/spoof/subnet_1/block_1/batch_normalization/gamma', 'SpoofDenseNet/spoof/subnet_1/block_1/batch_normalization/gamma/Assign', 'SpoofDenseNet/spoof/subnet_1/block_1/batch_normalization/gamma/read', 'SpoofDenseNet/spoof/subnet_1/block_1/batch_normalization/beta/Initializer/zeros', 'SpoofDenseNet/spoof/subnet_1/block_1/batch_normalization/beta', 'SpoofDenseNet/spoof/subnet_1/block_1/batch_normalization/beta/Assign', 'SpoofDenseNet/spoof/subnet_1/block_1/batch_normalization/beta/read', 'SpoofDenseNet/spoof/subnet_1/block_1/batch_normalization/moving_mean/Initializer/zeros', 'SpoofDenseNet/spoof/subnet_1/block_1/batch_normalization/moving_mean', 'SpoofDenseNet/spoof/subnet_1/block_1/batch_normalization/moving_mean/Assign', 'SpoofDenseNet/spoof/subnet_1/block_1/batch_normalization/moving_mean/read', 'SpoofDenseNet/spoof/subnet_1/block_1/batch_normalization/moving_variance/Initializer/ones', 'SpoofDenseNet/spoof/subnet_1/block_1/batch_normalization/moving_variance', 'SpoofDenseNet/spoof/subnet_1/block_1/batch_normalization/moving_variance/Assign', 'SpoofDenseNet/spoof/subnet_1/block_1/batch_normalization/moving_variance/read', 'SpoofDenseNet/spoof/subnet_1/block_1/batch_normalization/batchnorm/add/y', 'SpoofDenseNet/spoof/subnet_1/block_1/batch_normalization/batchnorm/add', 'SpoofDenseNet/spoof/subnet_1/block_1/batch_normalization/batchnorm/Rsqrt', 'SpoofDenseNet/spoof/subnet_1/block_1/batch_normalization/batchnorm/mul', 'SpoofDenseNet/spoof/subnet_1/block_1/batch_normalization/batchnorm/mul_1', 'SpoofDenseNet/spoof/subnet_1/block_1/batch_normalization/batchnorm/mul_2', 'SpoofDenseNet/spoof/subnet_1/block_1/batch_normalization/batchnorm/sub', 'SpoofDenseNet/spoof/subnet_1/block_1/batch_normalization/batchnorm/add_1', 'SpoofDenseNet/spoof/subnet_1/block_1/dropout/Identity', 'SpoofDenseNet/spoof/intm_concat/concat_dim', 'SpoofDenseNet/spoof/intm_concat', 'SpoofDenseNet/dense/kernel/Initializer/truncated_normal/shape', 'SpoofDenseNet/dense/kernel/Initializer/truncated_normal/mean', 'SpoofDenseNet/dense/kernel/Initializer/truncated_normal/stddev', 'SpoofDenseNet/dense/kernel/Initializer/truncated_normal/TruncatedNormal', 'SpoofDenseNet/dense/kernel/Initializer/truncated_normal/mul', 'SpoofDenseNet/dense/kernel/Initializer/truncated_normal', 'SpoofDenseNet/dense/kernel', 'SpoofDenseNet/dense/kernel/Assign', 'SpoofDenseNet/dense/kernel/read', 'SpoofDenseNet/dense/kernel/Regularizer/Square', 'SpoofDenseNet/dense/kernel/Regularizer/mul/x', 'SpoofDenseNet/dense/kernel/Regularizer/mul', 'SpoofDenseNet/dense/kernel/Regularizer/Const', 'SpoofDenseNet/dense/kernel/Regularizer/Sum', 'SpoofDenseNet/dense/kernel/Regularizer/add/x', 'SpoofDenseNet/dense/kernel/Regularizer/add', 'SpoofDenseNet/dense/bias/Initializer/zeros', 'SpoofDenseNet/dense/bias', 'SpoofDenseNet/dense/bias/Assign', 'SpoofDenseNet/dense/bias/read', 'SpoofDenseNet/dense/MatMul', 'SpoofDenseNet/dense/BiasAdd', 'SpoofDenseNet/dense/Relu', 'SpoofDenseNet/SparseSoftmaxCrossEntropyWithLogits/Shape', 'SpoofDenseNet/SparseSoftmaxCrossEntropyWithLogits/SparseSoftmaxCrossEntropyWithLogits', 'SpoofDenseNet/Const', 'SpoofDenseNet/Mean', 'SpoofDenseNet/prediction', 'SpoofDenseNet/ArgMax/dimension', 'SpoofDenseNet/ArgMax', 'SpoofDenseNet/Equal', 'SpoofDenseNet/Cast', 'SpoofDenseNet/Const_1', 'SpoofDenseNet/Mean_1', 'PyFunc', 'Cast', 'save/Const', 'save/SaveV2/tensor_names', 'save/SaveV2/shape_and_slices', 'save/SaveV2', 'save/control_dependency', 'save/RestoreV2/tensor_names', 'save/RestoreV2/shape_and_slices', 'save/RestoreV2', 'save/Assign', 'save/Assign_1', 'save/Assign_2', 'save/Assign_3', 'save/Assign_4', 'save/Assign_5', 'save/Assign_6', 'save/Assign_7', 'save/restore_all']\n"
     ]
    }
   ],
   "source": [
    "print(SpoofVal.get_output_name())"
   ]
  },
  {
   "cell_type": "code",
   "execution_count": 5,
   "metadata": {},
   "outputs": [
    {
     "name": "stdout",
     "output_type": "stream",
     "text": [
      "INFO:tensorflow:Restoring parameters from /home/macul/libraries/mk_utils/tf_spoof/output/train_37/train_37_0.ckpt\n",
      "INFO:tensorflow:Froze 8 variables.\n",
      "INFO:tensorflow:Converted 8 variables to const ops.\n"
     ]
    }
   ],
   "source": [
    "SpoofVal.save_pb(0)"
   ]
  },
  {
   "cell_type": "code",
   "execution_count": null,
   "metadata": {},
   "outputs": [],
   "source": [
    "sess, embeddings, logit, pred, acc, features_tensor = SpoofVal.deploy_net(0)"
   ]
  },
  {
   "cell_type": "code",
   "execution_count": null,
   "metadata": {},
   "outputs": [],
   "source": [
    "output_node_names =[n.name for n in tf.get_default_graph().as_graph_def().node]"
   ]
  },
  {
   "cell_type": "code",
   "execution_count": null,
   "metadata": {},
   "outputs": [],
   "source": [
    "print(output_node_names)"
   ]
  },
  {
   "cell_type": "code",
   "execution_count": null,
   "metadata": {},
   "outputs": [],
   "source": []
  },
  {
   "cell_type": "code",
   "execution_count": null,
   "metadata": {
    "scrolled": false
   },
   "outputs": [],
   "source": [
    "SpoofVal.validate_net(0, '/home/macul/hohoho/test_spf.pkl')"
   ]
  },
  {
   "cell_type": "code",
   "execution_count": null,
   "metadata": {},
   "outputs": [],
   "source": [
    "a='/home/macul/test_spf.pkl'\n",
    "a.rfind('/')"
   ]
  },
  {
   "cell_type": "code",
   "execution_count": null,
   "metadata": {},
   "outputs": [],
   "source": [
    "a[0:11]"
   ]
  },
  {
   "cell_type": "code",
   "execution_count": null,
   "metadata": {},
   "outputs": [],
   "source": []
  }
 ],
 "metadata": {
  "kernelspec": {
   "display_name": "Python 3",
   "language": "python",
   "name": "python3"
  },
  "language_info": {
   "codemirror_mode": {
    "name": "ipython",
    "version": 3
   },
   "file_extension": ".py",
   "mimetype": "text/x-python",
   "name": "python",
   "nbconvert_exporter": "python",
   "pygments_lexer": "ipython3",
   "version": "3.5.2"
  }
 },
 "nbformat": 4,
 "nbformat_minor": 2
}
