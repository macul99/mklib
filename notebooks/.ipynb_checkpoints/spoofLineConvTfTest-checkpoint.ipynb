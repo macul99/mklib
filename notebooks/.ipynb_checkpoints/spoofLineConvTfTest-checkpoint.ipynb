{
 "cells": [
  {
   "cell_type": "code",
   "execution_count": 1,
   "metadata": {},
   "outputs": [],
   "source": [
    "import tensorflow as tf\n",
    "import numpy as np\n",
    "import os\n",
    "os.environ[\"CUDA_VISIBLE_DEVICES\"] = \"0,\"\n",
    "from os.path import isdir\n",
    "from os import mkdir\n",
    "from shutil import copyfile\n",
    "import time\n",
    "from PIL import Image\n",
    "import pickle\n",
    "from spoofing_ld_conv.SpoofLineConvTf import SpoofLineConvTf\n",
    "from mklib.nn.tfnet.tfresnet import TfResNet\n",
    "from tensorflow.keras.regularizers import l1, l2\n",
    "from tensorflow.core.protobuf import config_pb2\n",
    "#import sys\n",
    "#sys.path.append('/home/macul/libraries/mk_utils/mklib/nn/tfnet/')\n",
    "#sys.path.append('/home/macul/libraries/mk_utils/mklib/nn/tfloss/')\n",
    "#sys.path.append('/home/macul/libraries/mk_utils/tf_spoof/')\n",
    "#sys.path.append('/home/macul/libraries/mk_utils/spoofing_ld_conv/')\n",
    "from tf_spoof.config import net_config_ld_conv as config\n",
    "\n"
   ]
  },
  {
   "cell_type": "code",
   "execution_count": 2,
   "metadata": {},
   "outputs": [],
   "source": [
    "spfLC = SpoofLineConvTf(config)"
   ]
  },
  {
   "cell_type": "code",
   "execution_count": 3,
   "metadata": {},
   "outputs": [],
   "source": [
    "#spfLC.test_dataset()"
   ]
  },
  {
   "cell_type": "code",
   "execution_count": 4,
   "metadata": {},
   "outputs": [],
   "source": [
    "iterator, next_element = spfLC.build_dataset(config.TRAIN_REC, 1, config.NUM_CLASSES, \n",
    "                                             target_size=config.Image_Height, fill_value=config.Fill_Value, \n",
    "                                             ratio_h=config.Fill_Ratio_H, ratio_w=config.Fill_Ratio_W, \n",
    "                                             training=True)\n",
    "logit, inference_loss, pred, acc, embeddings, _, _= spfLC.build_net(training=True, reuse=None)"
   ]
  },
  {
   "cell_type": "code",
   "execution_count": 6,
   "metadata": {},
   "outputs": [
    {
     "ename": "FailedPreconditionError",
     "evalue": "Attempting to use uninitialized value SpoofLdConvNet/clf_stem/clf_stem/block_1/batch_normalization/beta\n\t [[node SpoofLdConvNet/clf_stem/clf_stem/block_1/batch_normalization/beta/read (defined at /home/macul/libraries/mk_utils/mklib/nn/tfnet/tfdense.py:19)  = Identity[T=DT_FLOAT, _device=\"/job:localhost/replica:0/task:0/device:GPU:0\"](SpoofLdConvNet/clf_stem/clf_stem/block_1/batch_normalization/beta)]]\n\t [[{{node SpoofLdConvNet_2/Mean_2/_11}} = _Recv[client_terminated=false, recv_device=\"/job:localhost/replica:0/task:0/device:CPU:0\", send_device=\"/job:localhost/replica:0/task:0/device:GPU:0\", send_device_incarnation=1, tensor_name=\"edge_2500_SpoofLdConvNet_2/Mean_2\", tensor_type=DT_FLOAT, _device=\"/job:localhost/replica:0/task:0/device:CPU:0\"]()]]\n\nCaused by op 'SpoofLdConvNet/clf_stem/clf_stem/block_1/batch_normalization/beta/read', defined at:\n  File \"/usr/lib/python3.5/runpy.py\", line 184, in _run_module_as_main\n    \"__main__\", mod_spec)\n  File \"/usr/lib/python3.5/runpy.py\", line 85, in _run_code\n    exec(code, run_globals)\n  File \"/home/macul/tf_venv/lib/python3.5/site-packages/ipykernel_launcher.py\", line 16, in <module>\n    app.launch_new_instance()\n  File \"/home/macul/tf_venv/lib/python3.5/site-packages/traitlets/config/application.py\", line 658, in launch_instance\n    app.start()\n  File \"/home/macul/tf_venv/lib/python3.5/site-packages/ipykernel/kernelapp.py\", line 505, in start\n    self.io_loop.start()\n  File \"/home/macul/tf_venv/lib/python3.5/site-packages/tornado/platform/asyncio.py\", line 132, in start\n    self.asyncio_loop.run_forever()\n  File \"/usr/lib/python3.5/asyncio/base_events.py\", line 345, in run_forever\n    self._run_once()\n  File \"/usr/lib/python3.5/asyncio/base_events.py\", line 1312, in _run_once\n    handle._run()\n  File \"/usr/lib/python3.5/asyncio/events.py\", line 125, in _run\n    self._callback(*self._args)\n  File \"/home/macul/tf_venv/lib/python3.5/site-packages/tornado/ioloop.py\", line 758, in _run_callback\n    ret = callback()\n  File \"/home/macul/tf_venv/lib/python3.5/site-packages/tornado/stack_context.py\", line 300, in null_wrapper\n    return fn(*args, **kwargs)\n  File \"/home/macul/tf_venv/lib/python3.5/site-packages/tornado/gen.py\", line 1233, in inner\n    self.run()\n  File \"/home/macul/tf_venv/lib/python3.5/site-packages/tornado/gen.py\", line 1147, in run\n    yielded = self.gen.send(value)\n  File \"/home/macul/tf_venv/lib/python3.5/site-packages/ipykernel/kernelbase.py\", line 357, in process_one\n    yield gen.maybe_future(dispatch(*args))\n  File \"/home/macul/tf_venv/lib/python3.5/site-packages/tornado/gen.py\", line 326, in wrapper\n    yielded = next(result)\n  File \"/home/macul/tf_venv/lib/python3.5/site-packages/ipykernel/kernelbase.py\", line 267, in dispatch_shell\n    yield gen.maybe_future(handler(stream, idents, msg))\n  File \"/home/macul/tf_venv/lib/python3.5/site-packages/tornado/gen.py\", line 326, in wrapper\n    yielded = next(result)\n  File \"/home/macul/tf_venv/lib/python3.5/site-packages/ipykernel/kernelbase.py\", line 534, in execute_request\n    user_expressions, allow_stdin,\n  File \"/home/macul/tf_venv/lib/python3.5/site-packages/tornado/gen.py\", line 326, in wrapper\n    yielded = next(result)\n  File \"/home/macul/tf_venv/lib/python3.5/site-packages/ipykernel/ipkernel.py\", line 294, in do_execute\n    res = shell.run_cell(code, store_history=store_history, silent=silent)\n  File \"/home/macul/tf_venv/lib/python3.5/site-packages/ipykernel/zmqshell.py\", line 536, in run_cell\n    return super(ZMQInteractiveShell, self).run_cell(*args, **kwargs)\n  File \"/home/macul/tf_venv/lib/python3.5/site-packages/IPython/core/interactiveshell.py\", line 2817, in run_cell\n    raw_cell, store_history, silent, shell_futures)\n  File \"/home/macul/tf_venv/lib/python3.5/site-packages/IPython/core/interactiveshell.py\", line 2843, in _run_cell\n    return runner(coro)\n  File \"/home/macul/tf_venv/lib/python3.5/site-packages/IPython/core/async_helpers.py\", line 67, in _pseudo_sync_runner\n    coro.send(None)\n  File \"/home/macul/tf_venv/lib/python3.5/site-packages/IPython/core/interactiveshell.py\", line 3018, in run_cell_async\n    interactivity=interactivity, compiler=compiler, result=result)\n  File \"/home/macul/tf_venv/lib/python3.5/site-packages/IPython/core/interactiveshell.py\", line 3183, in run_ast_nodes\n    if (yield from self.run_code(code, result)):\n  File \"/home/macul/tf_venv/lib/python3.5/site-packages/IPython/core/interactiveshell.py\", line 3265, in run_code\n    exec(code_obj, self.user_global_ns, self.user_ns)\n  File \"<ipython-input-4-95c6b3b28933>\", line 5, in <module>\n    logit, inference_loss, pred, acc, embeddings, _, _= spfLC.build_net(training=True, reuse=None)\n  File \"/home/macul/libraries/mk_utils/spoofing_ld_conv/SpoofLineConvTf.py\", line 96, in build_net\n    logit1, inference_loss1, pred1, acc1 = self.build_classifer(embedding1, label_ph, training, bnEps=bnEps, bnMom=bnMom, reuse=None, scope='clf_stem')\n  File \"/home/macul/libraries/mk_utils/spoofing_ld_conv/SpoofLineConvTf.py\", line 71, in build_classifer\n    args={'bn_momentum': bnMom,'drop_rate': self.config.Drop_rate}, scope=scope)\n  File \"/home/macul/libraries/mk_utils/mklib/nn/tfnet/tfdense.py\", line 42, in build_subnet\n    drop_rate=args['drop_rate'], scope=\"block_%d\" % (i+1))\n  File \"/home/macul/libraries/mk_utils/mklib/nn/tfnet/tfdense.py\", line 19, in block\n    bn_o = batch_normalization(inputs=dense_o, momentum=bn_momentum, training=training)\n  File \"/home/macul/tf_venv/lib/python3.5/site-packages/tensorflow/python/layers/normalization.py\", line 309, in batch_normalization\n    return layer.apply(inputs, training=training)\n  File \"/home/macul/tf_venv/lib/python3.5/site-packages/tensorflow/python/keras/engine/base_layer.py\", line 817, in apply\n    return self.__call__(inputs, *args, **kwargs)\n  File \"/home/macul/tf_venv/lib/python3.5/site-packages/tensorflow/python/layers/base.py\", line 374, in __call__\n    outputs = super(Layer, self).__call__(inputs, *args, **kwargs)\n  File \"/home/macul/tf_venv/lib/python3.5/site-packages/tensorflow/python/keras/engine/base_layer.py\", line 746, in __call__\n    self.build(input_shapes)\n  File \"/home/macul/tf_venv/lib/python3.5/site-packages/tensorflow/python/keras/layers/normalization.py\", line 297, in build\n    trainable=True)\n  File \"/home/macul/tf_venv/lib/python3.5/site-packages/tensorflow/python/layers/base.py\", line 288, in add_weight\n    getter=vs.get_variable)\n  File \"/home/macul/tf_venv/lib/python3.5/site-packages/tensorflow/python/keras/engine/base_layer.py\", line 609, in add_weight\n    aggregation=aggregation)\n  File \"/home/macul/tf_venv/lib/python3.5/site-packages/tensorflow/python/training/checkpointable/base.py\", line 639, in _add_variable_with_custom_getter\n    **kwargs_for_getter)\n  File \"/home/macul/tf_venv/lib/python3.5/site-packages/tensorflow/python/ops/variable_scope.py\", line 1487, in get_variable\n    aggregation=aggregation)\n  File \"/home/macul/tf_venv/lib/python3.5/site-packages/tensorflow/python/ops/variable_scope.py\", line 1237, in get_variable\n    aggregation=aggregation)\n  File \"/home/macul/tf_venv/lib/python3.5/site-packages/tensorflow/python/ops/variable_scope.py\", line 540, in get_variable\n    aggregation=aggregation)\n  File \"/home/macul/tf_venv/lib/python3.5/site-packages/tensorflow/python/ops/variable_scope.py\", line 492, in _true_getter\n    aggregation=aggregation)\n  File \"/home/macul/tf_venv/lib/python3.5/site-packages/tensorflow/python/ops/variable_scope.py\", line 922, in _get_single_variable\n    aggregation=aggregation)\n  File \"/home/macul/tf_venv/lib/python3.5/site-packages/tensorflow/python/ops/variables.py\", line 183, in __call__\n    return cls._variable_v1_call(*args, **kwargs)\n  File \"/home/macul/tf_venv/lib/python3.5/site-packages/tensorflow/python/ops/variables.py\", line 146, in _variable_v1_call\n    aggregation=aggregation)\n  File \"/home/macul/tf_venv/lib/python3.5/site-packages/tensorflow/python/ops/variables.py\", line 125, in <lambda>\n    previous_getter = lambda **kwargs: default_variable_creator(None, **kwargs)\n  File \"/home/macul/tf_venv/lib/python3.5/site-packages/tensorflow/python/ops/variable_scope.py\", line 2444, in default_variable_creator\n    expected_shape=expected_shape, import_scope=import_scope)\n  File \"/home/macul/tf_venv/lib/python3.5/site-packages/tensorflow/python/ops/variables.py\", line 187, in __call__\n    return super(VariableMetaclass, cls).__call__(*args, **kwargs)\n  File \"/home/macul/tf_venv/lib/python3.5/site-packages/tensorflow/python/ops/variables.py\", line 1329, in __init__\n    constraint=constraint)\n  File \"/home/macul/tf_venv/lib/python3.5/site-packages/tensorflow/python/ops/variables.py\", line 1491, in _init_from_args\n    self._snapshot = array_ops.identity(self._variable, name=\"read\")\n  File \"/home/macul/tf_venv/lib/python3.5/site-packages/tensorflow/python/ops/array_ops.py\", line 81, in identity\n    return gen_array_ops.identity(input, name=name)\n  File \"/home/macul/tf_venv/lib/python3.5/site-packages/tensorflow/python/ops/gen_array_ops.py\", line 3454, in identity\n    \"Identity\", input=input, name=name)\n  File \"/home/macul/tf_venv/lib/python3.5/site-packages/tensorflow/python/framework/op_def_library.py\", line 787, in _apply_op_helper\n    op_def=op_def)\n  File \"/home/macul/tf_venv/lib/python3.5/site-packages/tensorflow/python/util/deprecation.py\", line 488, in new_func\n    return func(*args, **kwargs)\n  File \"/home/macul/tf_venv/lib/python3.5/site-packages/tensorflow/python/framework/ops.py\", line 3274, in create_op\n    op_def=op_def)\n  File \"/home/macul/tf_venv/lib/python3.5/site-packages/tensorflow/python/framework/ops.py\", line 1770, in __init__\n    self._traceback = tf_stack.extract_stack()\n\nFailedPreconditionError (see above for traceback): Attempting to use uninitialized value SpoofLdConvNet/clf_stem/clf_stem/block_1/batch_normalization/beta\n\t [[node SpoofLdConvNet/clf_stem/clf_stem/block_1/batch_normalization/beta/read (defined at /home/macul/libraries/mk_utils/mklib/nn/tfnet/tfdense.py:19)  = Identity[T=DT_FLOAT, _device=\"/job:localhost/replica:0/task:0/device:GPU:0\"](SpoofLdConvNet/clf_stem/clf_stem/block_1/batch_normalization/beta)]]\n\t [[{{node SpoofLdConvNet_2/Mean_2/_11}} = _Recv[client_terminated=false, recv_device=\"/job:localhost/replica:0/task:0/device:CPU:0\", send_device=\"/job:localhost/replica:0/task:0/device:GPU:0\", send_device_incarnation=1, tensor_name=\"edge_2500_SpoofLdConvNet_2/Mean_2\", tensor_type=DT_FLOAT, _device=\"/job:localhost/replica:0/task:0/device:CPU:0\"]()]]\n",
     "output_type": "error",
     "traceback": [
      "\u001b[0;31m---------------------------------------------------------------------------\u001b[0m",
      "\u001b[0;31mFailedPreconditionError\u001b[0m                   Traceback (most recent call last)",
      "\u001b[0;32m~/tf_venv/lib/python3.5/site-packages/tensorflow/python/client/session.py\u001b[0m in \u001b[0;36m_do_call\u001b[0;34m(self, fn, *args)\u001b[0m\n\u001b[1;32m   1333\u001b[0m     \u001b[0;32mtry\u001b[0m\u001b[0;34m:\u001b[0m\u001b[0;34m\u001b[0m\u001b[0m\n\u001b[0;32m-> 1334\u001b[0;31m       \u001b[0;32mreturn\u001b[0m \u001b[0mfn\u001b[0m\u001b[0;34m(\u001b[0m\u001b[0;34m*\u001b[0m\u001b[0margs\u001b[0m\u001b[0;34m)\u001b[0m\u001b[0;34m\u001b[0m\u001b[0m\n\u001b[0m\u001b[1;32m   1335\u001b[0m     \u001b[0;32mexcept\u001b[0m \u001b[0merrors\u001b[0m\u001b[0;34m.\u001b[0m\u001b[0mOpError\u001b[0m \u001b[0;32mas\u001b[0m \u001b[0me\u001b[0m\u001b[0;34m:\u001b[0m\u001b[0;34m\u001b[0m\u001b[0m\n",
      "\u001b[0;32m~/tf_venv/lib/python3.5/site-packages/tensorflow/python/client/session.py\u001b[0m in \u001b[0;36m_run_fn\u001b[0;34m(feed_dict, fetch_list, target_list, options, run_metadata)\u001b[0m\n\u001b[1;32m   1318\u001b[0m       return self._call_tf_sessionrun(\n\u001b[0;32m-> 1319\u001b[0;31m           options, feed_dict, fetch_list, target_list, run_metadata)\n\u001b[0m\u001b[1;32m   1320\u001b[0m \u001b[0;34m\u001b[0m\u001b[0m\n",
      "\u001b[0;32m~/tf_venv/lib/python3.5/site-packages/tensorflow/python/client/session.py\u001b[0m in \u001b[0;36m_call_tf_sessionrun\u001b[0;34m(self, options, feed_dict, fetch_list, target_list, run_metadata)\u001b[0m\n\u001b[1;32m   1406\u001b[0m         \u001b[0mself\u001b[0m\u001b[0;34m.\u001b[0m\u001b[0m_session\u001b[0m\u001b[0;34m,\u001b[0m \u001b[0moptions\u001b[0m\u001b[0;34m,\u001b[0m \u001b[0mfeed_dict\u001b[0m\u001b[0;34m,\u001b[0m \u001b[0mfetch_list\u001b[0m\u001b[0;34m,\u001b[0m \u001b[0mtarget_list\u001b[0m\u001b[0;34m,\u001b[0m\u001b[0;34m\u001b[0m\u001b[0m\n\u001b[0;32m-> 1407\u001b[0;31m         run_metadata)\n\u001b[0m\u001b[1;32m   1408\u001b[0m \u001b[0;34m\u001b[0m\u001b[0m\n",
      "\u001b[0;31mFailedPreconditionError\u001b[0m: Attempting to use uninitialized value SpoofLdConvNet/clf_stem/clf_stem/block_1/batch_normalization/beta\n\t [[{{node SpoofLdConvNet/clf_stem/clf_stem/block_1/batch_normalization/beta/read}} = Identity[T=DT_FLOAT, _device=\"/job:localhost/replica:0/task:0/device:GPU:0\"](SpoofLdConvNet/clf_stem/clf_stem/block_1/batch_normalization/beta)]]\n\t [[{{node SpoofLdConvNet_2/Mean_2/_11}} = _Recv[client_terminated=false, recv_device=\"/job:localhost/replica:0/task:0/device:CPU:0\", send_device=\"/job:localhost/replica:0/task:0/device:GPU:0\", send_device_incarnation=1, tensor_name=\"edge_2500_SpoofLdConvNet_2/Mean_2\", tensor_type=DT_FLOAT, _device=\"/job:localhost/replica:0/task:0/device:CPU:0\"]()]]",
      "\nDuring handling of the above exception, another exception occurred:\n",
      "\u001b[0;31mFailedPreconditionError\u001b[0m                   Traceback (most recent call last)",
      "\u001b[0;32m<ipython-input-6-c7ecffb00a16>\u001b[0m in \u001b[0;36m<module>\u001b[0;34m\u001b[0m\n\u001b[1;32m      8\u001b[0m                         sess.run([logit, inference_loss, pred, acc, embeddings],\n\u001b[1;32m      9\u001b[0m                                   \u001b[0mfeed_dict\u001b[0m\u001b[0;34m=\u001b[0m\u001b[0mfeed_dict\u001b[0m\u001b[0;34m,\u001b[0m\u001b[0;34m\u001b[0m\u001b[0m\n\u001b[0;32m---> 10\u001b[0;31m                                   options=config_pb2.RunOptions(report_tensor_allocations_upon_oom=True))\n\u001b[0m",
      "\u001b[0;32m~/tf_venv/lib/python3.5/site-packages/tensorflow/python/client/session.py\u001b[0m in \u001b[0;36mrun\u001b[0;34m(self, fetches, feed_dict, options, run_metadata)\u001b[0m\n\u001b[1;32m    927\u001b[0m     \u001b[0;32mtry\u001b[0m\u001b[0;34m:\u001b[0m\u001b[0;34m\u001b[0m\u001b[0m\n\u001b[1;32m    928\u001b[0m       result = self._run(None, fetches, feed_dict, options_ptr,\n\u001b[0;32m--> 929\u001b[0;31m                          run_metadata_ptr)\n\u001b[0m\u001b[1;32m    930\u001b[0m       \u001b[0;32mif\u001b[0m \u001b[0mrun_metadata\u001b[0m\u001b[0;34m:\u001b[0m\u001b[0;34m\u001b[0m\u001b[0m\n\u001b[1;32m    931\u001b[0m         \u001b[0mproto_data\u001b[0m \u001b[0;34m=\u001b[0m \u001b[0mtf_session\u001b[0m\u001b[0;34m.\u001b[0m\u001b[0mTF_GetBuffer\u001b[0m\u001b[0;34m(\u001b[0m\u001b[0mrun_metadata_ptr\u001b[0m\u001b[0;34m)\u001b[0m\u001b[0;34m\u001b[0m\u001b[0m\n",
      "\u001b[0;32m~/tf_venv/lib/python3.5/site-packages/tensorflow/python/client/session.py\u001b[0m in \u001b[0;36m_run\u001b[0;34m(self, handle, fetches, feed_dict, options, run_metadata)\u001b[0m\n\u001b[1;32m   1150\u001b[0m     \u001b[0;32mif\u001b[0m \u001b[0mfinal_fetches\u001b[0m \u001b[0;32mor\u001b[0m \u001b[0mfinal_targets\u001b[0m \u001b[0;32mor\u001b[0m \u001b[0;34m(\u001b[0m\u001b[0mhandle\u001b[0m \u001b[0;32mand\u001b[0m \u001b[0mfeed_dict_tensor\u001b[0m\u001b[0;34m)\u001b[0m\u001b[0;34m:\u001b[0m\u001b[0;34m\u001b[0m\u001b[0m\n\u001b[1;32m   1151\u001b[0m       results = self._do_run(handle, final_targets, final_fetches,\n\u001b[0;32m-> 1152\u001b[0;31m                              feed_dict_tensor, options, run_metadata)\n\u001b[0m\u001b[1;32m   1153\u001b[0m     \u001b[0;32melse\u001b[0m\u001b[0;34m:\u001b[0m\u001b[0;34m\u001b[0m\u001b[0m\n\u001b[1;32m   1154\u001b[0m       \u001b[0mresults\u001b[0m \u001b[0;34m=\u001b[0m \u001b[0;34m[\u001b[0m\u001b[0;34m]\u001b[0m\u001b[0;34m\u001b[0m\u001b[0m\n",
      "\u001b[0;32m~/tf_venv/lib/python3.5/site-packages/tensorflow/python/client/session.py\u001b[0m in \u001b[0;36m_do_run\u001b[0;34m(self, handle, target_list, fetch_list, feed_dict, options, run_metadata)\u001b[0m\n\u001b[1;32m   1326\u001b[0m     \u001b[0;32mif\u001b[0m \u001b[0mhandle\u001b[0m \u001b[0;32mis\u001b[0m \u001b[0;32mNone\u001b[0m\u001b[0;34m:\u001b[0m\u001b[0;34m\u001b[0m\u001b[0m\n\u001b[1;32m   1327\u001b[0m       return self._do_call(_run_fn, feeds, fetches, targets, options,\n\u001b[0;32m-> 1328\u001b[0;31m                            run_metadata)\n\u001b[0m\u001b[1;32m   1329\u001b[0m     \u001b[0;32melse\u001b[0m\u001b[0;34m:\u001b[0m\u001b[0;34m\u001b[0m\u001b[0m\n\u001b[1;32m   1330\u001b[0m       \u001b[0;32mreturn\u001b[0m \u001b[0mself\u001b[0m\u001b[0;34m.\u001b[0m\u001b[0m_do_call\u001b[0m\u001b[0;34m(\u001b[0m\u001b[0m_prun_fn\u001b[0m\u001b[0;34m,\u001b[0m \u001b[0mhandle\u001b[0m\u001b[0;34m,\u001b[0m \u001b[0mfeeds\u001b[0m\u001b[0;34m,\u001b[0m \u001b[0mfetches\u001b[0m\u001b[0;34m)\u001b[0m\u001b[0;34m\u001b[0m\u001b[0m\n",
      "\u001b[0;32m~/tf_venv/lib/python3.5/site-packages/tensorflow/python/client/session.py\u001b[0m in \u001b[0;36m_do_call\u001b[0;34m(self, fn, *args)\u001b[0m\n\u001b[1;32m   1346\u001b[0m           \u001b[0;32mpass\u001b[0m\u001b[0;34m\u001b[0m\u001b[0m\n\u001b[1;32m   1347\u001b[0m       \u001b[0mmessage\u001b[0m \u001b[0;34m=\u001b[0m \u001b[0merror_interpolation\u001b[0m\u001b[0;34m.\u001b[0m\u001b[0minterpolate\u001b[0m\u001b[0;34m(\u001b[0m\u001b[0mmessage\u001b[0m\u001b[0;34m,\u001b[0m \u001b[0mself\u001b[0m\u001b[0;34m.\u001b[0m\u001b[0m_graph\u001b[0m\u001b[0;34m)\u001b[0m\u001b[0;34m\u001b[0m\u001b[0m\n\u001b[0;32m-> 1348\u001b[0;31m       \u001b[0;32mraise\u001b[0m \u001b[0mtype\u001b[0m\u001b[0;34m(\u001b[0m\u001b[0me\u001b[0m\u001b[0;34m)\u001b[0m\u001b[0;34m(\u001b[0m\u001b[0mnode_def\u001b[0m\u001b[0;34m,\u001b[0m \u001b[0mop\u001b[0m\u001b[0;34m,\u001b[0m \u001b[0mmessage\u001b[0m\u001b[0;34m)\u001b[0m\u001b[0;34m\u001b[0m\u001b[0m\n\u001b[0m\u001b[1;32m   1349\u001b[0m \u001b[0;34m\u001b[0m\u001b[0m\n\u001b[1;32m   1350\u001b[0m   \u001b[0;32mdef\u001b[0m \u001b[0m_extend_graph\u001b[0m\u001b[0;34m(\u001b[0m\u001b[0mself\u001b[0m\u001b[0;34m)\u001b[0m\u001b[0;34m:\u001b[0m\u001b[0;34m\u001b[0m\u001b[0m\n",
      "\u001b[0;31mFailedPreconditionError\u001b[0m: Attempting to use uninitialized value SpoofLdConvNet/clf_stem/clf_stem/block_1/batch_normalization/beta\n\t [[node SpoofLdConvNet/clf_stem/clf_stem/block_1/batch_normalization/beta/read (defined at /home/macul/libraries/mk_utils/mklib/nn/tfnet/tfdense.py:19)  = Identity[T=DT_FLOAT, _device=\"/job:localhost/replica:0/task:0/device:GPU:0\"](SpoofLdConvNet/clf_stem/clf_stem/block_1/batch_normalization/beta)]]\n\t [[{{node SpoofLdConvNet_2/Mean_2/_11}} = _Recv[client_terminated=false, recv_device=\"/job:localhost/replica:0/task:0/device:CPU:0\", send_device=\"/job:localhost/replica:0/task:0/device:GPU:0\", send_device_incarnation=1, tensor_name=\"edge_2500_SpoofLdConvNet_2/Mean_2\", tensor_type=DT_FLOAT, _device=\"/job:localhost/replica:0/task:0/device:CPU:0\"]()]]\n\nCaused by op 'SpoofLdConvNet/clf_stem/clf_stem/block_1/batch_normalization/beta/read', defined at:\n  File \"/usr/lib/python3.5/runpy.py\", line 184, in _run_module_as_main\n    \"__main__\", mod_spec)\n  File \"/usr/lib/python3.5/runpy.py\", line 85, in _run_code\n    exec(code, run_globals)\n  File \"/home/macul/tf_venv/lib/python3.5/site-packages/ipykernel_launcher.py\", line 16, in <module>\n    app.launch_new_instance()\n  File \"/home/macul/tf_venv/lib/python3.5/site-packages/traitlets/config/application.py\", line 658, in launch_instance\n    app.start()\n  File \"/home/macul/tf_venv/lib/python3.5/site-packages/ipykernel/kernelapp.py\", line 505, in start\n    self.io_loop.start()\n  File \"/home/macul/tf_venv/lib/python3.5/site-packages/tornado/platform/asyncio.py\", line 132, in start\n    self.asyncio_loop.run_forever()\n  File \"/usr/lib/python3.5/asyncio/base_events.py\", line 345, in run_forever\n    self._run_once()\n  File \"/usr/lib/python3.5/asyncio/base_events.py\", line 1312, in _run_once\n    handle._run()\n  File \"/usr/lib/python3.5/asyncio/events.py\", line 125, in _run\n    self._callback(*self._args)\n  File \"/home/macul/tf_venv/lib/python3.5/site-packages/tornado/ioloop.py\", line 758, in _run_callback\n    ret = callback()\n  File \"/home/macul/tf_venv/lib/python3.5/site-packages/tornado/stack_context.py\", line 300, in null_wrapper\n    return fn(*args, **kwargs)\n  File \"/home/macul/tf_venv/lib/python3.5/site-packages/tornado/gen.py\", line 1233, in inner\n    self.run()\n  File \"/home/macul/tf_venv/lib/python3.5/site-packages/tornado/gen.py\", line 1147, in run\n    yielded = self.gen.send(value)\n  File \"/home/macul/tf_venv/lib/python3.5/site-packages/ipykernel/kernelbase.py\", line 357, in process_one\n    yield gen.maybe_future(dispatch(*args))\n  File \"/home/macul/tf_venv/lib/python3.5/site-packages/tornado/gen.py\", line 326, in wrapper\n    yielded = next(result)\n  File \"/home/macul/tf_venv/lib/python3.5/site-packages/ipykernel/kernelbase.py\", line 267, in dispatch_shell\n    yield gen.maybe_future(handler(stream, idents, msg))\n  File \"/home/macul/tf_venv/lib/python3.5/site-packages/tornado/gen.py\", line 326, in wrapper\n    yielded = next(result)\n  File \"/home/macul/tf_venv/lib/python3.5/site-packages/ipykernel/kernelbase.py\", line 534, in execute_request\n    user_expressions, allow_stdin,\n  File \"/home/macul/tf_venv/lib/python3.5/site-packages/tornado/gen.py\", line 326, in wrapper\n    yielded = next(result)\n  File \"/home/macul/tf_venv/lib/python3.5/site-packages/ipykernel/ipkernel.py\", line 294, in do_execute\n    res = shell.run_cell(code, store_history=store_history, silent=silent)\n  File \"/home/macul/tf_venv/lib/python3.5/site-packages/ipykernel/zmqshell.py\", line 536, in run_cell\n    return super(ZMQInteractiveShell, self).run_cell(*args, **kwargs)\n  File \"/home/macul/tf_venv/lib/python3.5/site-packages/IPython/core/interactiveshell.py\", line 2817, in run_cell\n    raw_cell, store_history, silent, shell_futures)\n  File \"/home/macul/tf_venv/lib/python3.5/site-packages/IPython/core/interactiveshell.py\", line 2843, in _run_cell\n    return runner(coro)\n  File \"/home/macul/tf_venv/lib/python3.5/site-packages/IPython/core/async_helpers.py\", line 67, in _pseudo_sync_runner\n    coro.send(None)\n  File \"/home/macul/tf_venv/lib/python3.5/site-packages/IPython/core/interactiveshell.py\", line 3018, in run_cell_async\n    interactivity=interactivity, compiler=compiler, result=result)\n  File \"/home/macul/tf_venv/lib/python3.5/site-packages/IPython/core/interactiveshell.py\", line 3183, in run_ast_nodes\n    if (yield from self.run_code(code, result)):\n  File \"/home/macul/tf_venv/lib/python3.5/site-packages/IPython/core/interactiveshell.py\", line 3265, in run_code\n    exec(code_obj, self.user_global_ns, self.user_ns)\n  File \"<ipython-input-4-95c6b3b28933>\", line 5, in <module>\n    logit, inference_loss, pred, acc, embeddings, _, _= spfLC.build_net(training=True, reuse=None)\n  File \"/home/macul/libraries/mk_utils/spoofing_ld_conv/SpoofLineConvTf.py\", line 96, in build_net\n    logit1, inference_loss1, pred1, acc1 = self.build_classifer(embedding1, label_ph, training, bnEps=bnEps, bnMom=bnMom, reuse=None, scope='clf_stem')\n  File \"/home/macul/libraries/mk_utils/spoofing_ld_conv/SpoofLineConvTf.py\", line 71, in build_classifer\n    args={'bn_momentum': bnMom,'drop_rate': self.config.Drop_rate}, scope=scope)\n  File \"/home/macul/libraries/mk_utils/mklib/nn/tfnet/tfdense.py\", line 42, in build_subnet\n    drop_rate=args['drop_rate'], scope=\"block_%d\" % (i+1))\n  File \"/home/macul/libraries/mk_utils/mklib/nn/tfnet/tfdense.py\", line 19, in block\n    bn_o = batch_normalization(inputs=dense_o, momentum=bn_momentum, training=training)\n  File \"/home/macul/tf_venv/lib/python3.5/site-packages/tensorflow/python/layers/normalization.py\", line 309, in batch_normalization\n    return layer.apply(inputs, training=training)\n  File \"/home/macul/tf_venv/lib/python3.5/site-packages/tensorflow/python/keras/engine/base_layer.py\", line 817, in apply\n    return self.__call__(inputs, *args, **kwargs)\n  File \"/home/macul/tf_venv/lib/python3.5/site-packages/tensorflow/python/layers/base.py\", line 374, in __call__\n    outputs = super(Layer, self).__call__(inputs, *args, **kwargs)\n  File \"/home/macul/tf_venv/lib/python3.5/site-packages/tensorflow/python/keras/engine/base_layer.py\", line 746, in __call__\n    self.build(input_shapes)\n  File \"/home/macul/tf_venv/lib/python3.5/site-packages/tensorflow/python/keras/layers/normalization.py\", line 297, in build\n    trainable=True)\n  File \"/home/macul/tf_venv/lib/python3.5/site-packages/tensorflow/python/layers/base.py\", line 288, in add_weight\n    getter=vs.get_variable)\n  File \"/home/macul/tf_venv/lib/python3.5/site-packages/tensorflow/python/keras/engine/base_layer.py\", line 609, in add_weight\n    aggregation=aggregation)\n  File \"/home/macul/tf_venv/lib/python3.5/site-packages/tensorflow/python/training/checkpointable/base.py\", line 639, in _add_variable_with_custom_getter\n    **kwargs_for_getter)\n  File \"/home/macul/tf_venv/lib/python3.5/site-packages/tensorflow/python/ops/variable_scope.py\", line 1487, in get_variable\n    aggregation=aggregation)\n  File \"/home/macul/tf_venv/lib/python3.5/site-packages/tensorflow/python/ops/variable_scope.py\", line 1237, in get_variable\n    aggregation=aggregation)\n  File \"/home/macul/tf_venv/lib/python3.5/site-packages/tensorflow/python/ops/variable_scope.py\", line 540, in get_variable\n    aggregation=aggregation)\n  File \"/home/macul/tf_venv/lib/python3.5/site-packages/tensorflow/python/ops/variable_scope.py\", line 492, in _true_getter\n    aggregation=aggregation)\n  File \"/home/macul/tf_venv/lib/python3.5/site-packages/tensorflow/python/ops/variable_scope.py\", line 922, in _get_single_variable\n    aggregation=aggregation)\n  File \"/home/macul/tf_venv/lib/python3.5/site-packages/tensorflow/python/ops/variables.py\", line 183, in __call__\n    return cls._variable_v1_call(*args, **kwargs)\n  File \"/home/macul/tf_venv/lib/python3.5/site-packages/tensorflow/python/ops/variables.py\", line 146, in _variable_v1_call\n    aggregation=aggregation)\n  File \"/home/macul/tf_venv/lib/python3.5/site-packages/tensorflow/python/ops/variables.py\", line 125, in <lambda>\n    previous_getter = lambda **kwargs: default_variable_creator(None, **kwargs)\n  File \"/home/macul/tf_venv/lib/python3.5/site-packages/tensorflow/python/ops/variable_scope.py\", line 2444, in default_variable_creator\n    expected_shape=expected_shape, import_scope=import_scope)\n  File \"/home/macul/tf_venv/lib/python3.5/site-packages/tensorflow/python/ops/variables.py\", line 187, in __call__\n    return super(VariableMetaclass, cls).__call__(*args, **kwargs)\n  File \"/home/macul/tf_venv/lib/python3.5/site-packages/tensorflow/python/ops/variables.py\", line 1329, in __init__\n    constraint=constraint)\n  File \"/home/macul/tf_venv/lib/python3.5/site-packages/tensorflow/python/ops/variables.py\", line 1491, in _init_from_args\n    self._snapshot = array_ops.identity(self._variable, name=\"read\")\n  File \"/home/macul/tf_venv/lib/python3.5/site-packages/tensorflow/python/ops/array_ops.py\", line 81, in identity\n    return gen_array_ops.identity(input, name=name)\n  File \"/home/macul/tf_venv/lib/python3.5/site-packages/tensorflow/python/ops/gen_array_ops.py\", line 3454, in identity\n    \"Identity\", input=input, name=name)\n  File \"/home/macul/tf_venv/lib/python3.5/site-packages/tensorflow/python/framework/op_def_library.py\", line 787, in _apply_op_helper\n    op_def=op_def)\n  File \"/home/macul/tf_venv/lib/python3.5/site-packages/tensorflow/python/util/deprecation.py\", line 488, in new_func\n    return func(*args, **kwargs)\n  File \"/home/macul/tf_venv/lib/python3.5/site-packages/tensorflow/python/framework/ops.py\", line 3274, in create_op\n    op_def=op_def)\n  File \"/home/macul/tf_venv/lib/python3.5/site-packages/tensorflow/python/framework/ops.py\", line 1770, in __init__\n    self._traceback = tf_stack.extract_stack()\n\nFailedPreconditionError (see above for traceback): Attempting to use uninitialized value SpoofLdConvNet/clf_stem/clf_stem/block_1/batch_normalization/beta\n\t [[node SpoofLdConvNet/clf_stem/clf_stem/block_1/batch_normalization/beta/read (defined at /home/macul/libraries/mk_utils/mklib/nn/tfnet/tfdense.py:19)  = Identity[T=DT_FLOAT, _device=\"/job:localhost/replica:0/task:0/device:GPU:0\"](SpoofLdConvNet/clf_stem/clf_stem/block_1/batch_normalization/beta)]]\n\t [[{{node SpoofLdConvNet_2/Mean_2/_11}} = _Recv[client_terminated=false, recv_device=\"/job:localhost/replica:0/task:0/device:CPU:0\", send_device=\"/job:localhost/replica:0/task:0/device:GPU:0\", send_device_incarnation=1, tensor_name=\"edge_2500_SpoofLdConvNet_2/Mean_2\", tensor_type=DT_FLOAT, _device=\"/job:localhost/replica:0/task:0/device:CPU:0\"]()]]\n"
     ]
    }
   ],
   "source": [
    "with tf.Session() as sess:\n",
    "    sess.run(tf.global_variables_initializer())\n",
    "    sess.run(iterator.initializer)\n",
    "    images_train, labels_train = sess.run(next_element)\n",
    "    images_train2, labels_train2 = sess.run(next_element)\n",
    "    feed_dict = {spfLC.images1_ph: images_train, spfLC.labels1_ph: labels_train,\n",
    "                 spfLC.images2_ph: images_train2, spfLC.labels2_ph: labels_train2}\n",
    "    logit_t, inference_loss_t, pred_t, acc_t, embeddings_t = \\\n",
    "                        sess.run([logit, inference_loss, pred, acc, embeddings],\n",
    "                                  feed_dict=feed_dict,\n",
    "                                  options=config_pb2.RunOptions(report_tensor_allocations_upon_oom=True))"
   ]
  },
  {
   "cell_type": "code",
   "execution_count": null,
   "metadata": {},
   "outputs": [],
   "source": []
  },
  {
   "cell_type": "code",
   "execution_count": null,
   "metadata": {},
   "outputs": [],
   "source": [
    "embeddings1, logit1, inference_loss1, pred1, acc1 = spfLC.build_net(training=False, reuse=True)"
   ]
  },
  {
   "cell_type": "code",
   "execution_count": null,
   "metadata": {},
   "outputs": [],
   "source": []
  },
  {
   "cell_type": "code",
   "execution_count": null,
   "metadata": {},
   "outputs": [],
   "source": []
  },
  {
   "cell_type": "code",
   "execution_count": null,
   "metadata": {},
   "outputs": [],
   "source": [
    "with tf.Session() as sess:\n",
    "    sess.run(iterator.initializer)\n",
    "    images_train, labels_train = sess.run(next_element)\n",
    "    \n",
    "    print(images_train, labels_train)"
   ]
  },
  {
   "cell_type": "code",
   "execution_count": null,
   "metadata": {},
   "outputs": [],
   "source": [
    "print(images_train.shape)"
   ]
  },
  {
   "cell_type": "code",
   "execution_count": null,
   "metadata": {},
   "outputs": [],
   "source": [
    "img = Image.fromarray(images_train[0,...].astype(np.uint8), 'RGB')\n",
    "img.show()"
   ]
  },
  {
   "cell_type": "code",
   "execution_count": null,
   "metadata": {},
   "outputs": [],
   "source": [
    "img_ph = tf.placeholder(name='data',shape=[2,224,224,3], dtype=tf.float32)\n",
    "img_ph1 = tf.placeholder(name='data1',shape=[2,224,224,3], dtype=tf.float32)\n",
    "\n",
    "act3_1= TfResNet.build_modules(img_ph, 512, [1,1,1,1,1], [8,8,8,16,16,8], training=True, initializer=Initializer, scope='test1')\n",
    "act3_2= TfResNet.build_modules(img_ph, 512, [1,1,1,1,1], [8,8,8,16,16,8], training=True, initializer=Initializer, scope='test1', reuse=True)\n",
    "act3=tf.concat([act3_1,act3_2],3)\n",
    "\n",
    "act3_3=tf.layers.conv2d( inputs=act3, padding='same', kernel_size=(3, 3), strides=(2, 2), filters=32,use_bias=False, name='stem_conv1')\n",
    "act3_4=tf.layers.conv2d( inputs=act3_3, padding='same', kernel_size=(3, 3), strides=(2, 2), filters=16,use_bias=False, name='stem_conv2')\n",
    "act3_5=tf.layers.conv2d( inputs=act3_4, padding='valid', kernel_size=(2, 2), strides=(1, 1), filters=1,use_bias=False, name='stem_conv3')\n",
    "act3_5=tf.squeeze(act3_5)"
   ]
  },
  {
   "cell_type": "code",
   "execution_count": null,
   "metadata": {},
   "outputs": [],
   "source": [
    "with tf.Session() as sess:\n",
    "    sess.run(tf.global_variables_initializer())\n",
    "    act = sess.run(act3_5, feed_dict={img_ph: np.random.rand(2,224,224,3),img_ph1: np.random.rand(2,224,224,3)})\n",
    "    \n",
    "print(act)"
   ]
  },
  {
   "cell_type": "code",
   "execution_count": null,
   "metadata": {},
   "outputs": [],
   "source": [
    "img_ph = tf.placeholder(name='data',shape=[1,112,112,3], dtype=tf.float32)\n",
    "\n",
    "embedding0, act2_1= TfResNet.build_embedding(img_ph, 512, [3], [64,32], training=True, initializer=Initializer, scope='test1')"
   ]
  },
  {
   "cell_type": "code",
   "execution_count": null,
   "metadata": {},
   "outputs": [],
   "source": [
    "with tf.Session() as sess:\n",
    "    sess.run(tf.global_variables_initializer())\n",
    "    emb,act2 = sess.run([embedding0,act2_1], feed_dict={img_ph: np.random.rand(1,112,112,3)})"
   ]
  },
  {
   "cell_type": "code",
   "execution_count": null,
   "metadata": {},
   "outputs": [],
   "source": [
    "print(emb[0],act2)"
   ]
  },
  {
   "cell_type": "code",
   "execution_count": null,
   "metadata": {},
   "outputs": [],
   "source": [
    "img_ph1 = tf.placeholder(name='data1',shape=[1,112,112,3], dtype=tf.float32)\n",
    "label_ph1 = tf.placeholder(name='label1',shape=[1,], dtype=tf.int64)\n",
    "loss_type='softmax'\n",
    "if loss_type=='softmax':\n",
    "    config = {'Regularizer': Regularizer, 'Activation': Activation}\n",
    "else:\n",
    "    config = {'Arc_margin_scale': 64.0, 'Arc_margin_angle': 0.0}\n",
    "\n",
    "embedding, logit, inference_loss, pred, acc  = TfResNet.build_with_loss(img_ph1, label_ph1, 3, 128, [3], [64,32], training=True, loss_type=loss_type, loss_config=config, initializer=Initializer, scope='test2')"
   ]
  },
  {
   "cell_type": "code",
   "execution_count": null,
   "metadata": {},
   "outputs": [],
   "source": [
    "with tf.Session() as sess:\n",
    "    sess.run(tf.global_variables_initializer())\n",
    "    embedding1, logit1, inference_loss1, pred1, acc1 = sess.run([embedding, logit, inference_loss, pred, acc], feed_dict={img_ph1: np.random.rand(1,112,112,3), label_ph1:[2]})"
   ]
  },
  {
   "cell_type": "code",
   "execution_count": null,
   "metadata": {},
   "outputs": [],
   "source": [
    "print(embedding1, logit1, inference_loss1, pred1, acc1)"
   ]
  },
  {
   "cell_type": "code",
   "execution_count": null,
   "metadata": {},
   "outputs": [],
   "source": []
  },
  {
   "cell_type": "code",
   "execution_count": null,
   "metadata": {},
   "outputs": [],
   "source": [
    "label_ph2 = tf.placeholder(name='label2',shape=[3,], dtype=tf.int64)\n",
    "label_ph3 = tf.placeholder(name='label3',shape=[3,], dtype=tf.int64)\n",
    "\n",
    "label_x = tf.cast(tf.equal(label_ph2,label_ph3), tf.int64)"
   ]
  },
  {
   "cell_type": "code",
   "execution_count": null,
   "metadata": {},
   "outputs": [],
   "source": [
    "with tf.Session() as sess:\n",
    "    lb = sess.run(label_x, feed_dict={label_ph2:[1,1,1], label_ph3:[1,0,2]})\n",
    "print(lb)"
   ]
  },
  {
   "cell_type": "code",
   "execution_count": null,
   "metadata": {},
   "outputs": [],
   "source": [
    "img_ph1 = tf.placeholder(name='data1',shape=[2,112,112,3], dtype=tf.float32)\n",
    "img = tf.image.resize_bilinear(img_ph1, (64, 64))\n",
    "with tf.Session() as sess:\n",
    "    emb= sess.run(img, feed_dict={img_ph1: np.random.rand(2,112,112,3)})\n",
    "print(emb.shape)"
   ]
  },
  {
   "cell_type": "code",
   "execution_count": null,
   "metadata": {},
   "outputs": [],
   "source": [
    "mask = np.ones([1,112,112,3])\n",
    "mask[0,0:10,0:10,:] = 0\n",
    "mask_tf=tf.convert_to_tensor(mask, dtype=tf.float32)\n",
    "\n",
    "img_ph1 = tf.placeholder(name='data1',shape=[1,112,112,3], dtype=tf.float32)\n",
    "img_mask = tf.multiply(mask_tf, img_ph1)\n",
    "with tf.Session() as sess:\n",
    "    emb= sess.run(img_mask, feed_dict={img_ph1: np.random.rand(1,112,112,3)})\n",
    "print(mask_tf.dtype)"
   ]
  },
  {
   "cell_type": "code",
   "execution_count": null,
   "metadata": {},
   "outputs": [],
   "source": [
    "def img_fill_center(img, fill_value=127, ratio_h=0.4, ratio_w=0.35):\n",
    "\n",
    "    def fill_c(img, fill_value, ratio_h, ratio_w):\n",
    "        im = img.copy()\n",
    "        b,h,w,c = img.shape\n",
    "        cp_h = int(h*ratio_h)\n",
    "        cp_w = int(w*ratio_w)\n",
    "        cp_x = int((w-cp_w)/2)\n",
    "        cp_y = int((h-cp_h)/2)\n",
    "        im[:,cp_y:cp_y+cp_h,cp_x:cp_x+cp_w,:] = fill_value\n",
    "\n",
    "        return im\n",
    "\n",
    "    return tf.cast(tf.py_func(fill_c, [img, fill_value, ratio_h, ratio_w], tf.float32),tf.float32)\n",
    "\n",
    "a=np.random.rand(1,112,112,3)\n",
    "img_ph1 = tf.placeholder(name='data1',shape=[1,112,112,3], dtype=tf.float32)\n",
    "img_mask=img_fill_center(img_ph1)\n",
    "with tf.Session() as sess:\n",
    "    emb= sess.run(img_mask, feed_dict={img_ph1: a})\n",
    "print(np.sum(emb==127))"
   ]
  },
  {
   "cell_type": "code",
   "execution_count": null,
   "metadata": {},
   "outputs": [],
   "source": [
    "print(emb[0,33,:,0])"
   ]
  },
  {
   "cell_type": "code",
   "execution_count": null,
   "metadata": {},
   "outputs": [],
   "source": [
    "a = np.ones([1,112,112,3])\n",
    "a[0,0:10,0:10,:] = 0\n",
    "at=tf.convert_to_tensor(a)\n",
    "with tf.Session() as sess:\n",
    "    emb= sess.run(at)\n",
    "print(emb)"
   ]
  },
  {
   "cell_type": "code",
   "execution_count": null,
   "metadata": {},
   "outputs": [],
   "source": [
    "a=100\n",
    "b=tf.cast(a,tf.int64)\n",
    "with tf.Session() as sess:\n",
    "    bb = sess.run(b)\n",
    "print(bb)"
   ]
  },
  {
   "cell_type": "code",
   "execution_count": null,
   "metadata": {},
   "outputs": [],
   "source": [
    "tfSpoofLd = TfSpoofLd()"
   ]
  },
  {
   "cell_type": "code",
   "execution_count": null,
   "metadata": {},
   "outputs": [],
   "source": [
    "sess, lines_in, pred_out, names, graph_nodes = tfSpoofLd.load_pb(pb_path)"
   ]
  },
  {
   "cell_type": "code",
   "execution_count": null,
   "metadata": {},
   "outputs": [],
   "source": [
    "prediction = tfSpoofLd.eval(sess, lines_in, pred_out)\n",
    "print(prediction)"
   ]
  },
  {
   "cell_type": "code",
   "execution_count": null,
   "metadata": {},
   "outputs": [],
   "source": [
    "print(nodes)"
   ]
  },
  {
   "cell_type": "code",
   "execution_count": null,
   "metadata": {},
   "outputs": [],
   "source": [
    "print(names)"
   ]
  },
  {
   "cell_type": "code",
   "execution_count": null,
   "metadata": {},
   "outputs": [],
   "source": [
    "np.random.rand(1,2)"
   ]
  },
  {
   "cell_type": "code",
   "execution_count": null,
   "metadata": {},
   "outputs": [],
   "source": [
    "a=np.array([[[[9.999995e-01, 5.332333e-07]]]])"
   ]
  },
  {
   "cell_type": "code",
   "execution_count": null,
   "metadata": {},
   "outputs": [],
   "source": [
    "a.shape"
   ]
  },
  {
   "cell_type": "code",
   "execution_count": null,
   "metadata": {},
   "outputs": [],
   "source": [
    "np.squeeze(a)"
   ]
  },
  {
   "cell_type": "code",
   "execution_count": null,
   "metadata": {},
   "outputs": [],
   "source": [
    "a_ph = tf.placeholder(name='a',shape=[2,3], dtype=tf.int64)\n",
    "b_ph = tf.placeholder(name='b',shape=[2,1], dtype=tf.int64)\n",
    "c=tf.multiply(b_ph,a_ph)"
   ]
  },
  {
   "cell_type": "code",
   "execution_count": null,
   "metadata": {},
   "outputs": [],
   "source": [
    "with tf.Session() as sess:\n",
    "    rst = sess.run(c, feed_dict={a_ph: np.array([[1,1,1],[1,1,1]]), b_ph: np.array([[0],[1]])})\n",
    "    print(rst)"
   ]
  },
  {
   "cell_type": "code",
   "execution_count": null,
   "metadata": {},
   "outputs": [],
   "source": []
  }
 ],
 "metadata": {
  "kernelspec": {
   "display_name": "Python 3",
   "language": "python",
   "name": "python3"
  },
  "language_info": {
   "codemirror_mode": {
    "name": "ipython",
    "version": 3
   },
   "file_extension": ".py",
   "mimetype": "text/x-python",
   "name": "python",
   "nbconvert_exporter": "python",
   "pygments_lexer": "ipython3",
   "version": "3.5.2"
  }
 },
 "nbformat": 4,
 "nbformat_minor": 2
}
