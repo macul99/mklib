{
 "cells": [
  {
   "cell_type": "code",
   "execution_count": 1,
   "metadata": {},
   "outputs": [],
   "source": [
    "import tensorflow as tf\n",
    "import numpy as np\n",
    "import os\n",
    "from os.path import isdir\n",
    "from os import mkdir\n",
    "from shutil import copyfile\n",
    "import time\n",
    "from PIL import Image\n",
    "import pickle\n",
    "from spoofing_ld_conv.SpoofLineConvTf import SpoofLineConvTf\n",
    "from tf_spoof.config import net_config_ld_conv as config\n",
    "config.BASE_PATH = '/media/macul/black/spoof_db/train_test_all/tfrecord'\n",
    "config.CFG_PATH = '/home/macul/libraries/mk_utils/tf_spoof/config'\n",
    "config.OUT_PATH = '/home/macul/libraries/mk_utils/tf_spoof/output1'\n",
    "config.TRAIN_REC = [os.path.sep.join([config.BASE_PATH, \"train5-00000-of-00005\"]),\n",
    "                    os.path.sep.join([config.BASE_PATH, \"train5-00001-of-00005\"]),\n",
    "                    os.path.sep.join([config.BASE_PATH, \"train5-00002-of-00005\"]),\n",
    "                    os.path.sep.join([config.BASE_PATH, \"train5-00003-of-00005\"]),\n",
    "                    os.path.sep.join([config.BASE_PATH, \"train5-00004-of-00005\"]),]\n",
    "config.VAL_REC = [os.path.sep.join([config.BASE_PATH, \"validation5-00000-of-00005\"]),\n",
    "                  os.path.sep.join([config.BASE_PATH, \"validation5-00001-of-00005\"]),\n",
    "                  os.path.sep.join([config.BASE_PATH, \"validation5-00002-of-00005\"]),\n",
    "                  os.path.sep.join([config.BASE_PATH, \"validation5-00003-of-00005\"]),\n",
    "                  os.path.sep.join([config.BASE_PATH, \"validation5-00004-of-00005\"])]"
   ]
  },
  {
   "cell_type": "code",
   "execution_count": 2,
   "metadata": {},
   "outputs": [],
   "source": [
    "os.environ[\"CUDA_VISIBLE_DEVICES\"] = config.DEVICE_IDS\n",
    "#batchSize = config.BATCH_SIZE * config.NUM_DEVICES"
   ]
  },
  {
   "cell_type": "code",
   "execution_count": 3,
   "metadata": {},
   "outputs": [
    {
     "data": {
      "text/plain": [
       "'/home/macul/libraries/mk_utils/tf_spoof/output1/train_3/net_config_ld_conv_0.py'"
      ]
     },
     "execution_count": 3,
     "metadata": {},
     "output_type": "execute_result"
    }
   ],
   "source": [
    "SpoofVal = SpoofLineConvTf(config)\n",
    "\n",
    "# backup net_config file\n",
    "copyfile(config.CFG_PATH+'/net_config_ld_conv.py', os.path.sep.join([SpoofVal.checkpointsPath,'net_config_ld_conv_{}.py'.format(0)]))"
   ]
  },
  {
   "cell_type": "code",
   "execution_count": null,
   "metadata": {
    "scrolled": true
   },
   "outputs": [
    {
     "name": "stdout",
     "output_type": "stream",
     "text": [
      "Train: epoch 0, step 10, inferLoss 1.42, cmpLoss 0.29, totalLoss 0.57, acc 0.425781, time 43.294 sp/s\n",
      "Train: epoch 0, step 20, inferLoss 1.51, cmpLoss 0.27, totalLoss 0.57, acc 0.363281, time 43.657 sp/s\n",
      "Train: epoch 0, step 30, inferLoss 1.29, cmpLoss 0.22, totalLoss 0.47, acc 0.402344, time 46.998 sp/s\n",
      "Train: epoch 0, step 40, inferLoss 1.27, cmpLoss 0.20, totalLoss 0.46, acc 0.460938, time 45.435 sp/s\n",
      "Train: epoch 0, step 50, inferLoss 1.09, cmpLoss 0.18, totalLoss 0.40, acc 0.464844, time 40.669 sp/s\n",
      "Train: epoch 0, step 60, inferLoss 1.10, cmpLoss 0.25, totalLoss 0.48, acc 0.445312, time 46.449 sp/s\n",
      "Train: epoch 0, step 70, inferLoss 1.05, cmpLoss 0.20, totalLoss 0.41, acc 0.464844, time 43.962 sp/s\n",
      "Train: epoch 0, step 80, inferLoss 1.04, cmpLoss 0.23, totalLoss 0.44, acc 0.507812, time 47.564 sp/s\n",
      "Train: epoch 0, step 90, inferLoss 1.02, cmpLoss 0.22, totalLoss 0.42, acc 0.511719, time 43.522 sp/s\n",
      "Train: epoch 0, step 100, inferLoss 0.94, cmpLoss 0.16, totalLoss 0.35, acc 0.648438, time 49.339 sp/s\n",
      "Train: epoch 0, step 110, inferLoss 0.94, cmpLoss 0.24, totalLoss 0.43, acc 0.511719, time 43.843 sp/s\n",
      "Train: epoch 0, step 120, inferLoss 0.97, cmpLoss 0.20, totalLoss 0.40, acc 0.523438, time 47.791 sp/s\n",
      "Train: epoch 0, step 130, inferLoss 0.94, cmpLoss 0.16, totalLoss 0.35, acc 0.558594, time 43.976 sp/s\n",
      "Train: epoch 0, step 140, inferLoss 0.97, cmpLoss 0.16, totalLoss 0.35, acc 0.550781, time 42.419 sp/s\n",
      "Train: epoch 0, step 150, inferLoss 0.94, cmpLoss 0.16, totalLoss 0.35, acc 0.582031, time 40.245 sp/s\n",
      "Train: epoch 0, step 160, inferLoss 0.85, cmpLoss 0.20, totalLoss 0.37, acc 0.574219, time 44.444 sp/s\n",
      "Train: epoch 0, step 170, inferLoss 1.00, cmpLoss 0.18, totalLoss 0.38, acc 0.546875, time 42.190 sp/s\n",
      "Train: epoch 0, step 180, inferLoss 0.91, cmpLoss 0.19, totalLoss 0.37, acc 0.640625, time 43.596 sp/s\n",
      "Train: epoch 0, step 190, inferLoss 0.85, cmpLoss 0.17, totalLoss 0.34, acc 0.613281, time 48.941 sp/s\n",
      "Train: epoch 0, step 200, inferLoss 0.93, cmpLoss 0.17, totalLoss 0.36, acc 0.589844, time 46.523 sp/s\n",
      "Train: epoch 0, step 210, inferLoss 0.86, cmpLoss 0.16, totalLoss 0.33, acc 0.613281, time 48.634 sp/s\n",
      "Train: epoch 0, step 220, inferLoss 0.84, cmpLoss 0.19, totalLoss 0.35, acc 0.589844, time 37.326 sp/s\n",
      "Train: epoch 0, step 230, inferLoss 0.82, cmpLoss 0.14, totalLoss 0.30, acc 0.609375, time 44.371 sp/s\n",
      "Train: epoch 0, step 240, inferLoss 0.85, cmpLoss 0.20, totalLoss 0.37, acc 0.578125, time 46.420 sp/s\n",
      "Train: epoch 0, step 250, inferLoss 0.86, cmpLoss 0.19, totalLoss 0.36, acc 0.574219, time 46.313 sp/s\n",
      "Train: epoch 0, step 260, inferLoss 0.92, cmpLoss 0.19, totalLoss 0.38, acc 0.597656, time 43.519 sp/s\n",
      "Train: epoch 0, step 270, inferLoss 0.83, cmpLoss 0.15, totalLoss 0.32, acc 0.617188, time 41.895 sp/s\n",
      "Train: epoch 0, step 280, inferLoss 0.80, cmpLoss 0.15, totalLoss 0.31, acc 0.675781, time 46.645 sp/s\n",
      "Train: epoch 0, step 290, inferLoss 0.89, cmpLoss 0.19, totalLoss 0.37, acc 0.574219, time 46.138 sp/s\n",
      "Train: epoch 0, step 300, inferLoss 0.79, cmpLoss 0.20, totalLoss 0.36, acc 0.628906, time 43.926 sp/s\n",
      "Train: epoch 0, step 310, inferLoss 0.86, cmpLoss 0.17, totalLoss 0.35, acc 0.566406, time 43.590 sp/s\n",
      "Train: epoch 0, step 320, inferLoss 0.78, cmpLoss 0.16, totalLoss 0.32, acc 0.656250, time 47.505 sp/s\n",
      "Train: epoch 0, step 330, inferLoss 0.79, cmpLoss 0.13, totalLoss 0.29, acc 0.609375, time 42.980 sp/s\n",
      "Train: epoch 0, step 340, inferLoss 0.88, cmpLoss 0.18, totalLoss 0.36, acc 0.558594, time 48.449 sp/s\n",
      "Train: epoch 0, step 350, inferLoss 0.87, cmpLoss 0.16, totalLoss 0.34, acc 0.585938, time 44.605 sp/s\n",
      "Train: epoch 0, step 360, inferLoss 0.88, cmpLoss 0.20, totalLoss 0.38, acc 0.582031, time 33.557 sp/s\n",
      "Train: epoch 0, step 370, inferLoss 0.90, cmpLoss 0.18, totalLoss 0.35, acc 0.625000, time 44.051 sp/s\n",
      "Train: epoch 0, step 380, inferLoss 0.78, cmpLoss 0.16, totalLoss 0.32, acc 0.691406, time 44.887 sp/s\n",
      "Train: epoch 0, step 390, inferLoss 0.82, cmpLoss 0.15, totalLoss 0.31, acc 0.625000, time 44.160 sp/s\n",
      "Train: epoch 0, step 400, inferLoss 0.79, cmpLoss 0.15, totalLoss 0.31, acc 0.617188, time 47.118 sp/s\n",
      "Train: epoch 0, step 410, inferLoss 0.87, cmpLoss 0.18, totalLoss 0.35, acc 0.554688, time 46.343 sp/s\n",
      "Train: epoch 0, step 420, inferLoss 0.82, cmpLoss 0.19, totalLoss 0.35, acc 0.632812, time 41.677 sp/s\n",
      "Train: epoch 0, step 430, inferLoss 0.80, cmpLoss 0.16, totalLoss 0.32, acc 0.632812, time 47.911 sp/s\n",
      "Train: epoch 0, step 440, inferLoss 0.78, cmpLoss 0.15, totalLoss 0.31, acc 0.625000, time 44.066 sp/s\n",
      "Train: epoch 0, step 450, inferLoss 0.85, cmpLoss 0.16, totalLoss 0.33, acc 0.554688, time 46.517 sp/s\n",
      "Train: epoch 0, step 460, inferLoss 0.78, cmpLoss 0.16, totalLoss 0.32, acc 0.605469, time 42.391 sp/s\n",
      "Train: epoch 0, step 470, inferLoss 0.79, cmpLoss 0.16, totalLoss 0.31, acc 0.691406, time 44.879 sp/s\n",
      "Train: epoch 0, step 480, inferLoss 0.81, cmpLoss 0.14, totalLoss 0.30, acc 0.648438, time 46.440 sp/s\n",
      "Train: epoch 0, step 490, inferLoss 0.71, cmpLoss 0.18, totalLoss 0.32, acc 0.644531, time 46.801 sp/s\n",
      "Train: epoch 0, step 500, inferLoss 0.76, cmpLoss 0.16, totalLoss 0.32, acc 0.625000, time 40.365 sp/s\n",
      "Train: epoch 0, step 510, inferLoss 0.81, cmpLoss 0.11, totalLoss 0.28, acc 0.593750, time 48.775 sp/s\n",
      "Train: epoch 0, step 520, inferLoss 0.81, cmpLoss 0.13, totalLoss 0.29, acc 0.636719, time 47.118 sp/s\n",
      "Train: epoch 0, step 530, inferLoss 0.91, cmpLoss 0.17, totalLoss 0.35, acc 0.585938, time 97.469 sp/s\n",
      "Train: epoch 0, step 540, inferLoss 0.81, cmpLoss 0.15, totalLoss 0.31, acc 0.574219, time 83.120 sp/s\n",
      "Train: epoch 0, step 550, inferLoss 0.79, cmpLoss 0.15, totalLoss 0.31, acc 0.601562, time 83.127 sp/s\n",
      "Train: epoch 0, step 560, inferLoss 0.80, cmpLoss 0.15, totalLoss 0.31, acc 0.597656, time 86.942 sp/s\n",
      "End of epoch 0\n",
      "######### Save checkpoint: /home/macul/libraries/mk_utils/tf_spoof/output1/train_3/train_3_0.ckpt\n",
      "$$$$$$$$ Validation: epoch 0, accuracy is 0.803612\n",
      "Train: epoch 1, step 570, inferLoss 0.74, cmpLoss 0.15, totalLoss 0.30, acc 0.679688, time 43.488 sp/s\n",
      "Train: epoch 1, step 580, inferLoss 0.80, cmpLoss 0.16, totalLoss 0.32, acc 0.617188, time 47.071 sp/s\n",
      "Train: epoch 1, step 590, inferLoss 0.76, cmpLoss 0.17, totalLoss 0.32, acc 0.644531, time 44.443 sp/s\n",
      "Train: epoch 1, step 600, inferLoss 0.70, cmpLoss 0.17, totalLoss 0.31, acc 0.656250, time 39.037 sp/s\n",
      "Train: epoch 1, step 610, inferLoss 0.78, cmpLoss 0.15, totalLoss 0.31, acc 0.636719, time 47.091 sp/s\n",
      "Train: epoch 1, step 620, inferLoss 0.83, cmpLoss 0.17, totalLoss 0.33, acc 0.574219, time 36.147 sp/s\n",
      "Train: epoch 1, step 630, inferLoss 0.79, cmpLoss 0.15, totalLoss 0.31, acc 0.628906, time 45.547 sp/s\n",
      "Train: epoch 1, step 640, inferLoss 0.87, cmpLoss 0.18, totalLoss 0.35, acc 0.589844, time 40.014 sp/s\n",
      "Train: epoch 1, step 650, inferLoss 0.76, cmpLoss 0.13, totalLoss 0.29, acc 0.652344, time 49.888 sp/s\n",
      "Train: epoch 1, step 660, inferLoss 0.68, cmpLoss 0.15, totalLoss 0.28, acc 0.660156, time 51.183 sp/s\n",
      "Train: epoch 1, step 670, inferLoss 0.73, cmpLoss 0.13, totalLoss 0.27, acc 0.644531, time 45.125 sp/s\n",
      "Train: epoch 1, step 680, inferLoss 0.70, cmpLoss 0.16, totalLoss 0.30, acc 0.687500, time 45.169 sp/s\n",
      "Train: epoch 1, step 690, inferLoss 0.70, cmpLoss 0.16, totalLoss 0.30, acc 0.648438, time 46.463 sp/s\n",
      "Train: epoch 1, step 700, inferLoss 0.65, cmpLoss 0.15, totalLoss 0.28, acc 0.695312, time 43.182 sp/s\n",
      "Train: epoch 1, step 710, inferLoss 0.68, cmpLoss 0.14, totalLoss 0.28, acc 0.683594, time 47.629 sp/s\n",
      "Train: epoch 1, step 720, inferLoss 0.75, cmpLoss 0.18, totalLoss 0.33, acc 0.613281, time 46.472 sp/s\n",
      "Train: epoch 1, step 730, inferLoss 0.75, cmpLoss 0.16, totalLoss 0.31, acc 0.652344, time 45.365 sp/s\n",
      "Train: epoch 1, step 740, inferLoss 0.72, cmpLoss 0.13, totalLoss 0.28, acc 0.660156, time 46.136 sp/s\n",
      "Train: epoch 1, step 750, inferLoss 0.73, cmpLoss 0.16, totalLoss 0.31, acc 0.644531, time 46.532 sp/s\n",
      "Train: epoch 1, step 760, inferLoss 0.69, cmpLoss 0.13, totalLoss 0.27, acc 0.660156, time 45.688 sp/s\n",
      "Train: epoch 1, step 770, inferLoss 0.70, cmpLoss 0.15, totalLoss 0.29, acc 0.652344, time 42.761 sp/s\n",
      "Train: epoch 1, step 780, inferLoss 0.76, cmpLoss 0.14, totalLoss 0.29, acc 0.652344, time 40.974 sp/s\n",
      "Train: epoch 1, step 790, inferLoss 0.82, cmpLoss 0.17, totalLoss 0.33, acc 0.648438, time 45.452 sp/s\n"
     ]
    },
    {
     "name": "stdout",
     "output_type": "stream",
     "text": [
      "Train: epoch 1, step 800, inferLoss 0.67, cmpLoss 0.13, totalLoss 0.27, acc 0.695312, time 40.720 sp/s\n",
      "Train: epoch 1, step 810, inferLoss 0.67, cmpLoss 0.14, totalLoss 0.28, acc 0.699219, time 45.890 sp/s\n",
      "Train: epoch 1, step 820, inferLoss 0.71, cmpLoss 0.13, totalLoss 0.27, acc 0.671875, time 38.159 sp/s\n",
      "Train: epoch 1, step 830, inferLoss 0.69, cmpLoss 0.15, totalLoss 0.29, acc 0.695312, time 44.349 sp/s\n",
      "Train: epoch 1, step 840, inferLoss 0.77, cmpLoss 0.13, totalLoss 0.29, acc 0.664062, time 41.477 sp/s\n",
      "Train: epoch 1, step 850, inferLoss 0.77, cmpLoss 0.15, totalLoss 0.30, acc 0.636719, time 37.098 sp/s\n",
      "Train: epoch 1, step 860, inferLoss 0.72, cmpLoss 0.14, totalLoss 0.28, acc 0.652344, time 39.903 sp/s\n",
      "Train: epoch 1, step 870, inferLoss 0.73, cmpLoss 0.16, totalLoss 0.31, acc 0.652344, time 44.953 sp/s\n",
      "Train: epoch 1, step 880, inferLoss 0.71, cmpLoss 0.16, totalLoss 0.30, acc 0.625000, time 39.306 sp/s\n",
      "Train: epoch 1, step 890, inferLoss 0.69, cmpLoss 0.14, totalLoss 0.28, acc 0.667969, time 48.742 sp/s\n",
      "Train: epoch 1, step 900, inferLoss 0.64, cmpLoss 0.11, totalLoss 0.24, acc 0.722656, time 37.701 sp/s\n",
      "Train: epoch 1, step 910, inferLoss 0.70, cmpLoss 0.12, totalLoss 0.26, acc 0.710938, time 42.377 sp/s\n",
      "Train: epoch 1, step 920, inferLoss 0.70, cmpLoss 0.15, totalLoss 0.29, acc 0.683594, time 41.352 sp/s\n",
      "Train: epoch 1, step 930, inferLoss 0.70, cmpLoss 0.11, totalLoss 0.25, acc 0.671875, time 41.746 sp/s\n",
      "Train: epoch 1, step 940, inferLoss 0.75, cmpLoss 0.13, totalLoss 0.28, acc 0.640625, time 45.470 sp/s\n",
      "Train: epoch 1, step 950, inferLoss 0.67, cmpLoss 0.15, totalLoss 0.28, acc 0.687500, time 43.902 sp/s\n",
      "Train: epoch 1, step 960, inferLoss 0.62, cmpLoss 0.11, totalLoss 0.23, acc 0.718750, time 40.940 sp/s\n",
      "Train: epoch 1, step 970, inferLoss 0.69, cmpLoss 0.13, totalLoss 0.27, acc 0.695312, time 41.089 sp/s\n",
      "Train: epoch 1, step 980, inferLoss 0.66, cmpLoss 0.11, totalLoss 0.24, acc 0.714844, time 48.552 sp/s\n",
      "Train: epoch 1, step 990, inferLoss 0.68, cmpLoss 0.16, totalLoss 0.30, acc 0.636719, time 47.830 sp/s\n",
      "Train: epoch 1, step 1000, inferLoss 0.68, cmpLoss 0.12, totalLoss 0.26, acc 0.660156, time 49.389 sp/s\n",
      "Train: epoch 1, step 1010, inferLoss 0.75, cmpLoss 0.16, totalLoss 0.31, acc 0.632812, time 51.832 sp/s\n",
      "Train: epoch 1, step 1020, inferLoss 0.67, cmpLoss 0.13, totalLoss 0.27, acc 0.695312, time 48.472 sp/s\n",
      "Train: epoch 1, step 1030, inferLoss 0.65, cmpLoss 0.12, totalLoss 0.25, acc 0.695312, time 53.184 sp/s\n",
      "Train: epoch 1, step 1040, inferLoss 0.67, cmpLoss 0.12, totalLoss 0.26, acc 0.679688, time 44.040 sp/s\n",
      "Train: epoch 1, step 1050, inferLoss 0.67, cmpLoss 0.09, totalLoss 0.23, acc 0.648438, time 49.450 sp/s\n",
      "Train: epoch 1, step 1060, inferLoss 0.68, cmpLoss 0.13, totalLoss 0.26, acc 0.679688, time 48.221 sp/s\n",
      "Train: epoch 1, step 1070, inferLoss 0.71, cmpLoss 0.12, totalLoss 0.26, acc 0.656250, time 49.029 sp/s\n",
      "Train: epoch 1, step 1080, inferLoss 0.70, cmpLoss 0.12, totalLoss 0.26, acc 0.683594, time 47.092 sp/s\n",
      "Train: epoch 1, step 1090, inferLoss 0.64, cmpLoss 0.13, totalLoss 0.26, acc 0.699219, time 49.737 sp/s\n",
      "Train: epoch 1, step 1100, inferLoss 0.65, cmpLoss 0.13, totalLoss 0.26, acc 0.695312, time 96.536 sp/s\n",
      "Train: epoch 1, step 1110, inferLoss 0.73, cmpLoss 0.10, totalLoss 0.25, acc 0.652344, time 100.809 sp/s\n",
      "Train: epoch 1, step 1120, inferLoss 0.80, cmpLoss 0.12, totalLoss 0.28, acc 0.625000, time 89.218 sp/s\n",
      "Train: epoch 1, step 1130, inferLoss 0.72, cmpLoss 0.13, totalLoss 0.27, acc 0.683594, time 92.210 sp/s\n",
      "End of epoch 1\n",
      "######### Save checkpoint: /home/macul/libraries/mk_utils/tf_spoof/output1/train_3/train_3_1.ckpt\n",
      "$$$$$$$$ Validation: epoch 1, accuracy is 0.886014\n",
      "Train: epoch 2, step 1140, inferLoss 0.70, cmpLoss 0.08, totalLoss 0.22, acc 0.687500, time 50.263 sp/s\n",
      "Train: epoch 2, step 1150, inferLoss 0.73, cmpLoss 0.11, totalLoss 0.26, acc 0.687500, time 49.464 sp/s\n",
      "Train: epoch 2, step 1160, inferLoss 0.64, cmpLoss 0.12, totalLoss 0.25, acc 0.671875, time 44.554 sp/s\n",
      "Train: epoch 2, step 1170, inferLoss 0.67, cmpLoss 0.14, totalLoss 0.27, acc 0.671875, time 42.022 sp/s\n",
      "Train: epoch 2, step 1180, inferLoss 0.65, cmpLoss 0.14, totalLoss 0.27, acc 0.687500, time 44.699 sp/s\n",
      "Train: epoch 2, step 1190, inferLoss 0.66, cmpLoss 0.15, totalLoss 0.29, acc 0.660156, time 49.108 sp/s\n",
      "Train: epoch 2, step 1200, inferLoss 0.71, cmpLoss 0.11, totalLoss 0.26, acc 0.671875, time 43.234 sp/s\n",
      "Train: epoch 2, step 1210, inferLoss 0.69, cmpLoss 0.10, totalLoss 0.24, acc 0.687500, time 51.002 sp/s\n",
      "Train: epoch 2, step 1220, inferLoss 0.66, cmpLoss 0.13, totalLoss 0.26, acc 0.648438, time 46.570 sp/s\n",
      "Train: epoch 2, step 1230, inferLoss 0.67, cmpLoss 0.11, totalLoss 0.25, acc 0.703125, time 48.494 sp/s\n",
      "Train: epoch 2, step 1240, inferLoss 0.67, cmpLoss 0.11, totalLoss 0.25, acc 0.632812, time 46.827 sp/s\n",
      "Train: epoch 2, step 1250, inferLoss 0.71, cmpLoss 0.13, totalLoss 0.27, acc 0.664062, time 49.563 sp/s\n",
      "Train: epoch 2, step 1260, inferLoss 0.66, cmpLoss 0.11, totalLoss 0.24, acc 0.667969, time 45.812 sp/s\n",
      "Train: epoch 2, step 1270, inferLoss 0.65, cmpLoss 0.12, totalLoss 0.25, acc 0.730469, time 42.966 sp/s\n",
      "Train: epoch 2, step 1280, inferLoss 0.72, cmpLoss 0.11, totalLoss 0.25, acc 0.667969, time 49.871 sp/s\n",
      "Train: epoch 2, step 1290, inferLoss 0.64, cmpLoss 0.11, totalLoss 0.23, acc 0.679688, time 45.468 sp/s\n",
      "Train: epoch 2, step 1300, inferLoss 0.69, cmpLoss 0.10, totalLoss 0.24, acc 0.699219, time 42.564 sp/s\n",
      "Train: epoch 2, step 1310, inferLoss 0.66, cmpLoss 0.12, totalLoss 0.25, acc 0.667969, time 44.659 sp/s\n",
      "Train: epoch 2, step 1320, inferLoss 0.56, cmpLoss 0.10, totalLoss 0.21, acc 0.722656, time 52.447 sp/s\n",
      "Train: epoch 2, step 1330, inferLoss 0.70, cmpLoss 0.13, totalLoss 0.27, acc 0.664062, time 45.820 sp/s\n",
      "Train: epoch 2, step 1340, inferLoss 0.61, cmpLoss 0.11, totalLoss 0.23, acc 0.703125, time 47.338 sp/s\n",
      "Train: epoch 2, step 1350, inferLoss 0.59, cmpLoss 0.09, totalLoss 0.21, acc 0.726562, time 46.637 sp/s\n",
      "Train: epoch 2, step 1360, inferLoss 0.63, cmpLoss 0.11, totalLoss 0.23, acc 0.707031, time 44.790 sp/s\n",
      "Train: epoch 2, step 1370, inferLoss 0.59, cmpLoss 0.12, totalLoss 0.24, acc 0.730469, time 48.280 sp/s\n",
      "Train: epoch 2, step 1380, inferLoss 0.68, cmpLoss 0.10, totalLoss 0.23, acc 0.710938, time 49.163 sp/s\n",
      "Train: epoch 2, step 1390, inferLoss 0.56, cmpLoss 0.10, totalLoss 0.21, acc 0.738281, time 48.430 sp/s\n",
      "Train: epoch 2, step 1400, inferLoss 0.60, cmpLoss 0.11, totalLoss 0.24, acc 0.730469, time 44.275 sp/s\n",
      "Train: epoch 2, step 1410, inferLoss 0.52, cmpLoss 0.09, totalLoss 0.19, acc 0.769531, time 41.639 sp/s\n",
      "Train: epoch 2, step 1420, inferLoss 0.66, cmpLoss 0.09, totalLoss 0.22, acc 0.660156, time 42.410 sp/s\n",
      "Train: epoch 2, step 1430, inferLoss 0.65, cmpLoss 0.09, totalLoss 0.22, acc 0.718750, time 47.538 sp/s\n",
      "Train: epoch 2, step 1440, inferLoss 0.64, cmpLoss 0.09, totalLoss 0.22, acc 0.703125, time 42.320 sp/s\n",
      "Train: epoch 2, step 1450, inferLoss 0.59, cmpLoss 0.12, totalLoss 0.24, acc 0.710938, time 48.481 sp/s\n",
      "Train: epoch 2, step 1460, inferLoss 0.64, cmpLoss 0.12, totalLoss 0.25, acc 0.683594, time 48.432 sp/s\n",
      "Train: epoch 2, step 1470, inferLoss 0.66, cmpLoss 0.11, totalLoss 0.24, acc 0.660156, time 46.677 sp/s\n",
      "Train: epoch 2, step 1480, inferLoss 0.64, cmpLoss 0.10, totalLoss 0.23, acc 0.726562, time 46.094 sp/s\n",
      "Train: epoch 2, step 1490, inferLoss 0.66, cmpLoss 0.09, totalLoss 0.22, acc 0.707031, time 49.704 sp/s\n",
      "Train: epoch 2, step 1500, inferLoss 0.69, cmpLoss 0.10, totalLoss 0.24, acc 0.703125, time 47.295 sp/s\n",
      "Train: epoch 2, step 1510, inferLoss 0.58, cmpLoss 0.10, totalLoss 0.22, acc 0.726562, time 47.793 sp/s\n",
      "Train: epoch 2, step 1520, inferLoss 0.64, cmpLoss 0.12, totalLoss 0.25, acc 0.675781, time 45.704 sp/s\n",
      "Train: epoch 2, step 1530, inferLoss 0.64, cmpLoss 0.09, totalLoss 0.22, acc 0.667969, time 45.757 sp/s\n",
      "Train: epoch 2, step 1540, inferLoss 0.62, cmpLoss 0.10, totalLoss 0.23, acc 0.726562, time 44.115 sp/s\n",
      "Train: epoch 2, step 1550, inferLoss 0.62, cmpLoss 0.09, totalLoss 0.21, acc 0.730469, time 43.387 sp/s\n",
      "Train: epoch 2, step 1560, inferLoss 0.59, cmpLoss 0.09, totalLoss 0.21, acc 0.722656, time 49.191 sp/s\n",
      "Train: epoch 2, step 1570, inferLoss 0.68, cmpLoss 0.11, totalLoss 0.24, acc 0.675781, time 44.600 sp/s\n"
     ]
    },
    {
     "name": "stdout",
     "output_type": "stream",
     "text": [
      "Train: epoch 2, step 1580, inferLoss 0.56, cmpLoss 0.12, totalLoss 0.23, acc 0.777344, time 52.298 sp/s\n",
      "Train: epoch 2, step 1590, inferLoss 0.61, cmpLoss 0.10, totalLoss 0.22, acc 0.703125, time 42.348 sp/s\n",
      "Train: epoch 2, step 1600, inferLoss 0.51, cmpLoss 0.07, totalLoss 0.17, acc 0.773438, time 44.307 sp/s\n",
      "Train: epoch 2, step 1610, inferLoss 0.59, cmpLoss 0.10, totalLoss 0.22, acc 0.730469, time 49.566 sp/s\n",
      "Train: epoch 2, step 1620, inferLoss 0.67, cmpLoss 0.09, totalLoss 0.23, acc 0.671875, time 46.050 sp/s\n",
      "Train: epoch 2, step 1630, inferLoss 0.58, cmpLoss 0.09, totalLoss 0.20, acc 0.761719, time 53.925 sp/s\n",
      "Train: epoch 2, step 1640, inferLoss 0.53, cmpLoss 0.08, totalLoss 0.19, acc 0.785156, time 46.680 sp/s\n",
      "Train: epoch 2, step 1650, inferLoss 0.57, cmpLoss 0.08, totalLoss 0.20, acc 0.714844, time 50.459 sp/s\n",
      "Train: epoch 2, step 1660, inferLoss 0.64, cmpLoss 0.11, totalLoss 0.23, acc 0.691406, time 91.359 sp/s\n",
      "Train: epoch 2, step 1670, inferLoss 0.62, cmpLoss 0.10, totalLoss 0.23, acc 0.691406, time 88.999 sp/s\n",
      "Train: epoch 2, step 1680, inferLoss 0.58, cmpLoss 0.09, totalLoss 0.21, acc 0.726562, time 87.687 sp/s\n",
      "Train: epoch 2, step 1690, inferLoss 0.59, cmpLoss 0.11, totalLoss 0.23, acc 0.742188, time 91.227 sp/s\n",
      "End of epoch 2\n",
      "######### Save checkpoint: /home/macul/libraries/mk_utils/tf_spoof/output1/train_3/train_3_2.ckpt\n"
     ]
    }
   ],
   "source": [
    "SpoofVal.train_net(-1)"
   ]
  },
  {
   "cell_type": "code",
   "execution_count": null,
   "metadata": {},
   "outputs": [],
   "source": [
    "# RESTART KERNEL AND RUN FROM HERE TO DO VALIDATION"
   ]
  },
  {
   "cell_type": "code",
   "execution_count": null,
   "metadata": {},
   "outputs": [],
   "source": [
    "import tensorflow as tf\n",
    "import numpy as np\n",
    "import os\n",
    "from os.path import isdir\n",
    "from os import mkdir\n",
    "from shutil import copyfile\n",
    "import time\n",
    "from PIL import Image\n",
    "import pickle\n",
    "from spoofing_lbp.SpoofDspTf import SpoofDspTf"
   ]
  },
  {
   "cell_type": "code",
   "execution_count": null,
   "metadata": {},
   "outputs": [],
   "source": [
    "ckpt_num = 9\n",
    "prefix = 'train_1'\n",
    "import sys\n",
    "sys.path.append('/home/macul/libraries/mk_utils/tf_spoof/output/{}'.format(prefix))\n",
    "import net_config_0 as config\n",
    "config.BASE_PATH = '/media/macul/black/spoof_db/train_test_all/tfrecord'\n",
    "config.CFG_PATH = '/home/macul/libraries/mk_utils/tf_spoof/config'\n",
    "config.OUT_PATH = '/home/macul/libraries/mk_utils/tf_spoof/output'\n",
    "config.VAL_REC = os.path.sep.join([config.BASE_PATH, \"validation.tfrecords\"])\n",
    "\n",
    "SpoofVal = SpoofDspTf(config)\n",
    "\n",
    "rst_val = SpoofVal.validate_net(ckpt_num, '/home/macul/test.pkl')"
   ]
  },
  {
   "cell_type": "code",
   "execution_count": null,
   "metadata": {},
   "outputs": [],
   "source": [
    "# RESTART KERNEL AND RUN FROM HERE TO DO EVALUATION"
   ]
  },
  {
   "cell_type": "code",
   "execution_count": null,
   "metadata": {},
   "outputs": [],
   "source": [
    "import tensorflow as tf\n",
    "import numpy as np\n",
    "import os\n",
    "from os.path import isdir\n",
    "from os import mkdir\n",
    "from shutil import copyfile\n",
    "import time\n",
    "from PIL import Image\n",
    "import pickle\n",
    "from spoofing_lbp.SpoofDspTf import SpoofDspTf"
   ]
  },
  {
   "cell_type": "code",
   "execution_count": null,
   "metadata": {},
   "outputs": [],
   "source": [
    "ckpt_num = 9\n",
    "prefix = 'train_1'\n",
    "import sys\n",
    "sys.path.append('/home/macul/libraries/mk_utils/tf_spoof/output/{}'.format(prefix))\n",
    "import net_config_0 as config\n",
    "config.BASE_PATH = '/media/macul/black/spoof_db/train_test_all/tfrecord'\n",
    "config.CFG_PATH = '/home/macul/libraries/mk_utils/tf_spoof/config'\n",
    "config.OUT_PATH = '/home/macul/libraries/mk_utils/tf_spoof/output'\n",
    "\n",
    "SpoofVal = SpoofDspTf(config)\n",
    "\n",
    "sess, embeddings, logit, pred, acc = SpoofVal.deploy_net(ckpt_num)"
   ]
  },
  {
   "cell_type": "code",
   "execution_count": null,
   "metadata": {},
   "outputs": [],
   "source": [
    "import cv2"
   ]
  },
  {
   "cell_type": "code",
   "execution_count": null,
   "metadata": {},
   "outputs": [],
   "source": [
    "img = cv2.imread('/home/macul/figure_1-5.png')\n",
    "img = cv2.cvtColor(img, cv2.COLOR_BGR2RGB)"
   ]
  },
  {
   "cell_type": "code",
   "execution_count": null,
   "metadata": {},
   "outputs": [],
   "source": [
    "rst = SpoofVal.eval(img, sess, pred)"
   ]
  },
  {
   "cell_type": "code",
   "execution_count": null,
   "metadata": {},
   "outputs": [],
   "source": [
    "print(rst[0])"
   ]
  },
  {
   "cell_type": "code",
   "execution_count": null,
   "metadata": {},
   "outputs": [],
   "source": []
  },
  {
   "cell_type": "code",
   "execution_count": null,
   "metadata": {},
   "outputs": [],
   "source": [
    "a.shape"
   ]
  },
  {
   "cell_type": "code",
   "execution_count": null,
   "metadata": {},
   "outputs": [],
   "source": [
    "a.reshape([1,-1])"
   ]
  },
  {
   "cell_type": "code",
   "execution_count": null,
   "metadata": {},
   "outputs": [],
   "source": [
    "a.shape"
   ]
  },
  {
   "cell_type": "code",
   "execution_count": null,
   "metadata": {},
   "outputs": [],
   "source": [
    "a[np.newaxis,:].shape"
   ]
  },
  {
   "cell_type": "code",
   "execution_count": null,
   "metadata": {},
   "outputs": [],
   "source": [
    "a"
   ]
  },
  {
   "cell_type": "code",
   "execution_count": null,
   "metadata": {},
   "outputs": [],
   "source": []
  }
 ],
 "metadata": {
  "kernelspec": {
   "display_name": "Python 3",
   "language": "python",
   "name": "python3"
  },
  "language_info": {
   "codemirror_mode": {
    "name": "ipython",
    "version": 3
   },
   "file_extension": ".py",
   "mimetype": "text/x-python",
   "name": "python",
   "nbconvert_exporter": "python",
   "pygments_lexer": "ipython3",
   "version": "3.5.2"
  }
 },
 "nbformat": 4,
 "nbformat_minor": 2
}
