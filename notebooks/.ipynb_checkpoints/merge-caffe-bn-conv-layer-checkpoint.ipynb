{
 "cells": [
  {
   "cell_type": "code",
   "execution_count": 1,
   "metadata": {},
   "outputs": [
    {
     "data": {
      "text/plain": [
       "'\\nlayer {\\n  bottom: \"bn1\"\\n  top: \"flatten\"\\n  name: \"fc1_flatten\"\\n  type: \"Flatten\"\\n  flatten_param { axis: 1}\\n}\\n'"
      ]
     },
     "execution_count": 1,
     "metadata": {},
     "output_type": "execute_result"
    }
   ],
   "source": [
    "# go through the original prototxt and prepare a txt file for all the layers to be merged\n",
    "# each line for one set of layers to be merged, the file content should be: conv_name,bn_name,scale_name\n",
    "# eg: /media/macul/black/mxnet_training/r50/dgx_train1/dgx_train1_conv_bn_list.txt\n",
    "\n",
    "# copy original prototxt (dgx_train1_31-caffe.prototxt) to a new file name such as dgx_train1_31-caffe-merge-bn.prototxt\n",
    "# modify the new prototxt file, delete corresponding bn and scale layer, and connect output of conv layter to the next layer of scale layer\n",
    "# for each conv layer, set 'bias_term' to 'true'\n",
    "# for each bn layer, note down the 'eps' value, 'eps' value should be the same for all the bn layers"
   ]
  },
  {
   "cell_type": "code",
   "execution_count": 1,
   "metadata": {},
   "outputs": [],
   "source": [
    "import sys\n",
    "#sys.path.append('/home/macul/libraries/mk_utils/mklib/utils')\n",
    "sys.path.append('/home/macul/Documents/macul/mklib/utils')\n",
    "import caffe\n",
    "from collections import namedtuple\n",
    "import numpy as np\n",
    "import cv2\n",
    "from caffeMergeBn import caffeMergeBn"
   ]
  },
  {
   "cell_type": "code",
   "execution_count": 11,
   "metadata": {},
   "outputs": [
    {
     "name": "stdout",
     "output_type": "stream",
     "text": [
      "('stem_conv1', 'stem_bn2', 'stem_bn2_scale')\n",
      "('stage2_unit2_conv1', 'stage2_unit2_bn2', 'stage2_unit2_bn2_scale')\n",
      "('stage2_unit2_conv2', 'stage2_unit2_bn4', 'stage2_unit2_bn4_scale')\n",
      "('stage4_unit1_conv1', 'stage4_unit1_bn2', 'stage4_unit1_bn2_scale')\n",
      "('stage3_unit4_conv2', 'stage3_unit4_bn4', 'stage3_unit4_bn4_scale')\n",
      "('stage3_unit4_conv1', 'stage3_unit4_bn2', 'stage3_unit4_bn2_scale')\n",
      "('stage4_unit1_conv2', 'stage4_unit1_bn4', 'stage4_unit1_bn4_scale')\n",
      "('stage3_unit2_conv1', 'stage3_unit2_bn2', 'stage3_unit2_bn2_scale')\n",
      "('stage3_unit2_conv2', 'stage3_unit2_bn4', 'stage3_unit2_bn4_scale')\n",
      "('stage3_unit5_conv2', 'stage3_unit5_bn4', 'stage3_unit5_bn4_scale')\n",
      "('stage3_unit5_conv1', 'stage3_unit5_bn2', 'stage3_unit5_bn2_scale')\n",
      "('stage1_unit1_conv1', 'stage1_unit1_bn2', 'stage1_unit1_bn2_scale')\n",
      "('stage1_unit1_conv2', 'stage1_unit1_bn4', 'stage1_unit1_bn4_scale')\n",
      "('stage3_unit1_convr', 'stage3_unit1_bnr', 'stage3_unit1_bnr_scale')\n",
      "('stage2_unit1_convr', 'stage2_unit1_bnr', 'stage2_unit1_bnr_scale')\n",
      "('stage4_unit2_conv2', 'stage4_unit2_bn4', 'stage4_unit2_bn4_scale')\n",
      "('stage3_unit3_conv1', 'stage3_unit3_bn2', 'stage3_unit3_bn2_scale')\n",
      "('stage3_unit3_conv2', 'stage3_unit3_bn4', 'stage3_unit3_bn4_scale')\n",
      "('stage4_unit2_conv1', 'stage4_unit2_bn2', 'stage4_unit2_bn2_scale')\n",
      "('stage4_unit1_convr', 'stage4_unit1_bnr', 'stage4_unit1_bnr_scale')\n",
      "('out_conv1', 'out_bn3', 'out_bn3_scale')\n",
      "('stage1_unit1_convr', 'stage1_unit1_bnr', 'stage1_unit1_bnr_scale')\n",
      "('stage3_unit1_conv2', 'stage3_unit1_bn4', 'stage3_unit1_bn4_scale')\n",
      "('stage2_unit1_conv2', 'stage2_unit1_bn4', 'stage2_unit1_bn4_scale')\n",
      "('stage2_unit1_conv1', 'stage2_unit1_bn2', 'stage2_unit1_bn2_scale')\n",
      "('stage3_unit1_conv1', 'stage3_unit1_bn2', 'stage3_unit1_bn2_scale')\n"
     ]
    }
   ],
   "source": [
    "train_proto='/home/macul/Documents/macul/FaceRecog_ResNet_MX/output/dgx_train7/resnet20_no_merge_no_flattern.prototxt' # original prototxt\n",
    "train_model='/home/macul/Documents/macul/FaceRecog_ResNet_MX/output/dgx_train7/resnet20_no_merge_no_flattern.caffemodel' # original caffe model\n",
    "deploy_proto='/home/macul/Documents/macul/FaceRecog_ResNet_MX/output/dgx_train7/resnet20_merge_conv_behind.prototxt' # new prototxt file\n",
    "save_model='/home/macul/Documents/macul/FaceRecog_ResNet_MX/output/dgx_train7/resnet20_merge_conv_behind.caffemodel' # output model file name to be saved\n",
    "conv_bn_list='/home/macul/Documents/macul/FaceRecog_ResNet_MX/output/dgx_train7/dgx_train7_conv_bn_list.txt' # layer pair txt file\n",
    "#train_proto='/media/macul/black/mxnet_training/r50/server_train18/server_train18-caffe.prototxt' # original prototxt\n",
    "#train_model='/media/macul/black/mxnet_training/r50/server_train18/server_train18_6062-caffe.caffemodel' # original caffe model\n",
    "#deploy_proto='/media/macul/black/mxnet_training/r50/server_train18/server_train18-caffe-merge-bn.prototxt' # new prototxt file\n",
    "#save_model='/media/macul/black/mxnet_training/r50/server_train18/server_train18_6062-caffe-merge-bn.caffemodel' # output model file name to be saved\n",
    "#conv_bn_list='/media/macul/black/mxnet_training/r50/server_train18/server_train18_conv_bn_list.txt' # layer pair txt file\n",
    "EPS=2e-5 # should match the bn layer eps value from the original prototxt\n",
    "\n",
    "cm = caffeMergeBn(train_proto,train_model,deploy_proto,save_model,conv_bn_list,EPS)\n",
    "cm.merge_bn()"
   ]
  },
  {
   "cell_type": "code",
   "execution_count": 13,
   "metadata": {},
   "outputs": [
    {
     "name": "stdout",
     "output_type": "stream",
     "text": [
      "('out_fc1', 'out_embedding', 'out_embedding_scale')\n"
     ]
    }
   ],
   "source": [
    "# merge fc layer with bn and scale\n",
    "# go through the prototxt generated above and prepare a txt file for all the layers to be merged\n",
    "# each line for one set of layers to be merged, the file content should be: fc_name,bn_name,scale_name\n",
    "# eg: /media/macul/black/mxnet_training/r50/dgx_train1/dgx_train1_fc_bn_list.txt\n",
    "\n",
    "# copy above generated prototxt (resnet20_merge_conv_behind.prototxt) to a new file name such as resnet20_merge_fc.prototxt\n",
    "# modify the new prototxt file, delete corresponding bn and scale layer, and connect output of fc layter to the next layer of scale layer\n",
    "train_proto='/home/macul/Documents/macul/FaceRecog_ResNet_MX/output/dgx_train7/resnet20_merge_conv_behind.prototxt' # original prototxt\n",
    "train_model='/home/macul/Documents/macul/FaceRecog_ResNet_MX/output/dgx_train7/resnet20_merge_conv_behind.caffemodel' # original caffe model\n",
    "deploy_proto='/home/macul/Documents/macul/FaceRecog_ResNet_MX/output/dgx_train7/resnet20.prototxt' # new prototxt file\n",
    "save_model='/home/macul/Documents/macul/FaceRecog_ResNet_MX/output/dgx_train7/resnet20.caffemodel' # output model file name to be saved\n",
    "conv_bn_list='/home/macul/Documents/macul/FaceRecog_ResNet_MX/output/dgx_train7/dgx_train7_fc_bn_list.txt' # layer pair txt file\n",
    "#train_proto='/media/macul/black/mxnet_training/r50/server_train18/server_train18-caffe.prototxt' # original prototxt\n",
    "#train_model='/media/macul/black/mxnet_training/r50/server_train18/server_train18_6062-caffe.caffemodel' # original caffe model\n",
    "#deploy_proto='/media/macul/black/mxnet_training/r50/server_train18/server_train18-caffe-merge-bn.prototxt' # new prototxt file\n",
    "#save_model='/media/macul/black/mxnet_training/r50/server_train18/server_train18_6062-caffe-merge-bn.caffemodel' # output model file name to be saved\n",
    "#conv_bn_list='/media/macul/black/mxnet_training/r50/server_train18/server_train18_conv_bn_list.txt' # layer pair txt file\n",
    "EPS=2e-5 # should match the bn layer eps value from the original prototxt\n",
    "\n",
    "cm = caffeMergeBn(train_proto,train_model,deploy_proto,save_model,conv_bn_list,EPS)\n",
    "cm.merge_fc_bn()"
   ]
  },
  {
   "cell_type": "code",
   "execution_count": 14,
   "metadata": {},
   "outputs": [
    {
     "name": "stdout",
     "output_type": "stream",
     "text": [
      "model_path /home/macul/Documents/macul/FaceRecog_ResNet_MX/output/dgx_train7\n",
      "prototxt_name resnet20\n",
      "(512,)\n",
      "model_path /home/macul/Documents/macul/FaceRecog_ResNet_MX/output/dgx_train7\n",
      "prototxt_name resnet20_no_merge_no_flattern\n",
      "(512,)\n"
     ]
    },
    {
     "data": {
      "text/plain": [
       "0.9999999"
      ]
     },
     "execution_count": 14,
     "metadata": {},
     "output_type": "execute_result"
    }
   ],
   "source": [
    "from caffeFaceFeatureExtract import caffeFaceFeatureExtract\n",
    "a=caffeFaceFeatureExtract('/home/macul/Documents/macul/FaceRecog_ResNet_MX/output/dgx_train7',prototxt_name='resnet20',caffemodel_name='resnet20',outputs_name={'embedding':'out_embedding'})\n",
    "embedding=a.getEmbedding('/media/macul/black/face_database_raw_data/mscelb_from_insightface/Data/0000000/0000.png')\n",
    "a1=caffeFaceFeatureExtract('/home/macul/Documents/macul/FaceRecog_ResNet_MX/output/dgx_train7',prototxt_name='resnet20_no_merge_no_flattern',caffemodel_name='resnet20_no_merge_no_flattern',outputs_name={'embedding':'out_embedding'})\n",
    "embedding1=a1.getEmbedding('/media/macul/black/face_database_raw_data/mscelb_from_insightface/Data/0000000/0000.png')\n",
    "#a=caffeFeatureExtract('/media/macul/black/mxnet_training/r50/server_train18',prototxt_name='server_train18-caffe-merge-bn',caffemodel_name='server_train18_6062-caffe-merge-bn',outputs_name={'embedding':'out_embedding'})\n",
    "#embedding=a.getEmbedding('/media/macul/black/face_database_raw_data/mscelb_from_insightface/Data/0000000/0000.png')\n",
    "#a1=caffeFeatureExtract('/media/macul/black/mxnet_training/r50/server_train18',prototxt_name='server_train18-caffe',caffemodel_name='server_train18_6062-caffe',outputs_name={'embedding':'out_embedding'})\n",
    "#embedding1=a1.getEmbedding('/media/macul/black/face_database_raw_data/mscelb_from_insightface/Data/0000000/0000.png')\n",
    "np.dot(embedding,embedding1)"
   ]
  },
  {
   "cell_type": "code",
   "execution_count": null,
   "metadata": {},
   "outputs": [],
   "source": []
  },
  {
   "cell_type": "code",
   "execution_count": null,
   "metadata": {},
   "outputs": [],
   "source": []
  },
  {
   "cell_type": "code",
   "execution_count": null,
   "metadata": {},
   "outputs": [],
   "source": []
  },
  {
   "cell_type": "code",
   "execution_count": 4,
   "metadata": {},
   "outputs": [
    {
     "name": "stdout",
     "output_type": "stream",
     "text": [
      "(64,)\n",
      "(64,)\n",
      "(1,)\n"
     ]
    }
   ],
   "source": [
    "print(a.Net.params['stage1_unit1_bn1'][0].data[...].shape)\n",
    "print(a.Net.params['stage1_unit1_bn1'][1].data[...].shape)\n",
    "print(a.Net.params['stage1_unit1_bn1'][2].data[...].shape)"
   ]
  },
  {
   "cell_type": "code",
   "execution_count": 6,
   "metadata": {},
   "outputs": [
    {
     "name": "stdout",
     "output_type": "stream",
     "text": [
      "(64,)\n",
      "(64,)\n"
     ]
    }
   ],
   "source": [
    "print(a.Net.params['stage1_unit1_bn1_scale'][0].data[...].shape)\n",
    "print(a.Net.params['stage1_unit1_bn1_scale'][1].data[...].shape)"
   ]
  },
  {
   "cell_type": "code",
   "execution_count": 8,
   "metadata": {},
   "outputs": [
    {
     "name": "stdout",
     "output_type": "stream",
     "text": [
      "(64, 64, 3, 3)\n",
      "(64,)\n"
     ]
    }
   ],
   "source": [
    "print(a.Net.params['stage1_unit1_conv1'][0].data[...].shape)\n",
    "print(a.Net.params['stage1_unit1_conv1'][1].data[...].shape)"
   ]
  },
  {
   "cell_type": "code",
   "execution_count": null,
   "metadata": {},
   "outputs": [],
   "source": []
  },
  {
   "cell_type": "code",
   "execution_count": null,
   "metadata": {},
   "outputs": [],
   "source": []
  },
  {
   "cell_type": "code",
   "execution_count": null,
   "metadata": {},
   "outputs": [],
   "source": []
  },
  {
   "cell_type": "code",
   "execution_count": null,
   "metadata": {},
   "outputs": [],
   "source": []
  },
  {
   "cell_type": "code",
   "execution_count": null,
   "metadata": {},
   "outputs": [],
   "source": []
  },
  {
   "cell_type": "code",
   "execution_count": 10,
   "metadata": {},
   "outputs": [
    {
     "ename": "KeyError",
     "evalue": "'stage1_unit1_bn1'",
     "output_type": "error",
     "traceback": [
      "\u001b[0;31m---------------------------------------------------------------------------\u001b[0m",
      "\u001b[0;31mKeyError\u001b[0m                                  Traceback (most recent call last)",
      "\u001b[0;32m<ipython-input-10-56fab81c5712>\u001b[0m in \u001b[0;36m<module>\u001b[0;34m()\u001b[0m\n\u001b[1;32m      3\u001b[0m \u001b[0mbias\u001b[0m \u001b[0;34m=\u001b[0m \u001b[0ma\u001b[0m\u001b[0;34m.\u001b[0m\u001b[0mNet\u001b[0m\u001b[0;34m.\u001b[0m\u001b[0mparams\u001b[0m\u001b[0;34m[\u001b[0m\u001b[0;34m'stage1_unit1_conv1'\u001b[0m\u001b[0;34m]\u001b[0m\u001b[0;34m[\u001b[0m\u001b[0;36m1\u001b[0m\u001b[0;34m]\u001b[0m\u001b[0;34m.\u001b[0m\u001b[0mdata\u001b[0m\u001b[0;34m\u001b[0m\u001b[0m\n\u001b[1;32m      4\u001b[0m \u001b[0;34m\u001b[0m\u001b[0m\n\u001b[0;32m----> 5\u001b[0;31m \u001b[0mmean\u001b[0m \u001b[0;34m=\u001b[0m \u001b[0ma\u001b[0m\u001b[0;34m.\u001b[0m\u001b[0mNet\u001b[0m\u001b[0;34m.\u001b[0m\u001b[0mparams\u001b[0m\u001b[0;34m[\u001b[0m\u001b[0;34m'stage1_unit1_bn1'\u001b[0m\u001b[0;34m]\u001b[0m\u001b[0;34m[\u001b[0m\u001b[0;36m0\u001b[0m\u001b[0;34m]\u001b[0m\u001b[0;34m.\u001b[0m\u001b[0mdata\u001b[0m\u001b[0;34m\u001b[0m\u001b[0m\n\u001b[0m\u001b[1;32m      6\u001b[0m \u001b[0mvar\u001b[0m \u001b[0;34m=\u001b[0m \u001b[0ma\u001b[0m\u001b[0;34m.\u001b[0m\u001b[0mNet\u001b[0m\u001b[0;34m.\u001b[0m\u001b[0mparams\u001b[0m\u001b[0;34m[\u001b[0m\u001b[0;34m'stage1_unit1_bn1'\u001b[0m\u001b[0;34m]\u001b[0m\u001b[0;34m[\u001b[0m\u001b[0;36m1\u001b[0m\u001b[0;34m]\u001b[0m\u001b[0;34m.\u001b[0m\u001b[0mdata\u001b[0m\u001b[0;34m\u001b[0m\u001b[0m\n\u001b[1;32m      7\u001b[0m \u001b[0mscalef\u001b[0m \u001b[0;34m=\u001b[0m \u001b[0ma\u001b[0m\u001b[0;34m.\u001b[0m\u001b[0mNet\u001b[0m\u001b[0;34m.\u001b[0m\u001b[0mparams\u001b[0m\u001b[0;34m[\u001b[0m\u001b[0;34m'stage1_unit1_bn1'\u001b[0m\u001b[0;34m]\u001b[0m\u001b[0;34m[\u001b[0m\u001b[0;36m2\u001b[0m\u001b[0;34m]\u001b[0m\u001b[0;34m.\u001b[0m\u001b[0mdata\u001b[0m\u001b[0;34m[\u001b[0m\u001b[0;36m0\u001b[0m\u001b[0;34m]\u001b[0m\u001b[0;34m\u001b[0m\u001b[0m\n",
      "\u001b[0;31mKeyError\u001b[0m: 'stage1_unit1_bn1'"
     ]
    }
   ],
   "source": [
    "wt = a.Net.params['stage1_unit1_conv1'][0].data\n",
    "channels = wt.shape[0]\n",
    "bias = a.Net.params['stage1_unit1_conv1'][1].data\n",
    "\n",
    "mean = a.Net.params['stage1_unit1_bn1'][0].data\n",
    "var = a.Net.params['stage1_unit1_bn1'][1].data\n",
    "scalef = a.Net.params['stage1_unit1_bn1'][2].data[0]\n",
    "\n",
    "scales = a.Net.params['stage1_unit1_bn1_scale'][0].data\n",
    "shift = a.Net.params['stage1_unit1_conv1'][1].data\n",
    "\n",
    "rstd = 1. / np.sqrt(var + 2e-5)\n",
    "rstd1 = rstd.reshape((channels,1,1,1))\n",
    "scales1 = scales.reshape((channels,1,1,1))"
   ]
  },
  {
   "cell_type": "code",
   "execution_count": 17,
   "metadata": {},
   "outputs": [],
   "source": [
    "tmp = shift-scales*mean*rstd"
   ]
  },
  {
   "cell_type": "code",
   "execution_count": 18,
   "metadata": {},
   "outputs": [],
   "source": [
    "tmp1=tmp.reshape((channels,1,1,1))*np.ones(wt.shape)"
   ]
  },
  {
   "cell_type": "code",
   "execution_count": 19,
   "metadata": {},
   "outputs": [],
   "source": [
    "#bias_new = np.einsum('ijkl,ijkl->i', tmp1, wt) + bias\n",
    "bias_new = np.sum(np.sum(np.sum(wt, axis=3),axis=2),axis=1) * tmp + bias\n",
    "wt_new = wt * rstd1 * scales1"
   ]
  },
  {
   "cell_type": "code",
   "execution_count": 19,
   "metadata": {},
   "outputs": [
    {
     "data": {
      "text/plain": [
       "(64, 64, 3, 3)"
      ]
     },
     "execution_count": 19,
     "metadata": {},
     "output_type": "execute_result"
    }
   ],
   "source": [
    "tmp1.shape"
   ]
  },
  {
   "cell_type": "code",
   "execution_count": 18,
   "metadata": {},
   "outputs": [
    {
     "data": {
      "text/plain": [
       "(64,)"
      ]
     },
     "execution_count": 18,
     "metadata": {},
     "output_type": "execute_result"
    }
   ],
   "source": [
    "np.sum(np.sum(np.sum(wt, axis=3),axis=2),axis=1)"
   ]
  },
  {
   "cell_type": "code",
   "execution_count": 14,
   "metadata": {},
   "outputs": [],
   "source": [
    "wt_new = wt * rstd1 * scales1"
   ]
  },
  {
   "cell_type": "code",
   "execution_count": 15,
   "metadata": {},
   "outputs": [
    {
     "data": {
      "text/plain": [
       "(64, 64, 3, 3)"
      ]
     },
     "execution_count": 15,
     "metadata": {},
     "output_type": "execute_result"
    }
   ],
   "source": [
    "wt.shape"
   ]
  },
  {
   "cell_type": "code",
   "execution_count": 35,
   "metadata": {},
   "outputs": [
    {
     "data": {
      "text/plain": [
       "array([-0.00614037, -0.00019757,  0.0182594 ,  0.00323142,  0.00164947,\n",
       "        0.00092009, -0.00069302,  0.00161118,  0.02869555,  0.00629693,\n",
       "        0.00611848,  0.00751708, -0.00089743,  0.00147709,  0.00155369,\n",
       "        0.00346442, -0.00290098, -0.00630093,  0.01585077,  0.00115095,\n",
       "        0.00226032, -0.00269414,  0.0035591 , -0.00784001,  0.00801849,\n",
       "       -0.00493009,  0.01586307, -0.00801497,  0.04161402,  0.00365611,\n",
       "        0.007454  ,  0.00985627,  0.00170759,  0.022282  , -0.00011192,\n",
       "        0.00045233,  0.00345681, -0.0005552 ,  0.00541148, -0.00021673,\n",
       "        0.00223887,  0.05846218,  0.00141648, -0.0207582 ,  0.0017471 ,\n",
       "        0.03038315,  0.0125518 ,  0.00099183,  0.00877059,  0.01589585,\n",
       "        0.0038105 ,  0.00152228, -0.00064606,  0.00010834,  0.00504958,\n",
       "        0.00175132,  0.00312565,  0.00559712,  0.0013948 ,  0.00075024,\n",
       "        0.00406455,  0.00059152,  0.01262389, -0.0031825 ])"
      ]
     },
     "execution_count": 35,
     "metadata": {},
     "output_type": "execute_result"
    }
   ],
   "source": [
    "np.einsum('ijkl,ijkl->i', tmp1, wt)"
   ]
  },
  {
   "cell_type": "code",
   "execution_count": 6,
   "metadata": {},
   "outputs": [],
   "source": [
    "import scipy"
   ]
  },
  {
   "cell_type": "code",
   "execution_count": 7,
   "metadata": {},
   "outputs": [
    {
     "ename": "NameError",
     "evalue": "name 'wt' is not defined",
     "output_type": "error",
     "traceback": [
      "\u001b[0;31m---------------------------------------------------------------------------\u001b[0m",
      "\u001b[0;31mNameError\u001b[0m                                 Traceback (most recent call last)",
      "\u001b[0;32m<ipython-input-7-fa708e5e7267>\u001b[0m in \u001b[0;36m<module>\u001b[0;34m()\u001b[0m\n\u001b[0;32m----> 1\u001b[0;31m \u001b[0mtmp_new\u001b[0m \u001b[0;34m=\u001b[0m \u001b[0mnp\u001b[0m\u001b[0;34m.\u001b[0m\u001b[0mzeros\u001b[0m\u001b[0;34m(\u001b[0m\u001b[0mwt\u001b[0m\u001b[0;34m.\u001b[0m\u001b[0mshape\u001b[0m\u001b[0;34m[\u001b[0m\u001b[0;36m0\u001b[0m\u001b[0;34m:\u001b[0m\u001b[0;36m2\u001b[0m\u001b[0;34m]\u001b[0m\u001b[0;34m)\u001b[0m\u001b[0;34m\u001b[0m\u001b[0m\n\u001b[0m\u001b[1;32m      2\u001b[0m \u001b[0;32mfor\u001b[0m \u001b[0mi\u001b[0m \u001b[0;32min\u001b[0m \u001b[0mrange\u001b[0m\u001b[0;34m(\u001b[0m\u001b[0mwt\u001b[0m\u001b[0;34m.\u001b[0m\u001b[0mshape\u001b[0m\u001b[0;34m[\u001b[0m\u001b[0;36m0\u001b[0m\u001b[0;34m]\u001b[0m\u001b[0;34m)\u001b[0m\u001b[0;34m:\u001b[0m\u001b[0;34m\u001b[0m\u001b[0m\n\u001b[1;32m      3\u001b[0m     \u001b[0;32mfor\u001b[0m \u001b[0mj\u001b[0m \u001b[0;32min\u001b[0m \u001b[0mrange\u001b[0m\u001b[0;34m(\u001b[0m\u001b[0mwt\u001b[0m\u001b[0;34m.\u001b[0m\u001b[0mshape\u001b[0m\u001b[0;34m[\u001b[0m\u001b[0;36m1\u001b[0m\u001b[0;34m]\u001b[0m\u001b[0;34m)\u001b[0m\u001b[0;34m:\u001b[0m\u001b[0;34m\u001b[0m\u001b[0m\n\u001b[1;32m      4\u001b[0m         \u001b[0mtmp_new\u001b[0m\u001b[0;34m[\u001b[0m\u001b[0mi\u001b[0m\u001b[0;34m,\u001b[0m\u001b[0mj\u001b[0m\u001b[0;34m]\u001b[0m \u001b[0;34m=\u001b[0m \u001b[0mnp\u001b[0m\u001b[0;34m.\u001b[0m\u001b[0msum\u001b[0m\u001b[0;34m(\u001b[0m\u001b[0mscipy\u001b[0m\u001b[0;34m.\u001b[0m\u001b[0msignal\u001b[0m\u001b[0;34m.\u001b[0m\u001b[0mconvolve2d\u001b[0m\u001b[0;34m(\u001b[0m\u001b[0mtmp1\u001b[0m\u001b[0;34m[\u001b[0m\u001b[0mi\u001b[0m\u001b[0;34m,\u001b[0m\u001b[0mj\u001b[0m\u001b[0;34m,\u001b[0m\u001b[0;34m.\u001b[0m\u001b[0;34m.\u001b[0m\u001b[0;34m.\u001b[0m\u001b[0;34m]\u001b[0m\u001b[0;34m,\u001b[0m\u001b[0mwt\u001b[0m\u001b[0;34m[\u001b[0m\u001b[0mi\u001b[0m\u001b[0;34m,\u001b[0m\u001b[0mj\u001b[0m\u001b[0;34m,\u001b[0m\u001b[0;34m.\u001b[0m\u001b[0;34m.\u001b[0m\u001b[0;34m.\u001b[0m\u001b[0;34m]\u001b[0m\u001b[0;34m,\u001b[0m\u001b[0mmode\u001b[0m\u001b[0;34m=\u001b[0m\u001b[0;34m'same'\u001b[0m\u001b[0;34m)\u001b[0m\u001b[0;34m)\u001b[0m\u001b[0;34m\u001b[0m\u001b[0m\n",
      "\u001b[0;31mNameError\u001b[0m: name 'wt' is not defined"
     ]
    }
   ],
   "source": [
    "tmp_new = np.zeros(wt.shape[0:2])\n",
    "for i in range(wt.shape[0]):\n",
    "    for j in range(wt.shape[1]):\n",
    "        tmp_new[i,j] = np.sum(scipy.signal.convolve2d(tmp1[i,j,...],wt[i,j,...],mode='same'))"
   ]
  },
  {
   "cell_type": "code",
   "execution_count": 4,
   "metadata": {},
   "outputs": [
    {
     "ename": "NameError",
     "evalue": "name 'tmp_new' is not defined",
     "output_type": "error",
     "traceback": [
      "\u001b[0;31m---------------------------------------------------------------------------\u001b[0m",
      "\u001b[0;31mNameError\u001b[0m                                 Traceback (most recent call last)",
      "\u001b[0;32m<ipython-input-4-0a3e6133ee6c>\u001b[0m in \u001b[0;36m<module>\u001b[0;34m()\u001b[0m\n\u001b[0;32m----> 1\u001b[0;31m \u001b[0mtmp_new\u001b[0m\u001b[0;34m\u001b[0m\u001b[0m\n\u001b[0m",
      "\u001b[0;31mNameError\u001b[0m: name 'tmp_new' is not defined"
     ]
    }
   ],
   "source": [
    "tmp_new"
   ]
  },
  {
   "cell_type": "code",
   "execution_count": 50,
   "metadata": {},
   "outputs": [],
   "source": [
    "wt = a.Net.params['out_fc1'][0].data\n",
    "bias = a.Net.params['out_fc1'][1].data\n",
    "channels = wt.shape[0]\n",
    "\n",
    "mean = a.Net.params['out_embedding'][0].data\n",
    "var = a.Net.params['out_embedding'][1].data\n",
    "scalef = a.Net.params['out_embedding'][2].data[0]\n",
    "\n",
    "scales = a.Net.params['out_embedding_scale'][0].data\n",
    "shift = a.Net.params['out_embedding_scale'][1].data\n",
    "\n",
    "rstd = 1. / np.sqrt(var + 2e-5)\n",
    "rstd1 = rstd.reshape((channels,1))\n",
    "scales1 = scales.reshape((channels,1))"
   ]
  },
  {
   "cell_type": "code",
   "execution_count": 51,
   "metadata": {},
   "outputs": [],
   "source": [
    "wt_new = wt * rstd1 * scales1"
   ]
  },
  {
   "cell_type": "code",
   "execution_count": 52,
   "metadata": {},
   "outputs": [],
   "source": [
    "bias_new = (bias - mean) * rstd * scales + shift"
   ]
  },
  {
   "cell_type": "code",
   "execution_count": 54,
   "metadata": {},
   "outputs": [
    {
     "data": {
      "text/plain": [
       "(512, 25088)"
      ]
     },
     "execution_count": 54,
     "metadata": {},
     "output_type": "execute_result"
    }
   ],
   "source": [
    "wt_new.shape"
   ]
  },
  {
   "cell_type": "code",
   "execution_count": null,
   "metadata": {},
   "outputs": [],
   "source": []
  }
 ],
 "metadata": {
  "kernelspec": {
   "display_name": "Python 2",
   "language": "python",
   "name": "python2"
  },
  "language_info": {
   "codemirror_mode": {
    "name": "ipython",
    "version": 2
   },
   "file_extension": ".py",
   "mimetype": "text/x-python",
   "name": "python",
   "nbconvert_exporter": "python",
   "pygments_lexer": "ipython2",
   "version": "2.7.12"
  }
 },
 "nbformat": 4,
 "nbformat_minor": 2
}
