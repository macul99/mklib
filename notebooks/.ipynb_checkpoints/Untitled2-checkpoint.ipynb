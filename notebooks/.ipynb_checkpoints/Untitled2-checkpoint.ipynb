{
 "cells": [
  {
   "cell_type": "code",
   "execution_count": null,
   "metadata": {},
   "outputs": [],
   "source": [
    "import tensorflow as tf\n",
    "import numpy as np\n",
    "import os\n",
    "os.environ[\"CUDA_VISIBLE_DEVICES\"] = \"0,\"\n",
    "from os.path import isdir\n",
    "from os import mkdir\n",
    "from shutil import copyfile\n",
    "import time\n",
    "from PIL import Image\n",
    "import pickle\n",
    "from spoofing_ld.TfSpoofLd import TfSpoofLd\n",
    "from mklib.nn.tfnet.tfresnet import TfResNet\n",
    "from tensorflow.keras.regularizers import l1, l2\n",
    "\n",
    "Initializer = tf.contrib.layers.xavier_initializer(uniform=False)\n",
    "Regularizer = l2(5e-4)\n",
    "Activation = tf.nn.relu\n",
    "\n",
    "pb_path = '/home/macul/libraries/mk_utils/spoofing_ld/clf.pb'"
   ]
  },
  {
   "cell_type": "code",
   "execution_count": null,
   "metadata": {},
   "outputs": [],
   "source": [
    "img_ph = tf.placeholder(name='data',shape=[1,224,224,3], dtype=tf.float32)\n",
    "img_ph1 = tf.placeholder(name='data1',shape=[1,224,224,3], dtype=tf.float32)\n",
    "\n",
    "act3_1= TfResNet.build_modules(img_ph, 512, [1,1,1,1,1], [8,8,8,16,16,8], training=True, initializer=Initializer, scope='test1')\n",
    "act3_2= TfResNet.build_modules(img_ph, 512, [1,1,1,1,1], [8,8,8,16,16,8], training=True, initializer=Initializer, scope='test1', reuse=True)\n",
    "act3=tf.concat([act3_1,act3_2],3)\n",
    "\n",
    "act3_3=tf.layers.conv2d( inputs=act3, padding='same', kernel_size=(3, 3), strides=(2, 2), filters=32,use_bias=False, name='stem_conv1')\n",
    "act3_4=tf.layers.conv2d( inputs=act3_3, padding='same', kernel_size=(3, 3), strides=(2, 2), filters=32,use_bias=False, name='stem_conv2')"
   ]
  },
  {
   "cell_type": "code",
   "execution_count": null,
   "metadata": {},
   "outputs": [],
   "source": [
    "with tf.Session() as sess:\n",
    "    sess.run(tf.global_variables_initializer())\n",
    "    act = sess.run(act3_4, feed_dict={img_ph: np.random.rand(1,224,224,3),img_ph1: np.random.rand(1,224,224,3)})\n",
    "    \n",
    "print(act.shape)"
   ]
  },
  {
   "cell_type": "code",
   "execution_count": null,
   "metadata": {},
   "outputs": [],
   "source": [
    "img_ph = tf.placeholder(name='data',shape=[1,112,112,3], dtype=tf.float32)\n",
    "\n",
    "embedding0, act2_1= TfResNet.build_embedding(img_ph, 512, [3], [64,32], training=True, initializer=Initializer, scope='test1')"
   ]
  },
  {
   "cell_type": "code",
   "execution_count": null,
   "metadata": {},
   "outputs": [],
   "source": [
    "with tf.Session() as sess:\n",
    "    sess.run(tf.global_variables_initializer())\n",
    "    emb,act2 = sess.run([embedding0,act2_1], feed_dict={img_ph: np.random.rand(1,112,112,3)})"
   ]
  },
  {
   "cell_type": "code",
   "execution_count": null,
   "metadata": {},
   "outputs": [],
   "source": [
    "print(emb[0],act2)"
   ]
  },
  {
   "cell_type": "code",
   "execution_count": null,
   "metadata": {},
   "outputs": [],
   "source": [
    "img_ph1 = tf.placeholder(name='data1',shape=[1,112,112,3], dtype=tf.float32)\n",
    "label_ph1 = tf.placeholder(name='label1',shape=[1,], dtype=tf.int64)\n",
    "loss_type='softmax'\n",
    "if loss_type=='softmax':\n",
    "    config = {'Regularizer': Regularizer, 'Activation': Activation}\n",
    "else:\n",
    "    config = {'Arc_margin_scale': 64.0, 'Arc_margin_angle': 0.0}\n",
    "\n",
    "embedding, logit, inference_loss, pred, acc  = TfResNet.build_with_loss(img_ph1, label_ph1, 3, 128, [3], [64,32], training=True, loss_type=loss_type, loss_config=config, initializer=Initializer, scope='test2')"
   ]
  },
  {
   "cell_type": "code",
   "execution_count": null,
   "metadata": {},
   "outputs": [],
   "source": [
    "with tf.Session() as sess:\n",
    "    sess.run(tf.global_variables_initializer())\n",
    "    embedding1, logit1, inference_loss1, pred1, acc1 = sess.run([embedding, logit, inference_loss, pred, acc], feed_dict={img_ph1: np.random.rand(1,112,112,3), label_ph1:[2]})"
   ]
  },
  {
   "cell_type": "code",
   "execution_count": null,
   "metadata": {},
   "outputs": [],
   "source": [
    "print(embedding1, logit1, inference_loss1, pred1, acc1)"
   ]
  },
  {
   "cell_type": "code",
   "execution_count": null,
   "metadata": {},
   "outputs": [],
   "source": []
  },
  {
   "cell_type": "code",
   "execution_count": null,
   "metadata": {},
   "outputs": [],
   "source": [
    "label_ph2 = tf.placeholder(name='label2',shape=[3,], dtype=tf.int64)\n",
    "label_ph3 = tf.placeholder(name='label3',shape=[3,], dtype=tf.int64)\n",
    "\n",
    "label_x = tf.cast(tf.equal(label_ph2,label_ph3), tf.int64)"
   ]
  },
  {
   "cell_type": "code",
   "execution_count": null,
   "metadata": {},
   "outputs": [],
   "source": [
    "with tf.Session() as sess:\n",
    "    lb = sess.run(label_x, feed_dict={label_ph2:[1,1,1], label_ph3:[1,0,2]})\n",
    "print(lb)"
   ]
  },
  {
   "cell_type": "code",
   "execution_count": null,
   "metadata": {},
   "outputs": [],
   "source": [
    "img_ph1 = tf.placeholder(name='data1',shape=[2,112,112,3], dtype=tf.float32)\n",
    "img = tf.image.resize_bilinear(img_ph1, (64, 64))\n",
    "with tf.Session() as sess:\n",
    "    emb= sess.run(img, feed_dict={img_ph1: np.random.rand(2,112,112,3)})\n",
    "print(emb.shape)"
   ]
  },
  {
   "cell_type": "code",
   "execution_count": null,
   "metadata": {},
   "outputs": [],
   "source": [
    "mask = np.ones([1,112,112,3])\n",
    "mask[0,0:10,0:10,:] = 0\n",
    "mask_tf=tf.convert_to_tensor(mask, dtype=tf.float32)\n",
    "\n",
    "img_ph1 = tf.placeholder(name='data1',shape=[1,112,112,3], dtype=tf.float32)\n",
    "img_mask = tf.multiply(mask_tf, img_ph1)\n",
    "with tf.Session() as sess:\n",
    "    emb= sess.run(img_mask, feed_dict={img_ph1: np.random.rand(1,112,112,3)})\n",
    "print(mask_tf.dtype)"
   ]
  },
  {
   "cell_type": "code",
   "execution_count": null,
   "metadata": {},
   "outputs": [],
   "source": [
    "def img_fill_center(img, fill_value=127, ratio_h=0.4, ratio_w=0.35):\n",
    "\n",
    "    def fill_c(img, fill_value, ratio_h, ratio_w):\n",
    "        im = img.copy()\n",
    "        b,h,w,c = img.shape\n",
    "        cp_h = int(h*ratio_h)\n",
    "        cp_w = int(w*ratio_w)\n",
    "        cp_x = int((w-cp_w)/2)\n",
    "        cp_y = int((h-cp_h)/2)\n",
    "        im[:,cp_y:cp_y+cp_h,cp_x:cp_x+cp_w,:] = fill_value\n",
    "\n",
    "        return im\n",
    "\n",
    "    return tf.cast(tf.py_func(fill_c, [img, fill_value, ratio_h, ratio_w], tf.float32),tf.float32)\n",
    "\n",
    "a=np.random.rand(1,112,112,3)\n",
    "img_ph1 = tf.placeholder(name='data1',shape=[1,112,112,3], dtype=tf.float32)\n",
    "img_mask=img_fill_center(img_ph1)\n",
    "with tf.Session() as sess:\n",
    "    emb= sess.run(img_mask, feed_dict={img_ph1: a})\n",
    "print(np.sum(emb==127))"
   ]
  },
  {
   "cell_type": "code",
   "execution_count": null,
   "metadata": {},
   "outputs": [],
   "source": [
    "print(emb[0,33,:,0])"
   ]
  },
  {
   "cell_type": "code",
   "execution_count": null,
   "metadata": {},
   "outputs": [],
   "source": [
    "a = np.ones([1,112,112,3])\n",
    "a[0,0:10,0:10,:] = 0\n",
    "at=tf.convert_to_tensor(a)\n",
    "with tf.Session() as sess:\n",
    "    emb= sess.run(at)\n",
    "print(emb)"
   ]
  },
  {
   "cell_type": "code",
   "execution_count": null,
   "metadata": {},
   "outputs": [],
   "source": [
    "a=100\n",
    "b=tf.cast(a,tf.int64)\n",
    "with tf.Session() as sess:\n",
    "    bb = sess.run(b)\n",
    "print(bb)"
   ]
  },
  {
   "cell_type": "code",
   "execution_count": null,
   "metadata": {},
   "outputs": [],
   "source": [
    "tfSpoofLd = TfSpoofLd()"
   ]
  },
  {
   "cell_type": "code",
   "execution_count": null,
   "metadata": {},
   "outputs": [],
   "source": [
    "sess, lines_in, pred_out, names, graph_nodes = tfSpoofLd.load_pb(pb_path)"
   ]
  },
  {
   "cell_type": "code",
   "execution_count": null,
   "metadata": {},
   "outputs": [],
   "source": [
    "prediction = tfSpoofLd.eval(sess, lines_in, pred_out)\n",
    "print(prediction)"
   ]
  },
  {
   "cell_type": "code",
   "execution_count": null,
   "metadata": {},
   "outputs": [],
   "source": [
    "print(nodes)"
   ]
  },
  {
   "cell_type": "code",
   "execution_count": null,
   "metadata": {},
   "outputs": [],
   "source": [
    "print(names)"
   ]
  },
  {
   "cell_type": "code",
   "execution_count": null,
   "metadata": {},
   "outputs": [],
   "source": [
    "np.random.rand(1,2)"
   ]
  },
  {
   "cell_type": "code",
   "execution_count": null,
   "metadata": {},
   "outputs": [],
   "source": [
    "a=np.array([[[[9.999995e-01, 5.332333e-07]]]])"
   ]
  },
  {
   "cell_type": "code",
   "execution_count": null,
   "metadata": {},
   "outputs": [],
   "source": [
    "a.shape"
   ]
  },
  {
   "cell_type": "code",
   "execution_count": null,
   "metadata": {},
   "outputs": [],
   "source": [
    "np.squeeze(a)"
   ]
  },
  {
   "cell_type": "code",
   "execution_count": null,
   "metadata": {},
   "outputs": [],
   "source": [
    "a_ph = tf.placeholder(name='a',shape=[2,3], dtype=tf.int64)\n",
    "b_ph = tf.placeholder(name='b',shape=[2,1], dtype=tf.int64)\n",
    "c=tf.multiply(b_ph,a_ph)"
   ]
  },
  {
   "cell_type": "code",
   "execution_count": null,
   "metadata": {},
   "outputs": [],
   "source": [
    "with tf.Session() as sess:\n",
    "    rst = sess.run(c, feed_dict={a_ph: np.array([[1,1,1],[1,1,1]]), b_ph: np.array([[0],[1]])})\n",
    "    print(rst)"
   ]
  },
  {
   "cell_type": "code",
   "execution_count": null,
   "metadata": {},
   "outputs": [],
   "source": []
  }
 ],
 "metadata": {
  "kernelspec": {
   "display_name": "Python 3",
   "language": "python",
   "name": "python3"
  },
  "language_info": {
   "codemirror_mode": {
    "name": "ipython",
    "version": 3
   },
   "file_extension": ".py",
   "mimetype": "text/x-python",
   "name": "python",
   "nbconvert_exporter": "python",
   "pygments_lexer": "ipython3",
   "version": "3.5.2"
  }
 },
 "nbformat": 4,
 "nbformat_minor": 2
}
