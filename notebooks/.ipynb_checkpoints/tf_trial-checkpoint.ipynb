{
 "cells": [
  {
   "cell_type": "code",
   "execution_count": 1,
   "metadata": {},
   "outputs": [],
   "source": [
    "import tensorflow as tf\n",
    "import numpy as np"
   ]
  },
  {
   "cell_type": "code",
   "execution_count": 17,
   "metadata": {},
   "outputs": [],
   "source": [
    "with tf.device('/cpu:0'):\n",
    "    label = tf.Variable([1,2,3])"
   ]
  },
  {
   "cell_type": "code",
   "execution_count": 16,
   "metadata": {},
   "outputs": [
    {
     "name": "stdout",
     "output_type": "stream",
     "text": [
      "[1 2 3]\n",
      "3\n",
      "[0 1 2]\n",
      "[[0 1]\n",
      " [1 2]\n",
      " [2 3]]\n"
     ]
    }
   ],
   "source": [
    "init_op = tf.global_variables_initializer()\n",
    "num_classes = 10\n",
    "# Launch the graph in a session.\n",
    "with tf.Session() as sess:\n",
    "    # Run the Op that initializes global variables.\n",
    "    indices = []\n",
    "    for i in range(num_classes):\n",
    "        indices.append(range(i) + range(i + 1, num_classes))\n",
    "    _js = tf.constant(indices, dtype=tf.int32)\n",
    "    \n",
    "    sess.run(init_op)\n",
    "    print(label.eval())\n",
    "    batch_size = tf.shape(label)[0]\n",
    "    print(batch_size.eval())\n",
    "    i = tf.range(batch_size, dtype=tf.int32)\n",
    "    print(i.eval())\n",
    "    correct_idx = tf.stack([i, tf.cast(a, tf.int32)], axis=1)\n",
    "    print(correct_idx.eval())\n",
    "    \n",
    "    wrong_idx = tf.stack([\n",
    "        tf.tile(tf.reshape(i, [batch_size, 1]), [1, self._num_classes - 1]),\n",
    "        tf.gather(_js, label),\n",
    "    ], axis=2)"
   ]
  },
  {
   "cell_type": "code",
   "execution_count": null,
   "metadata": {},
   "outputs": [],
   "source": []
  }
 ],
 "metadata": {
  "kernelspec": {
   "display_name": "Python 3",
   "language": "python",
   "name": "python3"
  },
  "language_info": {
   "codemirror_mode": {
    "name": "ipython",
    "version": 3
   },
   "file_extension": ".py",
   "mimetype": "text/x-python",
   "name": "python",
   "nbconvert_exporter": "python",
   "pygments_lexer": "ipython3",
   "version": "3.5.2"
  }
 },
 "nbformat": 4,
 "nbformat_minor": 2
}
