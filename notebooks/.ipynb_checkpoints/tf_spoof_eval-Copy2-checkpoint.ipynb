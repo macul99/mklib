{
 "cells": [
  {
   "cell_type": "code",
   "execution_count": 1,
   "metadata": {},
   "outputs": [],
   "source": [
    "import tensorflow as tf\n",
    "import numpy as np\n",
    "import os\n",
    "from os.path import isdir\n",
    "from os import mkdir\n",
    "from shutil import copyfile\n",
    "import time\n",
    "from PIL import Image\n",
    "import pickle\n",
    "from spoofing_lbp.SpoofDspTf import SpoofDspTf\n",
    "from tf_spoof.config import net_config as config\n",
    "config.BASE_PATH = '/media/macul/black/spoof_db/train_test_all/tfrecord'\n",
    "config.CFG_PATH = '/home/macul/libraries/mk_utils/tf_spoof/config'\n",
    "config.OUT_PATH = '/home/macul/libraries/mk_utils/tf_spoof/output'\n",
    "config.TRAIN_REC = os.path.sep.join([config.BASE_PATH, \"train.tfrecords\"])\n",
    "config.VAL_REC = os.path.sep.join([config.BASE_PATH, \"validation.tfrecords\"])"
   ]
  },
  {
   "cell_type": "code",
   "execution_count": 2,
   "metadata": {},
   "outputs": [],
   "source": [
    "os.environ[\"CUDA_VISIBLE_DEVICES\"] = config.DEVICE_IDS\n",
    "#batchSize = config.BATCH_SIZE * config.NUM_DEVICES"
   ]
  },
  {
   "cell_type": "code",
   "execution_count": 3,
   "metadata": {},
   "outputs": [
    {
     "data": {
      "text/plain": [
       "'/home/macul/libraries/mk_utils/tf_spoof/output/train_5/net_config_0.py'"
      ]
     },
     "execution_count": 3,
     "metadata": {},
     "output_type": "execute_result"
    }
   ],
   "source": [
    "SpoofVal = SpoofDspTf(config)\n",
    "\n",
    "# backup net_config file\n",
    "copyfile(config.CFG_PATH+'/net_config.py', os.path.sep.join([SpoofVal.checkpointsPath,'net_config_{}.py'.format(0)]))"
   ]
  },
  {
   "cell_type": "code",
   "execution_count": null,
   "metadata": {
    "scrolled": false
   },
   "outputs": [
    {
     "name": "stdout",
     "output_type": "stream",
     "text": [
      "Training: epoch 0, total_step 10, inference loss is 6.31, accuracy is 0.437500, time 14.327 samples/sec\n",
      "Training: epoch 0, total_step 20, inference loss is 3.77, accuracy is 0.546875, time 12.889 samples/sec\n",
      "Training: epoch 0, total_step 30, inference loss is 2.68, accuracy is 0.578125, time 14.255 samples/sec\n",
      "Training: epoch 0, total_step 40, inference loss is 2.15, accuracy is 0.570312, time 14.177 samples/sec\n",
      "Training: epoch 0, total_step 50, inference loss is 1.69, accuracy is 0.593750, time 12.964 samples/sec\n",
      "Training: epoch 0, total_step 60, inference loss is 1.64, accuracy is 0.523438, time 15.654 samples/sec\n",
      "Training: epoch 0, total_step 70, inference loss is 1.00, accuracy is 0.570312, time 14.908 samples/sec\n",
      "Training: epoch 0, total_step 80, inference loss is 1.11, accuracy is 0.546875, time 14.147 samples/sec\n",
      "Training: epoch 0, total_step 90, inference loss is 0.95, accuracy is 0.539062, time 14.064 samples/sec\n",
      "Training: epoch 0, total_step 100, inference loss is 0.87, accuracy is 0.570312, time 14.602 samples/sec\n",
      "Training: epoch 0, total_step 110, inference loss is 0.94, accuracy is 0.601562, time 12.647 samples/sec\n",
      "Training: epoch 0, total_step 120, inference loss is 1.05, accuracy is 0.507812, time 14.537 samples/sec\n",
      "Training: epoch 0, total_step 130, inference loss is 1.03, accuracy is 0.539062, time 14.844 samples/sec\n",
      "Training: epoch 0, total_step 140, inference loss is 0.91, accuracy is 0.632812, time 13.449 samples/sec\n",
      "Training: epoch 0, total_step 150, inference loss is 0.92, accuracy is 0.617188, time 16.911 samples/sec\n",
      "Training: epoch 0, total_step 160, inference loss is 0.91, accuracy is 0.585938, time 14.025 samples/sec\n",
      "Training: epoch 0, total_step 170, inference loss is 0.90, accuracy is 0.578125, time 15.354 samples/sec\n",
      "Training: epoch 0, total_step 180, inference loss is 0.88, accuracy is 0.609375, time 13.962 samples/sec\n",
      "Training: epoch 0, total_step 190, inference loss is 1.03, accuracy is 0.539062, time 14.762 samples/sec\n",
      "Training: epoch 0, total_step 200, inference loss is 0.81, accuracy is 0.679688, time 13.236 samples/sec\n",
      "Training: epoch 0, total_step 210, inference loss is 0.98, accuracy is 0.500000, time 14.154 samples/sec\n",
      "Training: epoch 0, total_step 220, inference loss is 0.69, accuracy is 0.718750, time 14.838 samples/sec\n",
      "Training: epoch 0, total_step 230, inference loss is 0.92, accuracy is 0.562500, time 12.856 samples/sec\n",
      "Training: epoch 0, total_step 240, inference loss is 0.79, accuracy is 0.632812, time 12.291 samples/sec\n",
      "Training: epoch 0, total_step 250, inference loss is 0.85, accuracy is 0.625000, time 14.511 samples/sec\n",
      "Training: epoch 0, total_step 260, inference loss is 0.82, accuracy is 0.664062, time 16.178 samples/sec\n",
      "Training: epoch 0, total_step 270, inference loss is 0.88, accuracy is 0.656250, time 12.527 samples/sec\n",
      "Training: epoch 0, total_step 280, inference loss is 0.79, accuracy is 0.671875, time 14.008 samples/sec\n",
      "Training: epoch 0, total_step 290, inference loss is 0.99, accuracy is 0.546875, time 11.809 samples/sec\n",
      "Training: epoch 0, total_step 300, inference loss is 0.90, accuracy is 0.554688, time 15.341 samples/sec\n",
      "Training: epoch 0, total_step 310, inference loss is 0.74, accuracy is 0.734375, time 16.918 samples/sec\n",
      "Training: epoch 0, total_step 320, inference loss is 0.84, accuracy is 0.593750, time 12.619 samples/sec\n",
      "Training: epoch 0, total_step 330, inference loss is 0.81, accuracy is 0.625000, time 13.621 samples/sec\n",
      "Training: epoch 0, total_step 340, inference loss is 0.77, accuracy is 0.625000, time 14.055 samples/sec\n",
      "Training: epoch 0, total_step 350, inference loss is 0.80, accuracy is 0.656250, time 13.793 samples/sec\n",
      "Training: epoch 0, total_step 360, inference loss is 0.79, accuracy is 0.640625, time 12.901 samples/sec\n",
      "Training: epoch 0, total_step 370, inference loss is 0.68, accuracy is 0.710938, time 14.446 samples/sec\n",
      "Training: epoch 0, total_step 380, inference loss is 0.78, accuracy is 0.632812, time 17.212 samples/sec\n",
      "End of epoch 0\n",
      "######### Save checkpoint: /home/macul/libraries/mk_utils/tf_spoof/output/train_5/train_5_0.ckpt\n",
      "$$$$$$$$ Validation: epoch 0, accuracy is 0.254935\n",
      "Training: epoch 1, total_step 390, inference loss is 0.84, accuracy is 0.625000, time 12.867 samples/sec\n",
      "Training: epoch 1, total_step 400, inference loss is 0.73, accuracy is 0.710938, time 15.121 samples/sec\n",
      "Training: epoch 1, total_step 410, inference loss is 0.82, accuracy is 0.656250, time 14.377 samples/sec\n",
      "Training: epoch 1, total_step 420, inference loss is 0.76, accuracy is 0.640625, time 14.492 samples/sec\n",
      "Training: epoch 1, total_step 430, inference loss is 0.90, accuracy is 0.609375, time 12.871 samples/sec\n",
      "Training: epoch 1, total_step 440, inference loss is 0.82, accuracy is 0.625000, time 13.458 samples/sec\n",
      "Training: epoch 1, total_step 450, inference loss is 0.81, accuracy is 0.656250, time 13.622 samples/sec\n",
      "Training: epoch 1, total_step 460, inference loss is 0.87, accuracy is 0.640625, time 12.089 samples/sec\n",
      "Training: epoch 1, total_step 470, inference loss is 0.77, accuracy is 0.679688, time 15.042 samples/sec\n",
      "Training: epoch 1, total_step 480, inference loss is 0.77, accuracy is 0.656250, time 14.388 samples/sec\n",
      "Training: epoch 1, total_step 490, inference loss is 0.66, accuracy is 0.710938, time 11.224 samples/sec\n",
      "Training: epoch 1, total_step 500, inference loss is 0.78, accuracy is 0.593750, time 13.437 samples/sec\n",
      "Training: epoch 1, total_step 510, inference loss is 0.77, accuracy is 0.648438, time 14.695 samples/sec\n",
      "Training: epoch 1, total_step 520, inference loss is 0.80, accuracy is 0.679688, time 11.265 samples/sec\n",
      "Training: epoch 1, total_step 530, inference loss is 0.70, accuracy is 0.695312, time 15.459 samples/sec\n",
      "Training: epoch 1, total_step 540, inference loss is 0.73, accuracy is 0.671875, time 14.640 samples/sec\n",
      "Training: epoch 1, total_step 550, inference loss is 0.83, accuracy is 0.656250, time 14.862 samples/sec\n",
      "Training: epoch 1, total_step 560, inference loss is 0.74, accuracy is 0.718750, time 14.953 samples/sec\n",
      "Training: epoch 1, total_step 570, inference loss is 0.78, accuracy is 0.671875, time 13.247 samples/sec\n",
      "Training: epoch 1, total_step 580, inference loss is 0.81, accuracy is 0.664062, time 14.055 samples/sec\n",
      "Training: epoch 1, total_step 590, inference loss is 0.84, accuracy is 0.617188, time 16.438 samples/sec\n",
      "Training: epoch 1, total_step 600, inference loss is 0.67, accuracy is 0.703125, time 11.657 samples/sec\n",
      "Training: epoch 1, total_step 610, inference loss is 0.77, accuracy is 0.617188, time 13.243 samples/sec\n",
      "Training: epoch 1, total_step 620, inference loss is 0.79, accuracy is 0.632812, time 13.031 samples/sec\n",
      "Training: epoch 1, total_step 630, inference loss is 0.66, accuracy is 0.742188, time 12.570 samples/sec\n",
      "Training: epoch 1, total_step 640, inference loss is 0.78, accuracy is 0.656250, time 13.287 samples/sec\n",
      "Training: epoch 1, total_step 650, inference loss is 0.81, accuracy is 0.726562, time 16.386 samples/sec\n",
      "Training: epoch 1, total_step 660, inference loss is 0.86, accuracy is 0.656250, time 14.305 samples/sec\n",
      "Training: epoch 1, total_step 670, inference loss is 0.75, accuracy is 0.703125, time 14.218 samples/sec\n",
      "Training: epoch 1, total_step 680, inference loss is 0.60, accuracy is 0.757812, time 15.322 samples/sec\n",
      "Training: epoch 1, total_step 690, inference loss is 0.64, accuracy is 0.726562, time 13.370 samples/sec\n",
      "Training: epoch 1, total_step 700, inference loss is 0.68, accuracy is 0.757812, time 13.099 samples/sec\n",
      "Training: epoch 1, total_step 710, inference loss is 0.76, accuracy is 0.664062, time 12.851 samples/sec\n"
     ]
    }
   ],
   "source": [
    "SpoofVal.train_net(-1)"
   ]
  },
  {
   "cell_type": "code",
   "execution_count": null,
   "metadata": {},
   "outputs": [],
   "source": [
    "# RESTART KERNEL AND RUN FROM HERE TO DO VALIDATION"
   ]
  },
  {
   "cell_type": "code",
   "execution_count": null,
   "metadata": {},
   "outputs": [],
   "source": [
    "import tensorflow as tf\n",
    "import numpy as np\n",
    "import os\n",
    "from os.path import isdir\n",
    "from os import mkdir\n",
    "from shutil import copyfile\n",
    "import time\n",
    "from PIL import Image\n",
    "import pickle\n",
    "from spoofing_lbp.SpoofDspTf import SpoofDspTf"
   ]
  },
  {
   "cell_type": "code",
   "execution_count": null,
   "metadata": {},
   "outputs": [],
   "source": [
    "ckpt_num = 9\n",
    "prefix = 'train_1'\n",
    "import sys\n",
    "sys.path.append('/home/macul/libraries/mk_utils/tf_spoof/output/{}'.format(prefix))\n",
    "import net_config_0 as config\n",
    "config.BASE_PATH = '/media/macul/black/spoof_db/train_test_all/tfrecord'\n",
    "config.CFG_PATH = '/home/macul/libraries/mk_utils/tf_spoof/config'\n",
    "config.OUT_PATH = '/home/macul/libraries/mk_utils/tf_spoof/output'\n",
    "config.VAL_REC = os.path.sep.join([config.BASE_PATH, \"validation.tfrecords\"])\n",
    "\n",
    "SpoofVal = SpoofDspTf(config)\n",
    "\n",
    "rst_val = SpoofVal.validate_net(ckpt_num, '/home/macul/test.pkl')"
   ]
  },
  {
   "cell_type": "code",
   "execution_count": null,
   "metadata": {},
   "outputs": [],
   "source": [
    "# RESTART KERNEL AND RUN FROM HERE TO DO EVALUATION"
   ]
  },
  {
   "cell_type": "code",
   "execution_count": null,
   "metadata": {},
   "outputs": [],
   "source": [
    "import tensorflow as tf\n",
    "import numpy as np\n",
    "import os\n",
    "from os.path import isdir\n",
    "from os import mkdir\n",
    "from shutil import copyfile\n",
    "import time\n",
    "from PIL import Image\n",
    "import pickle\n",
    "from spoofing_lbp.SpoofDspTf import SpoofDspTf"
   ]
  },
  {
   "cell_type": "code",
   "execution_count": null,
   "metadata": {},
   "outputs": [],
   "source": [
    "ckpt_num = 9\n",
    "prefix = 'train_1'\n",
    "import sys\n",
    "sys.path.append('/home/macul/libraries/mk_utils/tf_spoof/output/{}'.format(prefix))\n",
    "import net_config_0 as config\n",
    "config.BASE_PATH = '/media/macul/black/spoof_db/train_test_all/tfrecord'\n",
    "config.CFG_PATH = '/home/macul/libraries/mk_utils/tf_spoof/config'\n",
    "config.OUT_PATH = '/home/macul/libraries/mk_utils/tf_spoof/output'\n",
    "\n",
    "SpoofVal = SpoofDspTf(config)\n",
    "\n",
    "sess, embeddings, logit, pred, acc = SpoofVal.deploy_net(ckpt_num)"
   ]
  },
  {
   "cell_type": "code",
   "execution_count": null,
   "metadata": {},
   "outputs": [],
   "source": [
    "import cv2"
   ]
  },
  {
   "cell_type": "code",
   "execution_count": null,
   "metadata": {},
   "outputs": [],
   "source": [
    "img = cv2.imread('/home/macul/figure_1-5.png')\n",
    "img = cv2.cvtColor(img, cv2.COLOR_BGR2RGB)"
   ]
  },
  {
   "cell_type": "code",
   "execution_count": null,
   "metadata": {},
   "outputs": [],
   "source": [
    "rst = SpoofVal.eval(img, sess, pred)"
   ]
  },
  {
   "cell_type": "code",
   "execution_count": null,
   "metadata": {},
   "outputs": [],
   "source": [
    "print(rst[0])"
   ]
  },
  {
   "cell_type": "code",
   "execution_count": null,
   "metadata": {},
   "outputs": [],
   "source": []
  },
  {
   "cell_type": "code",
   "execution_count": null,
   "metadata": {},
   "outputs": [],
   "source": [
    "a.shape"
   ]
  },
  {
   "cell_type": "code",
   "execution_count": null,
   "metadata": {},
   "outputs": [],
   "source": [
    "a.reshape([1,-1])"
   ]
  },
  {
   "cell_type": "code",
   "execution_count": null,
   "metadata": {},
   "outputs": [],
   "source": [
    "a.shape"
   ]
  },
  {
   "cell_type": "code",
   "execution_count": null,
   "metadata": {},
   "outputs": [],
   "source": [
    "a[np.newaxis,:].shape"
   ]
  },
  {
   "cell_type": "code",
   "execution_count": null,
   "metadata": {},
   "outputs": [],
   "source": [
    "a"
   ]
  },
  {
   "cell_type": "code",
   "execution_count": null,
   "metadata": {},
   "outputs": [],
   "source": []
  }
 ],
 "metadata": {
  "kernelspec": {
   "display_name": "Python 3",
   "language": "python",
   "name": "python3"
  },
  "language_info": {
   "codemirror_mode": {
    "name": "ipython",
    "version": 3
   },
   "file_extension": ".py",
   "mimetype": "text/x-python",
   "name": "python",
   "nbconvert_exporter": "python",
   "pygments_lexer": "ipython3",
   "version": "3.5.2"
  }
 },
 "nbformat": 4,
 "nbformat_minor": 2
}
