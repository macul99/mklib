{
 "cells": [
  {
   "cell_type": "code",
   "execution_count": 1,
   "metadata": {},
   "outputs": [
    {
     "data": {
      "text/plain": [
       "'\\nlayer {\\n  bottom: \"bn1\"\\n  top: \"flatten\"\\n  name: \"fc1_flatten\"\\n  type: \"Flatten\"\\n  flatten_param { axis: 1}\\n}\\n'"
      ]
     },
     "execution_count": 1,
     "metadata": {},
     "output_type": "execute_result"
    }
   ],
   "source": [
    "# source ~/mx_venv/bin/activate\n",
    "# cd /mk_utils/MXNet2Caffe\n",
    "# python -m json2prototxt --mx-json /media/macul/black/mxnet_training/r50/dgx_train1/train_1-symbol.json --cf-prototxt /media/macul/black/mxnet_training/r50/dgx_train1/model-caffe-converted.prototxt\n",
    "# add below layer after 'out_relu3', and set 'flatten' as the input to next layer\n",
    "'''\n",
    "layer {\n",
    "  bottom: \"out_relu3\"\n",
    "  top: \"flatten\"\n",
    "  name: \"fc1_flatten\"\n",
    "  type: \"Flatten\"\n",
    "  flatten_param { axis: 1}\n",
    "}\n",
    "'''\n",
    "# remove all layers after 'out_embedding_scale'\n",
    "# save modified file as dgx_train1_31-caffe.prototxt\n",
    "# python -m mxnet2caffe --mx-model /media/macul/black/mxnet_training/r50/dgx_train1/train_1 --mx-epoch 31 --cf-prototxt /media/macul/black/mxnet_training/r50/dgx_train1/dgx_train1_31-caffe.prototxt --cf-model /media/macul/black/mxnet_training/r50/dgx_train1/dgx_train1_31-caffe-converted.caffemodel"
   ]
  },
  {
   "cell_type": "code",
   "execution_count": 1,
   "metadata": {},
   "outputs": [],
   "source": [
    "import sys\n",
    "sys.path.append('/home/macul/libraries/MXNet2Caffe')\n",
    "sys.path.append('/home/macul/insightface/src/')\n",
    "sys.path.append('/home/macul/libraries/mk_utils/mklib/nn/mxiter')\n",
    "sys.path.append('/home/macul/libraries/mk_utils/mklib/nn/mxconv')\n",
    "import mxnet as mx\n",
    "import caffe\n",
    "from collections import namedtuple\n",
    "import numpy as np\n",
    "import cv2"
   ]
  },
  {
   "cell_type": "code",
   "execution_count": 2,
   "metadata": {},
   "outputs": [],
   "source": [
    "#mxModelPath = '/media/macul/black/mxnet_training/r50/dgx_train1/train_1'\n",
    "#mxModelEpoch = 31\n",
    "mxModelPath = '/media/macul/black/mxnet_training/r50/server_train18/train_18'\n",
    "mxModelEpoch = 6062\n",
    "\n",
    "sym_tmp, arg_params, aux_params = mx.model.load_checkpoint(mxModelPath, mxModelEpoch)"
   ]
  },
  {
   "cell_type": "code",
   "execution_count": 3,
   "metadata": {},
   "outputs": [],
   "source": [
    "all_layers = sym_tmp.get_internals()\n",
    "output_list = all_layers.list_outputs()\n",
    "sym3 = all_layers['out_embedding_output']\n",
    "#sym3 = all_layers['out_fc1_output']\n",
    "model = mx.mod.Module(symbol=sym3, label_names=None, context=mx.cpu())\n",
    "model.bind(for_training=False, data_shapes=[('data', (1,3,112,112))])\n",
    "model.set_params(arg_params, aux_params, allow_missing=False, allow_extra=True)"
   ]
  },
  {
   "cell_type": "code",
   "execution_count": 4,
   "metadata": {},
   "outputs": [
    {
     "data": {
      "text/plain": [
       "['data',\n",
       " 'stem_conv1_weight',\n",
       " 'stem_conv1_output',\n",
       " 'stem_bn2_gamma',\n",
       " 'stem_bn2_beta',\n",
       " 'stem_bn2_moving_mean',\n",
       " 'stem_bn2_moving_var',\n",
       " 'stem_bn2_output',\n",
       " 'stem_relu1_gamma',\n",
       " 'stem_relu1_output',\n",
       " 'stage1_unit1_bn1_gamma',\n",
       " 'stage1_unit1_bn1_beta',\n",
       " 'stage1_unit1_bn1_moving_mean',\n",
       " 'stage1_unit1_bn1_moving_var',\n",
       " 'stage1_unit1_bn1_output',\n",
       " 'stage1_unit1_conv1_weight',\n",
       " 'stage1_unit1_conv1_output',\n",
       " 'stage1_unit1_bn2_gamma',\n",
       " 'stage1_unit1_bn2_beta',\n",
       " 'stage1_unit1_bn2_moving_mean',\n",
       " 'stage1_unit1_bn2_moving_var',\n",
       " 'stage1_unit1_bn2_output',\n",
       " 'stage1_unit1_prelu2_gamma',\n",
       " 'stage1_unit1_prelu2_output',\n",
       " 'stage1_unit1_conv2_weight',\n",
       " 'stage1_unit1_conv2_output',\n",
       " 'stage1_unit1_bn4_gamma',\n",
       " 'stage1_unit1_bn4_beta',\n",
       " 'stage1_unit1_bn4_moving_mean',\n",
       " 'stage1_unit1_bn4_moving_var',\n",
       " 'stage1_unit1_bn4_output',\n",
       " 'stage1_unit1_convr_weight',\n",
       " 'stage1_unit1_convr_output',\n",
       " 'stage1_unit1_bnr_gamma',\n",
       " 'stage1_unit1_bnr_beta',\n",
       " 'stage1_unit1_bnr_moving_mean',\n",
       " 'stage1_unit1_bnr_moving_var',\n",
       " 'stage1_unit1_bnr_output',\n",
       " '_plus0_output',\n",
       " 'stage2_unit1_bn1_gamma',\n",
       " 'stage2_unit1_bn1_beta',\n",
       " 'stage2_unit1_bn1_moving_mean',\n",
       " 'stage2_unit1_bn1_moving_var',\n",
       " 'stage2_unit1_bn1_output',\n",
       " 'stage2_unit1_conv1_weight',\n",
       " 'stage2_unit1_conv1_output',\n",
       " 'stage2_unit1_bn2_gamma',\n",
       " 'stage2_unit1_bn2_beta',\n",
       " 'stage2_unit1_bn2_moving_mean',\n",
       " 'stage2_unit1_bn2_moving_var',\n",
       " 'stage2_unit1_bn2_output',\n",
       " 'stage2_unit1_prelu2_gamma',\n",
       " 'stage2_unit1_prelu2_output',\n",
       " 'stage2_unit1_conv2_weight',\n",
       " 'stage2_unit1_conv2_output',\n",
       " 'stage2_unit1_bn4_gamma',\n",
       " 'stage2_unit1_bn4_beta',\n",
       " 'stage2_unit1_bn4_moving_mean',\n",
       " 'stage2_unit1_bn4_moving_var',\n",
       " 'stage2_unit1_bn4_output',\n",
       " 'stage2_unit1_convr_weight',\n",
       " 'stage2_unit1_convr_output',\n",
       " 'stage2_unit1_bnr_gamma',\n",
       " 'stage2_unit1_bnr_beta',\n",
       " 'stage2_unit1_bnr_moving_mean',\n",
       " 'stage2_unit1_bnr_moving_var',\n",
       " 'stage2_unit1_bnr_output',\n",
       " '_plus1_output',\n",
       " 'stage2_unit2_bn1_gamma',\n",
       " 'stage2_unit2_bn1_beta',\n",
       " 'stage2_unit2_bn1_moving_mean',\n",
       " 'stage2_unit2_bn1_moving_var',\n",
       " 'stage2_unit2_bn1_output',\n",
       " 'stage2_unit2_conv1_weight',\n",
       " 'stage2_unit2_conv1_output',\n",
       " 'stage2_unit2_bn2_gamma',\n",
       " 'stage2_unit2_bn2_beta',\n",
       " 'stage2_unit2_bn2_moving_mean',\n",
       " 'stage2_unit2_bn2_moving_var',\n",
       " 'stage2_unit2_bn2_output',\n",
       " 'stage2_unit2_prelu2_gamma',\n",
       " 'stage2_unit2_prelu2_output',\n",
       " 'stage2_unit2_conv2_weight',\n",
       " 'stage2_unit2_conv2_output',\n",
       " 'stage2_unit2_bn4_gamma',\n",
       " 'stage2_unit2_bn4_beta',\n",
       " 'stage2_unit2_bn4_moving_mean',\n",
       " 'stage2_unit2_bn4_moving_var',\n",
       " 'stage2_unit2_bn4_output',\n",
       " '_plus2_output',\n",
       " 'stage3_unit1_bn1_gamma',\n",
       " 'stage3_unit1_bn1_beta',\n",
       " 'stage3_unit1_bn1_moving_mean',\n",
       " 'stage3_unit1_bn1_moving_var',\n",
       " 'stage3_unit1_bn1_output',\n",
       " 'stage3_unit1_conv1_weight',\n",
       " 'stage3_unit1_conv1_output',\n",
       " 'stage3_unit1_bn2_gamma',\n",
       " 'stage3_unit1_bn2_beta',\n",
       " 'stage3_unit1_bn2_moving_mean',\n",
       " 'stage3_unit1_bn2_moving_var',\n",
       " 'stage3_unit1_bn2_output',\n",
       " 'stage3_unit1_prelu2_gamma',\n",
       " 'stage3_unit1_prelu2_output',\n",
       " 'stage3_unit1_conv2_weight',\n",
       " 'stage3_unit1_conv2_output',\n",
       " 'stage3_unit1_bn4_gamma',\n",
       " 'stage3_unit1_bn4_beta',\n",
       " 'stage3_unit1_bn4_moving_mean',\n",
       " 'stage3_unit1_bn4_moving_var',\n",
       " 'stage3_unit1_bn4_output',\n",
       " 'stage3_unit1_convr_weight',\n",
       " 'stage3_unit1_convr_output',\n",
       " 'stage3_unit1_bnr_gamma',\n",
       " 'stage3_unit1_bnr_beta',\n",
       " 'stage3_unit1_bnr_moving_mean',\n",
       " 'stage3_unit1_bnr_moving_var',\n",
       " 'stage3_unit1_bnr_output',\n",
       " '_plus3_output',\n",
       " 'stage3_unit2_bn1_gamma',\n",
       " 'stage3_unit2_bn1_beta',\n",
       " 'stage3_unit2_bn1_moving_mean',\n",
       " 'stage3_unit2_bn1_moving_var',\n",
       " 'stage3_unit2_bn1_output',\n",
       " 'stage3_unit2_conv1_weight',\n",
       " 'stage3_unit2_conv1_output',\n",
       " 'stage3_unit2_bn2_gamma',\n",
       " 'stage3_unit2_bn2_beta',\n",
       " 'stage3_unit2_bn2_moving_mean',\n",
       " 'stage3_unit2_bn2_moving_var',\n",
       " 'stage3_unit2_bn2_output',\n",
       " 'stage3_unit2_prelu2_gamma',\n",
       " 'stage3_unit2_prelu2_output',\n",
       " 'stage3_unit2_conv2_weight',\n",
       " 'stage3_unit2_conv2_output',\n",
       " 'stage3_unit2_bn4_gamma',\n",
       " 'stage3_unit2_bn4_beta',\n",
       " 'stage3_unit2_bn4_moving_mean',\n",
       " 'stage3_unit2_bn4_moving_var',\n",
       " 'stage3_unit2_bn4_output',\n",
       " '_plus4_output',\n",
       " 'stage3_unit3_bn1_gamma',\n",
       " 'stage3_unit3_bn1_beta',\n",
       " 'stage3_unit3_bn1_moving_mean',\n",
       " 'stage3_unit3_bn1_moving_var',\n",
       " 'stage3_unit3_bn1_output',\n",
       " 'stage3_unit3_conv1_weight',\n",
       " 'stage3_unit3_conv1_output',\n",
       " 'stage3_unit3_bn2_gamma',\n",
       " 'stage3_unit3_bn2_beta',\n",
       " 'stage3_unit3_bn2_moving_mean',\n",
       " 'stage3_unit3_bn2_moving_var',\n",
       " 'stage3_unit3_bn2_output',\n",
       " 'stage3_unit3_prelu2_gamma',\n",
       " 'stage3_unit3_prelu2_output',\n",
       " 'stage3_unit3_conv2_weight',\n",
       " 'stage3_unit3_conv2_output',\n",
       " 'stage3_unit3_bn4_gamma',\n",
       " 'stage3_unit3_bn4_beta',\n",
       " 'stage3_unit3_bn4_moving_mean',\n",
       " 'stage3_unit3_bn4_moving_var',\n",
       " 'stage3_unit3_bn4_output',\n",
       " '_plus5_output',\n",
       " 'stage3_unit4_bn1_gamma',\n",
       " 'stage3_unit4_bn1_beta',\n",
       " 'stage3_unit4_bn1_moving_mean',\n",
       " 'stage3_unit4_bn1_moving_var',\n",
       " 'stage3_unit4_bn1_output',\n",
       " 'stage3_unit4_conv1_weight',\n",
       " 'stage3_unit4_conv1_output',\n",
       " 'stage3_unit4_bn2_gamma',\n",
       " 'stage3_unit4_bn2_beta',\n",
       " 'stage3_unit4_bn2_moving_mean',\n",
       " 'stage3_unit4_bn2_moving_var',\n",
       " 'stage3_unit4_bn2_output',\n",
       " 'stage3_unit4_prelu2_gamma',\n",
       " 'stage3_unit4_prelu2_output',\n",
       " 'stage3_unit4_conv2_weight',\n",
       " 'stage3_unit4_conv2_output',\n",
       " 'stage3_unit4_bn4_gamma',\n",
       " 'stage3_unit4_bn4_beta',\n",
       " 'stage3_unit4_bn4_moving_mean',\n",
       " 'stage3_unit4_bn4_moving_var',\n",
       " 'stage3_unit4_bn4_output',\n",
       " '_plus6_output',\n",
       " 'stage3_unit5_bn1_gamma',\n",
       " 'stage3_unit5_bn1_beta',\n",
       " 'stage3_unit5_bn1_moving_mean',\n",
       " 'stage3_unit5_bn1_moving_var',\n",
       " 'stage3_unit5_bn1_output',\n",
       " 'stage3_unit5_conv1_weight',\n",
       " 'stage3_unit5_conv1_output',\n",
       " 'stage3_unit5_bn2_gamma',\n",
       " 'stage3_unit5_bn2_beta',\n",
       " 'stage3_unit5_bn2_moving_mean',\n",
       " 'stage3_unit5_bn2_moving_var',\n",
       " 'stage3_unit5_bn2_output',\n",
       " 'stage3_unit5_prelu2_gamma',\n",
       " 'stage3_unit5_prelu2_output',\n",
       " 'stage3_unit5_conv2_weight',\n",
       " 'stage3_unit5_conv2_output',\n",
       " 'stage3_unit5_bn4_gamma',\n",
       " 'stage3_unit5_bn4_beta',\n",
       " 'stage3_unit5_bn4_moving_mean',\n",
       " 'stage3_unit5_bn4_moving_var',\n",
       " 'stage3_unit5_bn4_output',\n",
       " '_plus7_output',\n",
       " 'stage4_unit1_bn1_gamma',\n",
       " 'stage4_unit1_bn1_beta',\n",
       " 'stage4_unit1_bn1_moving_mean',\n",
       " 'stage4_unit1_bn1_moving_var',\n",
       " 'stage4_unit1_bn1_output',\n",
       " 'stage4_unit1_conv1_weight',\n",
       " 'stage4_unit1_conv1_output',\n",
       " 'stage4_unit1_bn2_gamma',\n",
       " 'stage4_unit1_bn2_beta',\n",
       " 'stage4_unit1_bn2_moving_mean',\n",
       " 'stage4_unit1_bn2_moving_var',\n",
       " 'stage4_unit1_bn2_output',\n",
       " 'stage4_unit1_prelu2_gamma',\n",
       " 'stage4_unit1_prelu2_output',\n",
       " 'stage4_unit1_conv2_weight',\n",
       " 'stage4_unit1_conv2_output',\n",
       " 'stage4_unit1_bn4_gamma',\n",
       " 'stage4_unit1_bn4_beta',\n",
       " 'stage4_unit1_bn4_moving_mean',\n",
       " 'stage4_unit1_bn4_moving_var',\n",
       " 'stage4_unit1_bn4_output',\n",
       " 'stage4_unit1_convr_weight',\n",
       " 'stage4_unit1_convr_output',\n",
       " 'stage4_unit1_bnr_gamma',\n",
       " 'stage4_unit1_bnr_beta',\n",
       " 'stage4_unit1_bnr_moving_mean',\n",
       " 'stage4_unit1_bnr_moving_var',\n",
       " 'stage4_unit1_bnr_output',\n",
       " '_plus8_output',\n",
       " 'stage4_unit2_bn1_gamma',\n",
       " 'stage4_unit2_bn1_beta',\n",
       " 'stage4_unit2_bn1_moving_mean',\n",
       " 'stage4_unit2_bn1_moving_var',\n",
       " 'stage4_unit2_bn1_output',\n",
       " 'stage4_unit2_conv1_weight',\n",
       " 'stage4_unit2_conv1_output',\n",
       " 'stage4_unit2_bn2_gamma',\n",
       " 'stage4_unit2_bn2_beta',\n",
       " 'stage4_unit2_bn2_moving_mean',\n",
       " 'stage4_unit2_bn2_moving_var',\n",
       " 'stage4_unit2_bn2_output',\n",
       " 'stage4_unit2_prelu2_gamma',\n",
       " 'stage4_unit2_prelu2_output',\n",
       " 'stage4_unit2_conv2_weight',\n",
       " 'stage4_unit2_conv2_output',\n",
       " 'stage4_unit2_bn4_gamma',\n",
       " 'stage4_unit2_bn4_beta',\n",
       " 'stage4_unit2_bn4_moving_mean',\n",
       " 'stage4_unit2_bn4_moving_var',\n",
       " 'stage4_unit2_bn4_output',\n",
       " '_plus9_output',\n",
       " 'out_bn2_gamma',\n",
       " 'out_bn2_beta',\n",
       " 'out_bn2_moving_mean',\n",
       " 'out_bn2_moving_var',\n",
       " 'out_bn2_output',\n",
       " 'out_relu2_gamma',\n",
       " 'out_relu2_output',\n",
       " 'out_conv1_weight',\n",
       " 'out_conv1_output',\n",
       " 'out_bn3_gamma',\n",
       " 'out_bn3_beta',\n",
       " 'out_bn3_moving_mean',\n",
       " 'out_bn3_moving_var',\n",
       " 'out_bn3_output',\n",
       " 'out_relu3_output',\n",
       " 'out_fc1_weight',\n",
       " 'out_fc1_bias',\n",
       " 'out_fc1_output',\n",
       " 'out_embedding_gamma',\n",
       " 'out_embedding_beta',\n",
       " 'out_embedding_moving_mean',\n",
       " 'out_embedding_moving_var',\n",
       " 'out_embedding_output',\n",
       " 'fc1n_output',\n",
       " '_mulscalar0_output',\n",
       " 'arc_fc_weight',\n",
       " 'l2normalization0_output',\n",
       " 'arc_fc_output',\n",
       " 'softmax_label',\n",
       " 'reshape0_output',\n",
       " 'one_hot0_output',\n",
       " 'pick0_output',\n",
       " '_divscalar0_output',\n",
       " '_minusscalar0_output',\n",
       " 'arc_relu_output',\n",
       " '_mulscalar1_output',\n",
       " '_mul0_output',\n",
       " '_rminusscalar0_output',\n",
       " 'sqrt0_output',\n",
       " '_mulscalar2_output',\n",
       " '_minus0_output',\n",
       " '_mulscalar3_output',\n",
       " '_minusscalar1_output',\n",
       " 'where0_output',\n",
       " '_minus1_output',\n",
       " 'expand_dims0_output',\n",
       " 'broadcast_mul0_output',\n",
       " '_plus10_output',\n",
       " 'softmax_output',\n",
       " 'regr_pool_output',\n",
       " 'regr_dropout_output',\n",
       " 'regr_fc_weight',\n",
       " 'regr_fc_bias',\n",
       " 'regr_fc_output',\n",
       " 'regr_tanh_output',\n",
       " 'landmark_gt',\n",
       " 'lro_output',\n",
       " 'embedding_output']"
      ]
     },
     "execution_count": 4,
     "metadata": {},
     "output_type": "execute_result"
    }
   ],
   "source": [
    "output_list"
   ]
  },
  {
   "cell_type": "code",
   "execution_count": 5,
   "metadata": {},
   "outputs": [],
   "source": [
    "img_normalization = True\n",
    "img = mx.image.imread('/media/macul/black/face_database_raw_data/mscelb_from_insightface/Data/0000000/0001.png')\n",
    "img = img.astype('float32')\n",
    "if img_normalization:\n",
    "    img = img - 127.5\n",
    "    img = img * 0.0078125\n",
    "img = img.transpose((2,0,1))\n",
    "img = img.expand_dims(axis=0)   \n",
    "Batch = namedtuple('Batch',['data'])\n",
    "model.forward(Batch([img]))"
   ]
  },
  {
   "cell_type": "code",
   "execution_count": 6,
   "metadata": {},
   "outputs": [],
   "source": [
    "outs=model.get_outputs()"
   ]
  },
  {
   "cell_type": "code",
   "execution_count": 7,
   "metadata": {},
   "outputs": [],
   "source": [
    "out_mx=outs[0].asnumpy()[0]"
   ]
  },
  {
   "cell_type": "code",
   "execution_count": 8,
   "metadata": {},
   "outputs": [
    {
     "name": "stdout",
     "output_type": "stream",
     "text": [
      "(512L,)\n",
      "(512L, 25088L)\n"
     ]
    }
   ],
   "source": [
    "print(arg_params['out_fc1_bias'].shape)\n",
    "print(arg_params['out_fc1_weight'].shape)"
   ]
  },
  {
   "cell_type": "code",
   "execution_count": 9,
   "metadata": {},
   "outputs": [],
   "source": [
    "arg_params['out_embedding_gamma']=1"
   ]
  },
  {
   "cell_type": "code",
   "execution_count": 11,
   "metadata": {
    "scrolled": true
   },
   "outputs": [],
   "source": [
    "cfModelProto='/media/macul/black/mxnet_training/r50/server_train18/server_train18-caffe.prototxt'\n",
    "cfModelWeight='/media/macul/black/mxnet_training/r50/server_train18/server_train18_6062-caffe.caffemodel'\n",
    "#cfModelProto='/media/macul/black/mxnet_training/r50/dgx_train1/dgx_train1_31-caffe.prototxt'\n",
    "#cfModelWeight='/media/macul/black/mxnet_training/r50/dgx_train1/dgx_train1_31-caffe-converted.caffemodel'\n",
    "Net = caffe.Net(cfModelProto, cfModelWeight, caffe.TEST)\n",
    "Net.blobs['data'].reshape(1,3,112,112)"
   ]
  },
  {
   "cell_type": "code",
   "execution_count": 12,
   "metadata": {},
   "outputs": [],
   "source": [
    "def getOutput(img_path, output_name):\n",
    "    mean_array = np.ones([3,112, 112])*127.5\n",
    "    scale_value = 0.0078125\n",
    "    img = cv2.imread(img_path)\n",
    "    img = cv2.cvtColor(img, cv2.COLOR_BGR2RGB)\n",
    "    img = img.astype(np.float32)\n",
    "    img = np.rollaxis(img,2)\n",
    "    img = img - mean_array\n",
    "    img = img * scale_value\n",
    "    img = img[np.newaxis,...] \n",
    "    \n",
    "    Net.blobs['data'].data[...] = img\n",
    "    out = Net.forward()\n",
    "    out = out[output_name][0]\n",
    "    return out"
   ]
  },
  {
   "cell_type": "code",
   "execution_count": 13,
   "metadata": {},
   "outputs": [],
   "source": [
    "Net.params['out_fc1'][0].data[...] = arg_params['out_fc1_weight'].asnumpy()\n",
    "Net.params['out_fc1'][1].data[...] = arg_params['out_fc1_bias'].asnumpy()"
   ]
  },
  {
   "cell_type": "code",
   "execution_count": 14,
   "metadata": {},
   "outputs": [
    {
     "data": {
      "text/plain": [
       "array([0., 0., 0., 0., 0., 0., 0., 0., 0., 0., 0., 0., 0., 0., 0., 0., 0.,\n",
       "       0., 0., 0., 0., 0., 0., 0., 0., 0., 0., 0., 0., 0., 0., 0., 0., 0.,\n",
       "       0., 0., 0., 0., 0., 0., 0., 0., 0., 0., 0., 0., 0., 0., 0., 0., 0.,\n",
       "       0., 0., 0., 0., 0., 0., 0., 0., 0., 0., 0., 0., 0., 0., 0., 0., 0.,\n",
       "       0., 0., 0., 0., 0., 0., 0., 0., 0., 0., 0., 0., 0., 0., 0., 0., 0.,\n",
       "       0., 0., 0., 0., 0., 0., 0., 0., 0., 0., 0., 0., 0., 0., 0., 0., 0.,\n",
       "       0., 0., 0., 0., 0., 0., 0., 0., 0., 0., 0., 0., 0., 0., 0., 0., 0.,\n",
       "       0., 0., 0., 0., 0., 0., 0., 0., 0., 0., 0., 0., 0., 0., 0., 0., 0.,\n",
       "       0., 0., 0., 0., 0., 0., 0., 0., 0., 0., 0., 0., 0., 0., 0., 0., 0.,\n",
       "       0., 0., 0., 0., 0., 0., 0., 0., 0., 0., 0., 0., 0., 0., 0., 0., 0.,\n",
       "       0., 0., 0., 0., 0., 0., 0., 0., 0., 0., 0., 0., 0., 0., 0., 0., 0.,\n",
       "       0., 0., 0., 0., 0., 0., 0., 0., 0., 0., 0., 0., 0., 0., 0., 0., 0.,\n",
       "       0., 0., 0., 0., 0., 0., 0., 0., 0., 0., 0., 0., 0., 0., 0., 0., 0.,\n",
       "       0., 0., 0., 0., 0., 0., 0., 0., 0., 0., 0., 0., 0., 0., 0., 0., 0.,\n",
       "       0., 0., 0., 0., 0., 0., 0., 0., 0., 0., 0., 0., 0., 0., 0., 0., 0.,\n",
       "       0., 0., 0., 0., 0., 0., 0., 0., 0., 0., 0., 0., 0., 0., 0., 0., 0.,\n",
       "       0., 0., 0., 0., 0., 0., 0., 0., 0., 0., 0., 0., 0., 0., 0., 0., 0.,\n",
       "       0., 0., 0., 0., 0., 0., 0., 0., 0., 0., 0., 0., 0., 0., 0., 0., 0.,\n",
       "       0., 0., 0., 0., 0., 0., 0., 0., 0., 0., 0., 0., 0., 0., 0., 0., 0.,\n",
       "       0., 0., 0., 0., 0., 0., 0., 0., 0., 0., 0., 0., 0., 0., 0., 0., 0.,\n",
       "       0., 0., 0., 0., 0., 0., 0., 0., 0., 0., 0., 0., 0., 0., 0., 0., 0.,\n",
       "       0., 0., 0., 0., 0., 0., 0., 0., 0., 0., 0., 0., 0., 0., 0., 0., 0.,\n",
       "       0., 0., 0., 0., 0., 0., 0., 0., 0., 0., 0., 0., 0., 0., 0., 0., 0.,\n",
       "       0., 0., 0., 0., 0., 0., 0., 0., 0., 0., 0., 0., 0., 0., 0., 0., 0.,\n",
       "       0., 0., 0., 0., 0., 0., 0., 0., 0., 0., 0., 0., 0., 0., 0., 0., 0.,\n",
       "       0., 0., 0., 0., 0., 0., 0., 0., 0., 0., 0., 0., 0., 0., 0., 0., 0.,\n",
       "       0., 0., 0., 0., 0., 0., 0., 0., 0., 0., 0., 0., 0., 0., 0., 0., 0.,\n",
       "       0., 0., 0., 0., 0., 0., 0., 0., 0., 0., 0., 0., 0., 0., 0., 0., 0.,\n",
       "       0., 0., 0., 0., 0., 0., 0., 0., 0., 0., 0., 0., 0., 0., 0., 0., 0.,\n",
       "       0., 0., 0., 0., 0., 0., 0., 0., 0., 0., 0., 0., 0., 0., 0., 0., 0.,\n",
       "       0., 0.], dtype=float32)"
      ]
     },
     "execution_count": 14,
     "metadata": {},
     "output_type": "execute_result"
    }
   ],
   "source": [
    "Net.params['out_fc1'][0].data[...] - arg_params['out_fc1_weight'].asnumpy()\n",
    "Net.params['out_fc1'][1].data[...] - arg_params['out_fc1_bias'].asnumpy()"
   ]
  },
  {
   "cell_type": "code",
   "execution_count": 15,
   "metadata": {},
   "outputs": [
    {
     "data": {
      "text/plain": [
       "0.38500732"
      ]
     },
     "execution_count": 15,
     "metadata": {},
     "output_type": "execute_result"
    }
   ],
   "source": [
    "np.linalg.norm(Net.params['stem_conv1'][0].data[...])"
   ]
  },
  {
   "cell_type": "code",
   "execution_count": 16,
   "metadata": {},
   "outputs": [
    {
     "data": {
      "text/plain": [
       "OrderedDict([('stem_conv1', <caffe._caffe.BlobVec at 0x7f0d981ebfa0>),\n",
       "             ('stem_bn2', <caffe._caffe.BlobVec at 0x7f0daaaa0c90>),\n",
       "             ('stem_bn2_scale', <caffe._caffe.BlobVec at 0x7f0d982253d0>),\n",
       "             ('stem_relu1', <caffe._caffe.BlobVec at 0x7f0d981f2ad0>),\n",
       "             ('stage1_unit1_bn1', <caffe._caffe.BlobVec at 0x7f0d981f2e50>),\n",
       "             ('stage1_unit1_bn1_scale',\n",
       "              <caffe._caffe.BlobVec at 0x7f0d981f2de0>),\n",
       "             ('stage1_unit1_conv1', <caffe._caffe.BlobVec at 0x7f0d981f2f30>),\n",
       "             ('stage1_unit1_bn2', <caffe._caffe.BlobVec at 0x7f0d981f2fa0>),\n",
       "             ('stage1_unit1_bn2_scale',\n",
       "              <caffe._caffe.BlobVec at 0x7f0d981f5050>),\n",
       "             ('stage1_unit1_prelu2', <caffe._caffe.BlobVec at 0x7f0d981f50c0>),\n",
       "             ('stage1_unit1_conv2', <caffe._caffe.BlobVec at 0x7f0d981f5130>),\n",
       "             ('stage1_unit1_bn4', <caffe._caffe.BlobVec at 0x7f0d981f51a0>),\n",
       "             ('stage1_unit1_bn4_scale',\n",
       "              <caffe._caffe.BlobVec at 0x7f0d981f5210>),\n",
       "             ('stage1_unit1_convr', <caffe._caffe.BlobVec at 0x7f0d981f5280>),\n",
       "             ('stage1_unit1_bnr', <caffe._caffe.BlobVec at 0x7f0d981f52f0>),\n",
       "             ('stage1_unit1_bnr_scale',\n",
       "              <caffe._caffe.BlobVec at 0x7f0d981f5360>),\n",
       "             ('stage2_unit1_bn1', <caffe._caffe.BlobVec at 0x7f0d981f53d0>),\n",
       "             ('stage2_unit1_bn1_scale',\n",
       "              <caffe._caffe.BlobVec at 0x7f0d981f5440>),\n",
       "             ('stage2_unit1_conv1', <caffe._caffe.BlobVec at 0x7f0d981f54b0>),\n",
       "             ('stage2_unit1_bn2', <caffe._caffe.BlobVec at 0x7f0d981f5520>),\n",
       "             ('stage2_unit1_bn2_scale',\n",
       "              <caffe._caffe.BlobVec at 0x7f0d981f5590>),\n",
       "             ('stage2_unit1_prelu2', <caffe._caffe.BlobVec at 0x7f0d981f5600>),\n",
       "             ('stage2_unit1_conv2', <caffe._caffe.BlobVec at 0x7f0d981f5670>),\n",
       "             ('stage2_unit1_bn4', <caffe._caffe.BlobVec at 0x7f0d981f56e0>),\n",
       "             ('stage2_unit1_bn4_scale',\n",
       "              <caffe._caffe.BlobVec at 0x7f0d981f5750>),\n",
       "             ('stage2_unit1_convr', <caffe._caffe.BlobVec at 0x7f0d981f57c0>),\n",
       "             ('stage2_unit1_bnr', <caffe._caffe.BlobVec at 0x7f0d981f5830>),\n",
       "             ('stage2_unit1_bnr_scale',\n",
       "              <caffe._caffe.BlobVec at 0x7f0d981f58a0>),\n",
       "             ('stage2_unit2_bn1', <caffe._caffe.BlobVec at 0x7f0d981f5910>),\n",
       "             ('stage2_unit2_bn1_scale',\n",
       "              <caffe._caffe.BlobVec at 0x7f0d981f5980>),\n",
       "             ('stage2_unit2_conv1', <caffe._caffe.BlobVec at 0x7f0d981f59f0>),\n",
       "             ('stage2_unit2_bn2', <caffe._caffe.BlobVec at 0x7f0d981f5a60>),\n",
       "             ('stage2_unit2_bn2_scale',\n",
       "              <caffe._caffe.BlobVec at 0x7f0d981f5ad0>),\n",
       "             ('stage2_unit2_prelu2', <caffe._caffe.BlobVec at 0x7f0d981f5b40>),\n",
       "             ('stage2_unit2_conv2', <caffe._caffe.BlobVec at 0x7f0d981f5bb0>),\n",
       "             ('stage2_unit2_bn4', <caffe._caffe.BlobVec at 0x7f0d981f5c20>),\n",
       "             ('stage2_unit2_bn4_scale',\n",
       "              <caffe._caffe.BlobVec at 0x7f0d981f5c90>),\n",
       "             ('stage3_unit1_bn1', <caffe._caffe.BlobVec at 0x7f0d981f5d00>),\n",
       "             ('stage3_unit1_bn1_scale',\n",
       "              <caffe._caffe.BlobVec at 0x7f0d981f5d70>),\n",
       "             ('stage3_unit1_conv1', <caffe._caffe.BlobVec at 0x7f0d981f5de0>),\n",
       "             ('stage3_unit1_bn2', <caffe._caffe.BlobVec at 0x7f0d981f5e50>),\n",
       "             ('stage3_unit1_bn2_scale',\n",
       "              <caffe._caffe.BlobVec at 0x7f0d981f5ec0>),\n",
       "             ('stage3_unit1_prelu2', <caffe._caffe.BlobVec at 0x7f0d981f5f30>),\n",
       "             ('stage3_unit1_conv2', <caffe._caffe.BlobVec at 0x7f0d981f5fa0>),\n",
       "             ('stage3_unit1_bn4', <caffe._caffe.BlobVec at 0x7f0d981fa050>),\n",
       "             ('stage3_unit1_bn4_scale',\n",
       "              <caffe._caffe.BlobVec at 0x7f0d981fa0c0>),\n",
       "             ('stage3_unit1_convr', <caffe._caffe.BlobVec at 0x7f0d981fa130>),\n",
       "             ('stage3_unit1_bnr', <caffe._caffe.BlobVec at 0x7f0d981fa1a0>),\n",
       "             ('stage3_unit1_bnr_scale',\n",
       "              <caffe._caffe.BlobVec at 0x7f0d981fa210>),\n",
       "             ('stage3_unit2_bn1', <caffe._caffe.BlobVec at 0x7f0d981fa280>),\n",
       "             ('stage3_unit2_bn1_scale',\n",
       "              <caffe._caffe.BlobVec at 0x7f0d981fa2f0>),\n",
       "             ('stage3_unit2_conv1', <caffe._caffe.BlobVec at 0x7f0d981fa360>),\n",
       "             ('stage3_unit2_bn2', <caffe._caffe.BlobVec at 0x7f0d981fa3d0>),\n",
       "             ('stage3_unit2_bn2_scale',\n",
       "              <caffe._caffe.BlobVec at 0x7f0d981fa440>),\n",
       "             ('stage3_unit2_prelu2', <caffe._caffe.BlobVec at 0x7f0d981fa4b0>),\n",
       "             ('stage3_unit2_conv2', <caffe._caffe.BlobVec at 0x7f0d981fa520>),\n",
       "             ('stage3_unit2_bn4', <caffe._caffe.BlobVec at 0x7f0d981fa590>),\n",
       "             ('stage3_unit2_bn4_scale',\n",
       "              <caffe._caffe.BlobVec at 0x7f0d981fa600>),\n",
       "             ('stage3_unit3_bn1', <caffe._caffe.BlobVec at 0x7f0d981fa670>),\n",
       "             ('stage3_unit3_bn1_scale',\n",
       "              <caffe._caffe.BlobVec at 0x7f0d981fa6e0>),\n",
       "             ('stage3_unit3_conv1', <caffe._caffe.BlobVec at 0x7f0d981fa750>),\n",
       "             ('stage3_unit3_bn2', <caffe._caffe.BlobVec at 0x7f0d981fa7c0>),\n",
       "             ('stage3_unit3_bn2_scale',\n",
       "              <caffe._caffe.BlobVec at 0x7f0d981fa830>),\n",
       "             ('stage3_unit3_prelu2', <caffe._caffe.BlobVec at 0x7f0d981fa8a0>),\n",
       "             ('stage3_unit3_conv2', <caffe._caffe.BlobVec at 0x7f0d981fa910>),\n",
       "             ('stage3_unit3_bn4', <caffe._caffe.BlobVec at 0x7f0d981fa980>),\n",
       "             ('stage3_unit3_bn4_scale',\n",
       "              <caffe._caffe.BlobVec at 0x7f0d981fa9f0>),\n",
       "             ('stage3_unit4_bn1', <caffe._caffe.BlobVec at 0x7f0d981faa60>),\n",
       "             ('stage3_unit4_bn1_scale',\n",
       "              <caffe._caffe.BlobVec at 0x7f0d981faad0>),\n",
       "             ('stage3_unit4_conv1', <caffe._caffe.BlobVec at 0x7f0d981fab40>),\n",
       "             ('stage3_unit4_bn2', <caffe._caffe.BlobVec at 0x7f0d981fabb0>),\n",
       "             ('stage3_unit4_bn2_scale',\n",
       "              <caffe._caffe.BlobVec at 0x7f0d981fac20>),\n",
       "             ('stage3_unit4_prelu2', <caffe._caffe.BlobVec at 0x7f0d981fac90>),\n",
       "             ('stage3_unit4_conv2', <caffe._caffe.BlobVec at 0x7f0d981fad00>),\n",
       "             ('stage3_unit4_bn4', <caffe._caffe.BlobVec at 0x7f0d981fad70>),\n",
       "             ('stage3_unit4_bn4_scale',\n",
       "              <caffe._caffe.BlobVec at 0x7f0d981fade0>),\n",
       "             ('stage3_unit5_bn1', <caffe._caffe.BlobVec at 0x7f0d981fae50>),\n",
       "             ('stage3_unit5_bn1_scale',\n",
       "              <caffe._caffe.BlobVec at 0x7f0d981faec0>),\n",
       "             ('stage3_unit5_conv1', <caffe._caffe.BlobVec at 0x7f0d981faf30>),\n",
       "             ('stage3_unit5_bn2', <caffe._caffe.BlobVec at 0x7f0d981fafa0>),\n",
       "             ('stage3_unit5_bn2_scale',\n",
       "              <caffe._caffe.BlobVec at 0x7f0d981fb050>),\n",
       "             ('stage3_unit5_prelu2', <caffe._caffe.BlobVec at 0x7f0d981fb0c0>),\n",
       "             ('stage3_unit5_conv2', <caffe._caffe.BlobVec at 0x7f0d981fb130>),\n",
       "             ('stage3_unit5_bn4', <caffe._caffe.BlobVec at 0x7f0d981fb1a0>),\n",
       "             ('stage3_unit5_bn4_scale',\n",
       "              <caffe._caffe.BlobVec at 0x7f0d981fb210>),\n",
       "             ('stage4_unit1_bn1', <caffe._caffe.BlobVec at 0x7f0d981fb280>),\n",
       "             ('stage4_unit1_bn1_scale',\n",
       "              <caffe._caffe.BlobVec at 0x7f0d981fb2f0>),\n",
       "             ('stage4_unit1_conv1', <caffe._caffe.BlobVec at 0x7f0d981fb360>),\n",
       "             ('stage4_unit1_bn2', <caffe._caffe.BlobVec at 0x7f0d981fb3d0>),\n",
       "             ('stage4_unit1_bn2_scale',\n",
       "              <caffe._caffe.BlobVec at 0x7f0d981fb440>),\n",
       "             ('stage4_unit1_prelu2', <caffe._caffe.BlobVec at 0x7f0d981fb4b0>),\n",
       "             ('stage4_unit1_conv2', <caffe._caffe.BlobVec at 0x7f0d981fb520>),\n",
       "             ('stage4_unit1_bn4', <caffe._caffe.BlobVec at 0x7f0d981fb590>),\n",
       "             ('stage4_unit1_bn4_scale',\n",
       "              <caffe._caffe.BlobVec at 0x7f0d981fb600>),\n",
       "             ('stage4_unit1_convr', <caffe._caffe.BlobVec at 0x7f0d981fb670>),\n",
       "             ('stage4_unit1_bnr', <caffe._caffe.BlobVec at 0x7f0d981fb6e0>),\n",
       "             ('stage4_unit1_bnr_scale',\n",
       "              <caffe._caffe.BlobVec at 0x7f0d981fb750>),\n",
       "             ('stage4_unit2_bn1', <caffe._caffe.BlobVec at 0x7f0d981fb7c0>),\n",
       "             ('stage4_unit2_bn1_scale',\n",
       "              <caffe._caffe.BlobVec at 0x7f0d981fb830>),\n",
       "             ('stage4_unit2_conv1', <caffe._caffe.BlobVec at 0x7f0d981fb8a0>),\n",
       "             ('stage4_unit2_bn2', <caffe._caffe.BlobVec at 0x7f0d981fb910>),\n",
       "             ('stage4_unit2_bn2_scale',\n",
       "              <caffe._caffe.BlobVec at 0x7f0d981fb980>),\n",
       "             ('stage4_unit2_prelu2', <caffe._caffe.BlobVec at 0x7f0d981fb9f0>),\n",
       "             ('stage4_unit2_conv2', <caffe._caffe.BlobVec at 0x7f0d981fba60>),\n",
       "             ('stage4_unit2_bn4', <caffe._caffe.BlobVec at 0x7f0d981fbad0>),\n",
       "             ('stage4_unit2_bn4_scale',\n",
       "              <caffe._caffe.BlobVec at 0x7f0d981fbb40>),\n",
       "             ('out_bn2', <caffe._caffe.BlobVec at 0x7f0d981fbbb0>),\n",
       "             ('out_bn2_scale', <caffe._caffe.BlobVec at 0x7f0d981fbc20>),\n",
       "             ('out_relu2', <caffe._caffe.BlobVec at 0x7f0d981fbc90>),\n",
       "             ('out_conv1', <caffe._caffe.BlobVec at 0x7f0d981fbd00>),\n",
       "             ('out_bn3', <caffe._caffe.BlobVec at 0x7f0d981fbd70>),\n",
       "             ('out_bn3_scale', <caffe._caffe.BlobVec at 0x7f0d981fbde0>),\n",
       "             ('out_fc1', <caffe._caffe.BlobVec at 0x7f0d981fbe50>),\n",
       "             ('out_embedding', <caffe._caffe.BlobVec at 0x7f0d981fbec0>),\n",
       "             ('out_embedding_scale',\n",
       "              <caffe._caffe.BlobVec at 0x7f0d981fbf30>)])"
      ]
     },
     "execution_count": 16,
     "metadata": {},
     "output_type": "execute_result"
    }
   ],
   "source": [
    "Net.params"
   ]
  },
  {
   "cell_type": "code",
   "execution_count": 19,
   "metadata": {},
   "outputs": [
    {
     "name": "stdout",
     "output_type": "stream",
     "text": [
      "[0.99999994 0.99999994 0.99999994 0.99999994 0.99999994 0.99999994\n",
      " 0.99999994 0.99999994 0.99999994 0.99999994 0.99999994 0.99999994\n",
      " 0.99999994 0.99999994 0.99999994 0.99999994 0.99999994 0.99999994\n",
      " 0.99999994 0.99999994 0.99999994 0.99999994 0.99999994 0.99999994\n",
      " 0.99999994 0.99999994 0.99999994 0.99999994 0.99999994 0.99999994\n",
      " 0.99999994 0.99999994 0.99999994 0.99999994 0.99999994 0.99999994\n",
      " 0.99999994 0.99999994 0.99999994 0.99999994 0.99999994 0.99999994\n",
      " 0.99999994 0.99999994 0.99999994 0.99999994 0.99999994 0.99999994\n",
      " 0.99999994 0.99999994 0.99999994 0.99999994 0.99999994 0.99999994\n",
      " 0.99999994 0.99999994 0.99999994 0.99999994 0.99999994 0.99999994\n",
      " 0.99999994 0.99999994 0.99999994 0.99999994 0.99999994 0.99999994\n",
      " 0.99999994 0.99999994 0.99999994 0.99999994 0.99999994 0.99999994\n",
      " 0.99999994 0.99999994 0.99999994 0.99999994 0.99999994 0.99999994\n",
      " 0.99999994 0.99999994 0.99999994 0.99999994 0.99999994 0.99999994\n",
      " 0.99999994 0.99999994 0.99999994 0.99999994 0.99999994 0.99999994\n",
      " 0.99999994 0.99999994 0.99999994 0.99999994 0.99999994 0.99999994\n",
      " 0.99999994 0.99999994 0.99999994 0.99999994 0.99999994 0.99999994\n",
      " 0.99999994 0.99999994 0.99999994 0.99999994 0.99999994 0.99999994\n",
      " 0.99999994 0.99999994 0.99999994 0.99999994 0.99999994 0.99999994\n",
      " 0.99999994 0.99999994 0.99999994 0.99999994 0.99999994 0.99999994\n",
      " 0.99999994 0.99999994 0.99999994 0.99999994 0.99999994 0.99999994\n",
      " 0.99999994 0.99999994 0.99999994 0.99999994 0.99999994 0.99999994\n",
      " 0.99999994 0.99999994 0.99999994 0.99999994 0.99999994 0.99999994\n",
      " 0.99999994 0.99999994 0.99999994 0.99999994 0.99999994 0.99999994\n",
      " 0.99999994 0.99999994 0.99999994 0.99999994 0.99999994 0.99999994\n",
      " 0.99999994 0.99999994 0.99999994 0.99999994 0.99999994 0.99999994\n",
      " 0.99999994 0.99999994 0.99999994 0.99999994 0.99999994 0.99999994\n",
      " 0.99999994 0.99999994 0.99999994 0.99999994 0.99999994 0.99999994\n",
      " 0.99999994 0.99999994 0.99999994 0.99999994 0.99999994 0.99999994\n",
      " 0.99999994 0.99999994 0.99999994 0.99999994 0.99999994 0.99999994\n",
      " 0.99999994 0.99999994 0.99999994 0.99999994 0.99999994 0.99999994\n",
      " 0.99999994 0.99999994 0.99999994 0.99999994 0.99999994 0.99999994\n",
      " 0.99999994 0.99999994 0.99999994 0.99999994 0.99999994 0.99999994\n",
      " 0.99999994 0.99999994 0.99999994 0.99999994 0.99999994 0.99999994\n",
      " 0.99999994 0.99999994 0.99999994 0.99999994 0.99999994 0.99999994\n",
      " 0.99999994 0.99999994 0.99999994 0.99999994 0.99999994 0.99999994\n",
      " 0.99999994 0.99999994 0.99999994 0.99999994 0.99999994 0.99999994\n",
      " 0.99999994 0.99999994 0.99999994 0.99999994 0.99999994 0.99999994\n",
      " 0.99999994 0.99999994 0.99999994 0.99999994 0.99999994 0.99999994\n",
      " 0.99999994 0.99999994 0.99999994 0.99999994 0.99999994 0.99999994\n",
      " 0.99999994 0.99999994 0.99999994 0.99999994 0.99999994 0.99999994\n",
      " 0.99999994 0.99999994 0.99999994 0.99999994 0.99999994 0.99999994\n",
      " 0.99999994 0.99999994 0.99999994 0.99999994 0.99999994 0.99999994\n",
      " 0.99999994 0.99999994 0.99999994 0.99999994 0.99999994 0.99999994\n",
      " 0.99999994 0.99999994 0.99999994 0.99999994 0.99999994 0.99999994\n",
      " 0.99999994 0.99999994 0.99999994 0.99999994 0.99999994 0.99999994\n",
      " 0.99999994 0.99999994 0.99999994 0.99999994 0.99999994 0.99999994\n",
      " 0.99999994 0.99999994 0.99999994 0.99999994 0.99999994 0.99999994\n",
      " 0.99999994 0.99999994 0.99999994 0.99999994 0.99999994 0.99999994\n",
      " 0.99999994 0.99999994 0.99999994 0.99999994 0.99999994 0.99999994\n",
      " 0.99999994 0.99999994 0.99999994 0.99999994 0.99999994 0.99999994\n",
      " 0.99999994 0.99999994 0.99999994 0.99999994 0.99999994 0.99999994\n",
      " 0.99999994 0.99999994 0.99999994 0.99999994 0.99999994 0.99999994\n",
      " 0.99999994 0.99999994 0.99999994 0.99999994 0.99999994 0.99999994\n",
      " 0.99999994 0.99999994 0.99999994 0.99999994 0.99999994 0.99999994\n",
      " 0.99999994 0.99999994 0.99999994 0.99999994 0.99999994 0.99999994\n",
      " 0.99999994 0.99999994 0.99999994 0.99999994 0.99999994 0.99999994\n",
      " 0.99999994 0.99999994 0.99999994 0.99999994 0.99999994 0.99999994\n",
      " 0.99999994 0.99999994 0.99999994 0.99999994 0.99999994 0.99999994\n",
      " 0.99999994 0.99999994 0.99999994 0.99999994 0.99999994 0.99999994\n",
      " 0.99999994 0.99999994 0.99999994 0.99999994 0.99999994 0.99999994\n",
      " 0.99999994 0.99999994 0.99999994 0.99999994 0.99999994 0.99999994\n",
      " 0.99999994 0.99999994 0.99999994 0.99999994 0.99999994 0.99999994\n",
      " 0.99999994 0.99999994 0.99999994 0.99999994 0.99999994 0.99999994\n",
      " 0.99999994 0.99999994 0.99999994 0.99999994 0.99999994 0.99999994\n",
      " 0.99999994 0.99999994 0.99999994 0.99999994 0.99999994 0.99999994\n",
      " 0.99999994 0.99999994 0.99999994 0.99999994 0.99999994 0.99999994\n",
      " 0.99999994 0.99999994 0.99999994 0.99999994 0.99999994 0.99999994\n",
      " 0.99999994 0.99999994 0.99999994 0.99999994 0.99999994 0.99999994\n",
      " 0.99999994 0.99999994 0.99999994 0.99999994 0.99999994 0.99999994\n",
      " 0.99999994 0.99999994 0.99999994 0.99999994 0.99999994 0.99999994\n",
      " 0.99999994 0.99999994 0.99999994 0.99999994 0.99999994 0.99999994\n",
      " 0.99999994 0.99999994 0.99999994 0.99999994 0.99999994 0.99999994\n",
      " 0.99999994 0.99999994 0.99999994 0.99999994 0.99999994 0.99999994\n",
      " 0.99999994 0.99999994 0.99999994 0.99999994 0.99999994 0.99999994\n",
      " 0.99999994 0.99999994 0.99999994 0.99999994 0.99999994 0.99999994\n",
      " 0.99999994 0.99999994 0.99999994 0.99999994 0.99999994 0.99999994\n",
      " 0.99999994 0.99999994 0.99999994 0.99999994 0.99999994 0.99999994\n",
      " 0.99999994 0.99999994 0.99999994 0.99999994 0.99999994 0.99999994\n",
      " 0.99999994 0.99999994 0.99999994 0.99999994 0.99999994 0.99999994\n",
      " 0.99999994 0.99999994 0.99999994 0.99999994 0.99999994 0.99999994\n",
      " 0.99999994 0.99999994 0.99999994 0.99999994 0.99999994 0.99999994\n",
      " 0.99999994 0.99999994 0.99999994 0.99999994 0.99999994 0.99999994\n",
      " 0.99999994 0.99999994 0.99999994 0.99999994 0.99999994 0.99999994\n",
      " 0.99999994 0.99999994 0.99999994 0.99999994 0.99999994 0.99999994\n",
      " 0.99999994 0.99999994]\n"
     ]
    }
   ],
   "source": [
    "print(Net.params['out_embedding_scale'][0].data[...])"
   ]
  },
  {
   "cell_type": "code",
   "execution_count": 18,
   "metadata": {},
   "outputs": [
    {
     "name": "stdout",
     "output_type": "stream",
     "text": [
      "0.0\n",
      "-3.0517578e-05\n",
      "0.0\n",
      "0.0\n"
     ]
    }
   ],
   "source": [
    "print(np.sum(Net.params['out_embedding_scale'][1].data[...]-arg_params['out_embedding_beta'].asnumpy()))\n",
    "print(np.sum(Net.params['out_embedding_scale'][0].data[...]-arg_params['out_embedding_gamma'].asnumpy()))\n",
    "print(np.sum(Net.params['out_embedding'][0].data[...]-aux_params['out_embedding_moving_mean'].asnumpy()))\n",
    "print(np.sum(Net.params['out_embedding'][1].data[...]-aux_params['out_embedding_moving_var'].asnumpy()))"
   ]
  },
  {
   "cell_type": "code",
   "execution_count": 25,
   "metadata": {},
   "outputs": [
    {
     "data": {
      "text/plain": [
       "1"
      ]
     },
     "execution_count": 25,
     "metadata": {},
     "output_type": "execute_result"
    }
   ],
   "source": [
    "arg_params['out_embedding_gamma']"
   ]
  },
  {
   "cell_type": "code",
   "execution_count": 21,
   "metadata": {},
   "outputs": [],
   "source": [
    "Net.params['out_embedding_scale'][0].data[...]=1.0"
   ]
  },
  {
   "cell_type": "code",
   "execution_count": 22,
   "metadata": {},
   "outputs": [],
   "source": [
    "out_caffe = getOutput('/media/macul/black/face_database_raw_data/mscelb_from_insightface/Data/0000000/0001.png', 'out_embedding')"
   ]
  },
  {
   "cell_type": "code",
   "execution_count": 23,
   "metadata": {},
   "outputs": [
    {
     "data": {
      "text/plain": [
       "1.0"
      ]
     },
     "execution_count": 23,
     "metadata": {},
     "output_type": "execute_result"
    }
   ],
   "source": [
    "np.dot(out_caffe/np.linalg.norm(out_caffe),out_mx/np.linalg.norm(out_mx))"
   ]
  },
  {
   "cell_type": "code",
   "execution_count": 24,
   "metadata": {},
   "outputs": [],
   "source": [
    "Net.save('/media/macul/black/mxnet_training/r50/server_train18/server_train18_6062-caffe.caffemodel')"
   ]
  },
  {
   "cell_type": "code",
   "execution_count": null,
   "metadata": {},
   "outputs": [],
   "source": [
    "# rename dgx_train7_58-caffe.prototxt as resnet20_no_merge.prototxt\n",
    "# rename dgx_train7_58-caffe-converted.caffemodel as resnet20_no_merge.caffemodel"
   ]
  },
  {
   "cell_type": "code",
   "execution_count": 26,
   "metadata": {},
   "outputs": [],
   "source": [
    "#cfModelProto='/media/macul/black/mxnet_training/r50/dgx_train1/dgx_train1_31-caffe.prototxt'\n",
    "#cfModelWeight='/media/macul/black/mxnet_training/r50/dgx_train1/dgx_train1_31-caffe.caffemodel'\n",
    "cfModelProto='/media/macul/black/mxnet_training/r50/server_train18/server_train18-caffe.prototxt'\n",
    "cfModelWeight='/media/macul/black/mxnet_training/r50/server_train18/server_train18_6062-caffe.caffemodel'\n",
    "Net = caffe.Net(cfModelProto, cfModelWeight, caffe.TEST)\n",
    "Net.blobs['data'].reshape(1,3,112,112)"
   ]
  },
  {
   "cell_type": "code",
   "execution_count": 27,
   "metadata": {},
   "outputs": [],
   "source": [
    "out_caffe_new = getOutput('/media/macul/black/face_database_raw_data/mscelb_from_insightface/Data/0000000/0001.png', 'out_embedding')"
   ]
  },
  {
   "cell_type": "code",
   "execution_count": 28,
   "metadata": {},
   "outputs": [
    {
     "data": {
      "text/plain": [
       "1.0"
      ]
     },
     "execution_count": 28,
     "metadata": {},
     "output_type": "execute_result"
    }
   ],
   "source": [
    "np.dot(out_caffe_new/np.linalg.norm(out_caffe_new),out_mx/np.linalg.norm(out_mx))"
   ]
  },
  {
   "cell_type": "code",
   "execution_count": 29,
   "metadata": {},
   "outputs": [],
   "source": [
    "# dgx_train1_31-caffe.prototxt and dgx_train1_31-caffe.caffemodel are converted caffe model for use\n",
    "# note that the input channel should be RGB, image should be normalized, and the output embedding should be normalized by its norm"
   ]
  },
  {
   "cell_type": "code",
   "execution_count": 30,
   "metadata": {},
   "outputs": [
    {
     "data": {
      "text/plain": [
       "0.08831205"
      ]
     },
     "execution_count": 30,
     "metadata": {},
     "output_type": "execute_result"
    }
   ],
   "source": [
    "np.linalg.norm(out_caffe_new)"
   ]
  },
  {
   "cell_type": "code",
   "execution_count": null,
   "metadata": {},
   "outputs": [],
   "source": [
    "# next to merge BN layer using merge-caffe-bn-conv-layer.ipynb"
   ]
  }
 ],
 "metadata": {
  "kernelspec": {
   "display_name": "Python 2",
   "language": "python",
   "name": "python2"
  },
  "language_info": {
   "codemirror_mode": {
    "name": "ipython",
    "version": 2
   },
   "file_extension": ".py",
   "mimetype": "text/x-python",
   "name": "python",
   "nbconvert_exporter": "python",
   "pygments_lexer": "ipython2",
   "version": "2.7.12"
  }
 },
 "nbformat": 4,
 "nbformat_minor": 2
}
