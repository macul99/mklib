{
 "cells": [
  {
   "cell_type": "code",
   "execution_count": 3,
   "metadata": {},
   "outputs": [],
   "source": [
    "import sys\n",
    "sys.path.append('/home/macul/libraries/MXNet2Caffe')\n",
    "sys.path.append('/home/macul/insightface/src/')\n",
    "sys.path.append('/home/macul/libraries/mk_utils/mklib/nn/mxiter')\n",
    "sys.path.append('/home/macul/libraries/mk_utils/mklib/nn/mxconv')\n",
    "import mxnet as mx\n",
    "import caffe\n",
    "from collections import namedtuple\n",
    "import numpy as np\n",
    "import cv2\n",
    "import pandas as pd\n",
    "import matplotlib.pyplot as plt"
   ]
  },
  {
   "cell_type": "code",
   "execution_count": 5,
   "metadata": {},
   "outputs": [],
   "source": [
    "labelFile = '/media/macul/black/face_database_raw_data/CelebA/identity_CelebA.txt'"
   ]
  },
  {
   "cell_type": "code",
   "execution_count": 6,
   "metadata": {},
   "outputs": [],
   "source": [
    "img_names=[]\n",
    "id_names=[]\n",
    "with open(labelFile,'rb') as f:\n",
    "    for line in f.readlines():\n",
    "        img_name, id_name = line.split()\n",
    "        img_names.append(img_name)\n",
    "        id_names.append(int(id_name))"
   ]
  },
  {
   "cell_type": "code",
   "execution_count": 7,
   "metadata": {},
   "outputs": [],
   "source": [
    "labels = pd.DataFrame()\n",
    "labels['id']=id_names\n",
    "labels['img']=img_names"
   ]
  },
  {
   "cell_type": "code",
   "execution_count": 4,
   "metadata": {},
   "outputs": [],
   "source": [
    "labels['id'].hist()"
   ]
  },
  {
   "cell_type": "code",
   "execution_count": 5,
   "metadata": {},
   "outputs": [],
   "source": [
    "attrFile = '/media/macul/black/face_database_raw_data/CelebA/list_attr_celeba.txt'"
   ]
  },
  {
   "cell_type": "code",
   "execution_count": 27,
   "metadata": {},
   "outputs": [
    {
     "name": "stdout",
     "output_type": "stream",
     "text": [
      "[15, 20, 31, 35, 39]\n"
     ]
    }
   ],
   "source": [
    "with open(attrFile,'rb') as f:\n",
    "    f.readline()\n",
    "    attr=f.readline().split()\n",
    "    attr_useful = ['Eyeglasses', 'Male', 'Smiling', 'Wearing_Hat', 'Young']\n",
    "    attr_idx = [attr.index(a) for a in attr_useful]\n",
    "    print(attr_idx)\n",
    "    attr_dic = {'img_name': []}\n",
    "    for a in attr_useful:\n",
    "        attr_dic[a] = []\n",
    "    for line in f.readlines():\n",
    "        tmp = line.split()\n",
    "        attr_dic['img_name'].append(tmp[0])\n",
    "        for idx, a in enumerate(attr_useful):\n",
    "            attr_dic[a].append(int(tmp[attr_idx[idx]+1]))"
   ]
  },
  {
   "cell_type": "code",
   "execution_count": 29,
   "metadata": {},
   "outputs": [],
   "source": [
    "df_attr=pd.DataFrame(attr_dic)"
   ]
  },
  {
   "cell_type": "code",
   "execution_count": 30,
   "metadata": {},
   "outputs": [
    {
     "data": {
      "text/plain": [
       "Index([u'Eyeglasses', u'Male', u'Smiling', u'Wearing_Hat', u'Young',\n",
       "       u'img_name'],\n",
       "      dtype='object')"
      ]
     },
     "execution_count": 30,
     "metadata": {},
     "output_type": "execute_result"
    }
   ],
   "source": [
    "df_attr.keys()"
   ]
  },
  {
   "cell_type": "code",
   "execution_count": 37,
   "metadata": {},
   "outputs": [
    {
     "data": {
      "text/plain": [
       "-1    118165\n",
       " 1     84434\n",
       "Name: Male, dtype: int64"
      ]
     },
     "execution_count": 37,
     "metadata": {},
     "output_type": "execute_result"
    }
   ],
   "source": [
    "df_attr['Male'].value_counts()"
   ]
  },
  {
   "cell_type": "code",
   "execution_count": 38,
   "metadata": {},
   "outputs": [
    {
     "data": {
      "text/plain": [
       "-1    189406\n",
       " 1     13193\n",
       "Name: Eyeglasses, dtype: int64"
      ]
     },
     "execution_count": 38,
     "metadata": {},
     "output_type": "execute_result"
    }
   ],
   "source": [
    "df_attr['Eyeglasses'].value_counts()"
   ]
  },
  {
   "cell_type": "code",
   "execution_count": 39,
   "metadata": {},
   "outputs": [
    {
     "data": {
      "text/plain": [
       "-1    104930\n",
       " 1     97669\n",
       "Name: Smiling, dtype: int64"
      ]
     },
     "execution_count": 39,
     "metadata": {},
     "output_type": "execute_result"
    }
   ],
   "source": [
    "df_attr['Smiling'].value_counts()"
   ]
  },
  {
   "cell_type": "code",
   "execution_count": 40,
   "metadata": {},
   "outputs": [
    {
     "data": {
      "text/plain": [
       "-1    192781\n",
       " 1      9818\n",
       "Name: Wearing_Hat, dtype: int64"
      ]
     },
     "execution_count": 40,
     "metadata": {},
     "output_type": "execute_result"
    }
   ],
   "source": [
    "df_attr['Wearing_Hat'].value_counts()"
   ]
  },
  {
   "cell_type": "code",
   "execution_count": 41,
   "metadata": {},
   "outputs": [
    {
     "data": {
      "text/plain": [
       " 1    156734\n",
       "-1     45865\n",
       "Name: Young, dtype: int64"
      ]
     },
     "execution_count": 41,
     "metadata": {},
     "output_type": "execute_result"
    }
   ],
   "source": [
    "df_attr['Young'].value_counts()"
   ]
  },
  {
   "cell_type": "code",
   "execution_count": null,
   "metadata": {},
   "outputs": [],
   "source": []
  }
 ],
 "metadata": {
  "kernelspec": {
   "display_name": "Python 2",
   "language": "python",
   "name": "python2"
  },
  "language_info": {
   "codemirror_mode": {
    "name": "ipython",
    "version": 2
   },
   "file_extension": ".py",
   "mimetype": "text/x-python",
   "name": "python",
   "nbconvert_exporter": "python",
   "pygments_lexer": "ipython2",
   "version": "2.7.12"
  }
 },
 "nbformat": 4,
 "nbformat_minor": 2
}
