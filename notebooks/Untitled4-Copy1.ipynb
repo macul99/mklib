{
 "cells": [
  {
   "cell_type": "code",
   "execution_count": 17,
   "metadata": {},
   "outputs": [
    {
     "name": "stdout",
     "output_type": "stream",
     "text": [
      "[0.22243643 0.4079176  0.36964527] 1937\n",
      "0.9261744966442953\n",
      "0.42746515229736703\n",
      "0.030459473412493547\n"
     ]
    }
   ],
   "source": [
    "th=0.772\n",
    "tht=0.9\n",
    "thf=0.95\n",
    "rst_file = '/home/macul/casia_image_17_19_mtcnn20.pkl'\n",
    "with open(rst_file,'rb') as f:\n",
    "    rst = pkl.load(f)\n",
    "    rst = np.array(rst)\n",
    "print(np.mean(rst,0), rst.shape[0])\n",
    "print(np.sum(rst[:,0]<=th)/rst.shape[0])\n",
    "print(np.sum(rst[:,0]<=1.0-thf)/rst.shape[0])\n",
    "print(np.sum(rst[:,0]>tht)/rst.shape[0])"
   ]
  },
  {
   "cell_type": "code",
   "execution_count": 2,
   "metadata": {},
   "outputs": [],
   "source": [
    "import numpy as np\n",
    "import pickle as pkl"
   ]
  },
  {
   "cell_type": "code",
   "execution_count": 18,
   "metadata": {},
   "outputs": [
    {
     "name": "stdout",
     "output_type": "stream",
     "text": [
      "[0.06758531 0.43412152 0.4982922 ] 1720\n",
      "0.9976744186046511\n",
      "0.6680232558139535\n",
      "0.0005813953488372093\n"
     ]
    }
   ],
   "source": [
    "rst_file = '/home/macul/casia_screen_17_19_mtcnn20.pkl'\n",
    "with open(rst_file,'rb') as f:\n",
    "    rst = pkl.load(f)\n",
    "    rst = np.array(rst)\n",
    "print(np.mean(rst,0), rst.shape[0])\n",
    "print(np.sum(rst[:,0]<=th)/rst.shape[0])\n",
    "print(np.sum(rst[:,0]<=1.0-thf)/rst.shape[0])\n",
    "print(np.sum(rst[:,0]>tht)/rst.shape[0])"
   ]
  },
  {
   "cell_type": "code",
   "execution_count": 23,
   "metadata": {},
   "outputs": [
    {
     "name": "stdout",
     "output_type": "stream",
     "text": [
      "[0.18713544 0.50995964 0.30290538] 1937\n",
      "0.9514713474445018\n",
      "0.4661848218895199\n",
      "0.022715539494062985\n"
     ]
    }
   ],
   "source": [
    "th=0.885\n",
    "tht=0.96\n",
    "thf=0.95\n",
    "rst_file = '/home/macul/casia_image_16_10_mtcnn20.pkl'\n",
    "with open(rst_file,'rb') as f:\n",
    "    rst = pkl.load(f)\n",
    "    rst = np.array(rst)\n",
    "print(np.mean(rst,0), rst.shape[0])\n",
    "print(np.sum(rst[:,0]<=th)/rst.shape[0])\n",
    "print(np.sum(rst[:,0]<=1.0-thf)/rst.shape[0])\n",
    "print(np.sum(rst[:,0]>tht)/rst.shape[0])"
   ]
  },
  {
   "cell_type": "code",
   "execution_count": 20,
   "metadata": {},
   "outputs": [
    {
     "name": "stdout",
     "output_type": "stream",
     "text": [
      "[0.09158415 0.28926352 0.6191523 ] 1720\n",
      "0.9936046511627907\n",
      "0.7930232558139535\n",
      "0.0029069767441860465\n"
     ]
    }
   ],
   "source": [
    "rst_file = '/home/macul/casia_screen_16_10_mtcnn20.pkl'\n",
    "with open(rst_file,'rb') as f:\n",
    "    rst = pkl.load(f)\n",
    "    rst = np.array(rst)\n",
    "print(np.mean(rst,0), rst.shape[0])\n",
    "print(np.sum(rst[:,0]<=th)/rst.shape[0])\n",
    "print(np.sum(rst[:,0]<=1.0-thf)/rst.shape[0])\n",
    "print(np.sum(rst[:,0]>tht)/rst.shape[0])"
   ]
  },
  {
   "cell_type": "code",
   "execution_count": 31,
   "metadata": {},
   "outputs": [
    {
     "name": "stdout",
     "output_type": "stream",
     "text": [
      "[0.233869   0.6052027  0.16092801] 1937\n",
      "0.9292720702116676\n",
      "0.46360351058337634\n",
      "0.03149199793495096\n"
     ]
    }
   ],
   "source": [
    "th=0.885\n",
    "tht=0.96\n",
    "thf=0.95\n",
    "rst_file = '/home/macul/dgx_casia_image_2_7_mtcnn20.pkl'\n",
    "with open(rst_file,'rb') as f:\n",
    "    rst = pkl.load(f)\n",
    "    rst = np.array(rst)\n",
    "print(np.mean(rst,0), rst.shape[0])\n",
    "print(np.sum(rst[:,0]<=th)/rst.shape[0])\n",
    "print(np.sum(rst[:,0]<=1.0-thf)/rst.shape[0])\n",
    "print(np.sum(rst[:,0]>tht)/rst.shape[0])"
   ]
  },
  {
   "cell_type": "code",
   "execution_count": 33,
   "metadata": {},
   "outputs": [
    {
     "name": "stdout",
     "output_type": "stream",
     "text": [
      "[0.233869   0.6052027  0.16092801] 1937\n",
      "0.9292720702116676\n",
      "0.46360351058337634\n",
      "0.03149199793495096\n"
     ]
    }
   ],
   "source": [
    "th=0.885\n",
    "tht=0.96\n",
    "thf=0.95\n",
    "rst_file = '/home/macul/casia_image_2_20_mtcnn20.pkl'\n",
    "with open(rst_file,'rb') as f:\n",
    "    rst = pkl.load(f)\n",
    "    rst = np.array(rst)\n",
    "print(np.mean(rst,0), rst.shape[0])\n",
    "print(np.sum(rst[:,0]<=th)/rst.shape[0])\n",
    "print(np.sum(rst[:,0]<=1.0-thf)/rst.shape[0])\n",
    "print(np.sum(rst[:,0]>tht)/rst.shape[0])"
   ]
  },
  {
   "cell_type": "code",
   "execution_count": 27,
   "metadata": {},
   "outputs": [
    {
     "name": "stdout",
     "output_type": "stream",
     "text": [
      "[0.22476439 0.4357772  0.33945835] 1720\n",
      "0.9418604651162791\n",
      "0.4994186046511628\n",
      "0.019767441860465116\n"
     ]
    }
   ],
   "source": [
    "rst_file = '/home/macul/dgx_casia_screen_2_7_mtcnn20.pkl'\n",
    "with open(rst_file,'rb') as f:\n",
    "    rst = pkl.load(f)\n",
    "    rst = np.array(rst)\n",
    "print(np.mean(rst,0), rst.shape[0])\n",
    "print(np.sum(rst[:,0]<=th)/rst.shape[0])\n",
    "print(np.sum(rst[:,0]<=1.0-thf)/rst.shape[0])\n",
    "print(np.sum(rst[:,0]>tht)/rst.shape[0])"
   ]
  },
  {
   "cell_type": "code",
   "execution_count": 17,
   "metadata": {},
   "outputs": [
    {
     "name": "stdout",
     "output_type": "stream",
     "text": [
      "[0.2918521  0.6084767  0.09967159] 1582\n",
      "0.7338811630847029\n",
      "0.3558786346396966\n",
      "0.08217446270543616\n"
     ]
    }
   ],
   "source": [
    "th=0.5\n",
    "tht=0.9\n",
    "thf=0.95\n",
    "rst_file = '/home/macul/casia_image_13_6.pkl'\n",
    "with open(rst_file,'rb') as f:\n",
    "    rst = pkl.load(f)\n",
    "    rst = np.array(rst)\n",
    "print(np.mean(rst,0), rst.shape[0])\n",
    "print(np.sum(rst[:,0]<=th)/rst.shape[0])\n",
    "print(np.sum(rst[:,0]<=1.0-thf)/rst.shape[0])\n",
    "print(np.sum(rst[:,0]>tht)/rst.shape[0])"
   ]
  },
  {
   "cell_type": "code",
   "execution_count": 18,
   "metadata": {},
   "outputs": [
    {
     "name": "stdout",
     "output_type": "stream",
     "text": [
      "[0.09103951 0.7571555  0.15180524] 1660\n",
      "0.9493975903614458\n",
      "0.6716867469879518\n",
      "0.0030120481927710845\n"
     ]
    }
   ],
   "source": [
    "rst_file = '/home/macul/casia_screen_13_6.pkl'\n",
    "with open(rst_file,'rb') as f:\n",
    "    rst = pkl.load(f)\n",
    "    rst = np.array(rst)\n",
    "print(np.mean(rst,0), rst.shape[0])\n",
    "print(np.sum(rst[:,0]<=th)/rst.shape[0])\n",
    "print(np.sum(rst[:,0]<=1.0-thf)/rst.shape[0])\n",
    "print(np.sum(rst[:,0]>tht)/rst.shape[0])"
   ]
  },
  {
   "cell_type": "code",
   "execution_count": 30,
   "metadata": {},
   "outputs": [
    {
     "name": "stdout",
     "output_type": "stream",
     "text": [
      "[0.6160527  0.30601195 0.07793532] 2803\n",
      "0.3738851230824117\n",
      "0.13877987870139136\n",
      "0.4070638601498395\n"
     ]
    }
   ],
   "source": [
    "th=0.5\n",
    "tht=0.9\n",
    "thf=0.95\n",
    "rst_file = '/home/macul/dgx_MSU_neg_2_7_mtcnn20_pb.pkl'\n",
    "with open(rst_file,'rb') as f:\n",
    "    rst = pkl.load(f)\n",
    "    rst = np.array(rst)\n",
    "print(np.mean(rst,0), rst.shape[0])\n",
    "print(np.sum(rst[:,0]<=th)/rst.shape[0])\n",
    "print(np.sum(rst[:,0]<=1.0-thf)/rst.shape[0])\n",
    "print(np.sum(rst[:,0]>tht)/rst.shape[0])"
   ]
  },
  {
   "cell_type": "code",
   "execution_count": 18,
   "metadata": {},
   "outputs": [
    {
     "name": "stdout",
     "output_type": "stream",
     "text": [
      "0.665862969660438\n"
     ]
    }
   ],
   "source": []
  },
  {
   "cell_type": "code",
   "execution_count": 13,
   "metadata": {},
   "outputs": [
    {
     "name": "stdout",
     "output_type": "stream",
     "text": [
      "(4977, 3)\n"
     ]
    }
   ],
   "source": [
    "print(rst.shape)"
   ]
  },
  {
   "cell_type": "code",
   "execution_count": null,
   "metadata": {},
   "outputs": [],
   "source": []
  }
 ],
 "metadata": {
  "kernelspec": {
   "display_name": "Python 3",
   "language": "python",
   "name": "python3"
  }
 },
 "nbformat": 4,
 "nbformat_minor": 2
}
