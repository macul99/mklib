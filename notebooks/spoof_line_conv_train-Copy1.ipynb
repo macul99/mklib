{
 "cells": [
  {
   "cell_type": "code",
   "execution_count": null,
   "metadata": {},
   "outputs": [],
   "source": [
    "import tensorflow as tf\n",
    "import numpy as np\n",
    "import os\n",
    "from os.path import isdir\n",
    "from os import mkdir\n",
    "from shutil import copyfile\n",
    "import time\n",
    "from PIL import Image\n",
    "import pickle\n",
    "from spoofing_ld_conv.SpoofLineConvTf import SpoofLineConvTf\n",
    "from tf_spoof.config import net_config_ld_conv as config\n",
    "config.BASE_PATH = '/media/macul/black/spoof_db/train_test_all/tfrecord'\n",
    "config.CFG_PATH = '/home/macul/libraries/mk_utils/tf_spoof/config'\n",
    "config.OUT_PATH = '/home/macul/libraries/mk_utils/tf_spoof/output1'\n",
    "'''\n",
    "config.TRAIN_REC = [os.path.sep.join([config.BASE_PATH, \"train6-00000-of-00005\"]),\n",
    "                    os.path.sep.join([config.BASE_PATH, \"train6-00001-of-00005\"]),\n",
    "                    os.path.sep.join([config.BASE_PATH, \"train6-00002-of-00005\"]),\n",
    "                    os.path.sep.join([config.BASE_PATH, \"train6-00003-of-00005\"]),\n",
    "                    os.path.sep.join([config.BASE_PATH, \"train6-00004-of-00005\"]),]\n",
    "config.VAL_REC = [os.path.sep.join([config.BASE_PATH, \"validation6-00000-of-00005\"]),\n",
    "                  os.path.sep.join([config.BASE_PATH, \"validation6-00001-of-00005\"]),\n",
    "                  os.path.sep.join([config.BASE_PATH, \"validation6-00002-of-00005\"]),\n",
    "                  os.path.sep.join([config.BASE_PATH, \"validation6-00003-of-00005\"]),\n",
    "                  os.path.sep.join([config.BASE_PATH, \"validation6-00004-of-00005\"])]\n",
    "'''\n",
    "config.TRAIN_REC = [ os.path.sep.join([config.BASE_PATH, \"train6_mtcnn-00000-of-00005\"]),\n",
    "                     os.path.sep.join([config.BASE_PATH, \"train6_mtcnn-00001-of-00005\"]),\n",
    "                     os.path.sep.join([config.BASE_PATH, \"train6_mtcnn-00002-of-00005\"]),\n",
    "                     os.path.sep.join([config.BASE_PATH, \"train6_mtcnn-00003-of-00005\"]),\n",
    "                     os.path.sep.join([config.BASE_PATH, \"train6_mtcnn-00004-of-00005\"]),]\n",
    "config.VAL_REC = [ os.path.sep.join([config.BASE_PATH, \"val6_mtcnn-00000-of-00005\"]),\n",
    "                   os.path.sep.join([config.BASE_PATH, \"val6_mtcnn-00001-of-00005\"]),\n",
    "                   os.path.sep.join([config.BASE_PATH, \"val6_mtcnn-00002-of-00005\"]),\n",
    "                   os.path.sep.join([config.BASE_PATH, \"val6_mtcnn-00003-of-00005\"]),\n",
    "                   os.path.sep.join([config.BASE_PATH, \"val6_mtcnn-00004-of-00005\"])]"
   ]
  },
  {
   "cell_type": "code",
   "execution_count": null,
   "metadata": {},
   "outputs": [],
   "source": [
    "os.environ[\"CUDA_VISIBLE_DEVICES\"] = config.DEVICE_IDS\n",
    "#batchSize = config.BATCH_SIZE * config.NUM_DEVICES"
   ]
  },
  {
   "cell_type": "code",
   "execution_count": null,
   "metadata": {},
   "outputs": [],
   "source": [
    "SpoofVal = SpoofLineConvTf(config)\n",
    "\n",
    "# backup net_config file\n",
    "copyfile(config.CFG_PATH+'/net_config_ld_conv.py', os.path.sep.join([SpoofVal.checkpointsPath,'net_config_ld_conv_{}.py'.format(0)]))"
   ]
  },
  {
   "cell_type": "code",
   "execution_count": null,
   "metadata": {
    "scrolled": true
   },
   "outputs": [],
   "source": [
    "SpoofVal.train_net(-1)"
   ]
  },
  {
   "cell_type": "code",
   "execution_count": null,
   "metadata": {},
   "outputs": [],
   "source": [
    "# RESTART KERNEL AND RUN FROM HERE TO DO VALIDATION"
   ]
  },
  {
   "cell_type": "code",
   "execution_count": null,
   "metadata": {},
   "outputs": [],
   "source": [
    "import tensorflow as tf\n",
    "import numpy as np\n",
    "import os\n",
    "from os.path import isdir\n",
    "from os import mkdir\n",
    "from shutil import copyfile\n",
    "import time\n",
    "from PIL import Image\n",
    "import pickle\n",
    "from spoofing_lbp.SpoofDspTf import SpoofDspTf"
   ]
  },
  {
   "cell_type": "code",
   "execution_count": null,
   "metadata": {},
   "outputs": [],
   "source": [
    "ckpt_num = 9\n",
    "prefix = 'train_1'\n",
    "import sys\n",
    "sys.path.append('/home/macul/libraries/mk_utils/tf_spoof/output/{}'.format(prefix))\n",
    "import net_config_0 as config\n",
    "config.BASE_PATH = '/media/macul/black/spoof_db/train_test_all/tfrecord'\n",
    "config.CFG_PATH = '/home/macul/libraries/mk_utils/tf_spoof/config'\n",
    "config.OUT_PATH = '/home/macul/libraries/mk_utils/tf_spoof/output'\n",
    "config.VAL_REC = os.path.sep.join([config.BASE_PATH, \"validation.tfrecords\"])\n",
    "\n",
    "SpoofVal = SpoofDspTf(config)\n",
    "\n",
    "rst_val = SpoofVal.validate_net(ckpt_num, '/home/macul/test.pkl')"
   ]
  },
  {
   "cell_type": "code",
   "execution_count": null,
   "metadata": {},
   "outputs": [],
   "source": [
    "# RESTART KERNEL AND RUN FROM HERE TO DO EVALUATION"
   ]
  },
  {
   "cell_type": "code",
   "execution_count": null,
   "metadata": {},
   "outputs": [],
   "source": [
    "import tensorflow as tf\n",
    "import numpy as np\n",
    "import os\n",
    "from os.path import isdir\n",
    "from os import mkdir\n",
    "from shutil import copyfile\n",
    "import time\n",
    "from PIL import Image\n",
    "import pickle\n",
    "from spoofing_lbp.SpoofDspTf import SpoofDspTf"
   ]
  },
  {
   "cell_type": "code",
   "execution_count": null,
   "metadata": {},
   "outputs": [],
   "source": [
    "ckpt_num = 9\n",
    "prefix = 'train_1'\n",
    "import sys\n",
    "sys.path.append('/home/macul/libraries/mk_utils/tf_spoof/output/{}'.format(prefix))\n",
    "import net_config_0 as config\n",
    "config.BASE_PATH = '/media/macul/black/spoof_db/train_test_all/tfrecord'\n",
    "config.CFG_PATH = '/home/macul/libraries/mk_utils/tf_spoof/config'\n",
    "config.OUT_PATH = '/home/macul/libraries/mk_utils/tf_spoof/output'\n",
    "\n",
    "SpoofVal = SpoofDspTf(config)\n",
    "\n",
    "sess, embeddings, logit, pred, acc = SpoofVal.deploy_net(ckpt_num)"
   ]
  },
  {
   "cell_type": "code",
   "execution_count": null,
   "metadata": {},
   "outputs": [],
   "source": [
    "import cv2"
   ]
  },
  {
   "cell_type": "code",
   "execution_count": null,
   "metadata": {},
   "outputs": [],
   "source": [
    "img = cv2.imread('/home/macul/figure_1-5.png')\n",
    "img = cv2.cvtColor(img, cv2.COLOR_BGR2RGB)"
   ]
  },
  {
   "cell_type": "code",
   "execution_count": null,
   "metadata": {},
   "outputs": [],
   "source": [
    "rst = SpoofVal.eval(img, sess, pred)"
   ]
  },
  {
   "cell_type": "code",
   "execution_count": null,
   "metadata": {},
   "outputs": [],
   "source": [
    "print(rst[0])"
   ]
  },
  {
   "cell_type": "code",
   "execution_count": null,
   "metadata": {},
   "outputs": [],
   "source": []
  },
  {
   "cell_type": "code",
   "execution_count": null,
   "metadata": {},
   "outputs": [],
   "source": [
    "a.shape"
   ]
  },
  {
   "cell_type": "code",
   "execution_count": null,
   "metadata": {},
   "outputs": [],
   "source": [
    "a.reshape([1,-1])"
   ]
  },
  {
   "cell_type": "code",
   "execution_count": null,
   "metadata": {},
   "outputs": [],
   "source": [
    "a.shape"
   ]
  },
  {
   "cell_type": "code",
   "execution_count": null,
   "metadata": {},
   "outputs": [],
   "source": [
    "a[np.newaxis,:].shape"
   ]
  },
  {
   "cell_type": "code",
   "execution_count": null,
   "metadata": {},
   "outputs": [],
   "source": [
    "a"
   ]
  },
  {
   "cell_type": "code",
   "execution_count": null,
   "metadata": {},
   "outputs": [],
   "source": [
    "import tensorflow as tf\n",
    "tf.enable_eager_execution()\n",
    "\n",
    "global_step = tf.Variable(name='global_step', initial_value=0, trainable=False)\n",
    "lr = tf.train.piecewise_constant(global_step, boundaries=[100,1000], values=[0.1,0.01,0.001], name='lr_schedule')\n",
    "# define the optimize method\n",
    "opt = tf.train.MomentumOptimizer(learning_rate=lr, momentum=0.9)\n",
    "# get train op\n",
    "#grads = opt.compute_gradients(inference_loss)"
   ]
  },
  {
   "cell_type": "code",
   "execution_count": null,
   "metadata": {},
   "outputs": [],
   "source": [
    "tf.global_variables_initializer()"
   ]
  },
  {
   "cell_type": "code",
   "execution_count": null,
   "metadata": {},
   "outputs": [],
   "source": [
    "print(opt.variables())"
   ]
  },
  {
   "cell_type": "code",
   "execution_count": null,
   "metadata": {},
   "outputs": [],
   "source": [
    "print(global_step)"
   ]
  },
  {
   "cell_type": "code",
   "execution_count": null,
   "metadata": {},
   "outputs": [],
   "source": [
    "with tf.Session() as sess:\n",
    "    gb = sess.run(global_step)\n",
    "    print(gb)"
   ]
  },
  {
   "cell_type": "code",
   "execution_count": null,
   "metadata": {},
   "outputs": [],
   "source": []
  }
 ],
 "metadata": {
  "kernelspec": {
   "display_name": "Python 3",
   "language": "python",
   "name": "python3"
  },
  "language_info": {
   "codemirror_mode": {
    "name": "ipython",
    "version": 3
   },
   "file_extension": ".py",
   "mimetype": "text/x-python",
   "name": "python",
   "nbconvert_exporter": "python",
   "pygments_lexer": "ipython3",
   "version": "3.5.2"
  }
 },
 "nbformat": 4,
 "nbformat_minor": 2
}
