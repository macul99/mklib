{
 "cells": [
  {
   "cell_type": "code",
   "execution_count": 14,
   "metadata": {},
   "outputs": [],
   "source": [
    "import sys\n",
    "#sys.path.append('/home/macul/libraries/MXNet2Caffe')\n",
    "import pandas as pd\n",
    "from collections import namedtuple\n",
    "import numpy as np\n",
    "import cv2\n",
    "import pickle\n",
    "from PIL import Image\n",
    "import psutil\n",
    "def process_df(df_rst):\n",
    "    df_rst['user_id_top0'] = df_rst['user_id'].apply(lambda x: x[0])\n",
    "    df_rst['score_top0'] = df_rst['score'].apply(lambda x: x[0])\n",
    "    df_rst['score_top1'] = df_rst['score'].apply(lambda x: x[1])\n",
    "    df_rst['angle_top0']=np.arccos(df_rst['score_top0'])\n",
    "    df_rst['angle_top1']=np.arccos(df_rst['score_top1'])\n",
    "    df_rst['dst_path_top0'] = df_rst['dst_path'].apply(lambda x: x[0])\n",
    "    df_rst['dst_path_top0_name']=df_rst['dst_path_top0'].apply(lambda x: x.split('/')[-1].split('.')[0])\n",
    "    df_rst['src_path_name']=df_rst['src_path'].apply(lambda x: x.split('/')[-2])\n",
    "    return df_rst\n",
    "def my_sort(x):\n",
    "    x.sort()\n",
    "    return x\n",
    "def add_columns_suffix(df, suffix):\n",
    "    old_columns = df.columns.tolist()\n",
    "    new_columns = []\n",
    "    for col in old_columns:\n",
    "        if col != 'src_path':\n",
    "            col = col+suffix\n",
    "        new_columns.append(col)\n",
    "    print(new_columns)\n",
    "    df.columns = new_columns\n",
    "    return df"
   ]
  },
  {
   "cell_type": "code",
   "execution_count": 65,
   "metadata": {},
   "outputs": [
    {
     "name": "stdout",
     "output_type": "stream",
     "text": [
      "['src_path', 'dst_path_1', 'user_id_1', 'score_1', 'user_id_top0_1', 'score_top0_1', 'score_top1_1', 'angle_top0_1', 'angle_top1_1', 'dst_path_top0_1', 'dst_path_top0_name_1', 'src_path_name_1']\n",
      "['src_path', 'dst_path_2', 'user_id_2', 'score_2', 'user_id_top0_2', 'score_top0_2', 'score_top1_2', 'angle_top0_2', 'angle_top1_2', 'dst_path_top0_2', 'dst_path_top0_name_2', 'src_path_name_2']\n",
      "['src_path', 'dst_path_3', 'user_id_3', 'score_3', 'user_id_top0_3', 'score_top0_3', 'score_top1_3', 'angle_top0_3', 'angle_top1_3', 'dst_path_top0_3', 'dst_path_top0_name_3', 'src_path_name_3']\n"
     ]
    }
   ],
   "source": [
    "df1=pd.read_pickle('/media/macul/black/face_database_raw_data/faceRecog_out_crop/faceRecogOut_match_db_insight_original.pkl')\n",
    "#df2=pd.read_pickle('/media/macul/black/face_database_raw_data/faceRecog_out_crop/faceRecogOut_match_db_tf_mobilenet.pkl')\n",
    "df2=pd.read_pickle('/media/macul/black/face_database_raw_data/faceRecog_out_crop/faceRecogOut_match_db_caffe_sphereface_deepglint.pkl')\n",
    "#df2=pd.read_pickle('/media/macul/black/face_database_raw_data/faceRecog_out_crop/faceRecogOut_match_db_insight_baseline.pkl')\n",
    "df3=pd.read_pickle('/media/macul/black/face_database_raw_data/faceRecog_out_crop/faceRecogOut_match_db_dgx_train1.pkl')\n",
    "#df3=pd.read_pickle('/media/macul/black/face_database_raw_data/faceRecog_out_crop/faceRecogOut_match_db_landmarkloss_bfBugFix.pkl')\n",
    "#df3=pd.read_pickle('/media/macul/black/face_database_raw_data/faceRecog_out_crop/faceRecogOut_match_db_caffe_sphereface_asianface_glass_pp.pkl')\n",
    "#df3=pd.read_pickle('/media/macul/black/face_database_raw_data/faceRecog_out_crop/faceRecogOut_match_db_caffe_sphereface_asianface.pkl')\n",
    "df1=process_df(df1)\n",
    "df2=process_df(df2)\n",
    "df3=process_df(df3)\n",
    "df1=add_columns_suffix(df1, '_1')\n",
    "df2=add_columns_suffix(df2, '_2')\n",
    "df3=add_columns_suffix(df3, '_3')"
   ]
  },
  {
   "cell_type": "code",
   "execution_count": 66,
   "metadata": {},
   "outputs": [],
   "source": [
    "df12=pd.merge(df1, df2, how='inner', on='src_path', copy=True, indicator=False, validate=None)\n",
    "df123=pd.merge(df12, df3, how='inner', on='src_path', copy=True, indicator=False, validate=None)"
   ]
  },
  {
   "cell_type": "code",
   "execution_count": 67,
   "metadata": {},
   "outputs": [
    {
     "name": "stdout",
     "output_type": "stream",
     "text": [
      "120361\n",
      "120361\n",
      "120361\n"
     ]
    }
   ],
   "source": [
    "print(len(df1))\n",
    "print(len(df2))\n",
    "print(len(df123))"
   ]
  },
  {
   "cell_type": "code",
   "execution_count": 45,
   "metadata": {},
   "outputs": [
    {
     "data": {
      "text/plain": [
       "Index(['src_path', 'dst_path_1', 'user_id_1', 'score_1', 'user_id_top0_1',\n",
       "       'score_top0_1', 'score_top1_1', 'angle_top0_1', 'angle_top1_1',\n",
       "       'dst_path_top0_1', 'dst_path_top0_name_1', 'src_path_name_1',\n",
       "       'dst_path_2', 'user_id_2', 'score_2', 'user_id_top0_2', 'score_top0_2',\n",
       "       'score_top1_2', 'angle_top0_2', 'angle_top1_2', 'dst_path_top0_2',\n",
       "       'dst_path_top0_name_2', 'src_path_name_2', 'dst_path_3', 'user_id_3',\n",
       "       'score_3', 'user_id_top0_3', 'score_top0_3', 'score_top1_3',\n",
       "       'angle_top0_3', 'angle_top1_3', 'dst_path_top0_3',\n",
       "       'dst_path_top0_name_3', 'src_path_name_3'],\n",
       "      dtype='object')"
      ]
     },
     "execution_count": 45,
     "metadata": {},
     "output_type": "execute_result"
    }
   ],
   "source": [
    "df123.keys()"
   ]
  },
  {
   "cell_type": "code",
   "execution_count": 80,
   "metadata": {},
   "outputs": [
    {
     "name": "stdout",
     "output_type": "stream",
     "text": [
      "33461 33467 33465\n"
     ]
    }
   ],
   "source": [
    "print(len(df123[df123['score_top0_1']>0.5]),len(df123[df123['score_top0_2']>0.57277]),len(df123[df123['score_top0_3']>0.4601]))"
   ]
  },
  {
   "cell_type": "code",
   "execution_count": 81,
   "metadata": {},
   "outputs": [],
   "source": [
    "df123_m = df123[(df123['score_top0_1']>0.5)|(df123['score_top0_2']>0.57277)|(df123['score_top0_3']>0.4601)]"
   ]
  },
  {
   "cell_type": "code",
   "execution_count": 82,
   "metadata": {},
   "outputs": [
    {
     "name": "stdout",
     "output_type": "stream",
     "text": [
      "42917\n"
     ]
    }
   ],
   "source": [
    "print(len(df123_m))"
   ]
  },
  {
   "cell_type": "code",
   "execution_count": 83,
   "metadata": {},
   "outputs": [],
   "source": [
    "df123_m_equal = df123_m[(df123_m['dst_path_top0_name_1']==df123_m['dst_path_top0_name_2'])&(df123_m['dst_path_top0_name_1']==df123_m['dst_path_top0_name_3'])]"
   ]
  },
  {
   "cell_type": "code",
   "execution_count": 84,
   "metadata": {},
   "outputs": [
    {
     "name": "stdout",
     "output_type": "stream",
     "text": [
      "28197\n"
     ]
    }
   ],
   "source": [
    "print(len(df123_m_equal))"
   ]
  },
  {
   "cell_type": "code",
   "execution_count": 95,
   "metadata": {},
   "outputs": [
    {
     "data": {
      "text/plain": [
       "0.3600414991378784"
      ]
     },
     "execution_count": 95,
     "metadata": {},
     "output_type": "execute_result"
    }
   ],
   "source": [
    "df123_m_equal['score_top0_2'].min()"
   ]
  },
  {
   "cell_type": "code",
   "execution_count": 85,
   "metadata": {},
   "outputs": [
    {
     "name": "stdout",
     "output_type": "stream",
     "text": [
      "0.3336476683616638 0.3600414991378784 0.29931190609931946\n"
     ]
    }
   ],
   "source": [
    "print(df123_m_equal['score_top0_1'].min(),df123_m_equal['score_top0_2'].min(),df123_m_equal['score_top0_3'].min())"
   ]
  },
  {
   "cell_type": "code",
   "execution_count": 90,
   "metadata": {},
   "outputs": [
    {
     "name": "stdout",
     "output_type": "stream",
     "text": [
      "33461\n",
      "33467\n",
      "2970\n"
     ]
    }
   ],
   "source": [
    "df1_50=df1[df1['score_top0_1']>0.5]\n",
    "df2_57=df2[df2['score_top0_2']>0.57277]\n",
    "print(len(df1_50))\n",
    "print(len(df2_57))\n",
    "df12_m=df1_50.merge(df2_57, on=['src_path'])\n",
    "df12_m_diff=df12_m[df12_m['dst_path_top0_name_1']!=df12_m['dst_path_top0_name_2']].reset_index()\n",
    "print(len(df12_m_diff))"
   ]
  },
  {
   "cell_type": "code",
   "execution_count": 91,
   "metadata": {},
   "outputs": [],
   "source": [
    "df12_m_diff['dst_path_top0_name_diff_sorted'] = df12_m_diff.apply(lambda x: [x['dst_path_top0_name_1'],x['dst_path_top0_name_2']], axis=1)\n",
    "df12_m_diff['dst_path_top0_name_diff_sorted'] = df12_m_diff['dst_path_top0_name_diff_sorted'].apply(my_sort)"
   ]
  },
  {
   "cell_type": "code",
   "execution_count": 92,
   "metadata": {},
   "outputs": [],
   "source": [
    "unique_diff = []\n",
    "for d in df12_m_diff['dst_path_top0_name_diff_sorted'].values.tolist():\n",
    "    if d not in unique_diff:\n",
    "        unique_diff.append(d)"
   ]
  },
  {
   "cell_type": "code",
   "execution_count": 93,
   "metadata": {
    "scrolled": true
   },
   "outputs": [
    {
     "name": "stdout",
     "output_type": "stream",
     "text": [
      "0 578 ['84e09aa32b6c4dff9693ec03baf9cc68', '8dcccd3e1b824d80b073fc2e7b731fc0']\n",
      "\n",
      "1 578 ['8dcccd3e1b824d80b073fc2e7b731fc0', '904321946cde45499e402c605b686ab4']\n",
      "\n",
      "2 578 ['15160cc1c82e4e959f7377ea96ae19f9', '809767d7fb8d4c60a2897a219ca6879d']\n",
      "y\n",
      "3 578 ['15160cc1c82e4e959f7377ea96ae19f9', 'c8cb43f0bfe043029681133a8ee6a3a5']\n",
      "y\n",
      "4 578 ['15160cc1c82e4e959f7377ea96ae19f9', '5c8f8560eaea4785bb6ad6f367f898d4']\n",
      "y\n",
      "5 578 ['5c8f8560eaea4785bb6ad6f367f898d4', 'c8cb43f0bfe043029681133a8ee6a3a5']\n",
      "y\n",
      "6 578 ['15160cc1c82e4e959f7377ea96ae19f9', '294df1b57d714fa087e6bb6e1fe3645a']\n",
      "y\n",
      "7 578 ['809767d7fb8d4c60a2897a219ca6879d', 'c8cb43f0bfe043029681133a8ee6a3a5']\n",
      "y\n",
      "8 578 ['294df1b57d714fa087e6bb6e1fe3645a', '809767d7fb8d4c60a2897a219ca6879d']\n",
      "y\n",
      "9 578 ['6da594c91927400787b54ebab9b3f4af', 'c8cb43f0bfe043029681133a8ee6a3a5']\n",
      "y\n",
      "10 578 ['679e843e11bc4fbcadd2996e7e042a65', 'de8af6c4b5a64d968957f0468c069c4a']\n",
      "y\n",
      "11 578 ['94d095cc026f432da30280ad381b5188', 'e1787c031c244a4f9b95598d70ce8b22']\n",
      "\n",
      "12 578 ['7af03a36ad6c4a0cbaf8100392f26c18', 'd7f6049fa1a24484821716995dcc5e7f']\n",
      "y\n",
      "13 578 ['115f948bcde14fae85c2ac083d218683', 'cde140fb4af3494e9d3c6f337f619c91']\n",
      "y\n",
      "14 578 ['0b44ba9dea7f4871b3f870a8ef02d9e8', 'e14e23c12e8540f2b5589b0154950850']\n",
      "y\n",
      "15 578 ['285804959b724d5d841c895c63cecf14', 'eb1c8c675c04441890366a2ab3bf5ac0']\n",
      "\n",
      "16 578 ['285804959b724d5d841c895c63cecf14', 'fad9a07d51664bd5a02174d2e07b2e9b']\n",
      "\n",
      "17 578 ['eb1c8c675c04441890366a2ab3bf5ac0', 'fad9a07d51664bd5a02174d2e07b2e9b']\n",
      "\n",
      "18 578 ['d26b06298c974bfcac598f77dce45c07', 'd9d1146c24144d69ac2d874e3549843a']\n",
      "\n",
      "19 578 ['4f00fc9ec609402d82a83436e07913c5', 'bd40f793ce514529ac18b9d311ba38d3']\n",
      "y\n",
      "20 578 ['27adee15f2fa4fdc90f3b54feadb7dd8', '74cc7b7bf6224f5889df55600a0e7968']\n",
      "\n",
      "21 578 ['58c553aa5b28483b99bf03dc9985841e', 'c987ad3800514526b94c2715c62885ff']\n",
      "y\n",
      "22 578 ['50d34c5f3ac844e893cc60bec0059e33', 'fa5ad918bd524168a7edbc4b2daad1de']\n",
      "\n",
      "23 578 ['0fd9dfc7f9914eed8f17279b53968850', 'c6b2c901bf76441884fa94dd827de876']\n",
      "y\n",
      "24 578 ['50d34c5f3ac844e893cc60bec0059e33', 'c8191858789e4ed49e8089f71e1ee897']\n",
      "y\n",
      "25 578 ['71321ca7d63d41a090ffebddc4ff3d6d', '94afbf80884b407197f8f4c3854197f0']\n",
      "\n",
      "26 578 ['7b603384eeb14a968725b508197bd3e7', '94afbf80884b407197f8f4c3854197f0']\n",
      "\n",
      "27 578 ['4cbc37016ebb49dda3b0a261c4b424f5', '7b603384eeb14a968725b508197bd3e7']\n",
      "\n",
      "28 578 ['b2b8cdaded2c46d1b9615a7b8b68de5a', 'f60dd314518f4d2f87b4e075948a209b']\n",
      "y\n",
      "29 578 ['6da594c91927400787b54ebab9b3f4af', '809767d7fb8d4c60a2897a219ca6879d']\n",
      "y\n",
      "30 578 ['20dfd337aee748aea38cd0820a98c3e7', '65a6c8cc225049afbddcd12775b57ced']\n",
      "\n",
      "31 578 ['20dfd337aee748aea38cd0820a98c3e7', '449eb6d933404f50a8045b9b7e4681e1']\n",
      "\n",
      "32 578 ['20dfd337aee748aea38cd0820a98c3e7', 'c5ae770fa3404e31a95ea19586e9f867']\n",
      "\n",
      "33 578 ['8a292171825741bba7e0c0f8401d1b96', 'c85dddc1b4b143bb9691b1897ca7a81f']\n",
      "y\n",
      "34 578 ['75f2d4ede4c5484ca001f9c139e43af5', 'c92f64ebb7d04ac3af373d9c53eb4f86']\n",
      "y\n",
      "35 578 ['75f2d4ede4c5484ca001f9c139e43af5', 'b64aa7a264f240f69240b116c0c50bce']\n",
      "y\n",
      "36 578 ['904321946cde45499e402c605b686ab4', 'edc4d4e4a4a24820ba5ca7ba2048d5e9']\n",
      "\n",
      "37 578 ['1933695d62484cd78525339b2e748837', '8aaf0e1537634524be6f92430c9803fa']\n",
      "\n",
      "38 578 ['2116d6f639a54b3da403e3290fe33b8d', 'ddd601ca101c4360a0aff926c62d81a9']\n",
      "\n",
      "39 578 ['cdd6f732707b46adaeb3a3ad7d9836e7', 'fad9a07d51664bd5a02174d2e07b2e9b']\n",
      "y\n",
      "40 578 ['0d790f5bfa414814a23d927101415ae4', '39230765aad246ad8f2eb4f3e9ef9017']\n",
      "y\n",
      "41 578 ['6f377cf8d0b54b0383a1def4daf0a56e', 'b5030a29292c4dc4a0978cd02f25e53e']\n",
      "y\n",
      "42 578 ['4444985b33be4bdb9ce081bfa698e3b7', 'ac4779dcd7434f23aab50225ea09789b']\n",
      "\n",
      "43 578 ['1616ddc7118c429593ccea2da2b44523', 'a1db45b1da1a422da50c65453243d342']\n",
      "\n",
      "44 578 ['aa447a5efd2d4a0da32a73ac016dc1da', 'e00ab83d68e34178a357e9f4e01c05c1']\n",
      "y\n",
      "45 578 ['91379d5174d44c5c944a8c3be4bf01d0', 'edffd566f1ae4a8b9ab5e726d84f68c5']\n",
      "\n",
      "46 578 ['91379d5174d44c5c944a8c3be4bf01d0', 'fd018cfd87074079a68dcace6682a5f6']\n",
      "\n",
      "47 578 ['18960471668644aea3067f35d93d9526', '422805bba1864869a6b3021fd3adb033']\n",
      "y\n",
      "48 578 ['43b807c44bc548b8bc5bd0ffb70a5afa', '4ef40d6b44894db385d79a7d91a03649']\n",
      "\n",
      "49 578 ['899712a8a0c047e3a22bee2c6f4e06d0', '8aeaec03f770466fa019896ee66eea49']\n",
      "\n",
      "50 578 ['98b8a97023fe4070a3a40bd0934c6d0d', 'd4f39cd6fe524ec28d947bf4069d1abe']\n",
      "y\n",
      "51 578 ['00ad0eb141c4476aac8337303d1e78d2', '66226fb8c50f46c5827f30478143e61b']\n",
      "y\n",
      "52 578 ['00ad0eb141c4476aac8337303d1e78d2', '2fac13ad5ec74cbc82baf818d9841fd4']\n",
      "y\n",
      "53 578 ['2fac13ad5ec74cbc82baf818d9841fd4', '66226fb8c50f46c5827f30478143e61b']\n",
      "y\n",
      "54 578 ['8fab50bb088843b8b768b8e5273f551b', 'aebb03a9ab554c9781fdf33efb368f24']\n",
      "n\n",
      "55 578 ['3b17899dfa434761ae425b84452aaacf', 'bb6288f777bc4e4987b7ec340d82740e']\n",
      "\n",
      "56 578 ['c5ae770fa3404e31a95ea19586e9f867', 'e6c39e554df445a9bbfb038b46f52433']\n",
      "\n",
      "57 578 ['294df1b57d714fa087e6bb6e1fe3645a', '5c8f8560eaea4785bb6ad6f367f898d4']\n",
      "y\n",
      "58 578 ['294df1b57d714fa087e6bb6e1fe3645a', '6da594c91927400787b54ebab9b3f4af']\n",
      "y\n",
      "59 578 ['294df1b57d714fa087e6bb6e1fe3645a', 'c8cb43f0bfe043029681133a8ee6a3a5']\n",
      "y\n",
      "60 578 ['15160cc1c82e4e959f7377ea96ae19f9', '6da594c91927400787b54ebab9b3f4af']\n",
      "y\n",
      "61 578 ['b0942e8cc4784b1980462b442041f012', 'ecb2dddc76844a62a52fd56f363ed259']\n",
      "\n",
      "62 578 ['484e92755ca742fc8f2854fc33d58e11', '62839363870c484ea4c29acf2b9f413a']\n",
      "y\n",
      "63 578 ['7464e789944d4641b57313c14243cdb9', '81dbf6aa67d34a148a745a1f74376e78']\n",
      "y\n",
      "64 578 ['00ad0eb141c4476aac8337303d1e78d2', 'ff612f9bf24f4001b004a932a7dc6c95']\n"
     ]
    },
    {
     "ename": "KeyboardInterrupt",
     "evalue": "",
     "output_type": "error",
     "traceback": [
      "\u001b[0;31m---------------------------------------------------------------------------\u001b[0m",
      "\u001b[0;31mKeyboardInterrupt\u001b[0m                         Traceback (most recent call last)",
      "\u001b[0;32m~/tf_venv/lib/python3.5/site-packages/ipykernel/kernelbase.py\u001b[0m in \u001b[0;36m_input_request\u001b[0;34m(self, prompt, ident, parent, password)\u001b[0m\n\u001b[1;32m    877\u001b[0m             \u001b[0;32mtry\u001b[0m\u001b[0;34m:\u001b[0m\u001b[0;34m\u001b[0m\u001b[0m\n\u001b[0;32m--> 878\u001b[0;31m                 \u001b[0mident\u001b[0m\u001b[0;34m,\u001b[0m \u001b[0mreply\u001b[0m \u001b[0;34m=\u001b[0m \u001b[0mself\u001b[0m\u001b[0;34m.\u001b[0m\u001b[0msession\u001b[0m\u001b[0;34m.\u001b[0m\u001b[0mrecv\u001b[0m\u001b[0;34m(\u001b[0m\u001b[0mself\u001b[0m\u001b[0;34m.\u001b[0m\u001b[0mstdin_socket\u001b[0m\u001b[0;34m,\u001b[0m \u001b[0;36m0\u001b[0m\u001b[0;34m)\u001b[0m\u001b[0;34m\u001b[0m\u001b[0m\n\u001b[0m\u001b[1;32m    879\u001b[0m             \u001b[0;32mexcept\u001b[0m \u001b[0mException\u001b[0m\u001b[0;34m:\u001b[0m\u001b[0;34m\u001b[0m\u001b[0m\n",
      "\u001b[0;32m~/tf_venv/lib/python3.5/site-packages/jupyter_client/session.py\u001b[0m in \u001b[0;36mrecv\u001b[0;34m(self, socket, mode, content, copy)\u001b[0m\n\u001b[1;32m    802\u001b[0m         \u001b[0;32mtry\u001b[0m\u001b[0;34m:\u001b[0m\u001b[0;34m\u001b[0m\u001b[0m\n\u001b[0;32m--> 803\u001b[0;31m             \u001b[0mmsg_list\u001b[0m \u001b[0;34m=\u001b[0m \u001b[0msocket\u001b[0m\u001b[0;34m.\u001b[0m\u001b[0mrecv_multipart\u001b[0m\u001b[0;34m(\u001b[0m\u001b[0mmode\u001b[0m\u001b[0;34m,\u001b[0m \u001b[0mcopy\u001b[0m\u001b[0;34m=\u001b[0m\u001b[0mcopy\u001b[0m\u001b[0;34m)\u001b[0m\u001b[0;34m\u001b[0m\u001b[0m\n\u001b[0m\u001b[1;32m    804\u001b[0m         \u001b[0;32mexcept\u001b[0m \u001b[0mzmq\u001b[0m\u001b[0;34m.\u001b[0m\u001b[0mZMQError\u001b[0m \u001b[0;32mas\u001b[0m \u001b[0me\u001b[0m\u001b[0;34m:\u001b[0m\u001b[0;34m\u001b[0m\u001b[0m\n",
      "\u001b[0;32m~/tf_venv/lib/python3.5/site-packages/zmq/sugar/socket.py\u001b[0m in \u001b[0;36mrecv_multipart\u001b[0;34m(self, flags, copy, track)\u001b[0m\n\u001b[1;32m    466\u001b[0m         \"\"\"\n\u001b[0;32m--> 467\u001b[0;31m         \u001b[0mparts\u001b[0m \u001b[0;34m=\u001b[0m \u001b[0;34m[\u001b[0m\u001b[0mself\u001b[0m\u001b[0;34m.\u001b[0m\u001b[0mrecv\u001b[0m\u001b[0;34m(\u001b[0m\u001b[0mflags\u001b[0m\u001b[0;34m,\u001b[0m \u001b[0mcopy\u001b[0m\u001b[0;34m=\u001b[0m\u001b[0mcopy\u001b[0m\u001b[0;34m,\u001b[0m \u001b[0mtrack\u001b[0m\u001b[0;34m=\u001b[0m\u001b[0mtrack\u001b[0m\u001b[0;34m)\u001b[0m\u001b[0;34m]\u001b[0m\u001b[0;34m\u001b[0m\u001b[0m\n\u001b[0m\u001b[1;32m    468\u001b[0m         \u001b[0;31m# have first part already, only loop while more to receive\u001b[0m\u001b[0;34m\u001b[0m\u001b[0;34m\u001b[0m\u001b[0m\n",
      "\u001b[0;32mzmq/backend/cython/socket.pyx\u001b[0m in \u001b[0;36mzmq.backend.cython.socket.Socket.recv\u001b[0;34m()\u001b[0m\n",
      "\u001b[0;32mzmq/backend/cython/socket.pyx\u001b[0m in \u001b[0;36mzmq.backend.cython.socket.Socket.recv\u001b[0;34m()\u001b[0m\n",
      "\u001b[0;32mzmq/backend/cython/socket.pyx\u001b[0m in \u001b[0;36mzmq.backend.cython.socket._recv_copy\u001b[0;34m()\u001b[0m\n",
      "\u001b[0;32m~/tf_venv/lib/python3.5/site-packages/zmq/backend/cython/checkrc.pxd\u001b[0m in \u001b[0;36mzmq.backend.cython.checkrc._check_rc\u001b[0;34m()\u001b[0m\n",
      "\u001b[0;31mKeyboardInterrupt\u001b[0m: ",
      "\nDuring handling of the above exception, another exception occurred:\n",
      "\u001b[0;31mKeyboardInterrupt\u001b[0m                         Traceback (most recent call last)",
      "\u001b[0;32m<ipython-input-93-8b8bc72145d8>\u001b[0m in \u001b[0;36m<module>\u001b[0;34m\u001b[0m\n\u001b[1;32m      8\u001b[0m         \u001b[0mimg2\u001b[0m\u001b[0;34m=\u001b[0m\u001b[0mImage\u001b[0m\u001b[0;34m.\u001b[0m\u001b[0mopen\u001b[0m\u001b[0;34m(\u001b[0m\u001b[0mimg_loc\u001b[0m\u001b[0;34m.\u001b[0m\u001b[0mformat\u001b[0m\u001b[0;34m(\u001b[0m\u001b[0mud\u001b[0m\u001b[0;34m[\u001b[0m\u001b[0;36m1\u001b[0m\u001b[0;34m]\u001b[0m\u001b[0;34m)\u001b[0m\u001b[0;34m)\u001b[0m\u001b[0;34m\u001b[0m\u001b[0m\n\u001b[1;32m      9\u001b[0m         \u001b[0mimg2\u001b[0m\u001b[0;34m.\u001b[0m\u001b[0mshow\u001b[0m\u001b[0;34m(\u001b[0m\u001b[0;34m)\u001b[0m\u001b[0;34m\u001b[0m\u001b[0m\n\u001b[0;32m---> 10\u001b[0;31m         \u001b[0;32mif\u001b[0m \u001b[0minput\u001b[0m\u001b[0;34m(\u001b[0m\u001b[0;34m)\u001b[0m\u001b[0;34m==\u001b[0m\u001b[0;34m'y'\u001b[0m\u001b[0;34m:\u001b[0m\u001b[0;34m\u001b[0m\u001b[0m\n\u001b[0m\u001b[1;32m     11\u001b[0m             \u001b[0msame_person\u001b[0m\u001b[0;34m.\u001b[0m\u001b[0mappend\u001b[0m\u001b[0;34m(\u001b[0m\u001b[0mud\u001b[0m\u001b[0;34m)\u001b[0m\u001b[0;34m\u001b[0m\u001b[0m\n",
      "\u001b[0;32m~/tf_venv/lib/python3.5/site-packages/ipykernel/kernelbase.py\u001b[0m in \u001b[0;36mraw_input\u001b[0;34m(self, prompt)\u001b[0m\n\u001b[1;32m    851\u001b[0m             \u001b[0mself\u001b[0m\u001b[0;34m.\u001b[0m\u001b[0m_parent_ident\u001b[0m\u001b[0;34m,\u001b[0m\u001b[0;34m\u001b[0m\u001b[0m\n\u001b[1;32m    852\u001b[0m             \u001b[0mself\u001b[0m\u001b[0;34m.\u001b[0m\u001b[0m_parent_header\u001b[0m\u001b[0;34m,\u001b[0m\u001b[0;34m\u001b[0m\u001b[0m\n\u001b[0;32m--> 853\u001b[0;31m             \u001b[0mpassword\u001b[0m\u001b[0;34m=\u001b[0m\u001b[0;32mFalse\u001b[0m\u001b[0;34m,\u001b[0m\u001b[0;34m\u001b[0m\u001b[0m\n\u001b[0m\u001b[1;32m    854\u001b[0m         )\n\u001b[1;32m    855\u001b[0m \u001b[0;34m\u001b[0m\u001b[0m\n",
      "\u001b[0;32m~/tf_venv/lib/python3.5/site-packages/ipykernel/kernelbase.py\u001b[0m in \u001b[0;36m_input_request\u001b[0;34m(self, prompt, ident, parent, password)\u001b[0m\n\u001b[1;32m    881\u001b[0m             \u001b[0;32mexcept\u001b[0m \u001b[0mKeyboardInterrupt\u001b[0m\u001b[0;34m:\u001b[0m\u001b[0;34m\u001b[0m\u001b[0m\n\u001b[1;32m    882\u001b[0m                 \u001b[0;31m# re-raise KeyboardInterrupt, to truncate traceback\u001b[0m\u001b[0;34m\u001b[0m\u001b[0;34m\u001b[0m\u001b[0m\n\u001b[0;32m--> 883\u001b[0;31m                 \u001b[0;32mraise\u001b[0m \u001b[0mKeyboardInterrupt\u001b[0m\u001b[0;34m\u001b[0m\u001b[0m\n\u001b[0m\u001b[1;32m    884\u001b[0m             \u001b[0;32melse\u001b[0m\u001b[0;34m:\u001b[0m\u001b[0;34m\u001b[0m\u001b[0m\n\u001b[1;32m    885\u001b[0m                 \u001b[0;32mbreak\u001b[0m\u001b[0;34m\u001b[0m\u001b[0m\n",
      "\u001b[0;31mKeyboardInterrupt\u001b[0m: "
     ]
    }
   ],
   "source": [
    "same_person = []\n",
    "img_loc = '/media/macul/black/face_database_raw_data/faceRecog_out_database/var/data/ego_java_server_data/IIM_Images_Crop/{}.jpg'\n",
    "for i, ud in enumerate(unique_diff):\n",
    "    print(i,len(unique_diff), ud)\n",
    "    if ud not in same_person:\n",
    "        img1=Image.open(img_loc.format(ud[0]))\n",
    "        img1.show()\n",
    "        img2=Image.open(img_loc.format(ud[1]))\n",
    "        img2.show()\n",
    "        if input()=='y':\n",
    "            same_person.append(ud)"
   ]
  },
  {
   "cell_type": "code",
   "execution_count": 64,
   "metadata": {},
   "outputs": [],
   "source": [
    "same_person = same_person[0:-1]"
   ]
  },
  {
   "cell_type": "code",
   "execution_count": 69,
   "metadata": {},
   "outputs": [
    {
     "data": {
      "text/plain": [
       "96"
      ]
     },
     "execution_count": 69,
     "metadata": {},
     "output_type": "execute_result"
    }
   ],
   "source": [
    "len(same_person)"
   ]
  },
  {
   "cell_type": "code",
   "execution_count": 96,
   "metadata": {},
   "outputs": [],
   "source": [
    "same_person = pickle.load(open('/home/macul/faceRecogOut_same_person_id.pkl','rb'))"
   ]
  },
  {
   "cell_type": "code",
   "execution_count": 70,
   "metadata": {},
   "outputs": [],
   "source": [
    "pickle.dump(same_person,open('/home/macul/faceRecogOut_same_person_id.pkl','wb'))"
   ]
  },
  {
   "cell_type": "code",
   "execution_count": 53,
   "metadata": {},
   "outputs": [
    {
     "data": {
      "text/plain": [
       "Index(['index', 'src_path', 'dst_path_x', 'user_id_x', 'score_x',\n",
       "       'user_id_top0_x', 'score_top0_x', 'score_top1_x', 'angle_top0_x',\n",
       "       'angle_top1_x', 'dst_path_top0_x', 'dst_path_top0_name_x',\n",
       "       'src_path_name_x', 'dst_path_y', 'user_id_y', 'score_y',\n",
       "       'user_id_top0_y', 'score_top0_y', 'score_top1_y', 'angle_top0_y',\n",
       "       'angle_top1_y', 'dst_path_top0_y', 'dst_path_top0_name_y',\n",
       "       'src_path_name_y', 'dst_path_top0_name_diff_sorted'],\n",
       "      dtype='object')"
      ]
     },
     "execution_count": 53,
     "metadata": {},
     "output_type": "execute_result"
    }
   ],
   "source": [
    "df13_m_diff.keys()"
   ]
  },
  {
   "cell_type": "code",
   "execution_count": 98,
   "metadata": {},
   "outputs": [
    {
     "name": "stdout",
     "output_type": "stream",
     "text": [
      "0 ['84e09aa32b6c4dff9693ec03baf9cc68', '8dcccd3e1b824d80b073fc2e7b731fc0']\n",
      "\n",
      "1 ['8dcccd3e1b824d80b073fc2e7b731fc0', '904321946cde45499e402c605b686ab4']\n",
      "\n",
      "2 ['8dcccd3e1b824d80b073fc2e7b731fc0', '904321946cde45499e402c605b686ab4']\n",
      "\n",
      "3 ['84e09aa32b6c4dff9693ec03baf9cc68', '8dcccd3e1b824d80b073fc2e7b731fc0']\n",
      "\n",
      "4 ['8dcccd3e1b824d80b073fc2e7b731fc0', '904321946cde45499e402c605b686ab4']\n",
      "\n",
      "34 ['94d095cc026f432da30280ad381b5188', 'e1787c031c244a4f9b95598d70ce8b22']\n",
      "\n",
      "35 ['94d095cc026f432da30280ad381b5188', 'e1787c031c244a4f9b95598d70ce8b22']\n",
      "\n",
      "42 ['8dcccd3e1b824d80b073fc2e7b731fc0', '904321946cde45499e402c605b686ab4']\n",
      "\n",
      "43 ['8dcccd3e1b824d80b073fc2e7b731fc0', '904321946cde45499e402c605b686ab4']\n",
      "\n",
      "44 ['8dcccd3e1b824d80b073fc2e7b731fc0', '904321946cde45499e402c605b686ab4']\n",
      "\n",
      "58 ['285804959b724d5d841c895c63cecf14', 'eb1c8c675c04441890366a2ab3bf5ac0']\n",
      "\n",
      "59 ['285804959b724d5d841c895c63cecf14', 'fad9a07d51664bd5a02174d2e07b2e9b']\n",
      "\n",
      "60 ['eb1c8c675c04441890366a2ab3bf5ac0', 'fad9a07d51664bd5a02174d2e07b2e9b']\n"
     ]
    },
    {
     "ename": "KeyboardInterrupt",
     "evalue": "",
     "output_type": "error",
     "traceback": [
      "\u001b[0;31m---------------------------------------------------------------------------\u001b[0m",
      "\u001b[0;31mKeyboardInterrupt\u001b[0m                         Traceback (most recent call last)",
      "\u001b[0;32m~/tf_venv/lib/python3.5/site-packages/ipykernel/kernelbase.py\u001b[0m in \u001b[0;36m_input_request\u001b[0;34m(self, prompt, ident, parent, password)\u001b[0m\n\u001b[1;32m    877\u001b[0m             \u001b[0;32mtry\u001b[0m\u001b[0;34m:\u001b[0m\u001b[0;34m\u001b[0m\u001b[0m\n\u001b[0;32m--> 878\u001b[0;31m                 \u001b[0mident\u001b[0m\u001b[0;34m,\u001b[0m \u001b[0mreply\u001b[0m \u001b[0;34m=\u001b[0m \u001b[0mself\u001b[0m\u001b[0;34m.\u001b[0m\u001b[0msession\u001b[0m\u001b[0;34m.\u001b[0m\u001b[0mrecv\u001b[0m\u001b[0;34m(\u001b[0m\u001b[0mself\u001b[0m\u001b[0;34m.\u001b[0m\u001b[0mstdin_socket\u001b[0m\u001b[0;34m,\u001b[0m \u001b[0;36m0\u001b[0m\u001b[0;34m)\u001b[0m\u001b[0;34m\u001b[0m\u001b[0m\n\u001b[0m\u001b[1;32m    879\u001b[0m             \u001b[0;32mexcept\u001b[0m \u001b[0mException\u001b[0m\u001b[0;34m:\u001b[0m\u001b[0;34m\u001b[0m\u001b[0m\n",
      "\u001b[0;32m~/tf_venv/lib/python3.5/site-packages/jupyter_client/session.py\u001b[0m in \u001b[0;36mrecv\u001b[0;34m(self, socket, mode, content, copy)\u001b[0m\n\u001b[1;32m    802\u001b[0m         \u001b[0;32mtry\u001b[0m\u001b[0;34m:\u001b[0m\u001b[0;34m\u001b[0m\u001b[0m\n\u001b[0;32m--> 803\u001b[0;31m             \u001b[0mmsg_list\u001b[0m \u001b[0;34m=\u001b[0m \u001b[0msocket\u001b[0m\u001b[0;34m.\u001b[0m\u001b[0mrecv_multipart\u001b[0m\u001b[0;34m(\u001b[0m\u001b[0mmode\u001b[0m\u001b[0;34m,\u001b[0m \u001b[0mcopy\u001b[0m\u001b[0;34m=\u001b[0m\u001b[0mcopy\u001b[0m\u001b[0;34m)\u001b[0m\u001b[0;34m\u001b[0m\u001b[0m\n\u001b[0m\u001b[1;32m    804\u001b[0m         \u001b[0;32mexcept\u001b[0m \u001b[0mzmq\u001b[0m\u001b[0;34m.\u001b[0m\u001b[0mZMQError\u001b[0m \u001b[0;32mas\u001b[0m \u001b[0me\u001b[0m\u001b[0;34m:\u001b[0m\u001b[0;34m\u001b[0m\u001b[0m\n",
      "\u001b[0;32m~/tf_venv/lib/python3.5/site-packages/zmq/sugar/socket.py\u001b[0m in \u001b[0;36mrecv_multipart\u001b[0;34m(self, flags, copy, track)\u001b[0m\n\u001b[1;32m    466\u001b[0m         \"\"\"\n\u001b[0;32m--> 467\u001b[0;31m         \u001b[0mparts\u001b[0m \u001b[0;34m=\u001b[0m \u001b[0;34m[\u001b[0m\u001b[0mself\u001b[0m\u001b[0;34m.\u001b[0m\u001b[0mrecv\u001b[0m\u001b[0;34m(\u001b[0m\u001b[0mflags\u001b[0m\u001b[0;34m,\u001b[0m \u001b[0mcopy\u001b[0m\u001b[0;34m=\u001b[0m\u001b[0mcopy\u001b[0m\u001b[0;34m,\u001b[0m \u001b[0mtrack\u001b[0m\u001b[0;34m=\u001b[0m\u001b[0mtrack\u001b[0m\u001b[0;34m)\u001b[0m\u001b[0;34m]\u001b[0m\u001b[0;34m\u001b[0m\u001b[0m\n\u001b[0m\u001b[1;32m    468\u001b[0m         \u001b[0;31m# have first part already, only loop while more to receive\u001b[0m\u001b[0;34m\u001b[0m\u001b[0;34m\u001b[0m\u001b[0m\n",
      "\u001b[0;32mzmq/backend/cython/socket.pyx\u001b[0m in \u001b[0;36mzmq.backend.cython.socket.Socket.recv\u001b[0;34m()\u001b[0m\n",
      "\u001b[0;32mzmq/backend/cython/socket.pyx\u001b[0m in \u001b[0;36mzmq.backend.cython.socket.Socket.recv\u001b[0;34m()\u001b[0m\n",
      "\u001b[0;32mzmq/backend/cython/socket.pyx\u001b[0m in \u001b[0;36mzmq.backend.cython.socket._recv_copy\u001b[0;34m()\u001b[0m\n",
      "\u001b[0;32m~/tf_venv/lib/python3.5/site-packages/zmq/backend/cython/checkrc.pxd\u001b[0m in \u001b[0;36mzmq.backend.cython.checkrc._check_rc\u001b[0;34m()\u001b[0m\n",
      "\u001b[0;31mKeyboardInterrupt\u001b[0m: ",
      "\nDuring handling of the above exception, another exception occurred:\n",
      "\u001b[0;31mKeyboardInterrupt\u001b[0m                         Traceback (most recent call last)",
      "\u001b[0;32m<ipython-input-98-acd83dd01de7>\u001b[0m in \u001b[0;36m<module>\u001b[0;34m\u001b[0m\n\u001b[1;32m     12\u001b[0m         \u001b[0mimg2\u001b[0m\u001b[0;34m=\u001b[0m\u001b[0mImage\u001b[0m\u001b[0;34m.\u001b[0m\u001b[0mopen\u001b[0m\u001b[0;34m(\u001b[0m\u001b[0mimg_loc\u001b[0m\u001b[0;34m.\u001b[0m\u001b[0mformat\u001b[0m\u001b[0;34m(\u001b[0m\u001b[0mrow\u001b[0m\u001b[0;34m[\u001b[0m\u001b[0;34m'dst_path_top0_name_2'\u001b[0m\u001b[0;34m]\u001b[0m\u001b[0;34m)\u001b[0m\u001b[0;34m)\u001b[0m\u001b[0;34m\u001b[0m\u001b[0m\n\u001b[1;32m     13\u001b[0m         \u001b[0mimg2\u001b[0m\u001b[0;34m.\u001b[0m\u001b[0mshow\u001b[0m\u001b[0;34m(\u001b[0m\u001b[0;34m)\u001b[0m\u001b[0;34m\u001b[0m\u001b[0m\n\u001b[0;32m---> 14\u001b[0;31m         \u001b[0mxin\u001b[0m \u001b[0;34m=\u001b[0m \u001b[0minput\u001b[0m\u001b[0;34m(\u001b[0m\u001b[0;34m)\u001b[0m\u001b[0;34m\u001b[0m\u001b[0m\n\u001b[0m\u001b[1;32m     15\u001b[0m         \u001b[0;32mif\u001b[0m \u001b[0mxin\u001b[0m\u001b[0;34m==\u001b[0m\u001b[0;34m'1'\u001b[0m\u001b[0;34m:\u001b[0m\u001b[0;34m\u001b[0m\u001b[0m\n\u001b[1;32m     16\u001b[0m             \u001b[0merr_model1\u001b[0m\u001b[0;34m.\u001b[0m\u001b[0mappend\u001b[0m\u001b[0;34m(\u001b[0m\u001b[0mrow\u001b[0m\u001b[0;34m[\u001b[0m\u001b[0;34m'src_path'\u001b[0m\u001b[0;34m]\u001b[0m\u001b[0;34m)\u001b[0m\u001b[0;34m\u001b[0m\u001b[0m\n",
      "\u001b[0;32m~/tf_venv/lib/python3.5/site-packages/ipykernel/kernelbase.py\u001b[0m in \u001b[0;36mraw_input\u001b[0;34m(self, prompt)\u001b[0m\n\u001b[1;32m    851\u001b[0m             \u001b[0mself\u001b[0m\u001b[0;34m.\u001b[0m\u001b[0m_parent_ident\u001b[0m\u001b[0;34m,\u001b[0m\u001b[0;34m\u001b[0m\u001b[0m\n\u001b[1;32m    852\u001b[0m             \u001b[0mself\u001b[0m\u001b[0;34m.\u001b[0m\u001b[0m_parent_header\u001b[0m\u001b[0;34m,\u001b[0m\u001b[0;34m\u001b[0m\u001b[0m\n\u001b[0;32m--> 853\u001b[0;31m             \u001b[0mpassword\u001b[0m\u001b[0;34m=\u001b[0m\u001b[0;32mFalse\u001b[0m\u001b[0;34m,\u001b[0m\u001b[0;34m\u001b[0m\u001b[0m\n\u001b[0m\u001b[1;32m    854\u001b[0m         )\n\u001b[1;32m    855\u001b[0m \u001b[0;34m\u001b[0m\u001b[0m\n",
      "\u001b[0;32m~/tf_venv/lib/python3.5/site-packages/ipykernel/kernelbase.py\u001b[0m in \u001b[0;36m_input_request\u001b[0;34m(self, prompt, ident, parent, password)\u001b[0m\n\u001b[1;32m    881\u001b[0m             \u001b[0;32mexcept\u001b[0m \u001b[0mKeyboardInterrupt\u001b[0m\u001b[0;34m:\u001b[0m\u001b[0;34m\u001b[0m\u001b[0m\n\u001b[1;32m    882\u001b[0m                 \u001b[0;31m# re-raise KeyboardInterrupt, to truncate traceback\u001b[0m\u001b[0;34m\u001b[0m\u001b[0;34m\u001b[0m\u001b[0m\n\u001b[0;32m--> 883\u001b[0;31m                 \u001b[0;32mraise\u001b[0m \u001b[0mKeyboardInterrupt\u001b[0m\u001b[0;34m\u001b[0m\u001b[0m\n\u001b[0m\u001b[1;32m    884\u001b[0m             \u001b[0;32melse\u001b[0m\u001b[0;34m:\u001b[0m\u001b[0;34m\u001b[0m\u001b[0m\n\u001b[1;32m    885\u001b[0m                 \u001b[0;32mbreak\u001b[0m\u001b[0;34m\u001b[0m\u001b[0m\n",
      "\u001b[0;31mKeyboardInterrupt\u001b[0m: "
     ]
    }
   ],
   "source": [
    "err_model1=[]\n",
    "err_model2=[]\n",
    "img_loc = '/media/macul/black/face_database_raw_data/faceRecog_out_database/var/data/ego_java_server_data/IIM_Images_Crop/{}.jpg'\n",
    "for idx, row in df12_m_diff.iterrows():\n",
    "    #print(idx)\n",
    "    if row['dst_path_top0_name_diff_sorted'] not in same_person:\n",
    "        print(idx, row['dst_path_top0_name_diff_sorted'])\n",
    "        img0=Image.open(row['src_path'])\n",
    "        img0.show()\n",
    "        img1=Image.open(img_loc.format(row['dst_path_top0_name_1']))\n",
    "        img1.show()\n",
    "        img2=Image.open(img_loc.format(row['dst_path_top0_name_2']))\n",
    "        img2.show()\n",
    "        xin = input()\n",
    "        if xin=='1':\n",
    "            err_model1.append(row['src_path'])\n",
    "        elif xin=='2':\n",
    "            err_model2.append(row['src_path'])\n",
    "        elif xin=='y':\n",
    "            same_person.append(row['dst_path_top0_name_diff_sorted'])\n",
    "        else:\n",
    "            err_model1.append(row['src_path'])\n",
    "            err_model2.append(row['src_path'])"
   ]
  },
  {
   "cell_type": "code",
   "execution_count": 68,
   "metadata": {},
   "outputs": [
    {
     "name": "stdout",
     "output_type": "stream",
     "text": [
      "239\n",
      "205\n"
     ]
    }
   ],
   "source": [
    "print(len(err_model1))\n",
    "print(len(err_model2))"
   ]
  },
  {
   "cell_type": "code",
   "execution_count": 71,
   "metadata": {},
   "outputs": [],
   "source": [
    "err_dic={}\n",
    "err_dic['faceRecogOut_match_db_dgx_train1'] = err_model2\n",
    "err_dic['faceRecogOut_match_db_insight_original'] = err_model1\n",
    "pickle.dump(err_dic, open('/home/macul/model_err.pkl','wb'))"
   ]
  },
  {
   "cell_type": "code",
   "execution_count": 7,
   "metadata": {},
   "outputs": [],
   "source": [
    "sym_tmp, arg_params, aux_params = mx.model.load_checkpoint(mxModelPath, mxModelEpoch[0])\n",
    "all_layers = sym_tmp.get_internals()\n",
    "output_list = all_layers.list_outputs()\n",
    "sym3 = all_layers['out_embedding_output']\n",
    "model = mx.mod.Module(symbol=sym3, label_names=None, context=mx.cpu())\n",
    "model.bind(for_training=False, data_shapes=[('data', (1,3,112,112))])\n"
   ]
  },
  {
   "cell_type": "code",
   "execution_count": 3,
   "metadata": {},
   "outputs": [],
   "source": [
    "for i in range(1,len(mxModelEpoch)):\n",
    "    _, arg_p, aux_p = mx.model.load_checkpoint(mxModelPath, mxModelEpoch[i])\n",
    "    for k in arg_params.keys():\n",
    "        arg_params[k] += arg_p[k]\n",
    "        \n",
    "    for k in aux_params.keys():\n",
    "        aux_params[k] += aux_p[k]\n",
    "        \n",
    "for k in arg_params.keys():\n",
    "    arg_params[k] /= len(mxModelEpoch)\n",
    "\n",
    "for k in aux_params.keys():\n",
    "    aux_params[k] /= len(mxModelEpoch)"
   ]
  },
  {
   "cell_type": "code",
   "execution_count": 8,
   "metadata": {},
   "outputs": [],
   "source": [
    "model.set_params(arg_params, aux_params, allow_missing=False, allow_extra=False)"
   ]
  },
  {
   "cell_type": "code",
   "execution_count": 10,
   "metadata": {},
   "outputs": [],
   "source": [
    "model.save_checkpoint(mxModelPath, mxModelEpoch[0]*100+mxModelEpoch[-1])"
   ]
  }
 ],
 "metadata": {
  "kernelspec": {
   "display_name": "Python 3",
   "language": "python",
   "name": "python3"
  },
  "language_info": {
   "codemirror_mode": {
    "name": "ipython",
    "version": 3
   },
   "file_extension": ".py",
   "mimetype": "text/x-python",
   "name": "python",
   "nbconvert_exporter": "python",
   "pygments_lexer": "ipython3",
   "version": "3.5.2"
  }
 },
 "nbformat": 4,
 "nbformat_minor": 2
}
