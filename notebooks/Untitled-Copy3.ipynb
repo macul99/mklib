{
 "cells": [
  {
   "cell_type": "code",
   "execution_count": 1,
   "metadata": {},
   "outputs": [],
   "source": [
    "import sys\n",
    "sys.path.append('/home/macul/insightface/src/symbols')\n",
    "sys.path.append('/home/macul/insightface/src/')\n",
    "sys.path.append('/home/macul/libraries/mk_utils/mklib/nn/mxiter')\n",
    "sys.path.append('/home/macul/libraries/mk_utils/mklib/nn/mxconv')"
   ]
  },
  {
   "cell_type": "code",
   "execution_count": 2,
   "metadata": {},
   "outputs": [],
   "source": [
    "import fresnet\n",
    "import mxnet as mx\n",
    "import numpy as np\n",
    "import cv2\n",
    "from collections import namedtuple\n",
    "import mxresnet\n",
    "from mxiter import MyImageIter, MyImageIter_IndividualLabel, ImageMultiLabelIter\n",
    "import json\n",
    "def get_image(filename):\n",
    "    img = cv2.imread(filename)  # read image in b,g,r order\n",
    "    img = cv2.cvtColor(img, cv2.COLOR_BGR2RGB)   # change to r,g,b order\n",
    "    img = cv2.resize(img, (112, 112))  # resize to 224*224 to fit model\n",
    "    img = np.swapaxes(img, 0, 2)\n",
    "    img = np.swapaxes(img, 1, 2)  # change to (channel, height, width)\n",
    "    img = img[np.newaxis, :]  # extend to (example, channel, heigth, width)\n",
    "    return img\n",
    "\n",
    "Batch = namedtuple('Batch', ['data'])"
   ]
  },
  {
   "cell_type": "code",
   "execution_count": 3,
   "metadata": {},
   "outputs": [],
   "source": [
    "means = json.loads(open( '/media/macul/black/face_database_raw_data/mscelb_from_insightface/mean.json').read())"
   ]
  },
  {
   "cell_type": "code",
   "execution_count": 4,
   "metadata": {},
   "outputs": [
    {
     "data": {
      "text/plain": [
       "{u'B': 96.73112294438216, u'G': 110.22429227043047, u'R': 138.04845799981138}"
      ]
     },
     "execution_count": 4,
     "metadata": {},
     "output_type": "execute_result"
    }
   ],
   "source": [
    "means"
   ]
  },
  {
   "cell_type": "code",
   "execution_count": 5,
   "metadata": {},
   "outputs": [],
   "source": [
    "train_dataiter = MyImageIter(\n",
    "        batch_size           = 1,\n",
    "        data_shape           = (3,112,112),\n",
    "        path_imgrec          = '/media/macul/black/face_database_raw_data/mscelb_from_insightface/rec/train.rec',\n",
    "        shuffle              = False,\n",
    "        rand_mirror          = False,\n",
    "        mean                 = None,#[127.5,127.5,127.5],#[means[\"R\"],means[\"G\"],means[\"B\"]],\n",
    "        cutoff               = 0,\n",
    "        images_filter        = 0,\n",
    "        aug_list             = [],\n",
    "    )\n",
    "\n"
   ]
  },
  {
   "cell_type": "code",
   "execution_count": 11,
   "metadata": {},
   "outputs": [
    {
     "ename": "AttributeError",
     "evalue": "'MyImageIter_IndividualLabel' object has no attribute 'keys'",
     "output_type": "error",
     "traceback": [
      "\u001b[0;31m---------------------------------------------------------------------------\u001b[0m",
      "\u001b[0;31mAttributeError\u001b[0m                            Traceback (most recent call last)",
      "\u001b[0;32m<ipython-input-11-91c334e7e1b1>\u001b[0m in \u001b[0;36m<module>\u001b[0;34m()\u001b[0m\n\u001b[0;32m----> 1\u001b[0;31m \u001b[0mtrain_dataiter\u001b[0m\u001b[0;34m.\u001b[0m\u001b[0mkeys\u001b[0m\u001b[0;34m(\u001b[0m\u001b[0;34m)\u001b[0m\u001b[0;34m\u001b[0m\u001b[0m\n\u001b[0m",
      "\u001b[0;31mAttributeError\u001b[0m: 'MyImageIter_IndividualLabel' object has no attribute 'keys'"
     ]
    }
   ],
   "source": [
    "train_dataiter"
   ]
  },
  {
   "cell_type": "code",
   "execution_count": 6,
   "metadata": {},
   "outputs": [
    {
     "name": "stdout",
     "output_type": "stream",
     "text": [
      "call reset()\n"
     ]
    }
   ],
   "source": [
    "batch=train_dataiter.next()"
   ]
  },
  {
   "cell_type": "code",
   "execution_count": 7,
   "metadata": {},
   "outputs": [
    {
     "data": {
      "text/plain": [
       "\n",
       "[[84128.]]\n",
       "<NDArray 1x1 @cpu(0)>"
      ]
     },
     "execution_count": 7,
     "metadata": {},
     "output_type": "execute_result"
    }
   ],
   "source": [
    "batch.label[0]"
   ]
  },
  {
   "cell_type": "code",
   "execution_count": 8,
   "metadata": {},
   "outputs": [
    {
     "data": {
      "text/plain": [
       "\n",
       "[[-0.01075903  0.01945279 -0.00668122  0.01130166 -0.03332893 -0.01189697\n",
       "  -0.03152774 -0.04422258  0.0141628  -0.03795503]]\n",
       "<NDArray 1x10 @cpu(0)>"
      ]
     },
     "execution_count": 8,
     "metadata": {},
     "output_type": "execute_result"
    }
   ],
   "source": [
    "batch.label[1]"
   ]
  },
  {
   "cell_type": "code",
   "execution_count": 34,
   "metadata": {},
   "outputs": [
    {
     "data": {
      "text/plain": [
       "\n",
       "[[84128.]]\n",
       "<NDArray 1x1 @cpu(0)>"
      ]
     },
     "execution_count": 34,
     "metadata": {},
     "output_type": "execute_result"
    }
   ],
   "source": [
    "batch.label[0]"
   ]
  },
  {
   "cell_type": "code",
   "execution_count": 10,
   "metadata": {},
   "outputs": [
    {
     "data": {
      "text/plain": [
       "\n",
       "[[105. 103. 113. ...  82.  78.  79.]\n",
       " [107. 111. 124. ...  83.  83.  86.]\n",
       " [ 92. 107. 130. ...  83.  86.  92.]\n",
       " ...\n",
       " [ 83.  80.  71. ... 203. 204. 205.]\n",
       " [ 82.  79.  70. ... 208. 207. 205.]\n",
       " [ 78.  75.  67. ... 212. 208. 204.]]\n",
       "<NDArray 112x112 @cpu(0)>"
      ]
     },
     "execution_count": 10,
     "metadata": {},
     "output_type": "execute_result"
    }
   ],
   "source": [
    "batch.data[0][0,1,:,:]"
   ]
  },
  {
   "cell_type": "code",
   "execution_count": 10,
   "metadata": {},
   "outputs": [],
   "source": [
    "img=(mx.nd.transpose(batch.data[0], axes=(0, 2, 3, 1)).asnumpy()*128+127.5)[0,:,:,:].astype(np.uint8)"
   ]
  },
  {
   "cell_type": "code",
   "execution_count": 14,
   "metadata": {},
   "outputs": [
    {
     "data": {
      "text/plain": [
       "array([[105, 103, 113, ...,  82,  78,  79],\n",
       "       [107, 111, 124, ...,  83,  83,  86],\n",
       "       [ 92, 107, 130, ...,  83,  86,  92],\n",
       "       ...,\n",
       "       [ 83,  80,  71, ..., 203, 204, 205],\n",
       "       [ 82,  79,  70, ..., 208, 207, 205],\n",
       "       [ 78,  75,  67, ..., 212, 208, 204]], dtype=uint8)"
      ]
     },
     "execution_count": 14,
     "metadata": {},
     "output_type": "execute_result"
    }
   ],
   "source": [
    "img[:,:,1]"
   ]
  },
  {
   "cell_type": "code",
   "execution_count": 11,
   "metadata": {},
   "outputs": [
    {
     "data": {
      "text/plain": [
       "32"
      ]
     },
     "execution_count": 11,
     "metadata": {},
     "output_type": "execute_result"
    }
   ],
   "source": [
    "import cv2\n",
    "img1 = cv2.cvtColor(img,cv2.COLOR_RGB2BGR)\n",
    "cv2.imshow('test',img1)\n",
    "cv2.waitKey()"
   ]
  },
  {
   "cell_type": "code",
   "execution_count": 39,
   "metadata": {},
   "outputs": [
    {
     "data": {
      "text/plain": [
       "\n",
       "[0.]\n",
       "<NDArray 1 @cpu(0)>"
      ]
     },
     "execution_count": 39,
     "metadata": {},
     "output_type": "execute_result"
    }
   ],
   "source": [
    "np.sum(batch1.data[0][:,:,:]-batch.data[0][0,:,:,:])"
   ]
  },
  {
   "cell_type": "code",
   "execution_count": 37,
   "metadata": {},
   "outputs": [
    {
     "data": {
      "text/plain": [
       "(3L, 112L, 112L)"
      ]
     },
     "execution_count": 37,
     "metadata": {},
     "output_type": "execute_result"
    }
   ],
   "source": [
    "batch.data[0][0,:,:].shape"
   ]
  },
  {
   "cell_type": "code",
   "execution_count": 7,
   "metadata": {},
   "outputs": [
    {
     "data": {
      "text/plain": [
       "\n",
       "[[[-0.44140625 -0.43359375 -0.93359375 ... -0.13671875 -0.08203125\n",
       "   -0.11328125]\n",
       "  [-0.41015625 -0.42578125 -0.32421875 ... -0.43359375 -0.33203125\n",
       "   -0.45703125]\n",
       "  [-0.30078125 -0.19921875 -0.19140625 ... -0.41796875 -0.98046875\n",
       "   -0.97265625]\n",
       "  ...\n",
       "  [ 0.34765625  0.34765625  0.22265625 ...  0.02734375  0.04296875\n",
       "    0.07421875]\n",
       "  [ 0.30859375  0.37109375  0.29296875 ...  0.06640625  0.08984375\n",
       "    0.09765625]\n",
       "  [ 0.29296875  0.39453125  0.38671875 ...  0.07421875  0.11328125\n",
       "    0.12109375]]\n",
       "\n",
       " [[-0.48828125 -0.48828125 -0.98828125 ... -0.24609375 -0.19140625\n",
       "   -0.20703125]\n",
       "  [-0.46484375 -0.48046875 -0.37890625 ... -0.51953125 -0.39453125\n",
       "   -0.51171875]\n",
       "  [-0.33203125 -0.23046875 -0.23046875 ... -0.44140625 -0.98046875\n",
       "   -0.96484375]\n",
       "  ...\n",
       "  [ 0.33203125  0.33203125  0.19140625 ...  0.00390625  0.01953125\n",
       "    0.05078125]\n",
       "  [ 0.30859375  0.36328125  0.26171875 ...  0.02734375  0.05078125\n",
       "    0.05859375]\n",
       "  [ 0.29296875  0.38671875  0.35546875 ...  0.03515625  0.07421875\n",
       "    0.08203125]]\n",
       "\n",
       " [[-0.58203125 -0.56640625 -0.99609375 ... -0.51953125 -0.39453125\n",
       "   -0.37890625]\n",
       "  [-0.54296875 -0.55859375 -0.44140625 ... -0.73828125 -0.55859375\n",
       "   -0.65234375]\n",
       "  [-0.40234375 -0.30078125 -0.27734375 ... -0.57421875 -0.99609375\n",
       "   -0.99609375]\n",
       "  ...\n",
       "  [ 0.33984375  0.33984375  0.18359375 ... -0.03515625 -0.01953125\n",
       "    0.01171875]\n",
       "  [ 0.29296875  0.34765625  0.25390625 ... -0.00390625  0.01953125\n",
       "    0.01171875]\n",
       "  [ 0.27734375  0.37109375  0.34765625 ...  0.00390625  0.02734375\n",
       "    0.03515625]]]\n",
       "<NDArray 3x112x112 @cpu(0)>"
      ]
     },
     "execution_count": 7,
     "metadata": {},
     "output_type": "execute_result"
    }
   ],
   "source": [
    "batch1.data[0]"
   ]
  },
  {
   "cell_type": "code",
   "execution_count": 3,
   "metadata": {},
   "outputs": [
    {
     "name": "stdout",
     "output_type": "stream",
     "text": [
      "0 1 E 3 prelu\n"
     ]
    }
   ],
   "source": [
    "sym = fresnet.get_symbol(1000, 50, \n",
    "        version_se=0, version_input=1, \n",
    "        version_output='E', version_unit=3,\n",
    "        version_act='prelu')"
   ]
  },
  {
   "cell_type": "code",
   "execution_count": 4,
   "metadata": {},
   "outputs": [],
   "source": [
    "all_layers = sym.get_internals()"
   ]
  },
  {
   "cell_type": "code",
   "execution_count": 5,
   "metadata": {},
   "outputs": [
    {
     "data": {
      "text/plain": [
       "['data',\n",
       " 'id_output',\n",
       " '_minusscalar0_output',\n",
       " '_mulscalar0_output',\n",
       " 'conv0_weight',\n",
       " 'conv0_output',\n",
       " 'bn0_gamma',\n",
       " 'bn0_beta',\n",
       " 'bn0_moving_mean',\n",
       " 'bn0_moving_var',\n",
       " 'bn0_output',\n",
       " 'relu0_gamma',\n",
       " 'relu0_output',\n",
       " 'stage1_unit1_bn1_gamma',\n",
       " 'stage1_unit1_bn1_beta',\n",
       " 'stage1_unit1_bn1_moving_mean',\n",
       " 'stage1_unit1_bn1_moving_var',\n",
       " 'stage1_unit1_bn1_output',\n",
       " 'stage1_unit1_conv1_weight',\n",
       " 'stage1_unit1_conv1_output',\n",
       " 'stage1_unit1_bn2_gamma',\n",
       " 'stage1_unit1_bn2_beta',\n",
       " 'stage1_unit1_bn2_moving_mean',\n",
       " 'stage1_unit1_bn2_moving_var',\n",
       " 'stage1_unit1_bn2_output',\n",
       " 'stage1_unit1_relu1_gamma',\n",
       " 'stage1_unit1_relu1_output',\n",
       " 'stage1_unit1_conv2_weight',\n",
       " 'stage1_unit1_conv2_output',\n",
       " 'stage1_unit1_bn3_gamma',\n",
       " 'stage1_unit1_bn3_beta',\n",
       " 'stage1_unit1_bn3_moving_mean',\n",
       " 'stage1_unit1_bn3_moving_var',\n",
       " 'stage1_unit1_bn3_output',\n",
       " 'stage1_unit1_conv1sc_weight',\n",
       " 'stage1_unit1_conv1sc_output',\n",
       " 'stage1_unit1_sc_gamma',\n",
       " 'stage1_unit1_sc_beta',\n",
       " 'stage1_unit1_sc_moving_mean',\n",
       " 'stage1_unit1_sc_moving_var',\n",
       " 'stage1_unit1_sc_output',\n",
       " '_plus0_output',\n",
       " 'stage1_unit2_bn1_gamma',\n",
       " 'stage1_unit2_bn1_beta',\n",
       " 'stage1_unit2_bn1_moving_mean',\n",
       " 'stage1_unit2_bn1_moving_var',\n",
       " 'stage1_unit2_bn1_output',\n",
       " 'stage1_unit2_conv1_weight',\n",
       " 'stage1_unit2_conv1_output',\n",
       " 'stage1_unit2_bn2_gamma',\n",
       " 'stage1_unit2_bn2_beta',\n",
       " 'stage1_unit2_bn2_moving_mean',\n",
       " 'stage1_unit2_bn2_moving_var',\n",
       " 'stage1_unit2_bn2_output',\n",
       " 'stage1_unit2_relu1_gamma',\n",
       " 'stage1_unit2_relu1_output',\n",
       " 'stage1_unit2_conv2_weight',\n",
       " 'stage1_unit2_conv2_output',\n",
       " 'stage1_unit2_bn3_gamma',\n",
       " 'stage1_unit2_bn3_beta',\n",
       " 'stage1_unit2_bn3_moving_mean',\n",
       " 'stage1_unit2_bn3_moving_var',\n",
       " 'stage1_unit2_bn3_output',\n",
       " '_plus1_output',\n",
       " 'stage1_unit3_bn1_gamma',\n",
       " 'stage1_unit3_bn1_beta',\n",
       " 'stage1_unit3_bn1_moving_mean',\n",
       " 'stage1_unit3_bn1_moving_var',\n",
       " 'stage1_unit3_bn1_output',\n",
       " 'stage1_unit3_conv1_weight',\n",
       " 'stage1_unit3_conv1_output',\n",
       " 'stage1_unit3_bn2_gamma',\n",
       " 'stage1_unit3_bn2_beta',\n",
       " 'stage1_unit3_bn2_moving_mean',\n",
       " 'stage1_unit3_bn2_moving_var',\n",
       " 'stage1_unit3_bn2_output',\n",
       " 'stage1_unit3_relu1_gamma',\n",
       " 'stage1_unit3_relu1_output',\n",
       " 'stage1_unit3_conv2_weight',\n",
       " 'stage1_unit3_conv2_output',\n",
       " 'stage1_unit3_bn3_gamma',\n",
       " 'stage1_unit3_bn3_beta',\n",
       " 'stage1_unit3_bn3_moving_mean',\n",
       " 'stage1_unit3_bn3_moving_var',\n",
       " 'stage1_unit3_bn3_output',\n",
       " '_plus2_output',\n",
       " 'stage2_unit1_bn1_gamma',\n",
       " 'stage2_unit1_bn1_beta',\n",
       " 'stage2_unit1_bn1_moving_mean',\n",
       " 'stage2_unit1_bn1_moving_var',\n",
       " 'stage2_unit1_bn1_output',\n",
       " 'stage2_unit1_conv1_weight',\n",
       " 'stage2_unit1_conv1_output',\n",
       " 'stage2_unit1_bn2_gamma',\n",
       " 'stage2_unit1_bn2_beta',\n",
       " 'stage2_unit1_bn2_moving_mean',\n",
       " 'stage2_unit1_bn2_moving_var',\n",
       " 'stage2_unit1_bn2_output',\n",
       " 'stage2_unit1_relu1_gamma',\n",
       " 'stage2_unit1_relu1_output',\n",
       " 'stage2_unit1_conv2_weight',\n",
       " 'stage2_unit1_conv2_output',\n",
       " 'stage2_unit1_bn3_gamma',\n",
       " 'stage2_unit1_bn3_beta',\n",
       " 'stage2_unit1_bn3_moving_mean',\n",
       " 'stage2_unit1_bn3_moving_var',\n",
       " 'stage2_unit1_bn3_output',\n",
       " 'stage2_unit1_conv1sc_weight',\n",
       " 'stage2_unit1_conv1sc_output',\n",
       " 'stage2_unit1_sc_gamma',\n",
       " 'stage2_unit1_sc_beta',\n",
       " 'stage2_unit1_sc_moving_mean',\n",
       " 'stage2_unit1_sc_moving_var',\n",
       " 'stage2_unit1_sc_output',\n",
       " '_plus3_output',\n",
       " 'stage2_unit2_bn1_gamma',\n",
       " 'stage2_unit2_bn1_beta',\n",
       " 'stage2_unit2_bn1_moving_mean',\n",
       " 'stage2_unit2_bn1_moving_var',\n",
       " 'stage2_unit2_bn1_output',\n",
       " 'stage2_unit2_conv1_weight',\n",
       " 'stage2_unit2_conv1_output',\n",
       " 'stage2_unit2_bn2_gamma',\n",
       " 'stage2_unit2_bn2_beta',\n",
       " 'stage2_unit2_bn2_moving_mean',\n",
       " 'stage2_unit2_bn2_moving_var',\n",
       " 'stage2_unit2_bn2_output',\n",
       " 'stage2_unit2_relu1_gamma',\n",
       " 'stage2_unit2_relu1_output',\n",
       " 'stage2_unit2_conv2_weight',\n",
       " 'stage2_unit2_conv2_output',\n",
       " 'stage2_unit2_bn3_gamma',\n",
       " 'stage2_unit2_bn3_beta',\n",
       " 'stage2_unit2_bn3_moving_mean',\n",
       " 'stage2_unit2_bn3_moving_var',\n",
       " 'stage2_unit2_bn3_output',\n",
       " '_plus4_output',\n",
       " 'stage2_unit3_bn1_gamma',\n",
       " 'stage2_unit3_bn1_beta',\n",
       " 'stage2_unit3_bn1_moving_mean',\n",
       " 'stage2_unit3_bn1_moving_var',\n",
       " 'stage2_unit3_bn1_output',\n",
       " 'stage2_unit3_conv1_weight',\n",
       " 'stage2_unit3_conv1_output',\n",
       " 'stage2_unit3_bn2_gamma',\n",
       " 'stage2_unit3_bn2_beta',\n",
       " 'stage2_unit3_bn2_moving_mean',\n",
       " 'stage2_unit3_bn2_moving_var',\n",
       " 'stage2_unit3_bn2_output',\n",
       " 'stage2_unit3_relu1_gamma',\n",
       " 'stage2_unit3_relu1_output',\n",
       " 'stage2_unit3_conv2_weight',\n",
       " 'stage2_unit3_conv2_output',\n",
       " 'stage2_unit3_bn3_gamma',\n",
       " 'stage2_unit3_bn3_beta',\n",
       " 'stage2_unit3_bn3_moving_mean',\n",
       " 'stage2_unit3_bn3_moving_var',\n",
       " 'stage2_unit3_bn3_output',\n",
       " '_plus5_output',\n",
       " 'stage2_unit4_bn1_gamma',\n",
       " 'stage2_unit4_bn1_beta',\n",
       " 'stage2_unit4_bn1_moving_mean',\n",
       " 'stage2_unit4_bn1_moving_var',\n",
       " 'stage2_unit4_bn1_output',\n",
       " 'stage2_unit4_conv1_weight',\n",
       " 'stage2_unit4_conv1_output',\n",
       " 'stage2_unit4_bn2_gamma',\n",
       " 'stage2_unit4_bn2_beta',\n",
       " 'stage2_unit4_bn2_moving_mean',\n",
       " 'stage2_unit4_bn2_moving_var',\n",
       " 'stage2_unit4_bn2_output',\n",
       " 'stage2_unit4_relu1_gamma',\n",
       " 'stage2_unit4_relu1_output',\n",
       " 'stage2_unit4_conv2_weight',\n",
       " 'stage2_unit4_conv2_output',\n",
       " 'stage2_unit4_bn3_gamma',\n",
       " 'stage2_unit4_bn3_beta',\n",
       " 'stage2_unit4_bn3_moving_mean',\n",
       " 'stage2_unit4_bn3_moving_var',\n",
       " 'stage2_unit4_bn3_output',\n",
       " '_plus6_output',\n",
       " 'stage3_unit1_bn1_gamma',\n",
       " 'stage3_unit1_bn1_beta',\n",
       " 'stage3_unit1_bn1_moving_mean',\n",
       " 'stage3_unit1_bn1_moving_var',\n",
       " 'stage3_unit1_bn1_output',\n",
       " 'stage3_unit1_conv1_weight',\n",
       " 'stage3_unit1_conv1_output',\n",
       " 'stage3_unit1_bn2_gamma',\n",
       " 'stage3_unit1_bn2_beta',\n",
       " 'stage3_unit1_bn2_moving_mean',\n",
       " 'stage3_unit1_bn2_moving_var',\n",
       " 'stage3_unit1_bn2_output',\n",
       " 'stage3_unit1_relu1_gamma',\n",
       " 'stage3_unit1_relu1_output',\n",
       " 'stage3_unit1_conv2_weight',\n",
       " 'stage3_unit1_conv2_output',\n",
       " 'stage3_unit1_bn3_gamma',\n",
       " 'stage3_unit1_bn3_beta',\n",
       " 'stage3_unit1_bn3_moving_mean',\n",
       " 'stage3_unit1_bn3_moving_var',\n",
       " 'stage3_unit1_bn3_output',\n",
       " 'stage3_unit1_conv1sc_weight',\n",
       " 'stage3_unit1_conv1sc_output',\n",
       " 'stage3_unit1_sc_gamma',\n",
       " 'stage3_unit1_sc_beta',\n",
       " 'stage3_unit1_sc_moving_mean',\n",
       " 'stage3_unit1_sc_moving_var',\n",
       " 'stage3_unit1_sc_output',\n",
       " '_plus7_output',\n",
       " 'stage3_unit2_bn1_gamma',\n",
       " 'stage3_unit2_bn1_beta',\n",
       " 'stage3_unit2_bn1_moving_mean',\n",
       " 'stage3_unit2_bn1_moving_var',\n",
       " 'stage3_unit2_bn1_output',\n",
       " 'stage3_unit2_conv1_weight',\n",
       " 'stage3_unit2_conv1_output',\n",
       " 'stage3_unit2_bn2_gamma',\n",
       " 'stage3_unit2_bn2_beta',\n",
       " 'stage3_unit2_bn2_moving_mean',\n",
       " 'stage3_unit2_bn2_moving_var',\n",
       " 'stage3_unit2_bn2_output',\n",
       " 'stage3_unit2_relu1_gamma',\n",
       " 'stage3_unit2_relu1_output',\n",
       " 'stage3_unit2_conv2_weight',\n",
       " 'stage3_unit2_conv2_output',\n",
       " 'stage3_unit2_bn3_gamma',\n",
       " 'stage3_unit2_bn3_beta',\n",
       " 'stage3_unit2_bn3_moving_mean',\n",
       " 'stage3_unit2_bn3_moving_var',\n",
       " 'stage3_unit2_bn3_output',\n",
       " '_plus8_output',\n",
       " 'stage3_unit3_bn1_gamma',\n",
       " 'stage3_unit3_bn1_beta',\n",
       " 'stage3_unit3_bn1_moving_mean',\n",
       " 'stage3_unit3_bn1_moving_var',\n",
       " 'stage3_unit3_bn1_output',\n",
       " 'stage3_unit3_conv1_weight',\n",
       " 'stage3_unit3_conv1_output',\n",
       " 'stage3_unit3_bn2_gamma',\n",
       " 'stage3_unit3_bn2_beta',\n",
       " 'stage3_unit3_bn2_moving_mean',\n",
       " 'stage3_unit3_bn2_moving_var',\n",
       " 'stage3_unit3_bn2_output',\n",
       " 'stage3_unit3_relu1_gamma',\n",
       " 'stage3_unit3_relu1_output',\n",
       " 'stage3_unit3_conv2_weight',\n",
       " 'stage3_unit3_conv2_output',\n",
       " 'stage3_unit3_bn3_gamma',\n",
       " 'stage3_unit3_bn3_beta',\n",
       " 'stage3_unit3_bn3_moving_mean',\n",
       " 'stage3_unit3_bn3_moving_var',\n",
       " 'stage3_unit3_bn3_output',\n",
       " '_plus9_output',\n",
       " 'stage3_unit4_bn1_gamma',\n",
       " 'stage3_unit4_bn1_beta',\n",
       " 'stage3_unit4_bn1_moving_mean',\n",
       " 'stage3_unit4_bn1_moving_var',\n",
       " 'stage3_unit4_bn1_output',\n",
       " 'stage3_unit4_conv1_weight',\n",
       " 'stage3_unit4_conv1_output',\n",
       " 'stage3_unit4_bn2_gamma',\n",
       " 'stage3_unit4_bn2_beta',\n",
       " 'stage3_unit4_bn2_moving_mean',\n",
       " 'stage3_unit4_bn2_moving_var',\n",
       " 'stage3_unit4_bn2_output',\n",
       " 'stage3_unit4_relu1_gamma',\n",
       " 'stage3_unit4_relu1_output',\n",
       " 'stage3_unit4_conv2_weight',\n",
       " 'stage3_unit4_conv2_output',\n",
       " 'stage3_unit4_bn3_gamma',\n",
       " 'stage3_unit4_bn3_beta',\n",
       " 'stage3_unit4_bn3_moving_mean',\n",
       " 'stage3_unit4_bn3_moving_var',\n",
       " 'stage3_unit4_bn3_output',\n",
       " '_plus10_output',\n",
       " 'stage3_unit5_bn1_gamma',\n",
       " 'stage3_unit5_bn1_beta',\n",
       " 'stage3_unit5_bn1_moving_mean',\n",
       " 'stage3_unit5_bn1_moving_var',\n",
       " 'stage3_unit5_bn1_output',\n",
       " 'stage3_unit5_conv1_weight',\n",
       " 'stage3_unit5_conv1_output',\n",
       " 'stage3_unit5_bn2_gamma',\n",
       " 'stage3_unit5_bn2_beta',\n",
       " 'stage3_unit5_bn2_moving_mean',\n",
       " 'stage3_unit5_bn2_moving_var',\n",
       " 'stage3_unit5_bn2_output',\n",
       " 'stage3_unit5_relu1_gamma',\n",
       " 'stage3_unit5_relu1_output',\n",
       " 'stage3_unit5_conv2_weight',\n",
       " 'stage3_unit5_conv2_output',\n",
       " 'stage3_unit5_bn3_gamma',\n",
       " 'stage3_unit5_bn3_beta',\n",
       " 'stage3_unit5_bn3_moving_mean',\n",
       " 'stage3_unit5_bn3_moving_var',\n",
       " 'stage3_unit5_bn3_output',\n",
       " '_plus11_output',\n",
       " 'stage3_unit6_bn1_gamma',\n",
       " 'stage3_unit6_bn1_beta',\n",
       " 'stage3_unit6_bn1_moving_mean',\n",
       " 'stage3_unit6_bn1_moving_var',\n",
       " 'stage3_unit6_bn1_output',\n",
       " 'stage3_unit6_conv1_weight',\n",
       " 'stage3_unit6_conv1_output',\n",
       " 'stage3_unit6_bn2_gamma',\n",
       " 'stage3_unit6_bn2_beta',\n",
       " 'stage3_unit6_bn2_moving_mean',\n",
       " 'stage3_unit6_bn2_moving_var',\n",
       " 'stage3_unit6_bn2_output',\n",
       " 'stage3_unit6_relu1_gamma',\n",
       " 'stage3_unit6_relu1_output',\n",
       " 'stage3_unit6_conv2_weight',\n",
       " 'stage3_unit6_conv2_output',\n",
       " 'stage3_unit6_bn3_gamma',\n",
       " 'stage3_unit6_bn3_beta',\n",
       " 'stage3_unit6_bn3_moving_mean',\n",
       " 'stage3_unit6_bn3_moving_var',\n",
       " 'stage3_unit6_bn3_output',\n",
       " '_plus12_output',\n",
       " 'stage3_unit7_bn1_gamma',\n",
       " 'stage3_unit7_bn1_beta',\n",
       " 'stage3_unit7_bn1_moving_mean',\n",
       " 'stage3_unit7_bn1_moving_var',\n",
       " 'stage3_unit7_bn1_output',\n",
       " 'stage3_unit7_conv1_weight',\n",
       " 'stage3_unit7_conv1_output',\n",
       " 'stage3_unit7_bn2_gamma',\n",
       " 'stage3_unit7_bn2_beta',\n",
       " 'stage3_unit7_bn2_moving_mean',\n",
       " 'stage3_unit7_bn2_moving_var',\n",
       " 'stage3_unit7_bn2_output',\n",
       " 'stage3_unit7_relu1_gamma',\n",
       " 'stage3_unit7_relu1_output',\n",
       " 'stage3_unit7_conv2_weight',\n",
       " 'stage3_unit7_conv2_output',\n",
       " 'stage3_unit7_bn3_gamma',\n",
       " 'stage3_unit7_bn3_beta',\n",
       " 'stage3_unit7_bn3_moving_mean',\n",
       " 'stage3_unit7_bn3_moving_var',\n",
       " 'stage3_unit7_bn3_output',\n",
       " '_plus13_output',\n",
       " 'stage3_unit8_bn1_gamma',\n",
       " 'stage3_unit8_bn1_beta',\n",
       " 'stage3_unit8_bn1_moving_mean',\n",
       " 'stage3_unit8_bn1_moving_var',\n",
       " 'stage3_unit8_bn1_output',\n",
       " 'stage3_unit8_conv1_weight',\n",
       " 'stage3_unit8_conv1_output',\n",
       " 'stage3_unit8_bn2_gamma',\n",
       " 'stage3_unit8_bn2_beta',\n",
       " 'stage3_unit8_bn2_moving_mean',\n",
       " 'stage3_unit8_bn2_moving_var',\n",
       " 'stage3_unit8_bn2_output',\n",
       " 'stage3_unit8_relu1_gamma',\n",
       " 'stage3_unit8_relu1_output',\n",
       " 'stage3_unit8_conv2_weight',\n",
       " 'stage3_unit8_conv2_output',\n",
       " 'stage3_unit8_bn3_gamma',\n",
       " 'stage3_unit8_bn3_beta',\n",
       " 'stage3_unit8_bn3_moving_mean',\n",
       " 'stage3_unit8_bn3_moving_var',\n",
       " 'stage3_unit8_bn3_output',\n",
       " '_plus14_output',\n",
       " 'stage3_unit9_bn1_gamma',\n",
       " 'stage3_unit9_bn1_beta',\n",
       " 'stage3_unit9_bn1_moving_mean',\n",
       " 'stage3_unit9_bn1_moving_var',\n",
       " 'stage3_unit9_bn1_output',\n",
       " 'stage3_unit9_conv1_weight',\n",
       " 'stage3_unit9_conv1_output',\n",
       " 'stage3_unit9_bn2_gamma',\n",
       " 'stage3_unit9_bn2_beta',\n",
       " 'stage3_unit9_bn2_moving_mean',\n",
       " 'stage3_unit9_bn2_moving_var',\n",
       " 'stage3_unit9_bn2_output',\n",
       " 'stage3_unit9_relu1_gamma',\n",
       " 'stage3_unit9_relu1_output',\n",
       " 'stage3_unit9_conv2_weight',\n",
       " 'stage3_unit9_conv2_output',\n",
       " 'stage3_unit9_bn3_gamma',\n",
       " 'stage3_unit9_bn3_beta',\n",
       " 'stage3_unit9_bn3_moving_mean',\n",
       " 'stage3_unit9_bn3_moving_var',\n",
       " 'stage3_unit9_bn3_output',\n",
       " '_plus15_output',\n",
       " 'stage3_unit10_bn1_gamma',\n",
       " 'stage3_unit10_bn1_beta',\n",
       " 'stage3_unit10_bn1_moving_mean',\n",
       " 'stage3_unit10_bn1_moving_var',\n",
       " 'stage3_unit10_bn1_output',\n",
       " 'stage3_unit10_conv1_weight',\n",
       " 'stage3_unit10_conv1_output',\n",
       " 'stage3_unit10_bn2_gamma',\n",
       " 'stage3_unit10_bn2_beta',\n",
       " 'stage3_unit10_bn2_moving_mean',\n",
       " 'stage3_unit10_bn2_moving_var',\n",
       " 'stage3_unit10_bn2_output',\n",
       " 'stage3_unit10_relu1_gamma',\n",
       " 'stage3_unit10_relu1_output',\n",
       " 'stage3_unit10_conv2_weight',\n",
       " 'stage3_unit10_conv2_output',\n",
       " 'stage3_unit10_bn3_gamma',\n",
       " 'stage3_unit10_bn3_beta',\n",
       " 'stage3_unit10_bn3_moving_mean',\n",
       " 'stage3_unit10_bn3_moving_var',\n",
       " 'stage3_unit10_bn3_output',\n",
       " '_plus16_output',\n",
       " 'stage3_unit11_bn1_gamma',\n",
       " 'stage3_unit11_bn1_beta',\n",
       " 'stage3_unit11_bn1_moving_mean',\n",
       " 'stage3_unit11_bn1_moving_var',\n",
       " 'stage3_unit11_bn1_output',\n",
       " 'stage3_unit11_conv1_weight',\n",
       " 'stage3_unit11_conv1_output',\n",
       " 'stage3_unit11_bn2_gamma',\n",
       " 'stage3_unit11_bn2_beta',\n",
       " 'stage3_unit11_bn2_moving_mean',\n",
       " 'stage3_unit11_bn2_moving_var',\n",
       " 'stage3_unit11_bn2_output',\n",
       " 'stage3_unit11_relu1_gamma',\n",
       " 'stage3_unit11_relu1_output',\n",
       " 'stage3_unit11_conv2_weight',\n",
       " 'stage3_unit11_conv2_output',\n",
       " 'stage3_unit11_bn3_gamma',\n",
       " 'stage3_unit11_bn3_beta',\n",
       " 'stage3_unit11_bn3_moving_mean',\n",
       " 'stage3_unit11_bn3_moving_var',\n",
       " 'stage3_unit11_bn3_output',\n",
       " '_plus17_output',\n",
       " 'stage3_unit12_bn1_gamma',\n",
       " 'stage3_unit12_bn1_beta',\n",
       " 'stage3_unit12_bn1_moving_mean',\n",
       " 'stage3_unit12_bn1_moving_var',\n",
       " 'stage3_unit12_bn1_output',\n",
       " 'stage3_unit12_conv1_weight',\n",
       " 'stage3_unit12_conv1_output',\n",
       " 'stage3_unit12_bn2_gamma',\n",
       " 'stage3_unit12_bn2_beta',\n",
       " 'stage3_unit12_bn2_moving_mean',\n",
       " 'stage3_unit12_bn2_moving_var',\n",
       " 'stage3_unit12_bn2_output',\n",
       " 'stage3_unit12_relu1_gamma',\n",
       " 'stage3_unit12_relu1_output',\n",
       " 'stage3_unit12_conv2_weight',\n",
       " 'stage3_unit12_conv2_output',\n",
       " 'stage3_unit12_bn3_gamma',\n",
       " 'stage3_unit12_bn3_beta',\n",
       " 'stage3_unit12_bn3_moving_mean',\n",
       " 'stage3_unit12_bn3_moving_var',\n",
       " 'stage3_unit12_bn3_output',\n",
       " '_plus18_output',\n",
       " 'stage3_unit13_bn1_gamma',\n",
       " 'stage3_unit13_bn1_beta',\n",
       " 'stage3_unit13_bn1_moving_mean',\n",
       " 'stage3_unit13_bn1_moving_var',\n",
       " 'stage3_unit13_bn1_output',\n",
       " 'stage3_unit13_conv1_weight',\n",
       " 'stage3_unit13_conv1_output',\n",
       " 'stage3_unit13_bn2_gamma',\n",
       " 'stage3_unit13_bn2_beta',\n",
       " 'stage3_unit13_bn2_moving_mean',\n",
       " 'stage3_unit13_bn2_moving_var',\n",
       " 'stage3_unit13_bn2_output',\n",
       " 'stage3_unit13_relu1_gamma',\n",
       " 'stage3_unit13_relu1_output',\n",
       " 'stage3_unit13_conv2_weight',\n",
       " 'stage3_unit13_conv2_output',\n",
       " 'stage3_unit13_bn3_gamma',\n",
       " 'stage3_unit13_bn3_beta',\n",
       " 'stage3_unit13_bn3_moving_mean',\n",
       " 'stage3_unit13_bn3_moving_var',\n",
       " 'stage3_unit13_bn3_output',\n",
       " '_plus19_output',\n",
       " 'stage3_unit14_bn1_gamma',\n",
       " 'stage3_unit14_bn1_beta',\n",
       " 'stage3_unit14_bn1_moving_mean',\n",
       " 'stage3_unit14_bn1_moving_var',\n",
       " 'stage3_unit14_bn1_output',\n",
       " 'stage3_unit14_conv1_weight',\n",
       " 'stage3_unit14_conv1_output',\n",
       " 'stage3_unit14_bn2_gamma',\n",
       " 'stage3_unit14_bn2_beta',\n",
       " 'stage3_unit14_bn2_moving_mean',\n",
       " 'stage3_unit14_bn2_moving_var',\n",
       " 'stage3_unit14_bn2_output',\n",
       " 'stage3_unit14_relu1_gamma',\n",
       " 'stage3_unit14_relu1_output',\n",
       " 'stage3_unit14_conv2_weight',\n",
       " 'stage3_unit14_conv2_output',\n",
       " 'stage3_unit14_bn3_gamma',\n",
       " 'stage3_unit14_bn3_beta',\n",
       " 'stage3_unit14_bn3_moving_mean',\n",
       " 'stage3_unit14_bn3_moving_var',\n",
       " 'stage3_unit14_bn3_output',\n",
       " '_plus20_output',\n",
       " 'stage4_unit1_bn1_gamma',\n",
       " 'stage4_unit1_bn1_beta',\n",
       " 'stage4_unit1_bn1_moving_mean',\n",
       " 'stage4_unit1_bn1_moving_var',\n",
       " 'stage4_unit1_bn1_output',\n",
       " 'stage4_unit1_conv1_weight',\n",
       " 'stage4_unit1_conv1_output',\n",
       " 'stage4_unit1_bn2_gamma',\n",
       " 'stage4_unit1_bn2_beta',\n",
       " 'stage4_unit1_bn2_moving_mean',\n",
       " 'stage4_unit1_bn2_moving_var',\n",
       " 'stage4_unit1_bn2_output',\n",
       " 'stage4_unit1_relu1_gamma',\n",
       " 'stage4_unit1_relu1_output',\n",
       " 'stage4_unit1_conv2_weight',\n",
       " 'stage4_unit1_conv2_output',\n",
       " 'stage4_unit1_bn3_gamma',\n",
       " 'stage4_unit1_bn3_beta',\n",
       " 'stage4_unit1_bn3_moving_mean',\n",
       " 'stage4_unit1_bn3_moving_var',\n",
       " 'stage4_unit1_bn3_output',\n",
       " 'stage4_unit1_conv1sc_weight',\n",
       " 'stage4_unit1_conv1sc_output',\n",
       " 'stage4_unit1_sc_gamma',\n",
       " 'stage4_unit1_sc_beta',\n",
       " 'stage4_unit1_sc_moving_mean',\n",
       " 'stage4_unit1_sc_moving_var',\n",
       " 'stage4_unit1_sc_output',\n",
       " '_plus21_output',\n",
       " 'stage4_unit2_bn1_gamma',\n",
       " 'stage4_unit2_bn1_beta',\n",
       " 'stage4_unit2_bn1_moving_mean',\n",
       " 'stage4_unit2_bn1_moving_var',\n",
       " 'stage4_unit2_bn1_output',\n",
       " 'stage4_unit2_conv1_weight',\n",
       " 'stage4_unit2_conv1_output',\n",
       " 'stage4_unit2_bn2_gamma',\n",
       " 'stage4_unit2_bn2_beta',\n",
       " 'stage4_unit2_bn2_moving_mean',\n",
       " 'stage4_unit2_bn2_moving_var',\n",
       " 'stage4_unit2_bn2_output',\n",
       " 'stage4_unit2_relu1_gamma',\n",
       " 'stage4_unit2_relu1_output',\n",
       " 'stage4_unit2_conv2_weight',\n",
       " 'stage4_unit2_conv2_output',\n",
       " 'stage4_unit2_bn3_gamma',\n",
       " 'stage4_unit2_bn3_beta',\n",
       " 'stage4_unit2_bn3_moving_mean',\n",
       " 'stage4_unit2_bn3_moving_var',\n",
       " 'stage4_unit2_bn3_output',\n",
       " '_plus22_output',\n",
       " 'stage4_unit3_bn1_gamma',\n",
       " 'stage4_unit3_bn1_beta',\n",
       " 'stage4_unit3_bn1_moving_mean',\n",
       " 'stage4_unit3_bn1_moving_var',\n",
       " 'stage4_unit3_bn1_output',\n",
       " 'stage4_unit3_conv1_weight',\n",
       " 'stage4_unit3_conv1_output',\n",
       " 'stage4_unit3_bn2_gamma',\n",
       " 'stage4_unit3_bn2_beta',\n",
       " 'stage4_unit3_bn2_moving_mean',\n",
       " 'stage4_unit3_bn2_moving_var',\n",
       " 'stage4_unit3_bn2_output',\n",
       " 'stage4_unit3_relu1_gamma',\n",
       " 'stage4_unit3_relu1_output',\n",
       " 'stage4_unit3_conv2_weight',\n",
       " 'stage4_unit3_conv2_output',\n",
       " 'stage4_unit3_bn3_gamma',\n",
       " 'stage4_unit3_bn3_beta',\n",
       " 'stage4_unit3_bn3_moving_mean',\n",
       " 'stage4_unit3_bn3_moving_var',\n",
       " 'stage4_unit3_bn3_output',\n",
       " '_plus23_output',\n",
       " 'bn1_gamma',\n",
       " 'bn1_beta',\n",
       " 'bn1_moving_mean',\n",
       " 'bn1_moving_var',\n",
       " 'bn1_output',\n",
       " 'dropout0_output',\n",
       " 'pre_fc1_weight',\n",
       " 'pre_fc1_bias',\n",
       " 'pre_fc1_output',\n",
       " 'fc1_gamma',\n",
       " 'fc1_beta',\n",
       " 'fc1_moving_mean',\n",
       " 'fc1_moving_var',\n",
       " 'fc1_output']"
      ]
     },
     "execution_count": 5,
     "metadata": {},
     "output_type": "execute_result"
    }
   ],
   "source": [
    "all_layers.list_outputs()"
   ]
  },
  {
   "cell_type": "code",
   "execution_count": 15,
   "metadata": {},
   "outputs": [],
   "source": [
    "sym3 = all_layers['fc1_output']\n",
    "mod3 = mx.mod.Module(symbol=sym3, label_names=None, context=mx.cpu())\n",
    "mod3.bind(for_training=False, data_shapes=[('data', (1,3,112,112))])\n",
    "mod3.init_params()\n",
    "#mod3.set_params(arg_params, aux_params)"
   ]
  },
  {
   "cell_type": "code",
   "execution_count": 16,
   "metadata": {},
   "outputs": [],
   "source": [
    "\n",
    "img = get_image('/home/macul/2018-10-15.png')\n",
    "\n",
    "#output = mod3(Batch([mx.nd.array(img)]))\n",
    "mod3.forward(Batch([mx.nd.array(img)]))"
   ]
  },
  {
   "cell_type": "code",
   "execution_count": 17,
   "metadata": {},
   "outputs": [
    {
     "name": "stdout",
     "output_type": "stream",
     "text": [
      "(1, 1000)\n"
     ]
    }
   ],
   "source": [
    "\n",
    "out = mod3.get_outputs()[0].asnumpy()\n",
    "print(out.shape)"
   ]
  },
  {
   "cell_type": "code",
   "execution_count": 17,
   "metadata": {},
   "outputs": [
    {
     "data": {
      "text/plain": [
       "25088"
      ]
     },
     "execution_count": 17,
     "metadata": {},
     "output_type": "execute_result"
    }
   ],
   "source": [
    "512*7*7"
   ]
  },
  {
   "cell_type": "code",
   "execution_count": null,
   "metadata": {},
   "outputs": [],
   "source": [
    "all_label = mx.symbol.Variable('softmax_label')\n",
    "gt_label = all_label\n",
    "extra_loss = None\n",
    "_weight = mx.symbol.Variable(\"fc7_weight\", shape=(args.num_classes, args.emb_size), lr_mult=args.fc7_lr_mult, wd_mult=args.fc7_wd_mult)\n",
    "\n",
    "s = args.margin_s #64\n",
    "m = args.margin_m #0.5\n",
    "assert s>0.0\n",
    "assert m>=0.0\n",
    "assert m<(math.pi/2)\n",
    "_weight = mx.symbol.L2Normalization(_weight, mode='instance')\n",
    "nembedding = mx.symbol.L2Normalization(embedding, mode='instance', name='fc1n')*s\n",
    "fc7 = mx.sym.FullyConnected(data=nembedding, weight = _weight, no_bias = True, num_hidden=args.num_classes, name='fc7')\n",
    "zy = mx.sym.pick(fc7, gt_label, axis=1)\n",
    "cos_t = zy/s\n",
    "cos_m = math.cos(m)\n",
    "sin_m = math.sin(m)\n",
    "mm = math.sin(math.pi-m)*m\n",
    "#threshold = 0.0\n",
    "threshold = math.cos(math.pi-m)\n",
    "if args.easy_margin: #0\n",
    "  cond = mx.symbol.Activation(data=cos_t, act_type='relu')\n",
    "else:\n",
    "  cond_v = cos_t - threshold\n",
    "  cond = mx.symbol.Activation(data=cond_v, act_type='relu')\n",
    "body = cos_t*cos_t\n",
    "body = 1.0-body\n",
    "sin_t = mx.sym.sqrt(body)\n",
    "new_zy = cos_t*cos_m\n",
    "b = sin_t*sin_m\n",
    "new_zy = new_zy - b\n",
    "new_zy = new_zy*s\n",
    "if args.easy_margin:\n",
    "  zy_keep = zy\n",
    "else:\n",
    "  zy_keep = zy - s*mm\n",
    "new_zy = mx.sym.where(cond, new_zy, zy_keep)\n",
    "\n",
    "diff = new_zy - zy\n",
    "diff = mx.sym.expand_dims(diff, 1)\n",
    "gt_one_hot = mx.sym.one_hot(gt_label, depth = args.num_classes, on_value = 1.0, off_value = 0.0)\n",
    "body = mx.sym.broadcast_mul(gt_one_hot, diff)\n",
    "fc7 = fc7+body    \n",
    "\n",
    "\n",
    "out_list = [mx.symbol.BlockGrad(embedding)]\n",
    "softmax = mx.symbol.SoftmaxOutput(data=fc7, label = gt_label, name='softmax', normalization='valid')\n",
    "out_list.append(softmax)\n",
    "if args.loss_type==6:\n",
    "out_list.append(intra_loss)\n",
    "if args.loss_type==7:\n",
    "out_list.append(inter_loss)\n",
    "#out_list.append(mx.sym.BlockGrad(counter_weight))\n",
    "#out_list.append(intra_loss)\n",
    "if args.ce_loss:\n",
    "#ce_loss = mx.symbol.softmax_cross_entropy(data=fc7, label = gt_label, name='ce_loss')/args.per_batch_size\n",
    "body = mx.symbol.SoftmaxActivation(data=fc7)\n",
    "body = mx.symbol.log(body)\n",
    "_label = mx.sym.one_hot(gt_label, depth = args.num_classes, on_value = -1.0, off_value = 0.0)\n",
    "body = body*_label\n",
    "ce_loss = mx.symbol.sum(body)/args.per_batch_size\n",
    "out_list.append(mx.symbol.BlockGrad(ce_loss))\n",
    "out = mx.symbol.Group(out_list)"
   ]
  },
  {
   "cell_type": "code",
   "execution_count": 12,
   "metadata": {},
   "outputs": [],
   "source": [
    "rec_file = '/media/macul/black/face_database_raw_data/ms1m_crop_112x112/rec/train_insight.rec'\n",
    "idx_file = '/media/macul/black/face_database_raw_data/ms1m_crop_112x112/rec/train_insight.idx'\n",
    "idx_io = mx.recordio.MXIndexedRecordIO(idx_file, rec_file, 'r')"
   ]
  },
  {
   "cell_type": "code",
   "execution_count": 16,
   "metadata": {},
   "outputs": [],
   "source": [
    "s = idx_io.read_idx(1)"
   ]
  },
  {
   "cell_type": "code",
   "execution_count": 17,
   "metadata": {},
   "outputs": [],
   "source": [
    "header, _ = mx.recordio.unpack(s)"
   ]
  },
  {
   "cell_type": "code",
   "execution_count": 20,
   "metadata": {},
   "outputs": [
    {
     "data": {
      "text/plain": [
       "0.0"
      ]
     },
     "execution_count": 20,
     "metadata": {},
     "output_type": "execute_result"
    }
   ],
   "source": [
    "header.label"
   ]
  },
  {
   "cell_type": "code",
   "execution_count": 31,
   "metadata": {},
   "outputs": [],
   "source": [
    "seq_identity = range(int(header.label[0]), int(header.label[1]))"
   ]
  },
  {
   "cell_type": "code",
   "execution_count": 78,
   "metadata": {},
   "outputs": [],
   "source": [
    "s = idx_io.read_idx(1)\n",
    "header, img = mx.recordio.unpack(s)"
   ]
  },
  {
   "cell_type": "code",
   "execution_count": 79,
   "metadata": {},
   "outputs": [
    {
     "data": {
      "text/plain": [
       "HEADER(flag=11, label=array([ 8.6772000e+04, -1.1738513e-02,  1.1776077e-02,  1.4352672e-02,\n",
       "        7.2420081e-03, -2.5646670e-03,  5.6658745e-02, -3.0902587e-02,\n",
       "       -2.5535481e-02,  5.7854794e-02, -2.4363624e-02], dtype=float32), id=1, id2=0)"
      ]
     },
     "execution_count": 79,
     "metadata": {},
     "output_type": "execute_result"
    }
   ],
   "source": [
    "header"
   ]
  },
  {
   "cell_type": "code",
   "execution_count": 81,
   "metadata": {},
   "outputs": [
    {
     "data": {
      "text/plain": [
       "(112L, 112L, 3L)"
      ]
     },
     "execution_count": 81,
     "metadata": {},
     "output_type": "execute_result"
    }
   ],
   "source": [
    "img = mx.image.imdecode(img)\n",
    "img.shape"
   ]
  },
  {
   "cell_type": "code",
   "execution_count": null,
   "metadata": {},
   "outputs": [],
   "source": []
  }
 ],
 "metadata": {
  "kernelspec": {
   "display_name": "Python 2",
   "language": "python",
   "name": "python2"
  },
  "language_info": {
   "codemirror_mode": {
    "name": "ipython",
    "version": 2
   },
   "file_extension": ".py",
   "mimetype": "text/x-python",
   "name": "python",
   "nbconvert_exporter": "python",
   "pygments_lexer": "ipython2",
   "version": "2.7.12"
  }
 },
 "nbformat": 4,
 "nbformat_minor": 2
}
