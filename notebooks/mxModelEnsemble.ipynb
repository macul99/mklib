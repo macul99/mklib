{
 "cells": [
  {
   "cell_type": "code",
   "execution_count": 1,
   "metadata": {},
   "outputs": [
    {
     "ename": "ImportError",
     "evalue": "No module named mxnet",
     "output_type": "error",
     "traceback": [
      "\u001b[0;31m---------------------------------------------------------------------------\u001b[0m",
      "\u001b[0;31mImportError\u001b[0m                               Traceback (most recent call last)",
      "\u001b[0;32m<ipython-input-1-63b006fc99e2>\u001b[0m in \u001b[0;36m<module>\u001b[0;34m()\u001b[0m\n\u001b[1;32m      4\u001b[0m \u001b[0msys\u001b[0m\u001b[0;34m.\u001b[0m\u001b[0mpath\u001b[0m\u001b[0;34m.\u001b[0m\u001b[0mappend\u001b[0m\u001b[0;34m(\u001b[0m\u001b[0;34m'/home/macul/libraries/mk_utils/mklib/nn/mxiter'\u001b[0m\u001b[0;34m)\u001b[0m\u001b[0;34m\u001b[0m\u001b[0m\n\u001b[1;32m      5\u001b[0m \u001b[0msys\u001b[0m\u001b[0;34m.\u001b[0m\u001b[0mpath\u001b[0m\u001b[0;34m.\u001b[0m\u001b[0mappend\u001b[0m\u001b[0;34m(\u001b[0m\u001b[0;34m'/home/macul/libraries/mk_utils/mklib/nn/mxconv'\u001b[0m\u001b[0;34m)\u001b[0m\u001b[0;34m\u001b[0m\u001b[0m\n\u001b[0;32m----> 6\u001b[0;31m \u001b[0;32mimport\u001b[0m \u001b[0mmxnet\u001b[0m \u001b[0;32mas\u001b[0m \u001b[0mmx\u001b[0m\u001b[0;34m\u001b[0m\u001b[0m\n\u001b[0m\u001b[1;32m      7\u001b[0m \u001b[0;32mimport\u001b[0m \u001b[0mcaffe\u001b[0m\u001b[0;34m\u001b[0m\u001b[0m\n\u001b[1;32m      8\u001b[0m \u001b[0;32mfrom\u001b[0m \u001b[0mcollections\u001b[0m \u001b[0;32mimport\u001b[0m \u001b[0mnamedtuple\u001b[0m\u001b[0;34m\u001b[0m\u001b[0m\n",
      "\u001b[0;31mImportError\u001b[0m: No module named mxnet"
     ]
    }
   ],
   "source": [
    "import sys\n",
    "sys.path.append('/home/macul/libraries/MXNet2Caffe')\n",
    "sys.path.append('/home/macul/insightface/src/')\n",
    "sys.path.append('/home/macul/libraries/mk_utils/mklib/nn/mxiter')\n",
    "sys.path.append('/home/macul/libraries/mk_utils/mklib/nn/mxconv')\n",
    "import mxnet as mx\n",
    "import caffe\n",
    "from collections import namedtuple\n",
    "import numpy as np\n",
    "import cv2"
   ]
  },
  {
   "cell_type": "code",
   "execution_count": null,
   "metadata": {},
   "outputs": [],
   "source": [
    "# backup original .json file"
   ]
  },
  {
   "cell_type": "code",
   "execution_count": 2,
   "metadata": {},
   "outputs": [],
   "source": [
    "mxModelPath = '/media/macul/black/mxnet_training/r50/server_train16/train_16'\n",
    "mxModelEpoch = [39,40,41,42]"
   ]
  },
  {
   "cell_type": "code",
   "execution_count": 7,
   "metadata": {},
   "outputs": [],
   "source": [
    "sym_tmp, arg_params, aux_params = mx.model.load_checkpoint(mxModelPath, mxModelEpoch[0])\n",
    "all_layers = sym_tmp.get_internals()\n",
    "output_list = all_layers.list_outputs()\n",
    "sym3 = all_layers['embedding_output']\n",
    "model = mx.mod.Module(symbol=sym3, label_names=None, context=mx.cpu())\n",
    "model.bind(for_training=False, data_shapes=[('data', (1,3,112,112))])\n"
   ]
  },
  {
   "cell_type": "code",
   "execution_count": 3,
   "metadata": {},
   "outputs": [],
   "source": [
    "for i in range(1,len(mxModelEpoch)):\n",
    "    _, arg_p, aux_p = mx.model.load_checkpoint(mxModelPath, mxModelEpoch[i])\n",
    "    for k in arg_params.keys():\n",
    "        arg_params[k] += arg_p[k]\n",
    "    for k in aux_params.keys():\n",
    "        aux_params[k] += aux_p[k]\n",
    "\n",
    "for k in arg_params.keys():\n",
    "    arg_params[k] /= len(mxModelEpoch)\n",
    "\n",
    "\n",
    "for k in aux_params.keys():\n",
    "    aux_params[k] /= len(mxModelEpoch)\n"
   ]
  },
  {
   "cell_type": "code",
   "execution_count": 8,
   "metadata": {},
   "outputs": [],
   "source": [
    "model.set_params(arg_params, aux_params, allow_missing=False, allow_extra=False)"
   ]
  },
  {
   "cell_type": "code",
   "execution_count": 10,
   "metadata": {},
   "outputs": [],
   "source": [
    "model.save_checkpoint(mxModelPath, mxModelEpoch[0]*100+mxModelEpoch[-1])"
   ]
  },
  {
   "cell_type": "code",
   "execution_count": null,
   "metadata": {},
   "outputs": [],
   "source": [
    "# restore original .json file"
   ]
  }
 ],
 "metadata": {
  "kernelspec": {
   "display_name": "Python 2",
   "language": "python",
   "name": "python2"
  },
  "language_info": {
   "codemirror_mode": {
    "name": "ipython",
    "version": 2
   },
   "file_extension": ".py",
   "mimetype": "text/x-python",
   "name": "python",
   "nbconvert_exporter": "python",
   "pygments_lexer": "ipython2",
   "version": "2.7.12"
  }
 },
 "nbformat": 4,
 "nbformat_minor": 2
}
