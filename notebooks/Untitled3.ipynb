{
 "cells": [
  {
   "cell_type": "code",
   "execution_count": 4,
   "metadata": {},
   "outputs": [],
   "source": [
    "import numpy as np\n",
    "import cv2\n",
    "from PIL import Image"
   ]
  },
  {
   "cell_type": "code",
   "execution_count": 28,
   "metadata": {},
   "outputs": [],
   "source": [
    "fn = '/home/macul/2018-10-15.png'\n",
    "\n",
    "im = cv2.imread(fn)\n",
    "hsv = cv2.cvtColor(im, cv2.COLOR_BGR2HSV)\n",
    "img = Image.fromarray(hsv[:,:,0])\n",
    "img.show()\n",
    "img = Image.fromarray(hsv[:,:,1])\n",
    "img.show()\n",
    "img = Image.fromarray(hsv[:,:,2])\n",
    "img.show()"
   ]
  },
  {
   "cell_type": "code",
   "execution_count": 13,
   "metadata": {},
   "outputs": [],
   "source": [
    "fn = '/home/macul/2018-10-15.png'\n",
    "\n",
    "im = cv2.imread(fn)\n",
    "hsv = cv2.cvtColor(im, cv2.COLOR_BGR2YCrCb)\n",
    "img = Image.fromarray(hsv[:,:,0])\n",
    "img.show()\n",
    "img = Image.fromarray(hsv[:,:,1])\n",
    "img.show()\n",
    "img = Image.fromarray(hsv[:,:,2])\n",
    "img.show()"
   ]
  },
  {
   "cell_type": "code",
   "execution_count": 14,
   "metadata": {},
   "outputs": [],
   "source": [
    "fn = '/home/macul/2018-10-15.png'\n",
    "\n",
    "im = cv2.imread(fn)\n",
    "hsv = cv2.cvtColor(im, cv2.COLOR_BGR2LAB)\n",
    "img = Image.fromarray(hsv[:,:,0])\n",
    "img.show()\n",
    "img = Image.fromarray(hsv[:,:,1])\n",
    "img.show()\n",
    "img = Image.fromarray(hsv[:,:,2])\n",
    "img.show()"
   ]
  },
  {
   "cell_type": "code",
   "execution_count": 26,
   "metadata": {},
   "outputs": [],
   "source": [
    "config = {\n",
    "            'enable_gaussian_blur': True,\n",
    "            'blur_kernal_size': 5,\n",
    "            'canny_low_threshold': 0,\n",
    "            'canny_high_threshold': 100,\n",
    "            'hough_rho': 1, # distance resolution in pixels of the Hough grid\n",
    "            'hough_threshold': 5, # minimum number of votes (intersections in Hough grid cell)\n",
    "            'hough_min_line_length': 25, # minimum number of pixels making up a line\n",
    "            'hough_max_line_gap': 4, # maximum gap in pixels between connectable line segments\n",
    "            'angle_limit': 15, # only lines which angle with horizontal or vertical lines are within this limit will be considered\n",
    "            'max_num_lines': 5, # the max number of lines for outside each boundary of the bounding boxes, totoal number of lines will be max_num_lines*4\n",
    "          }\n",
    "\n",
    "def get_lines(img):\n",
    "\n",
    "    img_h, img_w, _ = img.shape\n",
    "\n",
    "    # find lines\n",
    "    gray = cv2.cvtColor(img,cv2.COLOR_BGR2GRAY)\n",
    "\n",
    "    if config['enable_gaussian_blur']:\n",
    "        blur_gray = cv2.GaussianBlur(gray,(config['blur_kernal_size'], config['blur_kernal_size']),0)\n",
    "    else:\n",
    "        blur_gray = gray\n",
    "\n",
    "    edges = cv2.Canny(  blur_gray, \n",
    "                        config['canny_low_threshold'], \n",
    "                        config['canny_high_threshold'])\n",
    "\n",
    "    # Run Hough on edge detected image\n",
    "    # Output \"lines\" is an array containing endpoints of detected line segments\n",
    "    lines = cv2.HoughLinesP(edges, \n",
    "                            config['hough_rho'], \n",
    "                            np.pi / 180, \n",
    "                            config['hough_threshold'], \n",
    "                            np.array([]),\n",
    "                            config['hough_min_line_length'], \n",
    "                            config['hough_max_line_gap'])\n",
    "    return lines\n",
    "\n",
    "def draw_lines(img, lines):\n",
    "    for line in lines:\n",
    "        img = cv2.line(img, (line[0][0], line[0][1]), (line[0][2], line[0][3]), (0,255,0), 2)\n",
    "    \n",
    "fn = '/home/macul/2018-10-15.png'\n",
    "\n",
    "im = cv2.imread(fn)\n",
    "\n",
    "lines = get_lines(im)\n",
    "\n",
    "#print(lines)\n",
    "new_im = np.zeros_like(im)\n",
    "draw_lines(new_im, lines)\n",
    "    \n",
    "im = cv2.cvtColor(im,cv2.COLOR_BGR2RGB)\n",
    "img = Image.fromarray(new_im, 'RGB')\n",
    "img.show()"
   ]
  },
  {
   "cell_type": "code",
   "execution_count": null,
   "metadata": {},
   "outputs": [],
   "source": []
  }
 ],
 "metadata": {
  "kernelspec": {
   "display_name": "Python 3",
   "language": "python",
   "name": "python3"
  },
  "language_info": {
   "codemirror_mode": {
    "name": "ipython",
    "version": 3
   },
   "file_extension": ".py",
   "mimetype": "text/x-python",
   "name": "python",
   "nbconvert_exporter": "python",
   "pygments_lexer": "ipython3",
   "version": "3.5.2"
  }
 },
 "nbformat": 4,
 "nbformat_minor": 2
}
