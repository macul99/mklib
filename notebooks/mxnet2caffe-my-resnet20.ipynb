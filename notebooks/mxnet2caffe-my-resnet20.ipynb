{
 "cells": [
  {
   "cell_type": "code",
   "execution_count": 1,
   "metadata": {},
   "outputs": [
    {
     "data": {
      "text/plain": [
       "'\\nlayer {\\n  bottom: \"out_relu3\"\\n  top: \"flatten\"\\n  name: \"fc1_flatten\"\\n  type: \"Flatten\"\\n  flatten_param { axis: 1}\\n}\\n'"
      ]
     },
     "execution_count": 1,
     "metadata": {},
     "output_type": "execute_result"
    }
   ],
   "source": [
    "# source ~/mx_venv/bin/activate\n",
    "# cd /mk_utils/MXNet2Caffe\n",
    "# python -m json2prototxt --mx-json /home/macul/Documents/macul/FaceRecog_ResNet_MX/output/dgx_train7/train_7-symbol.json --cf-prototxt /home/macul/Documents/macul/FaceRecog_ResNet_MX/output/dgx_train7/model-caffe-converted.prototxt\n",
    "# remove all layers after 'out_embedding_scale'\n",
    "# save modified file as dgx_train7_58-caffe.prototxt\n",
    "# python -m mxnet2caffe --mx-model /home/macul/Documents/macul/FaceRecog_ResNet_MX/output/dgx_train7/train_7 --mx-epoch 58 --cf-prototxt /home/macul/Documents/macul/FaceRecog_ResNet_MX/output/dgx_train7/dgx_train7_58-caffe.prototxt --cf-model /home/macul/Documents/macul/FaceRecog_ResNet_MX/output/dgx_train7/dgx_train7_58-caffe-converted.caffemodel"
   ]
  },
  {
   "cell_type": "code",
   "execution_count": 1,
   "metadata": {},
   "outputs": [],
   "source": [
    "import sys\n",
    "sys.path.append('/home/macul/Documents/macul/MXNet2Caffe')\n",
    "sys.path.append('/home/macul/Documents/macul1/insightface/src/')\n",
    "sys.path.append('/home/macul/Documents/macul/mklib/nn/mxiter')\n",
    "sys.path.append('/home/macul/Documents/macul/mklib/nn/mxconv')\n",
    "import mxnet as mx\n",
    "import caffe\n",
    "from collections import namedtuple\n",
    "import numpy as np\n",
    "import cv2"
   ]
  },
  {
   "cell_type": "code",
   "execution_count": 2,
   "metadata": {},
   "outputs": [],
   "source": [
    "#mxModelPath = '/media/macul/black/mxnet_training/r50/dgx_train1/train_1'\n",
    "#mxModelEpoch = 31\n",
    "mxModelPath = '/home/macul/Documents/macul/FaceRecog_ResNet_MX/output/dgx_train7/train_7'\n",
    "mxModelEpoch = 58\n",
    "\n",
    "sym_tmp, arg_params, aux_params = mx.model.load_checkpoint(mxModelPath, mxModelEpoch)"
   ]
  },
  {
   "cell_type": "code",
   "execution_count": 3,
   "metadata": {},
   "outputs": [],
   "source": [
    "all_layers = sym_tmp.get_internals()\n",
    "output_list = all_layers.list_outputs()\n",
    "sym3 = all_layers['out_embedding_output']\n",
    "#sym3 = all_layers['out_fc1_output']\n",
    "model = mx.mod.Module(symbol=sym3, label_names=None, context=mx.cpu())\n",
    "model.bind(for_training=False, data_shapes=[('data', (1,3,112,112))])\n",
    "model.set_params(arg_params, aux_params, allow_missing=False, allow_extra=True)"
   ]
  },
  {
   "cell_type": "code",
   "execution_count": 5,
   "metadata": {},
   "outputs": [
    {
     "data": {
      "text/plain": [
       "['data',\n",
       " 'stem_conv1_weight',\n",
       " 'stem_conv1_output',\n",
       " 'stem_bn2_gamma',\n",
       " 'stem_bn2_beta',\n",
       " 'stem_bn2_moving_mean',\n",
       " 'stem_bn2_moving_var',\n",
       " 'stem_bn2_output',\n",
       " 'stem_relu1_gamma',\n",
       " 'stem_relu1_output',\n",
       " 'stage1_unit1_bn1_gamma',\n",
       " 'stage1_unit1_bn1_beta',\n",
       " 'stage1_unit1_bn1_moving_mean',\n",
       " 'stage1_unit1_bn1_moving_var',\n",
       " 'stage1_unit1_bn1_output',\n",
       " 'stage1_unit1_conv1_weight',\n",
       " 'stage1_unit1_conv1_output',\n",
       " 'stage1_unit1_bn2_gamma',\n",
       " 'stage1_unit1_bn2_beta',\n",
       " 'stage1_unit1_bn2_moving_mean',\n",
       " 'stage1_unit1_bn2_moving_var',\n",
       " 'stage1_unit1_bn2_output',\n",
       " 'stage1_unit1_prelu2_gamma',\n",
       " 'stage1_unit1_prelu2_output',\n",
       " 'stage1_unit1_conv2_weight',\n",
       " 'stage1_unit1_conv2_output',\n",
       " 'stage1_unit1_bn4_gamma',\n",
       " 'stage1_unit1_bn4_beta',\n",
       " 'stage1_unit1_bn4_moving_mean',\n",
       " 'stage1_unit1_bn4_moving_var',\n",
       " 'stage1_unit1_bn4_output',\n",
       " 'stage1_unit1_convr_weight',\n",
       " 'stage1_unit1_convr_output',\n",
       " 'stage1_unit1_bnr_gamma',\n",
       " 'stage1_unit1_bnr_beta',\n",
       " 'stage1_unit1_bnr_moving_mean',\n",
       " 'stage1_unit1_bnr_moving_var',\n",
       " 'stage1_unit1_bnr_output',\n",
       " '_plus0_output',\n",
       " 'stage2_unit1_bn1_gamma',\n",
       " 'stage2_unit1_bn1_beta',\n",
       " 'stage2_unit1_bn1_moving_mean',\n",
       " 'stage2_unit1_bn1_moving_var',\n",
       " 'stage2_unit1_bn1_output',\n",
       " 'stage2_unit1_conv1_weight',\n",
       " 'stage2_unit1_conv1_output',\n",
       " 'stage2_unit1_bn2_gamma',\n",
       " 'stage2_unit1_bn2_beta',\n",
       " 'stage2_unit1_bn2_moving_mean',\n",
       " 'stage2_unit1_bn2_moving_var',\n",
       " 'stage2_unit1_bn2_output',\n",
       " 'stage2_unit1_prelu2_gamma',\n",
       " 'stage2_unit1_prelu2_output',\n",
       " 'stage2_unit1_conv2_weight',\n",
       " 'stage2_unit1_conv2_output',\n",
       " 'stage2_unit1_bn4_gamma',\n",
       " 'stage2_unit1_bn4_beta',\n",
       " 'stage2_unit1_bn4_moving_mean',\n",
       " 'stage2_unit1_bn4_moving_var',\n",
       " 'stage2_unit1_bn4_output',\n",
       " 'stage2_unit1_convr_weight',\n",
       " 'stage2_unit1_convr_output',\n",
       " 'stage2_unit1_bnr_gamma',\n",
       " 'stage2_unit1_bnr_beta',\n",
       " 'stage2_unit1_bnr_moving_mean',\n",
       " 'stage2_unit1_bnr_moving_var',\n",
       " 'stage2_unit1_bnr_output',\n",
       " '_plus1_output',\n",
       " 'stage2_unit2_bn1_gamma',\n",
       " 'stage2_unit2_bn1_beta',\n",
       " 'stage2_unit2_bn1_moving_mean',\n",
       " 'stage2_unit2_bn1_moving_var',\n",
       " 'stage2_unit2_bn1_output',\n",
       " 'stage2_unit2_conv1_weight',\n",
       " 'stage2_unit2_conv1_output',\n",
       " 'stage2_unit2_bn2_gamma',\n",
       " 'stage2_unit2_bn2_beta',\n",
       " 'stage2_unit2_bn2_moving_mean',\n",
       " 'stage2_unit2_bn2_moving_var',\n",
       " 'stage2_unit2_bn2_output',\n",
       " 'stage2_unit2_prelu2_gamma',\n",
       " 'stage2_unit2_prelu2_output',\n",
       " 'stage2_unit2_conv2_weight',\n",
       " 'stage2_unit2_conv2_output',\n",
       " 'stage2_unit2_bn4_gamma',\n",
       " 'stage2_unit2_bn4_beta',\n",
       " 'stage2_unit2_bn4_moving_mean',\n",
       " 'stage2_unit2_bn4_moving_var',\n",
       " 'stage2_unit2_bn4_output',\n",
       " '_plus2_output',\n",
       " 'stage3_unit1_bn1_gamma',\n",
       " 'stage3_unit1_bn1_beta',\n",
       " 'stage3_unit1_bn1_moving_mean',\n",
       " 'stage3_unit1_bn1_moving_var',\n",
       " 'stage3_unit1_bn1_output',\n",
       " 'stage3_unit1_conv1_weight',\n",
       " 'stage3_unit1_conv1_output',\n",
       " 'stage3_unit1_bn2_gamma',\n",
       " 'stage3_unit1_bn2_beta',\n",
       " 'stage3_unit1_bn2_moving_mean',\n",
       " 'stage3_unit1_bn2_moving_var',\n",
       " 'stage3_unit1_bn2_output',\n",
       " 'stage3_unit1_prelu2_gamma',\n",
       " 'stage3_unit1_prelu2_output',\n",
       " 'stage3_unit1_conv2_weight',\n",
       " 'stage3_unit1_conv2_output',\n",
       " 'stage3_unit1_bn4_gamma',\n",
       " 'stage3_unit1_bn4_beta',\n",
       " 'stage3_unit1_bn4_moving_mean',\n",
       " 'stage3_unit1_bn4_moving_var',\n",
       " 'stage3_unit1_bn4_output',\n",
       " 'stage3_unit1_convr_weight',\n",
       " 'stage3_unit1_convr_output',\n",
       " 'stage3_unit1_bnr_gamma',\n",
       " 'stage3_unit1_bnr_beta',\n",
       " 'stage3_unit1_bnr_moving_mean',\n",
       " 'stage3_unit1_bnr_moving_var',\n",
       " 'stage3_unit1_bnr_output',\n",
       " '_plus3_output',\n",
       " 'stage3_unit2_bn1_gamma',\n",
       " 'stage3_unit2_bn1_beta',\n",
       " 'stage3_unit2_bn1_moving_mean',\n",
       " 'stage3_unit2_bn1_moving_var',\n",
       " 'stage3_unit2_bn1_output',\n",
       " 'stage3_unit2_conv1_weight',\n",
       " 'stage3_unit2_conv1_output',\n",
       " 'stage3_unit2_bn2_gamma',\n",
       " 'stage3_unit2_bn2_beta',\n",
       " 'stage3_unit2_bn2_moving_mean',\n",
       " 'stage3_unit2_bn2_moving_var',\n",
       " 'stage3_unit2_bn2_output',\n",
       " 'stage3_unit2_prelu2_gamma',\n",
       " 'stage3_unit2_prelu2_output',\n",
       " 'stage3_unit2_conv2_weight',\n",
       " 'stage3_unit2_conv2_output',\n",
       " 'stage3_unit2_bn4_gamma',\n",
       " 'stage3_unit2_bn4_beta',\n",
       " 'stage3_unit2_bn4_moving_mean',\n",
       " 'stage3_unit2_bn4_moving_var',\n",
       " 'stage3_unit2_bn4_output',\n",
       " '_plus4_output',\n",
       " 'stage3_unit3_bn1_gamma',\n",
       " 'stage3_unit3_bn1_beta',\n",
       " 'stage3_unit3_bn1_moving_mean',\n",
       " 'stage3_unit3_bn1_moving_var',\n",
       " 'stage3_unit3_bn1_output',\n",
       " 'stage3_unit3_conv1_weight',\n",
       " 'stage3_unit3_conv1_output',\n",
       " 'stage3_unit3_bn2_gamma',\n",
       " 'stage3_unit3_bn2_beta',\n",
       " 'stage3_unit3_bn2_moving_mean',\n",
       " 'stage3_unit3_bn2_moving_var',\n",
       " 'stage3_unit3_bn2_output',\n",
       " 'stage3_unit3_prelu2_gamma',\n",
       " 'stage3_unit3_prelu2_output',\n",
       " 'stage3_unit3_conv2_weight',\n",
       " 'stage3_unit3_conv2_output',\n",
       " 'stage3_unit3_bn4_gamma',\n",
       " 'stage3_unit3_bn4_beta',\n",
       " 'stage3_unit3_bn4_moving_mean',\n",
       " 'stage3_unit3_bn4_moving_var',\n",
       " 'stage3_unit3_bn4_output',\n",
       " '_plus5_output',\n",
       " 'stage3_unit4_bn1_gamma',\n",
       " 'stage3_unit4_bn1_beta',\n",
       " 'stage3_unit4_bn1_moving_mean',\n",
       " 'stage3_unit4_bn1_moving_var',\n",
       " 'stage3_unit4_bn1_output',\n",
       " 'stage3_unit4_conv1_weight',\n",
       " 'stage3_unit4_conv1_output',\n",
       " 'stage3_unit4_bn2_gamma',\n",
       " 'stage3_unit4_bn2_beta',\n",
       " 'stage3_unit4_bn2_moving_mean',\n",
       " 'stage3_unit4_bn2_moving_var',\n",
       " 'stage3_unit4_bn2_output',\n",
       " 'stage3_unit4_prelu2_gamma',\n",
       " 'stage3_unit4_prelu2_output',\n",
       " 'stage3_unit4_conv2_weight',\n",
       " 'stage3_unit4_conv2_output',\n",
       " 'stage3_unit4_bn4_gamma',\n",
       " 'stage3_unit4_bn4_beta',\n",
       " 'stage3_unit4_bn4_moving_mean',\n",
       " 'stage3_unit4_bn4_moving_var',\n",
       " 'stage3_unit4_bn4_output',\n",
       " '_plus6_output',\n",
       " 'stage3_unit5_bn1_gamma',\n",
       " 'stage3_unit5_bn1_beta',\n",
       " 'stage3_unit5_bn1_moving_mean',\n",
       " 'stage3_unit5_bn1_moving_var',\n",
       " 'stage3_unit5_bn1_output',\n",
       " 'stage3_unit5_conv1_weight',\n",
       " 'stage3_unit5_conv1_output',\n",
       " 'stage3_unit5_bn2_gamma',\n",
       " 'stage3_unit5_bn2_beta',\n",
       " 'stage3_unit5_bn2_moving_mean',\n",
       " 'stage3_unit5_bn2_moving_var',\n",
       " 'stage3_unit5_bn2_output',\n",
       " 'stage3_unit5_prelu2_gamma',\n",
       " 'stage3_unit5_prelu2_output',\n",
       " 'stage3_unit5_conv2_weight',\n",
       " 'stage3_unit5_conv2_output',\n",
       " 'stage3_unit5_bn4_gamma',\n",
       " 'stage3_unit5_bn4_beta',\n",
       " 'stage3_unit5_bn4_moving_mean',\n",
       " 'stage3_unit5_bn4_moving_var',\n",
       " 'stage3_unit5_bn4_output',\n",
       " '_plus7_output',\n",
       " 'stage4_unit1_bn1_gamma',\n",
       " 'stage4_unit1_bn1_beta',\n",
       " 'stage4_unit1_bn1_moving_mean',\n",
       " 'stage4_unit1_bn1_moving_var',\n",
       " 'stage4_unit1_bn1_output',\n",
       " 'stage4_unit1_conv1_weight',\n",
       " 'stage4_unit1_conv1_output',\n",
       " 'stage4_unit1_bn2_gamma',\n",
       " 'stage4_unit1_bn2_beta',\n",
       " 'stage4_unit1_bn2_moving_mean',\n",
       " 'stage4_unit1_bn2_moving_var',\n",
       " 'stage4_unit1_bn2_output',\n",
       " 'stage4_unit1_prelu2_gamma',\n",
       " 'stage4_unit1_prelu2_output',\n",
       " 'stage4_unit1_conv2_weight',\n",
       " 'stage4_unit1_conv2_output',\n",
       " 'stage4_unit1_bn4_gamma',\n",
       " 'stage4_unit1_bn4_beta',\n",
       " 'stage4_unit1_bn4_moving_mean',\n",
       " 'stage4_unit1_bn4_moving_var',\n",
       " 'stage4_unit1_bn4_output',\n",
       " 'stage4_unit1_convr_weight',\n",
       " 'stage4_unit1_convr_output',\n",
       " 'stage4_unit1_bnr_gamma',\n",
       " 'stage4_unit1_bnr_beta',\n",
       " 'stage4_unit1_bnr_moving_mean',\n",
       " 'stage4_unit1_bnr_moving_var',\n",
       " 'stage4_unit1_bnr_output',\n",
       " '_plus8_output',\n",
       " 'stage4_unit2_bn1_gamma',\n",
       " 'stage4_unit2_bn1_beta',\n",
       " 'stage4_unit2_bn1_moving_mean',\n",
       " 'stage4_unit2_bn1_moving_var',\n",
       " 'stage4_unit2_bn1_output',\n",
       " 'stage4_unit2_conv1_weight',\n",
       " 'stage4_unit2_conv1_output',\n",
       " 'stage4_unit2_bn2_gamma',\n",
       " 'stage4_unit2_bn2_beta',\n",
       " 'stage4_unit2_bn2_moving_mean',\n",
       " 'stage4_unit2_bn2_moving_var',\n",
       " 'stage4_unit2_bn2_output',\n",
       " 'stage4_unit2_prelu2_gamma',\n",
       " 'stage4_unit2_prelu2_output',\n",
       " 'stage4_unit2_conv2_weight',\n",
       " 'stage4_unit2_conv2_output',\n",
       " 'stage4_unit2_bn4_gamma',\n",
       " 'stage4_unit2_bn4_beta',\n",
       " 'stage4_unit2_bn4_moving_mean',\n",
       " 'stage4_unit2_bn4_moving_var',\n",
       " 'stage4_unit2_bn4_output',\n",
       " '_plus9_output',\n",
       " 'out_bn2_gamma',\n",
       " 'out_bn2_beta',\n",
       " 'out_bn2_moving_mean',\n",
       " 'out_bn2_moving_var',\n",
       " 'out_bn2_output',\n",
       " 'out_relu2_gamma',\n",
       " 'out_relu2_output',\n",
       " 'out_conv1_weight',\n",
       " 'out_conv1_output',\n",
       " 'out_bn3_gamma',\n",
       " 'out_bn3_beta',\n",
       " 'out_bn3_moving_mean',\n",
       " 'out_bn3_moving_var',\n",
       " 'out_bn3_output',\n",
       " 'out_relu3_output',\n",
       " 'out_fc1_weight',\n",
       " 'out_fc1_bias',\n",
       " 'out_fc1_output',\n",
       " 'out_embedding_gamma',\n",
       " 'out_embedding_beta',\n",
       " 'out_embedding_moving_mean',\n",
       " 'out_embedding_moving_var',\n",
       " 'out_embedding_output',\n",
       " 'fc1n_output',\n",
       " '_mulscalar0_output',\n",
       " 'arc_fc_weight',\n",
       " 'l2normalization0_output',\n",
       " 'arc_fc_output',\n",
       " 'softmax_label',\n",
       " 'reshape0_output',\n",
       " 'one_hot0_output',\n",
       " 'pick0_output',\n",
       " '_divscalar0_output',\n",
       " '_minusscalar0_output',\n",
       " 'arc_relu_output',\n",
       " '_mulscalar1_output',\n",
       " '_mul0_output',\n",
       " '_rminusscalar0_output',\n",
       " 'sqrt0_output',\n",
       " '_mulscalar2_output',\n",
       " '_minus0_output',\n",
       " '_mulscalar3_output',\n",
       " '_minusscalar1_output',\n",
       " 'where0_output',\n",
       " '_minus1_output',\n",
       " 'expand_dims0_output',\n",
       " 'broadcast_mul0_output',\n",
       " '_plus10_output',\n",
       " 'softmax_output',\n",
       " 'regr_pool_output',\n",
       " 'regr_dropout_output',\n",
       " 'regr_fc_weight',\n",
       " 'regr_fc_bias',\n",
       " 'regr_fc_output',\n",
       " 'regr_tanh_output',\n",
       " 'landmark_gt',\n",
       " 'lro_output',\n",
       " 'embedding_output']"
      ]
     },
     "execution_count": 5,
     "metadata": {},
     "output_type": "execute_result"
    }
   ],
   "source": [
    "output_list"
   ]
  },
  {
   "cell_type": "code",
   "execution_count": 4,
   "metadata": {},
   "outputs": [],
   "source": [
    "img_normalization = True\n",
    "img = mx.image.imread('/media/macul/black/face_database_raw_data/mscelb_from_insightface/Data/0000000/0001.png')\n",
    "img = img.astype('float32')\n",
    "if img_normalization:\n",
    "    img = img - 127.5\n",
    "    img = img * 0.0078125\n",
    "img = img.transpose((2,0,1))\n",
    "img = img.expand_dims(axis=0)   \n",
    "Batch = namedtuple('Batch',['data'])\n",
    "model.forward(Batch([img]))"
   ]
  },
  {
   "cell_type": "code",
   "execution_count": 5,
   "metadata": {},
   "outputs": [],
   "source": [
    "outs=model.get_outputs()"
   ]
  },
  {
   "cell_type": "code",
   "execution_count": 6,
   "metadata": {},
   "outputs": [],
   "source": [
    "out_mx=outs[0].asnumpy()[0]"
   ]
  },
  {
   "cell_type": "code",
   "execution_count": 7,
   "metadata": {},
   "outputs": [
    {
     "name": "stdout",
     "output_type": "stream",
     "text": [
      "(512L,)\n",
      "(512L, 25088L)\n"
     ]
    }
   ],
   "source": [
    "print(arg_params['out_fc1_bias'].shape)\n",
    "print(arg_params['out_fc1_weight'].shape)"
   ]
  },
  {
   "cell_type": "code",
   "execution_count": 9,
   "metadata": {},
   "outputs": [],
   "source": [
    "arg_params['out_embedding_gamma']=1"
   ]
  },
  {
   "cell_type": "code",
   "execution_count": 2,
   "metadata": {
    "scrolled": true
   },
   "outputs": [],
   "source": [
    "cfModelProto='/home/macul/Documents/macul/FaceRecog_ResNet_MX/output/dgx_train7/resnet20_no_merge_no_flattern.prototxt'\n",
    "cfModelWeight='/home/macul/Documents/macul/FaceRecog_ResNet_MX/output/dgx_train7/resnet20_no_merge_no_flattern.caffemodel'\n",
    "#cfModelProto='/home/macul/Documents/macul/FaceRecog_ResNet_MX/output/dgx_train7/dgx_train7_58-caffe.prototxt'\n",
    "#cfModelWeight='/home/macul/Documents/macul/FaceRecog_ResNet_MX/output/dgx_train7/dgx_train7_58-caffe-converted.caffemodel'\n",
    "#cfModelProto='/media/macul/black/mxnet_training/r50/dgx_train1/dgx_train1_31-caffe.prototxt'\n",
    "#cfModelWeight='/media/macul/black/mxnet_training/r50/dgx_train1/dgx_train1_31-caffe-converted.caffemodel'\n",
    "Net = caffe.Net(cfModelProto, cfModelWeight, caffe.TEST)\n",
    "Net.blobs['data'].reshape(1,3,112,112)"
   ]
  },
  {
   "cell_type": "code",
   "execution_count": 9,
   "metadata": {},
   "outputs": [],
   "source": [
    "def getOutput(img_path, output_name):\n",
    "    mean_array = np.ones([3,112, 112])*127.5\n",
    "    scale_value = 0.0078125\n",
    "    img = cv2.imread(img_path)\n",
    "    img = cv2.cvtColor(img, cv2.COLOR_BGR2RGB)\n",
    "    img = img.astype(np.float32)\n",
    "    img = np.rollaxis(img,2)\n",
    "    img = img - mean_array\n",
    "    img = img * scale_value\n",
    "    img = img[np.newaxis,...] \n",
    "    \n",
    "    Net.blobs['data'].data[...] = img\n",
    "    out = Net.forward()\n",
    "    out = out[output_name][0]\n",
    "    return out"
   ]
  },
  {
   "cell_type": "code",
   "execution_count": 7,
   "metadata": {},
   "outputs": [
    {
     "name": "stdout",
     "output_type": "stream",
     "text": [
      "[-5.60519386e-45  5.60519386e-45  1.10433064e-02  4.30759148e-42\n",
      " -5.60519386e-45  2.94192211e-34  5.60519386e-45  1.08831981e-03\n",
      "  1.03809759e-02  1.10923755e-03  1.43937301e-03  4.35527181e-03\n",
      "  9.63252564e-42  5.60519386e-45  1.75862957e-42  2.96234495e-42\n",
      "  3.35522997e-03  1.24505369e-41  1.21942218e-02  3.93827306e-03\n",
      "  5.60519386e-45  4.57037135e-26  1.03806658e-02  1.40949222e-03\n",
      "  5.60519386e-45  5.60519386e-45  1.31598385e-02  5.60519386e-45\n",
      "  1.24575542e-02  2.42204126e-02 -5.60519386e-45  5.78949824e-02\n",
      "  5.60519386e-45  1.61340041e-03  5.60519386e-45  9.52042177e-42\n",
      "  2.79208719e-41 -5.60519386e-45  1.03718266e-02  5.60519386e-45\n",
      " -5.60519386e-45  1.03112478e-02  3.13890856e-43  1.80787928e-02\n",
      "  4.08338373e-42  1.62425954e-02  5.60519386e-45 -5.60519386e-45\n",
      " -5.60519386e-45  1.04078809e-02  5.60519386e-45  5.60519386e-45\n",
      "  1.11450872e-40 -5.60519386e-45 -5.60519386e-45  5.60519386e-45\n",
      "  2.00594263e-03  2.86134053e-03  5.60519386e-45  5.15004213e-04\n",
      "  5.60519386e-45  3.24400594e-42  9.97306034e-03  4.37205657e-03]\n",
      "[5.60519386e-45 5.60519386e-45 3.39297607e-04 5.60519386e-45\n",
      " 5.60519386e-45 5.60519386e-45 5.60519386e-45 5.36931002e-05\n",
      " 3.96672636e-04 3.64461011e-05 3.72771101e-05 5.79601547e-05\n",
      " 5.60519386e-45 5.60519386e-45 5.60519386e-45 5.60519386e-45\n",
      " 5.48201315e-05 5.60519386e-45 2.82346009e-04 1.01617494e-04\n",
      " 5.60519386e-45 5.60519386e-45 4.92782274e-04 3.50862574e-05\n",
      " 5.60519386e-45 5.60519386e-45 3.56960198e-04 5.60519386e-45\n",
      " 4.52307955e-04 4.37907293e-04 5.60519386e-45 1.65522331e-03\n",
      " 5.60519386e-45 4.80313829e-05 5.60519386e-45 5.60519386e-45\n",
      " 5.60519386e-45 5.60519386e-45 2.00259194e-04 5.60519386e-45\n",
      " 5.60519386e-45 2.16036788e-04 5.60519386e-45 6.38972051e-05\n",
      " 5.60519386e-45 4.11865913e-04 5.60519386e-45 5.60519386e-45\n",
      " 5.60519386e-45 4.15106158e-04 5.60519386e-45 5.60519386e-45\n",
      " 5.60519386e-45 5.60519386e-45 5.60519386e-45 5.60519386e-45\n",
      " 3.18037746e-05 3.30034163e-05 5.60519386e-45 3.09900934e-05\n",
      " 5.60519386e-45 5.60519386e-45 6.11558426e-05 6.77463613e-05]\n",
      "[1.]\n"
     ]
    }
   ],
   "source": [
    "print(Net.params['stage1_unit1_bn1'][0].data[...])\n",
    "print(Net.params['stage1_unit1_bn1'][1].data[...])\n",
    "print(Net.params['stage1_unit1_bn1'][2].data[...])"
   ]
  },
  {
   "cell_type": "code",
   "execution_count": 11,
   "metadata": {},
   "outputs": [
    {
     "name": "stdout",
     "output_type": "stream",
     "text": [
      "[ 4.05306779e-32  1.14878448e-41  3.74558344e-02  3.08846182e-42\n",
      " -8.62541244e-41 -1.05287560e-32  9.25978025e-42  3.84294949e-02\n",
      "  4.99222614e-02  3.68555672e-02  4.32085171e-02  1.98072139e-02\n",
      " -3.57050849e-42 -9.63252564e-42 -1.39513275e-41  9.73902433e-43\n",
      "  3.09604052e-02  1.08838852e-41  3.74050625e-02  2.54921988e-02\n",
      "  1.23972875e-41  2.90541317e-25  4.46953438e-02  2.86253858e-02\n",
      "  1.24399851e-16 -9.45245879e-41  3.93973701e-02  1.07171307e-41\n",
      "  4.25768830e-02  9.08718817e-03  2.80423645e-40  1.49323829e-02\n",
      " -7.71835194e-42  3.21382917e-02  3.80732793e-42 -7.10178062e-42\n",
      " -7.60792962e-41  1.90844461e-21  6.43513575e-02 -4.42810315e-42\n",
      "  2.58539567e-42  6.30221888e-02 -4.88072255e-42 -1.29156550e-02\n",
      " -2.72692681e-42  3.10110245e-02  1.30460887e-42 -8.02357699e-26\n",
      "  1.09931865e-41  5.14237210e-02  6.03258989e-42  1.18409720e-41\n",
      "  4.24859681e-41 -3.76158042e-30 -1.12840235e-26  6.49641968e-42\n",
      "  1.88972093e-02  1.92036461e-02  4.80134439e-08  3.84735242e-02\n",
      "  6.74304821e-42 -1.15845344e-41  1.51025457e-02 -1.81832295e-02]\n",
      "[-1.3692032e-08 -4.8808522e-14 -4.3265028e-03  9.4947915e-16\n",
      "  1.9610741e-13 -1.0853548e-09  2.1027778e-14 -1.0316992e-02\n",
      "  1.8090283e-02 -6.6218637e-03 -2.5845716e-02 -2.8679287e-03\n",
      " -9.2248385e-15 -2.1365235e-15 -5.8661786e-16 -2.9710355e-14\n",
      " -1.4992461e-02  1.7656761e-14 -5.5483738e-03  1.8180704e-02\n",
      " -2.9634875e-15  2.4411096e-07  1.8585319e-02  7.6481397e-03\n",
      " -2.7358876e-05 -2.8523733e-12  6.1449767e-03 -2.0724517e-16\n",
      "  1.3643716e-02 -1.0870508e-02 -2.2785029e-12  4.4770343e-03\n",
      " -4.8169176e-15  1.2391999e-02 -3.9738822e-14 -1.1798046e-15\n",
      " -4.9297723e-12 -9.6031936e-06  5.1520893e-04 -3.3491975e-15\n",
      " -1.5923183e-13 -3.5544546e-04 -2.2133318e-15  2.9579999e-03\n",
      " -2.3699152e-14  2.6704844e-02 -3.2214747e-14  5.3529785e-08\n",
      " -1.6500805e-13  6.7048525e-03 -3.9179153e-15 -2.6607397e-15\n",
      " -6.7044346e-13 -1.1690763e-08 -3.7953669e-07 -3.9864555e-15\n",
      " -1.6956923e-03 -2.4488153e-02 -2.2352297e-02 -8.8298852e-03\n",
      " -1.7669504e-14 -1.9584391e-14 -1.3080119e-02 -6.5996661e-03]\n"
     ]
    }
   ],
   "source": [
    "print(Net.params['stage1_unit1_bn1_scale'][0].data[...])\n",
    "print(Net.params['stage1_unit1_bn1_scale'][1].data[...])"
   ]
  },
  {
   "cell_type": "code",
   "execution_count": 10,
   "metadata": {},
   "outputs": [
    {
     "name": "stdout",
     "output_type": "stream",
     "text": [
      "(64, 64, 3, 3)\n"
     ]
    },
    {
     "ename": "IndexError",
     "evalue": "Index out of range",
     "output_type": "error",
     "traceback": [
      "\u001b[0;31m---------------------------------------------------------------------------\u001b[0m",
      "\u001b[0;31mIndexError\u001b[0m                                Traceback (most recent call last)",
      "\u001b[0;32m<ipython-input-10-3f8fae150dfb>\u001b[0m in \u001b[0;36m<module>\u001b[0;34m()\u001b[0m\n\u001b[1;32m      1\u001b[0m \u001b[0;32mprint\u001b[0m\u001b[0;34m(\u001b[0m\u001b[0mNet\u001b[0m\u001b[0;34m.\u001b[0m\u001b[0mparams\u001b[0m\u001b[0;34m[\u001b[0m\u001b[0;34m'stage1_unit1_conv1'\u001b[0m\u001b[0;34m]\u001b[0m\u001b[0;34m[\u001b[0m\u001b[0;36m0\u001b[0m\u001b[0;34m]\u001b[0m\u001b[0;34m.\u001b[0m\u001b[0mdata\u001b[0m\u001b[0;34m[\u001b[0m\u001b[0;34m.\u001b[0m\u001b[0;34m.\u001b[0m\u001b[0;34m.\u001b[0m\u001b[0;34m]\u001b[0m\u001b[0;34m.\u001b[0m\u001b[0mshape\u001b[0m\u001b[0;34m)\u001b[0m\u001b[0;34m\u001b[0m\u001b[0m\n\u001b[0;32m----> 2\u001b[0;31m \u001b[0;32mprint\u001b[0m\u001b[0;34m(\u001b[0m\u001b[0mNet\u001b[0m\u001b[0;34m.\u001b[0m\u001b[0mparams\u001b[0m\u001b[0;34m[\u001b[0m\u001b[0;34m'stage1_unit1_conv1'\u001b[0m\u001b[0;34m]\u001b[0m\u001b[0;34m[\u001b[0m\u001b[0;36m1\u001b[0m\u001b[0;34m]\u001b[0m\u001b[0;34m.\u001b[0m\u001b[0mdata\u001b[0m\u001b[0;34m[\u001b[0m\u001b[0;34m.\u001b[0m\u001b[0;34m.\u001b[0m\u001b[0;34m.\u001b[0m\u001b[0;34m]\u001b[0m\u001b[0;34m.\u001b[0m\u001b[0mshape\u001b[0m\u001b[0;34m)\u001b[0m\u001b[0;34m\u001b[0m\u001b[0m\n\u001b[0m",
      "\u001b[0;31mIndexError\u001b[0m: Index out of range"
     ]
    }
   ],
   "source": [
    "print(Net.params['stage1_unit1_conv1'][0].data[...].shape)\n",
    "print(Net.params['stage1_unit1_conv1'][1].data[...].shape)"
   ]
  },
  {
   "cell_type": "code",
   "execution_count": 10,
   "metadata": {},
   "outputs": [],
   "source": [
    "Net.params['out_fc1'][0].data[...] = arg_params['out_fc1_weight'].asnumpy()\n",
    "Net.params['out_fc1'][1].data[...] = arg_params['out_fc1_bias'].asnumpy()"
   ]
  },
  {
   "cell_type": "code",
   "execution_count": 11,
   "metadata": {},
   "outputs": [
    {
     "data": {
      "text/plain": [
       "array([0., 0., 0., 0., 0., 0., 0., 0., 0., 0., 0., 0., 0., 0., 0., 0., 0.,\n",
       "       0., 0., 0., 0., 0., 0., 0., 0., 0., 0., 0., 0., 0., 0., 0., 0., 0.,\n",
       "       0., 0., 0., 0., 0., 0., 0., 0., 0., 0., 0., 0., 0., 0., 0., 0., 0.,\n",
       "       0., 0., 0., 0., 0., 0., 0., 0., 0., 0., 0., 0., 0., 0., 0., 0., 0.,\n",
       "       0., 0., 0., 0., 0., 0., 0., 0., 0., 0., 0., 0., 0., 0., 0., 0., 0.,\n",
       "       0., 0., 0., 0., 0., 0., 0., 0., 0., 0., 0., 0., 0., 0., 0., 0., 0.,\n",
       "       0., 0., 0., 0., 0., 0., 0., 0., 0., 0., 0., 0., 0., 0., 0., 0., 0.,\n",
       "       0., 0., 0., 0., 0., 0., 0., 0., 0., 0., 0., 0., 0., 0., 0., 0., 0.,\n",
       "       0., 0., 0., 0., 0., 0., 0., 0., 0., 0., 0., 0., 0., 0., 0., 0., 0.,\n",
       "       0., 0., 0., 0., 0., 0., 0., 0., 0., 0., 0., 0., 0., 0., 0., 0., 0.,\n",
       "       0., 0., 0., 0., 0., 0., 0., 0., 0., 0., 0., 0., 0., 0., 0., 0., 0.,\n",
       "       0., 0., 0., 0., 0., 0., 0., 0., 0., 0., 0., 0., 0., 0., 0., 0., 0.,\n",
       "       0., 0., 0., 0., 0., 0., 0., 0., 0., 0., 0., 0., 0., 0., 0., 0., 0.,\n",
       "       0., 0., 0., 0., 0., 0., 0., 0., 0., 0., 0., 0., 0., 0., 0., 0., 0.,\n",
       "       0., 0., 0., 0., 0., 0., 0., 0., 0., 0., 0., 0., 0., 0., 0., 0., 0.,\n",
       "       0., 0., 0., 0., 0., 0., 0., 0., 0., 0., 0., 0., 0., 0., 0., 0., 0.,\n",
       "       0., 0., 0., 0., 0., 0., 0., 0., 0., 0., 0., 0., 0., 0., 0., 0., 0.,\n",
       "       0., 0., 0., 0., 0., 0., 0., 0., 0., 0., 0., 0., 0., 0., 0., 0., 0.,\n",
       "       0., 0., 0., 0., 0., 0., 0., 0., 0., 0., 0., 0., 0., 0., 0., 0., 0.,\n",
       "       0., 0., 0., 0., 0., 0., 0., 0., 0., 0., 0., 0., 0., 0., 0., 0., 0.,\n",
       "       0., 0., 0., 0., 0., 0., 0., 0., 0., 0., 0., 0., 0., 0., 0., 0., 0.,\n",
       "       0., 0., 0., 0., 0., 0., 0., 0., 0., 0., 0., 0., 0., 0., 0., 0., 0.,\n",
       "       0., 0., 0., 0., 0., 0., 0., 0., 0., 0., 0., 0., 0., 0., 0., 0., 0.,\n",
       "       0., 0., 0., 0., 0., 0., 0., 0., 0., 0., 0., 0., 0., 0., 0., 0., 0.,\n",
       "       0., 0., 0., 0., 0., 0., 0., 0., 0., 0., 0., 0., 0., 0., 0., 0., 0.,\n",
       "       0., 0., 0., 0., 0., 0., 0., 0., 0., 0., 0., 0., 0., 0., 0., 0., 0.,\n",
       "       0., 0., 0., 0., 0., 0., 0., 0., 0., 0., 0., 0., 0., 0., 0., 0., 0.,\n",
       "       0., 0., 0., 0., 0., 0., 0., 0., 0., 0., 0., 0., 0., 0., 0., 0., 0.,\n",
       "       0., 0., 0., 0., 0., 0., 0., 0., 0., 0., 0., 0., 0., 0., 0., 0., 0.,\n",
       "       0., 0., 0., 0., 0., 0., 0., 0., 0., 0., 0., 0., 0., 0., 0., 0., 0.,\n",
       "       0., 0.], dtype=float32)"
      ]
     },
     "execution_count": 11,
     "metadata": {},
     "output_type": "execute_result"
    }
   ],
   "source": [
    "Net.params['out_fc1'][0].data[...] - arg_params['out_fc1_weight'].asnumpy()\n",
    "Net.params['out_fc1'][1].data[...] - arg_params['out_fc1_bias'].asnumpy()"
   ]
  },
  {
   "cell_type": "code",
   "execution_count": 12,
   "metadata": {},
   "outputs": [
    {
     "data": {
      "text/plain": [
       "0.38500732"
      ]
     },
     "execution_count": 12,
     "metadata": {},
     "output_type": "execute_result"
    }
   ],
   "source": [
    "np.linalg.norm(Net.params['stem_conv1'][0].data[...])"
   ]
  },
  {
   "cell_type": "code",
   "execution_count": 16,
   "metadata": {},
   "outputs": [
    {
     "data": {
      "text/plain": [
       "OrderedDict([('stem_conv1', <caffe._caffe.BlobVec at 0x7f9dfaaecd00>),\n",
       "             ('stem_bn2', <caffe._caffe.BlobVec at 0x7f9e17769de0>),\n",
       "             ('stem_bn2_scale', <caffe._caffe.BlobVec at 0x7f9dfab20520>),\n",
       "             ('stem_relu1', <caffe._caffe.BlobVec at 0x7f9dfaaf5fa0>),\n",
       "             ('stage1_unit1_bn1', <caffe._caffe.BlobVec at 0x7f9dfaaf5f30>),\n",
       "             ('stage1_unit1_bn1_scale',\n",
       "              <caffe._caffe.BlobVec at 0x7f9dfaaf8050>),\n",
       "             ('stage1_unit1_conv1', <caffe._caffe.BlobVec at 0x7f9dfaaf80c0>),\n",
       "             ('stage1_unit1_bn2', <caffe._caffe.BlobVec at 0x7f9dfaaf8130>),\n",
       "             ('stage1_unit1_bn2_scale',\n",
       "              <caffe._caffe.BlobVec at 0x7f9dfaaf81a0>),\n",
       "             ('stage1_unit1_prelu2', <caffe._caffe.BlobVec at 0x7f9dfaaf8210>),\n",
       "             ('stage1_unit1_conv2', <caffe._caffe.BlobVec at 0x7f9dfaaf8280>),\n",
       "             ('stage1_unit1_bn4', <caffe._caffe.BlobVec at 0x7f9dfaaf82f0>),\n",
       "             ('stage1_unit1_bn4_scale',\n",
       "              <caffe._caffe.BlobVec at 0x7f9dfaaf8360>),\n",
       "             ('stage1_unit1_convr', <caffe._caffe.BlobVec at 0x7f9dfaaf83d0>),\n",
       "             ('stage1_unit1_bnr', <caffe._caffe.BlobVec at 0x7f9dfaaf8440>),\n",
       "             ('stage1_unit1_bnr_scale',\n",
       "              <caffe._caffe.BlobVec at 0x7f9dfaaf84b0>),\n",
       "             ('stage2_unit1_bn1', <caffe._caffe.BlobVec at 0x7f9dfaaf8520>),\n",
       "             ('stage2_unit1_bn1_scale',\n",
       "              <caffe._caffe.BlobVec at 0x7f9dfaaf8590>),\n",
       "             ('stage2_unit1_conv1', <caffe._caffe.BlobVec at 0x7f9dfaaf8600>),\n",
       "             ('stage2_unit1_bn2', <caffe._caffe.BlobVec at 0x7f9dfaaf8670>),\n",
       "             ('stage2_unit1_bn2_scale',\n",
       "              <caffe._caffe.BlobVec at 0x7f9dfaaf86e0>),\n",
       "             ('stage2_unit1_prelu2', <caffe._caffe.BlobVec at 0x7f9dfaaf8750>),\n",
       "             ('stage2_unit1_conv2', <caffe._caffe.BlobVec at 0x7f9dfaaf87c0>),\n",
       "             ('stage2_unit1_bn4', <caffe._caffe.BlobVec at 0x7f9dfaaf8830>),\n",
       "             ('stage2_unit1_bn4_scale',\n",
       "              <caffe._caffe.BlobVec at 0x7f9dfaaf88a0>),\n",
       "             ('stage2_unit1_convr', <caffe._caffe.BlobVec at 0x7f9dfaaf8910>),\n",
       "             ('stage2_unit1_bnr', <caffe._caffe.BlobVec at 0x7f9dfaaf8980>),\n",
       "             ('stage2_unit1_bnr_scale',\n",
       "              <caffe._caffe.BlobVec at 0x7f9dfaaf89f0>),\n",
       "             ('stage2_unit2_bn1', <caffe._caffe.BlobVec at 0x7f9dfaaf8a60>),\n",
       "             ('stage2_unit2_bn1_scale',\n",
       "              <caffe._caffe.BlobVec at 0x7f9dfaaf8ad0>),\n",
       "             ('stage2_unit2_conv1', <caffe._caffe.BlobVec at 0x7f9dfaaf8b40>),\n",
       "             ('stage2_unit2_bn2', <caffe._caffe.BlobVec at 0x7f9dfaaf8bb0>),\n",
       "             ('stage2_unit2_bn2_scale',\n",
       "              <caffe._caffe.BlobVec at 0x7f9dfaaf8c20>),\n",
       "             ('stage2_unit2_prelu2', <caffe._caffe.BlobVec at 0x7f9dfaaf8c90>),\n",
       "             ('stage2_unit2_conv2', <caffe._caffe.BlobVec at 0x7f9dfaaf8d00>),\n",
       "             ('stage2_unit2_bn4', <caffe._caffe.BlobVec at 0x7f9dfaaf8d70>),\n",
       "             ('stage2_unit2_bn4_scale',\n",
       "              <caffe._caffe.BlobVec at 0x7f9dfaaf8de0>),\n",
       "             ('stage3_unit1_bn1', <caffe._caffe.BlobVec at 0x7f9dfaaf8e50>),\n",
       "             ('stage3_unit1_bn1_scale',\n",
       "              <caffe._caffe.BlobVec at 0x7f9dfaaf8ec0>),\n",
       "             ('stage3_unit1_conv1', <caffe._caffe.BlobVec at 0x7f9dfaaf8f30>),\n",
       "             ('stage3_unit1_bn2', <caffe._caffe.BlobVec at 0x7f9dfaaf8fa0>),\n",
       "             ('stage3_unit1_bn2_scale',\n",
       "              <caffe._caffe.BlobVec at 0x7f9dfaaf9050>),\n",
       "             ('stage3_unit1_prelu2', <caffe._caffe.BlobVec at 0x7f9dfaaf90c0>),\n",
       "             ('stage3_unit1_conv2', <caffe._caffe.BlobVec at 0x7f9dfaaf9130>),\n",
       "             ('stage3_unit1_bn4', <caffe._caffe.BlobVec at 0x7f9dfaaf91a0>),\n",
       "             ('stage3_unit1_bn4_scale',\n",
       "              <caffe._caffe.BlobVec at 0x7f9dfaaf9210>),\n",
       "             ('stage3_unit1_convr', <caffe._caffe.BlobVec at 0x7f9dfaaf9280>),\n",
       "             ('stage3_unit1_bnr', <caffe._caffe.BlobVec at 0x7f9dfaaf92f0>),\n",
       "             ('stage3_unit1_bnr_scale',\n",
       "              <caffe._caffe.BlobVec at 0x7f9dfaaf9360>),\n",
       "             ('stage3_unit2_bn1', <caffe._caffe.BlobVec at 0x7f9dfaaf93d0>),\n",
       "             ('stage3_unit2_bn1_scale',\n",
       "              <caffe._caffe.BlobVec at 0x7f9dfaaf9440>),\n",
       "             ('stage3_unit2_conv1', <caffe._caffe.BlobVec at 0x7f9dfaaf94b0>),\n",
       "             ('stage3_unit2_bn2', <caffe._caffe.BlobVec at 0x7f9dfaaf9520>),\n",
       "             ('stage3_unit2_bn2_scale',\n",
       "              <caffe._caffe.BlobVec at 0x7f9dfaaf9590>),\n",
       "             ('stage3_unit2_prelu2', <caffe._caffe.BlobVec at 0x7f9dfaaf9600>),\n",
       "             ('stage3_unit2_conv2', <caffe._caffe.BlobVec at 0x7f9dfaaf9670>),\n",
       "             ('stage3_unit2_bn4', <caffe._caffe.BlobVec at 0x7f9dfaaf96e0>),\n",
       "             ('stage3_unit2_bn4_scale',\n",
       "              <caffe._caffe.BlobVec at 0x7f9dfaaf9750>),\n",
       "             ('stage3_unit3_bn1', <caffe._caffe.BlobVec at 0x7f9dfaaf97c0>),\n",
       "             ('stage3_unit3_bn1_scale',\n",
       "              <caffe._caffe.BlobVec at 0x7f9dfaaf9830>),\n",
       "             ('stage3_unit3_conv1', <caffe._caffe.BlobVec at 0x7f9dfaaf98a0>),\n",
       "             ('stage3_unit3_bn2', <caffe._caffe.BlobVec at 0x7f9dfaaf9910>),\n",
       "             ('stage3_unit3_bn2_scale',\n",
       "              <caffe._caffe.BlobVec at 0x7f9dfaaf9980>),\n",
       "             ('stage3_unit3_prelu2', <caffe._caffe.BlobVec at 0x7f9dfaaf99f0>),\n",
       "             ('stage3_unit3_conv2', <caffe._caffe.BlobVec at 0x7f9dfaaf9a60>),\n",
       "             ('stage3_unit3_bn4', <caffe._caffe.BlobVec at 0x7f9dfaaf9ad0>),\n",
       "             ('stage3_unit3_bn4_scale',\n",
       "              <caffe._caffe.BlobVec at 0x7f9dfaaf9b40>),\n",
       "             ('stage3_unit4_bn1', <caffe._caffe.BlobVec at 0x7f9dfaaf9bb0>),\n",
       "             ('stage3_unit4_bn1_scale',\n",
       "              <caffe._caffe.BlobVec at 0x7f9dfaaf9c20>),\n",
       "             ('stage3_unit4_conv1', <caffe._caffe.BlobVec at 0x7f9dfaaf9c90>),\n",
       "             ('stage3_unit4_bn2', <caffe._caffe.BlobVec at 0x7f9dfaaf9d00>),\n",
       "             ('stage3_unit4_bn2_scale',\n",
       "              <caffe._caffe.BlobVec at 0x7f9dfaaf9d70>),\n",
       "             ('stage3_unit4_prelu2', <caffe._caffe.BlobVec at 0x7f9dfaaf9de0>),\n",
       "             ('stage3_unit4_conv2', <caffe._caffe.BlobVec at 0x7f9dfaaf9e50>),\n",
       "             ('stage3_unit4_bn4', <caffe._caffe.BlobVec at 0x7f9dfaaf9ec0>),\n",
       "             ('stage3_unit4_bn4_scale',\n",
       "              <caffe._caffe.BlobVec at 0x7f9dfaaf9f30>),\n",
       "             ('stage3_unit5_bn1', <caffe._caffe.BlobVec at 0x7f9dfaaf9fa0>),\n",
       "             ('stage3_unit5_bn1_scale',\n",
       "              <caffe._caffe.BlobVec at 0x7f9dfaafb050>),\n",
       "             ('stage3_unit5_conv1', <caffe._caffe.BlobVec at 0x7f9dfaafb0c0>),\n",
       "             ('stage3_unit5_bn2', <caffe._caffe.BlobVec at 0x7f9dfaafb130>),\n",
       "             ('stage3_unit5_bn2_scale',\n",
       "              <caffe._caffe.BlobVec at 0x7f9dfaafb1a0>),\n",
       "             ('stage3_unit5_prelu2', <caffe._caffe.BlobVec at 0x7f9dfaafb210>),\n",
       "             ('stage3_unit5_conv2', <caffe._caffe.BlobVec at 0x7f9dfaafb280>),\n",
       "             ('stage3_unit5_bn4', <caffe._caffe.BlobVec at 0x7f9dfaafb2f0>),\n",
       "             ('stage3_unit5_bn4_scale',\n",
       "              <caffe._caffe.BlobVec at 0x7f9dfaafb360>),\n",
       "             ('stage4_unit1_bn1', <caffe._caffe.BlobVec at 0x7f9dfaafb3d0>),\n",
       "             ('stage4_unit1_bn1_scale',\n",
       "              <caffe._caffe.BlobVec at 0x7f9dfaafb440>),\n",
       "             ('stage4_unit1_conv1', <caffe._caffe.BlobVec at 0x7f9dfaafb4b0>),\n",
       "             ('stage4_unit1_bn2', <caffe._caffe.BlobVec at 0x7f9dfaafb520>),\n",
       "             ('stage4_unit1_bn2_scale',\n",
       "              <caffe._caffe.BlobVec at 0x7f9dfaafb590>),\n",
       "             ('stage4_unit1_prelu2', <caffe._caffe.BlobVec at 0x7f9dfaafb600>),\n",
       "             ('stage4_unit1_conv2', <caffe._caffe.BlobVec at 0x7f9dfaafb670>),\n",
       "             ('stage4_unit1_bn4', <caffe._caffe.BlobVec at 0x7f9dfaafb6e0>),\n",
       "             ('stage4_unit1_bn4_scale',\n",
       "              <caffe._caffe.BlobVec at 0x7f9dfaafb750>),\n",
       "             ('stage4_unit1_convr', <caffe._caffe.BlobVec at 0x7f9dfaafb7c0>),\n",
       "             ('stage4_unit1_bnr', <caffe._caffe.BlobVec at 0x7f9dfaafb830>),\n",
       "             ('stage4_unit1_bnr_scale',\n",
       "              <caffe._caffe.BlobVec at 0x7f9dfaafb8a0>),\n",
       "             ('stage4_unit2_bn1', <caffe._caffe.BlobVec at 0x7f9dfaafb910>),\n",
       "             ('stage4_unit2_bn1_scale',\n",
       "              <caffe._caffe.BlobVec at 0x7f9dfaafb980>),\n",
       "             ('stage4_unit2_conv1', <caffe._caffe.BlobVec at 0x7f9dfaafb9f0>),\n",
       "             ('stage4_unit2_bn2', <caffe._caffe.BlobVec at 0x7f9dfaafba60>),\n",
       "             ('stage4_unit2_bn2_scale',\n",
       "              <caffe._caffe.BlobVec at 0x7f9dfaafbad0>),\n",
       "             ('stage4_unit2_prelu2', <caffe._caffe.BlobVec at 0x7f9dfaafbb40>),\n",
       "             ('stage4_unit2_conv2', <caffe._caffe.BlobVec at 0x7f9dfaafbbb0>),\n",
       "             ('stage4_unit2_bn4', <caffe._caffe.BlobVec at 0x7f9dfaafbc20>),\n",
       "             ('stage4_unit2_bn4_scale',\n",
       "              <caffe._caffe.BlobVec at 0x7f9dfaafbc90>),\n",
       "             ('out_bn2', <caffe._caffe.BlobVec at 0x7f9dfaafbd00>),\n",
       "             ('out_bn2_scale', <caffe._caffe.BlobVec at 0x7f9dfaafbd70>),\n",
       "             ('out_relu2', <caffe._caffe.BlobVec at 0x7f9dfaafbde0>),\n",
       "             ('out_conv1', <caffe._caffe.BlobVec at 0x7f9dfaafbe50>),\n",
       "             ('out_bn3', <caffe._caffe.BlobVec at 0x7f9dfaafbec0>),\n",
       "             ('out_bn3_scale', <caffe._caffe.BlobVec at 0x7f9dfaafbf30>),\n",
       "             ('out_fc1', <caffe._caffe.BlobVec at 0x7f9dfaafbfa0>),\n",
       "             ('out_embedding', <caffe._caffe.BlobVec at 0x7f9dfaafd050>),\n",
       "             ('out_embedding_scale',\n",
       "              <caffe._caffe.BlobVec at 0x7f9dfaafd0c0>)])"
      ]
     },
     "execution_count": 16,
     "metadata": {},
     "output_type": "execute_result"
    }
   ],
   "source": [
    "Net.params"
   ]
  },
  {
   "cell_type": "code",
   "execution_count": null,
   "metadata": {},
   "outputs": [],
   "source": []
  },
  {
   "cell_type": "code",
   "execution_count": 13,
   "metadata": {},
   "outputs": [
    {
     "name": "stdout",
     "output_type": "stream",
     "text": [
      "0.0\n",
      "0.0\n",
      "0.0\n",
      "0.0\n"
     ]
    }
   ],
   "source": [
    "print(np.sum(Net.params['out_embedding_scale'][1].data[...]-arg_params['out_embedding_beta'].asnumpy()))\n",
    "print(np.sum(Net.params['out_embedding_scale'][0].data[...]-arg_params['out_embedding_gamma'].asnumpy()))\n",
    "print(np.sum(Net.params['out_embedding'][0].data[...]-aux_params['out_embedding_moving_mean'].asnumpy()))\n",
    "print(np.sum(Net.params['out_embedding'][1].data[...]-aux_params['out_embedding_moving_var'].asnumpy()))"
   ]
  },
  {
   "cell_type": "code",
   "execution_count": 14,
   "metadata": {},
   "outputs": [
    {
     "data": {
      "text/plain": [
       "array([0.99999994, 0.99999994, 0.99999994, 0.99999994, 0.99999994,\n",
       "       0.99999994, 0.99999994, 0.99999994, 0.99999994, 0.99999994,\n",
       "       0.99999994, 0.99999994, 0.99999994, 0.99999994, 0.99999994,\n",
       "       0.99999994, 0.99999994, 0.99999994, 0.99999994, 0.99999994,\n",
       "       0.99999994, 0.99999994, 0.99999994, 0.99999994, 0.99999994,\n",
       "       0.99999994, 0.99999994, 0.99999994, 0.99999994, 0.99999994,\n",
       "       0.99999994, 0.99999994, 0.99999994, 0.99999994, 0.99999994,\n",
       "       0.99999994, 0.99999994, 0.99999994, 0.99999994, 0.99999994,\n",
       "       0.99999994, 0.99999994, 0.99999994, 0.99999994, 0.99999994,\n",
       "       0.99999994, 0.99999994, 0.99999994, 0.99999994, 0.99999994,\n",
       "       0.99999994, 0.99999994, 0.99999994, 0.99999994, 0.99999994,\n",
       "       0.99999994, 0.99999994, 0.99999994, 0.99999994, 0.99999994,\n",
       "       0.99999994, 0.99999994, 0.99999994, 0.99999994, 0.99999994,\n",
       "       0.99999994, 0.99999994, 0.99999994, 0.99999994, 0.99999994,\n",
       "       0.99999994, 0.99999994, 0.99999994, 0.99999994, 0.99999994,\n",
       "       0.99999994, 0.99999994, 0.99999994, 0.99999994, 0.99999994,\n",
       "       0.99999994, 0.99999994, 0.99999994, 0.99999994, 0.99999994,\n",
       "       0.99999994, 0.99999994, 0.99999994, 0.99999994, 0.99999994,\n",
       "       0.99999994, 0.99999994, 0.99999994, 0.99999994, 0.99999994,\n",
       "       0.99999994, 0.99999994, 0.99999994, 0.99999994, 0.99999994,\n",
       "       0.99999994, 0.99999994, 0.99999994, 0.99999994, 0.99999994,\n",
       "       0.99999994, 0.99999994, 0.99999994, 0.99999994, 0.99999994,\n",
       "       0.99999994, 0.99999994, 0.99999994, 0.99999994, 0.99999994,\n",
       "       0.99999994, 0.99999994, 0.99999994, 0.99999994, 0.99999994,\n",
       "       0.99999994, 0.99999994, 0.99999994, 0.99999994, 0.99999994,\n",
       "       0.99999994, 0.99999994, 0.99999994, 0.99999994, 0.99999994,\n",
       "       0.99999994, 0.99999994, 0.99999994, 0.99999994, 0.99999994,\n",
       "       0.99999994, 0.99999994, 0.99999994, 0.99999994, 0.99999994,\n",
       "       0.99999994, 0.99999994, 0.99999994, 0.99999994, 0.99999994,\n",
       "       0.99999994, 0.99999994, 0.99999994, 0.99999994, 0.99999994,\n",
       "       0.99999994, 0.99999994, 0.99999994, 0.99999994, 0.99999994,\n",
       "       0.99999994, 0.99999994, 0.99999994, 0.99999994, 0.99999994,\n",
       "       0.99999994, 0.99999994, 0.99999994, 0.99999994, 0.99999994,\n",
       "       0.99999994, 0.99999994, 0.99999994, 0.99999994, 0.99999994,\n",
       "       0.99999994, 0.99999994, 0.99999994, 0.99999994, 0.99999994,\n",
       "       0.99999994, 0.99999994, 0.99999994, 0.99999994, 0.99999994,\n",
       "       0.99999994, 0.99999994, 0.99999994, 0.99999994, 0.99999994,\n",
       "       0.99999994, 0.99999994, 0.99999994, 0.99999994, 0.99999994,\n",
       "       0.99999994, 0.99999994, 0.99999994, 0.99999994, 0.99999994,\n",
       "       0.99999994, 0.99999994, 0.99999994, 0.99999994, 0.99999994,\n",
       "       0.99999994, 0.99999994, 0.99999994, 0.99999994, 0.99999994,\n",
       "       0.99999994, 0.99999994, 0.99999994, 0.99999994, 0.99999994,\n",
       "       0.99999994, 0.99999994, 0.99999994, 0.99999994, 0.99999994,\n",
       "       0.99999994, 0.99999994, 0.99999994, 0.99999994, 0.99999994,\n",
       "       0.99999994, 0.99999994, 0.99999994, 0.99999994, 0.99999994,\n",
       "       0.99999994, 0.99999994, 0.99999994, 0.99999994, 0.99999994,\n",
       "       0.99999994, 0.99999994, 0.99999994, 0.99999994, 0.99999994,\n",
       "       0.99999994, 0.99999994, 0.99999994, 0.99999994, 0.99999994,\n",
       "       0.99999994, 0.99999994, 0.99999994, 0.99999994, 0.99999994,\n",
       "       0.99999994, 0.99999994, 0.99999994, 0.99999994, 0.99999994,\n",
       "       0.99999994, 0.99999994, 0.99999994, 0.99999994, 0.99999994,\n",
       "       0.99999994, 0.99999994, 0.99999994, 0.99999994, 0.99999994,\n",
       "       0.99999994, 0.99999994, 0.99999994, 0.99999994, 0.99999994,\n",
       "       0.99999994, 0.99999994, 0.99999994, 0.99999994, 0.99999994,\n",
       "       0.99999994, 0.99999994, 0.99999994, 0.99999994, 0.99999994,\n",
       "       0.99999994, 0.99999994, 0.99999994, 0.99999994, 0.99999994,\n",
       "       0.99999994, 0.99999994, 0.99999994, 0.99999994, 0.99999994,\n",
       "       0.99999994, 0.99999994, 0.99999994, 0.99999994, 0.99999994,\n",
       "       0.99999994, 0.99999994, 0.99999994, 0.99999994, 0.99999994,\n",
       "       0.99999994, 0.99999994, 0.99999994, 0.99999994, 0.99999994,\n",
       "       0.99999994, 0.99999994, 0.99999994, 0.99999994, 0.99999994,\n",
       "       0.99999994, 0.99999994, 0.99999994, 0.99999994, 0.99999994,\n",
       "       0.99999994, 0.99999994, 0.99999994, 0.99999994, 0.99999994,\n",
       "       0.99999994, 0.99999994, 0.99999994, 0.99999994, 0.99999994,\n",
       "       0.99999994, 0.99999994, 0.99999994, 0.99999994, 0.99999994,\n",
       "       0.99999994, 0.99999994, 0.99999994, 0.99999994, 0.99999994,\n",
       "       0.99999994, 0.99999994, 0.99999994, 0.99999994, 0.99999994,\n",
       "       0.99999994, 0.99999994, 0.99999994, 0.99999994, 0.99999994,\n",
       "       0.99999994, 0.99999994, 0.99999994, 0.99999994, 0.99999994,\n",
       "       0.99999994, 0.99999994, 0.99999994, 0.99999994, 0.99999994,\n",
       "       0.99999994, 0.99999994, 0.99999994, 0.99999994, 0.99999994,\n",
       "       0.99999994, 0.99999994, 0.99999994, 0.99999994, 0.99999994,\n",
       "       0.99999994, 0.99999994, 0.99999994, 0.99999994, 0.99999994,\n",
       "       0.99999994, 0.99999994, 0.99999994, 0.99999994, 0.99999994,\n",
       "       0.99999994, 0.99999994, 0.99999994, 0.99999994, 0.99999994,\n",
       "       0.99999994, 0.99999994, 0.99999994, 0.99999994, 0.99999994,\n",
       "       0.99999994, 0.99999994, 0.99999994, 0.99999994, 0.99999994,\n",
       "       0.99999994, 0.99999994, 0.99999994, 0.99999994, 0.99999994,\n",
       "       0.99999994, 0.99999994, 0.99999994, 0.99999994, 0.99999994,\n",
       "       0.99999994, 0.99999994, 0.99999994, 0.99999994, 0.99999994,\n",
       "       0.99999994, 0.99999994, 0.99999994, 0.99999994, 0.99999994,\n",
       "       0.99999994, 0.99999994, 0.99999994, 0.99999994, 0.99999994,\n",
       "       0.99999994, 0.99999994, 0.99999994, 0.99999994, 0.99999994,\n",
       "       0.99999994, 0.99999994, 0.99999994, 0.99999994, 0.99999994,\n",
       "       0.99999994, 0.99999994, 0.99999994, 0.99999994, 0.99999994,\n",
       "       0.99999994, 0.99999994, 0.99999994, 0.99999994, 0.99999994,\n",
       "       0.99999994, 0.99999994, 0.99999994, 0.99999994, 0.99999994,\n",
       "       0.99999994, 0.99999994, 0.99999994, 0.99999994, 0.99999994,\n",
       "       0.99999994, 0.99999994, 0.99999994, 0.99999994, 0.99999994,\n",
       "       0.99999994, 0.99999994, 0.99999994, 0.99999994, 0.99999994,\n",
       "       0.99999994, 0.99999994, 0.99999994, 0.99999994, 0.99999994,\n",
       "       0.99999994, 0.99999994, 0.99999994, 0.99999994, 0.99999994,\n",
       "       0.99999994, 0.99999994, 0.99999994, 0.99999994, 0.99999994,\n",
       "       0.99999994, 0.99999994, 0.99999994, 0.99999994, 0.99999994,\n",
       "       0.99999994, 0.99999994, 0.99999994, 0.99999994, 0.99999994,\n",
       "       0.99999994, 0.99999994, 0.99999994, 0.99999994, 0.99999994,\n",
       "       0.99999994, 0.99999994, 0.99999994, 0.99999994, 0.99999994,\n",
       "       0.99999994, 0.99999994, 0.99999994, 0.99999994, 0.99999994,\n",
       "       0.99999994, 0.99999994, 0.99999994, 0.99999994, 0.99999994,\n",
       "       0.99999994, 0.99999994, 0.99999994, 0.99999994, 0.99999994,\n",
       "       0.99999994, 0.99999994, 0.99999994, 0.99999994, 0.99999994,\n",
       "       0.99999994, 0.99999994, 0.99999994, 0.99999994, 0.99999994,\n",
       "       0.99999994, 0.99999994], dtype=float32)"
      ]
     },
     "execution_count": 14,
     "metadata": {},
     "output_type": "execute_result"
    }
   ],
   "source": [
    "arg_params['out_embedding_gamma'].asnumpy()"
   ]
  },
  {
   "cell_type": "code",
   "execution_count": 15,
   "metadata": {},
   "outputs": [],
   "source": [
    "Net.params['out_embedding_scale'][0].data[...]=1.0"
   ]
  },
  {
   "cell_type": "code",
   "execution_count": 16,
   "metadata": {},
   "outputs": [],
   "source": [
    "out_caffe = getOutput('/media/macul/black/face_database_raw_data/mscelb_from_insightface/Data/0000000/0001.png', 'out_embedding')"
   ]
  },
  {
   "cell_type": "code",
   "execution_count": 17,
   "metadata": {},
   "outputs": [
    {
     "data": {
      "text/plain": [
       "1.0"
      ]
     },
     "execution_count": 17,
     "metadata": {},
     "output_type": "execute_result"
    }
   ],
   "source": [
    "np.dot(out_caffe/np.linalg.norm(out_caffe),out_mx/np.linalg.norm(out_mx))"
   ]
  },
  {
   "cell_type": "code",
   "execution_count": 18,
   "metadata": {},
   "outputs": [],
   "source": [
    "Net.save('/home/macul/Documents/macul/FaceRecog_ResNet_MX/output/dgx_train7/resnet20_no_merge_no_flattern.caffemodel')"
   ]
  },
  {
   "cell_type": "code",
   "execution_count": null,
   "metadata": {},
   "outputs": [],
   "source": []
  },
  {
   "cell_type": "code",
   "execution_count": 19,
   "metadata": {},
   "outputs": [],
   "source": [
    "#cfModelProto='/media/macul/black/mxnet_training/r50/dgx_train1/dgx_train1_31-caffe.prototxt'\n",
    "#cfModelWeight='/media/macul/black/mxnet_training/r50/dgx_train1/dgx_train1_31-caffe.caffemodel'\n",
    "cfModelProto='/home/macul/Documents/macul/FaceRecog_ResNet_MX/output/dgx_train7/resnet20_no_merge_no_flattern.prototxt'\n",
    "cfModelWeight='/home/macul/Documents/macul/FaceRecog_ResNet_MX/output/dgx_train7/resnet20_no_merge_no_flattern.caffemodel'\n",
    "Net = caffe.Net(cfModelProto, cfModelWeight, caffe.TEST)\n",
    "Net.blobs['data'].reshape(1,3,112,112)"
   ]
  },
  {
   "cell_type": "code",
   "execution_count": 20,
   "metadata": {},
   "outputs": [],
   "source": [
    "out_caffe_new = getOutput('/media/macul/black/face_database_raw_data/mscelb_from_insightface/Data/0000000/0001.png', 'out_embedding')"
   ]
  },
  {
   "cell_type": "code",
   "execution_count": 21,
   "metadata": {},
   "outputs": [
    {
     "data": {
      "text/plain": [
       "1.0"
      ]
     },
     "execution_count": 21,
     "metadata": {},
     "output_type": "execute_result"
    }
   ],
   "source": [
    "np.dot(out_caffe_new/np.linalg.norm(out_caffe_new),out_mx/np.linalg.norm(out_mx))"
   ]
  },
  {
   "cell_type": "code",
   "execution_count": 22,
   "metadata": {},
   "outputs": [],
   "source": [
    "# dgx_train1_31-caffe.prototxt and dgx_train1_31-caffe.caffemodel are converted caffe model for use\n",
    "# note that the input channel should be RGB, image should be normalized, and the output embedding should be normalized by its norm"
   ]
  },
  {
   "cell_type": "code",
   "execution_count": 23,
   "metadata": {},
   "outputs": [
    {
     "data": {
      "text/plain": [
       "0.08831205"
      ]
     },
     "execution_count": 23,
     "metadata": {},
     "output_type": "execute_result"
    }
   ],
   "source": [
    "np.linalg.norm(out_caffe_new)"
   ]
  },
  {
   "cell_type": "code",
   "execution_count": null,
   "metadata": {},
   "outputs": [],
   "source": [
    "# next to merge BN layer using merge-caffe-bn-conv-layer.ipynb"
   ]
  }
 ],
 "metadata": {
  "kernelspec": {
   "display_name": "Python 2",
   "language": "python",
   "name": "python2"
  },
  "language_info": {
   "codemirror_mode": {
    "name": "ipython",
    "version": 2
   },
   "file_extension": ".py",
   "mimetype": "text/x-python",
   "name": "python",
   "nbconvert_exporter": "python",
   "pygments_lexer": "ipython2",
   "version": "2.7.12"
  }
 },
 "nbformat": 4,
 "nbformat_minor": 2
}
